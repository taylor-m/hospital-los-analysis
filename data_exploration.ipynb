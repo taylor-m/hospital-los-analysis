{
 "cells": [
  {
   "cell_type": "code",
   "execution_count": 4,
   "metadata": {},
   "outputs": [
    {
     "data": {
      "application/javascript": [
       "\n",
       "            setTimeout(function() {\n",
       "                var nbb_cell_id = 4;\n",
       "                var nbb_unformatted_code = \"%reload_ext nb_black\\nfrom matplotlib import pyplot as plt\\nimport plotly\\nimport seaborn as sns\\nfrom statsmodels.graphics.gofplots import qqplot\\nfrom statsmodels.stats.multitest import multipletests\\n\\n%matplotlib inline\\nimport pandas as pd\\nimport numpy as np\\nfrom scipy import stats\\n\\nfrom tqdm.notebook import tqdm as status\";\n",
       "                var nbb_formatted_code = \"%reload_ext nb_black\\nfrom matplotlib import pyplot as plt\\nimport plotly\\nimport seaborn as sns\\nfrom statsmodels.graphics.gofplots import qqplot\\nfrom statsmodels.stats.multitest import multipletests\\n\\n%matplotlib inline\\nimport pandas as pd\\nimport numpy as np\\nfrom scipy import stats\\n\\nfrom tqdm.notebook import tqdm as status\";\n",
       "                var nbb_cells = Jupyter.notebook.get_cells();\n",
       "                for (var i = 0; i < nbb_cells.length; ++i) {\n",
       "                    if (nbb_cells[i].input_prompt_number == nbb_cell_id) {\n",
       "                        if (nbb_cells[i].get_text() == nbb_unformatted_code) {\n",
       "                             nbb_cells[i].set_text(nbb_formatted_code);\n",
       "                        }\n",
       "                        break;\n",
       "                    }\n",
       "                }\n",
       "            }, 500);\n",
       "            "
      ],
      "text/plain": [
       "<IPython.core.display.Javascript object>"
      ]
     },
     "metadata": {},
     "output_type": "display_data"
    },
    {
     "data": {
      "application/javascript": [
       "\n",
       "            setTimeout(function() {\n",
       "                var nbb_cell_id = 4;\n",
       "                var nbb_unformatted_code = \"%reload_ext nb_black\\nfrom matplotlib import pyplot as plt\\nimport plotly\\nimport seaborn as sns\\nfrom statsmodels.graphics.gofplots import qqplot\\nfrom statsmodels.stats.multitest import multipletests\\n\\n%matplotlib inline\\nimport pandas as pd\\nimport numpy as np\\nfrom scipy import stats\\n\\nfrom tqdm.notebook import tqdm as status\";\n",
       "                var nbb_formatted_code = \"%reload_ext nb_black\\nfrom matplotlib import pyplot as plt\\nimport plotly\\nimport seaborn as sns\\nfrom statsmodels.graphics.gofplots import qqplot\\nfrom statsmodels.stats.multitest import multipletests\\n\\n%matplotlib inline\\nimport pandas as pd\\nimport numpy as np\\nfrom scipy import stats\\n\\nfrom tqdm.notebook import tqdm as status\";\n",
       "                var nbb_cells = Jupyter.notebook.get_cells();\n",
       "                for (var i = 0; i < nbb_cells.length; ++i) {\n",
       "                    if (nbb_cells[i].input_prompt_number == nbb_cell_id) {\n",
       "                        if (nbb_cells[i].get_text() == nbb_unformatted_code) {\n",
       "                             nbb_cells[i].set_text(nbb_formatted_code);\n",
       "                        }\n",
       "                        break;\n",
       "                    }\n",
       "                }\n",
       "            }, 500);\n",
       "            "
      ],
      "text/plain": [
       "<IPython.core.display.Javascript object>"
      ]
     },
     "metadata": {},
     "output_type": "display_data"
    }
   ],
   "source": [
    "%reload_ext nb_black\n",
    "from matplotlib import pyplot as plt\n",
    "import plotly\n",
    "import seaborn as sns\n",
    "from statsmodels.graphics.gofplots import qqplot\n",
    "from statsmodels.stats.multitest import multipletests\n",
    "\n",
    "%matplotlib inline\n",
    "import pandas as pd\n",
    "import numpy as np\n",
    "from scipy import stats\n",
    "\n",
    "from tqdm.notebook import tqdm as status"
   ]
  },
  {
   "cell_type": "code",
   "execution_count": 5,
   "metadata": {},
   "outputs": [
    {
     "data": {
      "application/javascript": [
       "\n",
       "            setTimeout(function() {\n",
       "                var nbb_cell_id = 5;\n",
       "                var nbb_unformatted_code = \"def calc_non_param_ci(x1, x2, alpha=0.05):\\n    \\\"\\\"\\\"Calc confidence interval for 2 group median test\\n\\n    Process:\\n      * Find all pairwise diffs\\n      * Sort diffs\\n      * Find appropriate value of k\\n      * Choose lower bound from diffs as: diffs[k]\\n      * Choose upper bound from diffs as: diffs[-k]\\n\\n    Based on: https://www.ncbi.nlm.nih.gov/pmc/articles/PMC2545906/\\n\\n    :param x1: sample 1\\n    :param x2: sample 2\\n    :param alpha: significance level\\n    :return: (tuple) confidence interval bounds\\n    \\\"\\\"\\\"\\n    x1 = np.array(x1)\\n    x2 = np.array(x2)\\n\\n    n1 = x1.size\\n    n2 = x2.size\\n    cv = stats.norm.ppf(1 - alpha / 2)\\n\\n    # Find pairwise differences for every datapoint in each group\\n    diffs = (x1[:, None] - x2).flatten()\\n    diffs.sort()\\n\\n    # For an approximate (1-a)% confidence interval first calculate K:\\n    k = int(round(n1 * n2 / 2 - (cv * (n1 * n2 * (n1 + n2 + 1) / 12) ** 0.5)))\\n\\n    # The Kth smallest to the Kth largest of the n x m differences\\n    # n1 and n2 should be > ~20\\n    ci_lo = diffs[k]\\n    ci_hi = diffs[-k]\\n\\n    return ci_lo, ci_hi\\n\\n\\ndef cles_ind(x1, x2):\\n    \\\"\\\"\\\"Calc common language effect size\\n\\n    Interpret as the probability that a score sampled\\n    at random from one distribution will be greater than\\n    a score sampled from some other distribution.\\n\\n    Based on: http://psycnet.apa.org/doi/10.1037/0033-2909.111.2.361\\n\\n    :param x1: sample 1\\n    :param x2: sample 2\\n    :return: (float) common language effect size\\n    \\\"\\\"\\\"\\n    x1 = np.array(x1)\\n    x2 = np.array(x2)\\n\\n    diff = x1[:, None] - x2\\n    cles = max((diff < 0).sum(), (diff > 0).sum()) / diff.size\\n\\n    return cles\\n\\n\\ndef get_95_ci(x1, x2):\\n    \\\"\\\"\\\"Calculate a 95% CI for 2 1d numpy arrays\\\"\\\"\\\"\\n    signal = x1.mean() - x2.mean()\\n    noise = np.sqrt(x1.var() / x1.size + x2.var() / x2.size)\\n\\n    ci_lo = signal - 1.96 * noise\\n    ci_hi = signal + 1.96 * noise\\n\\n    return ci_lo, ci_hi\";\n",
       "                var nbb_formatted_code = \"def calc_non_param_ci(x1, x2, alpha=0.05):\\n    \\\"\\\"\\\"Calc confidence interval for 2 group median test\\n\\n    Process:\\n      * Find all pairwise diffs\\n      * Sort diffs\\n      * Find appropriate value of k\\n      * Choose lower bound from diffs as: diffs[k]\\n      * Choose upper bound from diffs as: diffs[-k]\\n\\n    Based on: https://www.ncbi.nlm.nih.gov/pmc/articles/PMC2545906/\\n\\n    :param x1: sample 1\\n    :param x2: sample 2\\n    :param alpha: significance level\\n    :return: (tuple) confidence interval bounds\\n    \\\"\\\"\\\"\\n    x1 = np.array(x1)\\n    x2 = np.array(x2)\\n\\n    n1 = x1.size\\n    n2 = x2.size\\n    cv = stats.norm.ppf(1 - alpha / 2)\\n\\n    # Find pairwise differences for every datapoint in each group\\n    diffs = (x1[:, None] - x2).flatten()\\n    diffs.sort()\\n\\n    # For an approximate (1-a)% confidence interval first calculate K:\\n    k = int(round(n1 * n2 / 2 - (cv * (n1 * n2 * (n1 + n2 + 1) / 12) ** 0.5)))\\n\\n    # The Kth smallest to the Kth largest of the n x m differences\\n    # n1 and n2 should be > ~20\\n    ci_lo = diffs[k]\\n    ci_hi = diffs[-k]\\n\\n    return ci_lo, ci_hi\\n\\n\\ndef cles_ind(x1, x2):\\n    \\\"\\\"\\\"Calc common language effect size\\n\\n    Interpret as the probability that a score sampled\\n    at random from one distribution will be greater than\\n    a score sampled from some other distribution.\\n\\n    Based on: http://psycnet.apa.org/doi/10.1037/0033-2909.111.2.361\\n\\n    :param x1: sample 1\\n    :param x2: sample 2\\n    :return: (float) common language effect size\\n    \\\"\\\"\\\"\\n    x1 = np.array(x1)\\n    x2 = np.array(x2)\\n\\n    diff = x1[:, None] - x2\\n    cles = max((diff < 0).sum(), (diff > 0).sum()) / diff.size\\n\\n    return cles\\n\\n\\ndef get_95_ci(x1, x2):\\n    \\\"\\\"\\\"Calculate a 95% CI for 2 1d numpy arrays\\\"\\\"\\\"\\n    signal = x1.mean() - x2.mean()\\n    noise = np.sqrt(x1.var() / x1.size + x2.var() / x2.size)\\n\\n    ci_lo = signal - 1.96 * noise\\n    ci_hi = signal + 1.96 * noise\\n\\n    return ci_lo, ci_hi\";\n",
       "                var nbb_cells = Jupyter.notebook.get_cells();\n",
       "                for (var i = 0; i < nbb_cells.length; ++i) {\n",
       "                    if (nbb_cells[i].input_prompt_number == nbb_cell_id) {\n",
       "                        if (nbb_cells[i].get_text() == nbb_unformatted_code) {\n",
       "                             nbb_cells[i].set_text(nbb_formatted_code);\n",
       "                        }\n",
       "                        break;\n",
       "                    }\n",
       "                }\n",
       "            }, 500);\n",
       "            "
      ],
      "text/plain": [
       "<IPython.core.display.Javascript object>"
      ]
     },
     "metadata": {},
     "output_type": "display_data"
    },
    {
     "data": {
      "application/javascript": [
       "\n",
       "            setTimeout(function() {\n",
       "                var nbb_cell_id = 5;\n",
       "                var nbb_unformatted_code = \"def calc_non_param_ci(x1, x2, alpha=0.05):\\n    \\\"\\\"\\\"Calc confidence interval for 2 group median test\\n\\n    Process:\\n      * Find all pairwise diffs\\n      * Sort diffs\\n      * Find appropriate value of k\\n      * Choose lower bound from diffs as: diffs[k]\\n      * Choose upper bound from diffs as: diffs[-k]\\n\\n    Based on: https://www.ncbi.nlm.nih.gov/pmc/articles/PMC2545906/\\n\\n    :param x1: sample 1\\n    :param x2: sample 2\\n    :param alpha: significance level\\n    :return: (tuple) confidence interval bounds\\n    \\\"\\\"\\\"\\n    x1 = np.array(x1)\\n    x2 = np.array(x2)\\n\\n    n1 = x1.size\\n    n2 = x2.size\\n    cv = stats.norm.ppf(1 - alpha / 2)\\n\\n    # Find pairwise differences for every datapoint in each group\\n    diffs = (x1[:, None] - x2).flatten()\\n    diffs.sort()\\n\\n    # For an approximate (1-a)% confidence interval first calculate K:\\n    k = int(round(n1 * n2 / 2 - (cv * (n1 * n2 * (n1 + n2 + 1) / 12) ** 0.5)))\\n\\n    # The Kth smallest to the Kth largest of the n x m differences\\n    # n1 and n2 should be > ~20\\n    ci_lo = diffs[k]\\n    ci_hi = diffs[-k]\\n\\n    return ci_lo, ci_hi\\n\\n\\ndef cles_ind(x1, x2):\\n    \\\"\\\"\\\"Calc common language effect size\\n\\n    Interpret as the probability that a score sampled\\n    at random from one distribution will be greater than\\n    a score sampled from some other distribution.\\n\\n    Based on: http://psycnet.apa.org/doi/10.1037/0033-2909.111.2.361\\n\\n    :param x1: sample 1\\n    :param x2: sample 2\\n    :return: (float) common language effect size\\n    \\\"\\\"\\\"\\n    x1 = np.array(x1)\\n    x2 = np.array(x2)\\n\\n    diff = x1[:, None] - x2\\n    cles = max((diff < 0).sum(), (diff > 0).sum()) / diff.size\\n\\n    return cles\\n\\n\\ndef get_95_ci(x1, x2):\\n    \\\"\\\"\\\"Calculate a 95% CI for 2 1d numpy arrays\\\"\\\"\\\"\\n    signal = x1.mean() - x2.mean()\\n    noise = np.sqrt(x1.var() / x1.size + x2.var() / x2.size)\\n\\n    ci_lo = signal - 1.96 * noise\\n    ci_hi = signal + 1.96 * noise\\n\\n    return ci_lo, ci_hi\";\n",
       "                var nbb_formatted_code = \"def calc_non_param_ci(x1, x2, alpha=0.05):\\n    \\\"\\\"\\\"Calc confidence interval for 2 group median test\\n\\n    Process:\\n      * Find all pairwise diffs\\n      * Sort diffs\\n      * Find appropriate value of k\\n      * Choose lower bound from diffs as: diffs[k]\\n      * Choose upper bound from diffs as: diffs[-k]\\n\\n    Based on: https://www.ncbi.nlm.nih.gov/pmc/articles/PMC2545906/\\n\\n    :param x1: sample 1\\n    :param x2: sample 2\\n    :param alpha: significance level\\n    :return: (tuple) confidence interval bounds\\n    \\\"\\\"\\\"\\n    x1 = np.array(x1)\\n    x2 = np.array(x2)\\n\\n    n1 = x1.size\\n    n2 = x2.size\\n    cv = stats.norm.ppf(1 - alpha / 2)\\n\\n    # Find pairwise differences for every datapoint in each group\\n    diffs = (x1[:, None] - x2).flatten()\\n    diffs.sort()\\n\\n    # For an approximate (1-a)% confidence interval first calculate K:\\n    k = int(round(n1 * n2 / 2 - (cv * (n1 * n2 * (n1 + n2 + 1) / 12) ** 0.5)))\\n\\n    # The Kth smallest to the Kth largest of the n x m differences\\n    # n1 and n2 should be > ~20\\n    ci_lo = diffs[k]\\n    ci_hi = diffs[-k]\\n\\n    return ci_lo, ci_hi\\n\\n\\ndef cles_ind(x1, x2):\\n    \\\"\\\"\\\"Calc common language effect size\\n\\n    Interpret as the probability that a score sampled\\n    at random from one distribution will be greater than\\n    a score sampled from some other distribution.\\n\\n    Based on: http://psycnet.apa.org/doi/10.1037/0033-2909.111.2.361\\n\\n    :param x1: sample 1\\n    :param x2: sample 2\\n    :return: (float) common language effect size\\n    \\\"\\\"\\\"\\n    x1 = np.array(x1)\\n    x2 = np.array(x2)\\n\\n    diff = x1[:, None] - x2\\n    cles = max((diff < 0).sum(), (diff > 0).sum()) / diff.size\\n\\n    return cles\\n\\n\\ndef get_95_ci(x1, x2):\\n    \\\"\\\"\\\"Calculate a 95% CI for 2 1d numpy arrays\\\"\\\"\\\"\\n    signal = x1.mean() - x2.mean()\\n    noise = np.sqrt(x1.var() / x1.size + x2.var() / x2.size)\\n\\n    ci_lo = signal - 1.96 * noise\\n    ci_hi = signal + 1.96 * noise\\n\\n    return ci_lo, ci_hi\";\n",
       "                var nbb_cells = Jupyter.notebook.get_cells();\n",
       "                for (var i = 0; i < nbb_cells.length; ++i) {\n",
       "                    if (nbb_cells[i].input_prompt_number == nbb_cell_id) {\n",
       "                        if (nbb_cells[i].get_text() == nbb_unformatted_code) {\n",
       "                             nbb_cells[i].set_text(nbb_formatted_code);\n",
       "                        }\n",
       "                        break;\n",
       "                    }\n",
       "                }\n",
       "            }, 500);\n",
       "            "
      ],
      "text/plain": [
       "<IPython.core.display.Javascript object>"
      ]
     },
     "metadata": {},
     "output_type": "display_data"
    }
   ],
   "source": [
    "def calc_non_param_ci(x1, x2, alpha=0.05):\n",
    "    \"\"\"Calc confidence interval for 2 group median test\n",
    "\n",
    "    Process:\n",
    "      * Find all pairwise diffs\n",
    "      * Sort diffs\n",
    "      * Find appropriate value of k\n",
    "      * Choose lower bound from diffs as: diffs[k]\n",
    "      * Choose upper bound from diffs as: diffs[-k]\n",
    "\n",
    "    Based on: https://www.ncbi.nlm.nih.gov/pmc/articles/PMC2545906/\n",
    "\n",
    "    :param x1: sample 1\n",
    "    :param x2: sample 2\n",
    "    :param alpha: significance level\n",
    "    :return: (tuple) confidence interval bounds\n",
    "    \"\"\"\n",
    "    x1 = np.array(x1)\n",
    "    x2 = np.array(x2)\n",
    "\n",
    "    n1 = x1.size\n",
    "    n2 = x2.size\n",
    "    cv = stats.norm.ppf(1 - alpha / 2)\n",
    "\n",
    "    # Find pairwise differences for every datapoint in each group\n",
    "    diffs = (x1[:, None] - x2).flatten()\n",
    "    diffs.sort()\n",
    "\n",
    "    # For an approximate (1-a)% confidence interval first calculate K:\n",
    "    k = int(round(n1 * n2 / 2 - (cv * (n1 * n2 * (n1 + n2 + 1) / 12) ** 0.5)))\n",
    "\n",
    "    # The Kth smallest to the Kth largest of the n x m differences\n",
    "    # n1 and n2 should be > ~20\n",
    "    ci_lo = diffs[k]\n",
    "    ci_hi = diffs[-k]\n",
    "\n",
    "    return ci_lo, ci_hi\n",
    "\n",
    "\n",
    "def cles_ind(x1, x2):\n",
    "    \"\"\"Calc common language effect size\n",
    "\n",
    "    Interpret as the probability that a score sampled\n",
    "    at random from one distribution will be greater than\n",
    "    a score sampled from some other distribution.\n",
    "\n",
    "    Based on: http://psycnet.apa.org/doi/10.1037/0033-2909.111.2.361\n",
    "\n",
    "    :param x1: sample 1\n",
    "    :param x2: sample 2\n",
    "    :return: (float) common language effect size\n",
    "    \"\"\"\n",
    "    x1 = np.array(x1)\n",
    "    x2 = np.array(x2)\n",
    "\n",
    "    diff = x1[:, None] - x2\n",
    "    cles = max((diff < 0).sum(), (diff > 0).sum()) / diff.size\n",
    "\n",
    "    return cles\n",
    "\n",
    "\n",
    "def get_95_ci(x1, x2):\n",
    "    \"\"\"Calculate a 95% CI for 2 1d numpy arrays\"\"\"\n",
    "    signal = x1.mean() - x2.mean()\n",
    "    noise = np.sqrt(x1.var() / x1.size + x2.var() / x2.size)\n",
    "\n",
    "    ci_lo = signal - 1.96 * noise\n",
    "    ci_hi = signal + 1.96 * noise\n",
    "\n",
    "    return ci_lo, ci_hi"
   ]
  },
  {
   "cell_type": "code",
   "execution_count": 6,
   "metadata": {},
   "outputs": [
    {
     "data": {
      "text/html": [
       "<div>\n",
       "<style scoped>\n",
       "    .dataframe tbody tr th:only-of-type {\n",
       "        vertical-align: middle;\n",
       "    }\n",
       "\n",
       "    .dataframe tbody tr th {\n",
       "        vertical-align: top;\n",
       "    }\n",
       "\n",
       "    .dataframe thead th {\n",
       "        text-align: right;\n",
       "    }\n",
       "</style>\n",
       "<table border=\"1\" class=\"dataframe\">\n",
       "  <thead>\n",
       "    <tr style=\"text-align: right;\">\n",
       "      <th></th>\n",
       "      <th>case_id</th>\n",
       "      <th>Hospital_code</th>\n",
       "      <th>Hospital_type_code</th>\n",
       "      <th>City_Code_Hospital</th>\n",
       "      <th>Hospital_region_code</th>\n",
       "      <th>Available Extra Rooms in Hospital</th>\n",
       "      <th>Department</th>\n",
       "      <th>Ward_Type</th>\n",
       "      <th>Ward_Facility_Code</th>\n",
       "      <th>Bed Grade</th>\n",
       "      <th>patientid</th>\n",
       "      <th>City_Code_Patient</th>\n",
       "      <th>Type of Admission</th>\n",
       "      <th>Severity of Illness</th>\n",
       "      <th>Visitors with Patient</th>\n",
       "      <th>Age</th>\n",
       "      <th>Admission_Deposit</th>\n",
       "      <th>Stay</th>\n",
       "    </tr>\n",
       "  </thead>\n",
       "  <tbody>\n",
       "    <tr>\n",
       "      <th>0</th>\n",
       "      <td>1</td>\n",
       "      <td>8</td>\n",
       "      <td>c</td>\n",
       "      <td>3</td>\n",
       "      <td>Z</td>\n",
       "      <td>3</td>\n",
       "      <td>radiotherapy</td>\n",
       "      <td>R</td>\n",
       "      <td>F</td>\n",
       "      <td>2.0</td>\n",
       "      <td>31397</td>\n",
       "      <td>7.0</td>\n",
       "      <td>Emergency</td>\n",
       "      <td>Extreme</td>\n",
       "      <td>2</td>\n",
       "      <td>51-60</td>\n",
       "      <td>4911.0</td>\n",
       "      <td>0-10</td>\n",
       "    </tr>\n",
       "    <tr>\n",
       "      <th>1</th>\n",
       "      <td>2</td>\n",
       "      <td>2</td>\n",
       "      <td>c</td>\n",
       "      <td>5</td>\n",
       "      <td>Z</td>\n",
       "      <td>2</td>\n",
       "      <td>radiotherapy</td>\n",
       "      <td>S</td>\n",
       "      <td>F</td>\n",
       "      <td>2.0</td>\n",
       "      <td>31397</td>\n",
       "      <td>7.0</td>\n",
       "      <td>Trauma</td>\n",
       "      <td>Extreme</td>\n",
       "      <td>2</td>\n",
       "      <td>51-60</td>\n",
       "      <td>5954.0</td>\n",
       "      <td>41-50</td>\n",
       "    </tr>\n",
       "    <tr>\n",
       "      <th>2</th>\n",
       "      <td>3</td>\n",
       "      <td>10</td>\n",
       "      <td>e</td>\n",
       "      <td>1</td>\n",
       "      <td>X</td>\n",
       "      <td>2</td>\n",
       "      <td>anesthesia</td>\n",
       "      <td>S</td>\n",
       "      <td>E</td>\n",
       "      <td>2.0</td>\n",
       "      <td>31397</td>\n",
       "      <td>7.0</td>\n",
       "      <td>Trauma</td>\n",
       "      <td>Extreme</td>\n",
       "      <td>2</td>\n",
       "      <td>51-60</td>\n",
       "      <td>4745.0</td>\n",
       "      <td>31-40</td>\n",
       "    </tr>\n",
       "    <tr>\n",
       "      <th>3</th>\n",
       "      <td>4</td>\n",
       "      <td>26</td>\n",
       "      <td>b</td>\n",
       "      <td>2</td>\n",
       "      <td>Y</td>\n",
       "      <td>2</td>\n",
       "      <td>radiotherapy</td>\n",
       "      <td>R</td>\n",
       "      <td>D</td>\n",
       "      <td>2.0</td>\n",
       "      <td>31397</td>\n",
       "      <td>7.0</td>\n",
       "      <td>Trauma</td>\n",
       "      <td>Extreme</td>\n",
       "      <td>2</td>\n",
       "      <td>51-60</td>\n",
       "      <td>7272.0</td>\n",
       "      <td>41-50</td>\n",
       "    </tr>\n",
       "    <tr>\n",
       "      <th>4</th>\n",
       "      <td>5</td>\n",
       "      <td>26</td>\n",
       "      <td>b</td>\n",
       "      <td>2</td>\n",
       "      <td>Y</td>\n",
       "      <td>2</td>\n",
       "      <td>radiotherapy</td>\n",
       "      <td>S</td>\n",
       "      <td>D</td>\n",
       "      <td>2.0</td>\n",
       "      <td>31397</td>\n",
       "      <td>7.0</td>\n",
       "      <td>Trauma</td>\n",
       "      <td>Extreme</td>\n",
       "      <td>2</td>\n",
       "      <td>51-60</td>\n",
       "      <td>5558.0</td>\n",
       "      <td>41-50</td>\n",
       "    </tr>\n",
       "  </tbody>\n",
       "</table>\n",
       "</div>"
      ],
      "text/plain": [
       "   case_id  Hospital_code Hospital_type_code  City_Code_Hospital  \\\n",
       "0        1              8                  c                   3   \n",
       "1        2              2                  c                   5   \n",
       "2        3             10                  e                   1   \n",
       "3        4             26                  b                   2   \n",
       "4        5             26                  b                   2   \n",
       "\n",
       "  Hospital_region_code  Available Extra Rooms in Hospital    Department  \\\n",
       "0                    Z                                  3  radiotherapy   \n",
       "1                    Z                                  2  radiotherapy   \n",
       "2                    X                                  2    anesthesia   \n",
       "3                    Y                                  2  radiotherapy   \n",
       "4                    Y                                  2  radiotherapy   \n",
       "\n",
       "  Ward_Type Ward_Facility_Code  Bed Grade  patientid  City_Code_Patient  \\\n",
       "0         R                  F        2.0      31397                7.0   \n",
       "1         S                  F        2.0      31397                7.0   \n",
       "2         S                  E        2.0      31397                7.0   \n",
       "3         R                  D        2.0      31397                7.0   \n",
       "4         S                  D        2.0      31397                7.0   \n",
       "\n",
       "  Type of Admission Severity of Illness  Visitors with Patient    Age  \\\n",
       "0         Emergency             Extreme                      2  51-60   \n",
       "1            Trauma             Extreme                      2  51-60   \n",
       "2            Trauma             Extreme                      2  51-60   \n",
       "3            Trauma             Extreme                      2  51-60   \n",
       "4            Trauma             Extreme                      2  51-60   \n",
       "\n",
       "   Admission_Deposit   Stay  \n",
       "0             4911.0   0-10  \n",
       "1             5954.0  41-50  \n",
       "2             4745.0  31-40  \n",
       "3             7272.0  41-50  \n",
       "4             5558.0  41-50  "
      ]
     },
     "execution_count": 6,
     "metadata": {},
     "output_type": "execute_result"
    },
    {
     "data": {
      "application/javascript": [
       "\n",
       "            setTimeout(function() {\n",
       "                var nbb_cell_id = 6;\n",
       "                var nbb_unformatted_code = \"# import dataset and dictionary for the data\\ndf = pd.read_csv(\\\"data/train_data.csv\\\")\\ndf_dict = pd.read_csv(\\\"data/train_data_dictionary.csv\\\")\\ndf.head()\";\n",
       "                var nbb_formatted_code = \"# import dataset and dictionary for the data\\ndf = pd.read_csv(\\\"data/train_data.csv\\\")\\ndf_dict = pd.read_csv(\\\"data/train_data_dictionary.csv\\\")\\ndf.head()\";\n",
       "                var nbb_cells = Jupyter.notebook.get_cells();\n",
       "                for (var i = 0; i < nbb_cells.length; ++i) {\n",
       "                    if (nbb_cells[i].input_prompt_number == nbb_cell_id) {\n",
       "                        if (nbb_cells[i].get_text() == nbb_unformatted_code) {\n",
       "                             nbb_cells[i].set_text(nbb_formatted_code);\n",
       "                        }\n",
       "                        break;\n",
       "                    }\n",
       "                }\n",
       "            }, 500);\n",
       "            "
      ],
      "text/plain": [
       "<IPython.core.display.Javascript object>"
      ]
     },
     "metadata": {},
     "output_type": "display_data"
    },
    {
     "data": {
      "application/javascript": [
       "\n",
       "            setTimeout(function() {\n",
       "                var nbb_cell_id = 6;\n",
       "                var nbb_unformatted_code = \"# import dataset and dictionary for the data\\ndf = pd.read_csv(\\\"data/train_data.csv\\\")\\ndf_dict = pd.read_csv(\\\"data/train_data_dictionary.csv\\\")\\ndf.head()\";\n",
       "                var nbb_formatted_code = \"# import dataset and dictionary for the data\\ndf = pd.read_csv(\\\"data/train_data.csv\\\")\\ndf_dict = pd.read_csv(\\\"data/train_data_dictionary.csv\\\")\\ndf.head()\";\n",
       "                var nbb_cells = Jupyter.notebook.get_cells();\n",
       "                for (var i = 0; i < nbb_cells.length; ++i) {\n",
       "                    if (nbb_cells[i].input_prompt_number == nbb_cell_id) {\n",
       "                        if (nbb_cells[i].get_text() == nbb_unformatted_code) {\n",
       "                             nbb_cells[i].set_text(nbb_formatted_code);\n",
       "                        }\n",
       "                        break;\n",
       "                    }\n",
       "                }\n",
       "            }, 500);\n",
       "            "
      ],
      "text/plain": [
       "<IPython.core.display.Javascript object>"
      ]
     },
     "metadata": {},
     "output_type": "display_data"
    }
   ],
   "source": [
    "# import dataset and dictionary for the data\n",
    "df = pd.read_csv(\"data/train_data.csv\")\n",
    "df_dict = pd.read_csv(\"data/train_data_dictionary.csv\")\n",
    "df.head()"
   ]
  },
  {
   "cell_type": "markdown",
   "metadata": {},
   "source": [
    "# Preliminary Exploration"
   ]
  },
  {
   "cell_type": "markdown",
   "metadata": {},
   "source": [
    "*The first set of test variables are consistent across regions\n",
    "*further analysis could be done for performance  across different regions on similar patient types "
   ]
  },
  {
   "cell_type": "markdown",
   "metadata": {},
   "source": [
    "**Test variables:**\n",
    "- Age\n",
    "- Type of Admission\n",
    "- severity of Illness\n",
    "- Admission_Deposit\n",
    "- Bed Grade\n",
    "- Hospital type code"
   ]
  },
  {
   "cell_type": "code",
   "execution_count": 7,
   "metadata": {},
   "outputs": [
    {
     "data": {
      "text/html": [
       "<div>\n",
       "<style scoped>\n",
       "    .dataframe tbody tr th:only-of-type {\n",
       "        vertical-align: middle;\n",
       "    }\n",
       "\n",
       "    .dataframe tbody tr th {\n",
       "        vertical-align: top;\n",
       "    }\n",
       "\n",
       "    .dataframe thead th {\n",
       "        text-align: right;\n",
       "    }\n",
       "</style>\n",
       "<table border=\"1\" class=\"dataframe\">\n",
       "  <thead>\n",
       "    <tr style=\"text-align: right;\">\n",
       "      <th></th>\n",
       "      <th>bed_grade</th>\n",
       "      <th>patientid</th>\n",
       "      <th>admission_type</th>\n",
       "      <th>severity</th>\n",
       "      <th>visitors</th>\n",
       "      <th>age</th>\n",
       "      <th>deposit</th>\n",
       "      <th>stay</th>\n",
       "    </tr>\n",
       "    <tr>\n",
       "      <th>case_id</th>\n",
       "      <th></th>\n",
       "      <th></th>\n",
       "      <th></th>\n",
       "      <th></th>\n",
       "      <th></th>\n",
       "      <th></th>\n",
       "      <th></th>\n",
       "      <th></th>\n",
       "    </tr>\n",
       "  </thead>\n",
       "  <tbody>\n",
       "    <tr>\n",
       "      <th>1</th>\n",
       "      <td>2.0</td>\n",
       "      <td>31397</td>\n",
       "      <td>Emergency</td>\n",
       "      <td>Extreme</td>\n",
       "      <td>2</td>\n",
       "      <td>51-60</td>\n",
       "      <td>4911.0</td>\n",
       "      <td>0-10</td>\n",
       "    </tr>\n",
       "    <tr>\n",
       "      <th>2</th>\n",
       "      <td>2.0</td>\n",
       "      <td>31397</td>\n",
       "      <td>Trauma</td>\n",
       "      <td>Extreme</td>\n",
       "      <td>2</td>\n",
       "      <td>51-60</td>\n",
       "      <td>5954.0</td>\n",
       "      <td>41-50</td>\n",
       "    </tr>\n",
       "    <tr>\n",
       "      <th>3</th>\n",
       "      <td>2.0</td>\n",
       "      <td>31397</td>\n",
       "      <td>Trauma</td>\n",
       "      <td>Extreme</td>\n",
       "      <td>2</td>\n",
       "      <td>51-60</td>\n",
       "      <td>4745.0</td>\n",
       "      <td>31-40</td>\n",
       "    </tr>\n",
       "    <tr>\n",
       "      <th>4</th>\n",
       "      <td>2.0</td>\n",
       "      <td>31397</td>\n",
       "      <td>Trauma</td>\n",
       "      <td>Extreme</td>\n",
       "      <td>2</td>\n",
       "      <td>51-60</td>\n",
       "      <td>7272.0</td>\n",
       "      <td>41-50</td>\n",
       "    </tr>\n",
       "    <tr>\n",
       "      <th>5</th>\n",
       "      <td>2.0</td>\n",
       "      <td>31397</td>\n",
       "      <td>Trauma</td>\n",
       "      <td>Extreme</td>\n",
       "      <td>2</td>\n",
       "      <td>51-60</td>\n",
       "      <td>5558.0</td>\n",
       "      <td>41-50</td>\n",
       "    </tr>\n",
       "  </tbody>\n",
       "</table>\n",
       "</div>"
      ],
      "text/plain": [
       "         bed_grade  patientid admission_type severity  visitors    age  \\\n",
       "case_id                                                                  \n",
       "1              2.0      31397      Emergency  Extreme         2  51-60   \n",
       "2              2.0      31397         Trauma  Extreme         2  51-60   \n",
       "3              2.0      31397         Trauma  Extreme         2  51-60   \n",
       "4              2.0      31397         Trauma  Extreme         2  51-60   \n",
       "5              2.0      31397         Trauma  Extreme         2  51-60   \n",
       "\n",
       "         deposit   stay  \n",
       "case_id                  \n",
       "1         4911.0   0-10  \n",
       "2         5954.0  41-50  \n",
       "3         4745.0  31-40  \n",
       "4         7272.0  41-50  \n",
       "5         5558.0  41-50  "
      ]
     },
     "execution_count": 7,
     "metadata": {},
     "output_type": "execute_result"
    },
    {
     "data": {
      "application/javascript": [
       "\n",
       "            setTimeout(function() {\n",
       "                var nbb_cell_id = 7;\n",
       "                var nbb_unformatted_code = \"#  save the df with only the fields of interest\\ndf = df[\\n    [\\n        \\\"case_id\\\",\\n        \\\"Bed Grade\\\",\\n        \\\"patientid\\\",\\n        \\\"Type of Admission\\\",\\n        \\\"Severity of Illness\\\",\\n        \\\"Visitors with Patient\\\",\\n        \\\"Age\\\",\\n        \\\"Admission_Deposit\\\",\\n        \\\"Stay\\\",\\n    ]\\n]\\n\\n# set index to case_id\\ndf = df.set_index(\\\"case_id\\\", inplace=False)\\n\\n# rename columns so they're easier to work with\\ndf = df.rename(\\n    columns={\\n        \\\"Bed Grade\\\": \\\"bed_grade\\\",\\n        \\\"Type of Admission\\\": \\\"admission_type\\\",\\n        \\\"Severity of Illness\\\": \\\"severity\\\",\\n        \\\"Visitors with Patient\\\": \\\"visitors\\\",\\n        \\\"Age\\\": \\\"age\\\",\\n        \\\"Admission_Deposit\\\": \\\"deposit\\\",\\n        \\\"Stay\\\": \\\"stay\\\",\\n    },\\n    inplace=False,\\n)\\n\\ndf.head()\";\n",
       "                var nbb_formatted_code = \"#  save the df with only the fields of interest\\ndf = df[\\n    [\\n        \\\"case_id\\\",\\n        \\\"Bed Grade\\\",\\n        \\\"patientid\\\",\\n        \\\"Type of Admission\\\",\\n        \\\"Severity of Illness\\\",\\n        \\\"Visitors with Patient\\\",\\n        \\\"Age\\\",\\n        \\\"Admission_Deposit\\\",\\n        \\\"Stay\\\",\\n    ]\\n]\\n\\n# set index to case_id\\ndf = df.set_index(\\\"case_id\\\", inplace=False)\\n\\n# rename columns so they're easier to work with\\ndf = df.rename(\\n    columns={\\n        \\\"Bed Grade\\\": \\\"bed_grade\\\",\\n        \\\"Type of Admission\\\": \\\"admission_type\\\",\\n        \\\"Severity of Illness\\\": \\\"severity\\\",\\n        \\\"Visitors with Patient\\\": \\\"visitors\\\",\\n        \\\"Age\\\": \\\"age\\\",\\n        \\\"Admission_Deposit\\\": \\\"deposit\\\",\\n        \\\"Stay\\\": \\\"stay\\\",\\n    },\\n    inplace=False,\\n)\\n\\ndf.head()\";\n",
       "                var nbb_cells = Jupyter.notebook.get_cells();\n",
       "                for (var i = 0; i < nbb_cells.length; ++i) {\n",
       "                    if (nbb_cells[i].input_prompt_number == nbb_cell_id) {\n",
       "                        if (nbb_cells[i].get_text() == nbb_unformatted_code) {\n",
       "                             nbb_cells[i].set_text(nbb_formatted_code);\n",
       "                        }\n",
       "                        break;\n",
       "                    }\n",
       "                }\n",
       "            }, 500);\n",
       "            "
      ],
      "text/plain": [
       "<IPython.core.display.Javascript object>"
      ]
     },
     "metadata": {},
     "output_type": "display_data"
    },
    {
     "data": {
      "application/javascript": [
       "\n",
       "            setTimeout(function() {\n",
       "                var nbb_cell_id = 7;\n",
       "                var nbb_unformatted_code = \"#  save the df with only the fields of interest\\ndf = df[\\n    [\\n        \\\"case_id\\\",\\n        \\\"Bed Grade\\\",\\n        \\\"patientid\\\",\\n        \\\"Type of Admission\\\",\\n        \\\"Severity of Illness\\\",\\n        \\\"Visitors with Patient\\\",\\n        \\\"Age\\\",\\n        \\\"Admission_Deposit\\\",\\n        \\\"Stay\\\",\\n    ]\\n]\\n\\n# set index to case_id\\ndf = df.set_index(\\\"case_id\\\", inplace=False)\\n\\n# rename columns so they're easier to work with\\ndf = df.rename(\\n    columns={\\n        \\\"Bed Grade\\\": \\\"bed_grade\\\",\\n        \\\"Type of Admission\\\": \\\"admission_type\\\",\\n        \\\"Severity of Illness\\\": \\\"severity\\\",\\n        \\\"Visitors with Patient\\\": \\\"visitors\\\",\\n        \\\"Age\\\": \\\"age\\\",\\n        \\\"Admission_Deposit\\\": \\\"deposit\\\",\\n        \\\"Stay\\\": \\\"stay\\\",\\n    },\\n    inplace=False,\\n)\\n\\ndf.head()\";\n",
       "                var nbb_formatted_code = \"#  save the df with only the fields of interest\\ndf = df[\\n    [\\n        \\\"case_id\\\",\\n        \\\"Bed Grade\\\",\\n        \\\"patientid\\\",\\n        \\\"Type of Admission\\\",\\n        \\\"Severity of Illness\\\",\\n        \\\"Visitors with Patient\\\",\\n        \\\"Age\\\",\\n        \\\"Admission_Deposit\\\",\\n        \\\"Stay\\\",\\n    ]\\n]\\n\\n# set index to case_id\\ndf = df.set_index(\\\"case_id\\\", inplace=False)\\n\\n# rename columns so they're easier to work with\\ndf = df.rename(\\n    columns={\\n        \\\"Bed Grade\\\": \\\"bed_grade\\\",\\n        \\\"Type of Admission\\\": \\\"admission_type\\\",\\n        \\\"Severity of Illness\\\": \\\"severity\\\",\\n        \\\"Visitors with Patient\\\": \\\"visitors\\\",\\n        \\\"Age\\\": \\\"age\\\",\\n        \\\"Admission_Deposit\\\": \\\"deposit\\\",\\n        \\\"Stay\\\": \\\"stay\\\",\\n    },\\n    inplace=False,\\n)\\n\\ndf.head()\";\n",
       "                var nbb_cells = Jupyter.notebook.get_cells();\n",
       "                for (var i = 0; i < nbb_cells.length; ++i) {\n",
       "                    if (nbb_cells[i].input_prompt_number == nbb_cell_id) {\n",
       "                        if (nbb_cells[i].get_text() == nbb_unformatted_code) {\n",
       "                             nbb_cells[i].set_text(nbb_formatted_code);\n",
       "                        }\n",
       "                        break;\n",
       "                    }\n",
       "                }\n",
       "            }, 500);\n",
       "            "
      ],
      "text/plain": [
       "<IPython.core.display.Javascript object>"
      ]
     },
     "metadata": {},
     "output_type": "display_data"
    }
   ],
   "source": [
    "#  save the df with only the fields of interest\n",
    "df = df[\n",
    "    [\n",
    "        \"case_id\",\n",
    "        \"Bed Grade\",\n",
    "        \"patientid\",\n",
    "        \"Type of Admission\",\n",
    "        \"Severity of Illness\",\n",
    "        \"Visitors with Patient\",\n",
    "        \"Age\",\n",
    "        \"Admission_Deposit\",\n",
    "        \"Stay\",\n",
    "    ]\n",
    "]\n",
    "\n",
    "# set index to case_id\n",
    "df = df.set_index(\"case_id\", inplace=False)\n",
    "\n",
    "# rename columns so they're easier to work with\n",
    "df = df.rename(\n",
    "    columns={\n",
    "        \"Bed Grade\": \"bed_grade\",\n",
    "        \"Type of Admission\": \"admission_type\",\n",
    "        \"Severity of Illness\": \"severity\",\n",
    "        \"Visitors with Patient\": \"visitors\",\n",
    "        \"Age\": \"age\",\n",
    "        \"Admission_Deposit\": \"deposit\",\n",
    "        \"Stay\": \"stay\",\n",
    "    },\n",
    "    inplace=False,\n",
    ")\n",
    "\n",
    "df.head()"
   ]
  },
  {
   "cell_type": "code",
   "execution_count": 8,
   "metadata": {},
   "outputs": [
    {
     "name": "stdout",
     "output_type": "stream",
     "text": [
      "table info...\n",
      "\n",
      "<class 'pandas.core.frame.DataFrame'>\n",
      "Int64Index: 318438 entries, 1 to 318438\n",
      "Data columns (total 8 columns):\n",
      " #   Column          Non-Null Count   Dtype  \n",
      "---  ------          --------------   -----  \n",
      " 0   bed_grade       318325 non-null  float64\n",
      " 1   patientid       318438 non-null  int64  \n",
      " 2   admission_type  318438 non-null  object \n",
      " 3   severity        318438 non-null  object \n",
      " 4   visitors        318438 non-null  int64  \n",
      " 5   age             318438 non-null  object \n",
      " 6   deposit         318438 non-null  float64\n",
      " 7   stay            318438 non-null  object \n",
      "dtypes: float64(2), int64(2), object(4)\n",
      "memory usage: 21.9+ MB\n",
      "None\n",
      "\n",
      "# of unique patientids...\n"
     ]
    },
    {
     "data": {
      "text/plain": [
       "92017"
      ]
     },
     "execution_count": 8,
     "metadata": {},
     "output_type": "execute_result"
    },
    {
     "data": {
      "application/javascript": [
       "\n",
       "            setTimeout(function() {\n",
       "                var nbb_cell_id = 8;\n",
       "                var nbb_unformatted_code = \"print(\\\"table info...\\\\n\\\")\\nprint(df.info())\\nprint(\\\"\\\\n# of unique patientids...\\\")\\ndf.patientid.nunique()\";\n",
       "                var nbb_formatted_code = \"print(\\\"table info...\\\\n\\\")\\nprint(df.info())\\nprint(\\\"\\\\n# of unique patientids...\\\")\\ndf.patientid.nunique()\";\n",
       "                var nbb_cells = Jupyter.notebook.get_cells();\n",
       "                for (var i = 0; i < nbb_cells.length; ++i) {\n",
       "                    if (nbb_cells[i].input_prompt_number == nbb_cell_id) {\n",
       "                        if (nbb_cells[i].get_text() == nbb_unformatted_code) {\n",
       "                             nbb_cells[i].set_text(nbb_formatted_code);\n",
       "                        }\n",
       "                        break;\n",
       "                    }\n",
       "                }\n",
       "            }, 500);\n",
       "            "
      ],
      "text/plain": [
       "<IPython.core.display.Javascript object>"
      ]
     },
     "metadata": {},
     "output_type": "display_data"
    },
    {
     "data": {
      "application/javascript": [
       "\n",
       "            setTimeout(function() {\n",
       "                var nbb_cell_id = 8;\n",
       "                var nbb_unformatted_code = \"print(\\\"table info...\\\\n\\\")\\nprint(df.info())\\nprint(\\\"\\\\n# of unique patientids...\\\")\\ndf.patientid.nunique()\";\n",
       "                var nbb_formatted_code = \"print(\\\"table info...\\\\n\\\")\\nprint(df.info())\\nprint(\\\"\\\\n# of unique patientids...\\\")\\ndf.patientid.nunique()\";\n",
       "                var nbb_cells = Jupyter.notebook.get_cells();\n",
       "                for (var i = 0; i < nbb_cells.length; ++i) {\n",
       "                    if (nbb_cells[i].input_prompt_number == nbb_cell_id) {\n",
       "                        if (nbb_cells[i].get_text() == nbb_unformatted_code) {\n",
       "                             nbb_cells[i].set_text(nbb_formatted_code);\n",
       "                        }\n",
       "                        break;\n",
       "                    }\n",
       "                }\n",
       "            }, 500);\n",
       "            "
      ],
      "text/plain": [
       "<IPython.core.display.Javascript object>"
      ]
     },
     "metadata": {},
     "output_type": "display_data"
    }
   ],
   "source": [
    "print(\"table info...\\n\")\n",
    "print(df.info())\n",
    "print(\"\\n# of unique patientids...\")\n",
    "df.patientid.nunique()"
   ]
  },
  {
   "cell_type": "code",
   "execution_count": 9,
   "metadata": {},
   "outputs": [
    {
     "data": {
      "text/plain": [
       "41-50     63749\n",
       "31-40     63639\n",
       "51-60     48514\n",
       "21-30     40843\n",
       "71-80     35792\n",
       "61-70     33687\n",
       "11-20     16768\n",
       "81-90      7890\n",
       "0-10       6254\n",
       "91-100     1302\n",
       "Name: age, dtype: int64"
      ]
     },
     "execution_count": 9,
     "metadata": {},
     "output_type": "execute_result"
    },
    {
     "data": {
      "application/javascript": [
       "\n",
       "            setTimeout(function() {\n",
       "                var nbb_cell_id = 9;\n",
       "                var nbb_unformatted_code = \"# more than 100 days needs to be changed to a different value to be converted to numeric\\ndf.age.value_counts()\";\n",
       "                var nbb_formatted_code = \"# more than 100 days needs to be changed to a different value to be converted to numeric\\ndf.age.value_counts()\";\n",
       "                var nbb_cells = Jupyter.notebook.get_cells();\n",
       "                for (var i = 0; i < nbb_cells.length; ++i) {\n",
       "                    if (nbb_cells[i].input_prompt_number == nbb_cell_id) {\n",
       "                        if (nbb_cells[i].get_text() == nbb_unformatted_code) {\n",
       "                             nbb_cells[i].set_text(nbb_formatted_code);\n",
       "                        }\n",
       "                        break;\n",
       "                    }\n",
       "                }\n",
       "            }, 500);\n",
       "            "
      ],
      "text/plain": [
       "<IPython.core.display.Javascript object>"
      ]
     },
     "metadata": {},
     "output_type": "display_data"
    },
    {
     "data": {
      "application/javascript": [
       "\n",
       "            setTimeout(function() {\n",
       "                var nbb_cell_id = 9;\n",
       "                var nbb_unformatted_code = \"# more than 100 days needs to be changed to a different value to be converted to numeric\\ndf.age.value_counts()\";\n",
       "                var nbb_formatted_code = \"# more than 100 days needs to be changed to a different value to be converted to numeric\\ndf.age.value_counts()\";\n",
       "                var nbb_cells = Jupyter.notebook.get_cells();\n",
       "                for (var i = 0; i < nbb_cells.length; ++i) {\n",
       "                    if (nbb_cells[i].input_prompt_number == nbb_cell_id) {\n",
       "                        if (nbb_cells[i].get_text() == nbb_unformatted_code) {\n",
       "                             nbb_cells[i].set_text(nbb_formatted_code);\n",
       "                        }\n",
       "                        break;\n",
       "                    }\n",
       "                }\n",
       "            }, 500);\n",
       "            "
      ],
      "text/plain": [
       "<IPython.core.display.Javascript object>"
      ]
     },
     "metadata": {},
     "output_type": "display_data"
    }
   ],
   "source": [
    "# more than 100 days needs to be changed to a different value to be converted to numeric\n",
    "df.age.value_counts()"
   ]
  },
  {
   "cell_type": "markdown",
   "metadata": {},
   "source": [
    "*  **The object data type for age and stay need to be converted to a numeric to represent each group.**"
   ]
  },
  {
   "cell_type": "code",
   "execution_count": 10,
   "metadata": {
    "scrolled": false
   },
   "outputs": [
    {
     "data": {
      "text/html": [
       "<div>\n",
       "<style scoped>\n",
       "    .dataframe tbody tr th:only-of-type {\n",
       "        vertical-align: middle;\n",
       "    }\n",
       "\n",
       "    .dataframe tbody tr th {\n",
       "        vertical-align: top;\n",
       "    }\n",
       "\n",
       "    .dataframe thead th {\n",
       "        text-align: right;\n",
       "    }\n",
       "</style>\n",
       "<table border=\"1\" class=\"dataframe\">\n",
       "  <thead>\n",
       "    <tr style=\"text-align: right;\">\n",
       "      <th></th>\n",
       "      <th>bed_grade</th>\n",
       "      <th>patientid</th>\n",
       "      <th>admission_type</th>\n",
       "      <th>severity</th>\n",
       "      <th>visitors</th>\n",
       "      <th>age</th>\n",
       "      <th>deposit</th>\n",
       "      <th>stay</th>\n",
       "    </tr>\n",
       "    <tr>\n",
       "      <th>case_id</th>\n",
       "      <th></th>\n",
       "      <th></th>\n",
       "      <th></th>\n",
       "      <th></th>\n",
       "      <th></th>\n",
       "      <th></th>\n",
       "      <th></th>\n",
       "      <th></th>\n",
       "    </tr>\n",
       "  </thead>\n",
       "  <tbody>\n",
       "    <tr>\n",
       "      <th>1</th>\n",
       "      <td>2.0</td>\n",
       "      <td>31397</td>\n",
       "      <td>Emergency</td>\n",
       "      <td>Extreme</td>\n",
       "      <td>2</td>\n",
       "      <td>55</td>\n",
       "      <td>4911.0</td>\n",
       "      <td>5.0</td>\n",
       "    </tr>\n",
       "    <tr>\n",
       "      <th>2</th>\n",
       "      <td>2.0</td>\n",
       "      <td>31397</td>\n",
       "      <td>Trauma</td>\n",
       "      <td>Extreme</td>\n",
       "      <td>2</td>\n",
       "      <td>55</td>\n",
       "      <td>5954.0</td>\n",
       "      <td>45.0</td>\n",
       "    </tr>\n",
       "    <tr>\n",
       "      <th>3</th>\n",
       "      <td>2.0</td>\n",
       "      <td>31397</td>\n",
       "      <td>Trauma</td>\n",
       "      <td>Extreme</td>\n",
       "      <td>2</td>\n",
       "      <td>55</td>\n",
       "      <td>4745.0</td>\n",
       "      <td>35.0</td>\n",
       "    </tr>\n",
       "    <tr>\n",
       "      <th>4</th>\n",
       "      <td>2.0</td>\n",
       "      <td>31397</td>\n",
       "      <td>Trauma</td>\n",
       "      <td>Extreme</td>\n",
       "      <td>2</td>\n",
       "      <td>55</td>\n",
       "      <td>7272.0</td>\n",
       "      <td>45.0</td>\n",
       "    </tr>\n",
       "    <tr>\n",
       "      <th>5</th>\n",
       "      <td>2.0</td>\n",
       "      <td>31397</td>\n",
       "      <td>Trauma</td>\n",
       "      <td>Extreme</td>\n",
       "      <td>2</td>\n",
       "      <td>55</td>\n",
       "      <td>5558.0</td>\n",
       "      <td>45.0</td>\n",
       "    </tr>\n",
       "  </tbody>\n",
       "</table>\n",
       "</div>"
      ],
      "text/plain": [
       "         bed_grade  patientid admission_type severity  visitors  age  deposit  \\\n",
       "case_id                                                                         \n",
       "1              2.0      31397      Emergency  Extreme         2   55   4911.0   \n",
       "2              2.0      31397         Trauma  Extreme         2   55   5954.0   \n",
       "3              2.0      31397         Trauma  Extreme         2   55   4745.0   \n",
       "4              2.0      31397         Trauma  Extreme         2   55   7272.0   \n",
       "5              2.0      31397         Trauma  Extreme         2   55   5558.0   \n",
       "\n",
       "         stay  \n",
       "case_id        \n",
       "1         5.0  \n",
       "2        45.0  \n",
       "3        35.0  \n",
       "4        45.0  \n",
       "5        45.0  "
      ]
     },
     "execution_count": 10,
     "metadata": {},
     "output_type": "execute_result"
    },
    {
     "data": {
      "application/javascript": [
       "\n",
       "            setTimeout(function() {\n",
       "                var nbb_cell_id = 10;\n",
       "                var nbb_unformatted_code = \"# set all stay values of \\\"More than 100 Days\\\" to 100 numeric\\n# over_100 = df.stay == \\\"More than 100 Days\\\"\\ndf.loc[df.stay == \\\"More than 100 Days\\\", \\\"stay\\\"] = 100\\n# df[df.stay == 100]\\n\\n\\n# stay column converted to number value\\nstay_slice = (pd.to_numeric(df.stay.str.slice(0, 1)) * 10) + 5\\ndf.stay = stay_slice\\n\\n# age column converted to number value\\nage_slice = (pd.to_numeric(df.age.str.slice(0, 1)) * 10) + 5\\ndf.age = age_slice\\n\\ndf.head()\";\n",
       "                var nbb_formatted_code = \"# set all stay values of \\\"More than 100 Days\\\" to 100 numeric\\n# over_100 = df.stay == \\\"More than 100 Days\\\"\\ndf.loc[df.stay == \\\"More than 100 Days\\\", \\\"stay\\\"] = 100\\n# df[df.stay == 100]\\n\\n\\n# stay column converted to number value\\nstay_slice = (pd.to_numeric(df.stay.str.slice(0, 1)) * 10) + 5\\ndf.stay = stay_slice\\n\\n# age column converted to number value\\nage_slice = (pd.to_numeric(df.age.str.slice(0, 1)) * 10) + 5\\ndf.age = age_slice\\n\\ndf.head()\";\n",
       "                var nbb_cells = Jupyter.notebook.get_cells();\n",
       "                for (var i = 0; i < nbb_cells.length; ++i) {\n",
       "                    if (nbb_cells[i].input_prompt_number == nbb_cell_id) {\n",
       "                        if (nbb_cells[i].get_text() == nbb_unformatted_code) {\n",
       "                             nbb_cells[i].set_text(nbb_formatted_code);\n",
       "                        }\n",
       "                        break;\n",
       "                    }\n",
       "                }\n",
       "            }, 500);\n",
       "            "
      ],
      "text/plain": [
       "<IPython.core.display.Javascript object>"
      ]
     },
     "metadata": {},
     "output_type": "display_data"
    },
    {
     "data": {
      "application/javascript": [
       "\n",
       "            setTimeout(function() {\n",
       "                var nbb_cell_id = 10;\n",
       "                var nbb_unformatted_code = \"# set all stay values of \\\"More than 100 Days\\\" to 100 numeric\\n# over_100 = df.stay == \\\"More than 100 Days\\\"\\ndf.loc[df.stay == \\\"More than 100 Days\\\", \\\"stay\\\"] = 100\\n# df[df.stay == 100]\\n\\n\\n# stay column converted to number value\\nstay_slice = (pd.to_numeric(df.stay.str.slice(0, 1)) * 10) + 5\\ndf.stay = stay_slice\\n\\n# age column converted to number value\\nage_slice = (pd.to_numeric(df.age.str.slice(0, 1)) * 10) + 5\\ndf.age = age_slice\\n\\ndf.head()\";\n",
       "                var nbb_formatted_code = \"# set all stay values of \\\"More than 100 Days\\\" to 100 numeric\\n# over_100 = df.stay == \\\"More than 100 Days\\\"\\ndf.loc[df.stay == \\\"More than 100 Days\\\", \\\"stay\\\"] = 100\\n# df[df.stay == 100]\\n\\n\\n# stay column converted to number value\\nstay_slice = (pd.to_numeric(df.stay.str.slice(0, 1)) * 10) + 5\\ndf.stay = stay_slice\\n\\n# age column converted to number value\\nage_slice = (pd.to_numeric(df.age.str.slice(0, 1)) * 10) + 5\\ndf.age = age_slice\\n\\ndf.head()\";\n",
       "                var nbb_cells = Jupyter.notebook.get_cells();\n",
       "                for (var i = 0; i < nbb_cells.length; ++i) {\n",
       "                    if (nbb_cells[i].input_prompt_number == nbb_cell_id) {\n",
       "                        if (nbb_cells[i].get_text() == nbb_unformatted_code) {\n",
       "                             nbb_cells[i].set_text(nbb_formatted_code);\n",
       "                        }\n",
       "                        break;\n",
       "                    }\n",
       "                }\n",
       "            }, 500);\n",
       "            "
      ],
      "text/plain": [
       "<IPython.core.display.Javascript object>"
      ]
     },
     "metadata": {},
     "output_type": "display_data"
    }
   ],
   "source": [
    "# set all stay values of \"More than 100 Days\" to 100 numeric\n",
    "# over_100 = df.stay == \"More than 100 Days\"\n",
    "df.loc[df.stay == \"More than 100 Days\", \"stay\"] = 100\n",
    "# df[df.stay == 100]\n",
    "\n",
    "\n",
    "# stay column converted to number value\n",
    "stay_slice = (pd.to_numeric(df.stay.str.slice(0, 1)) * 10) + 5\n",
    "df.stay = stay_slice\n",
    "\n",
    "# age column converted to number value\n",
    "age_slice = (pd.to_numeric(df.age.str.slice(0, 1)) * 10) + 5\n",
    "df.age = age_slice\n",
    "\n",
    "df.head()"
   ]
  },
  {
   "cell_type": "code",
   "execution_count": 11,
   "metadata": {},
   "outputs": [
    {
     "name": "stdout",
     "output_type": "stream",
     "text": [
      "Null value counts...\n",
      "False    311755\n",
      "True       6683\n",
      "Name: stay, dtype: int64\n"
     ]
    },
    {
     "data": {
      "application/javascript": [
       "\n",
       "            setTimeout(function() {\n",
       "                var nbb_cell_id = 11;\n",
       "                var nbb_unformatted_code = \"#  checking for nulls after the string replacements\\nprint(\\\"Null value counts...\\\")\\nprint(df.stay.isnull().value_counts())\\n\\n#  when I was converting the stay values to numeric, the 100+ values converted to NaN\\n#  replacing all NaN values with 100\\ndf.dropna(inplace=True)\";\n",
       "                var nbb_formatted_code = \"#  checking for nulls after the string replacements\\nprint(\\\"Null value counts...\\\")\\nprint(df.stay.isnull().value_counts())\\n\\n#  when I was converting the stay values to numeric, the 100+ values converted to NaN\\n#  replacing all NaN values with 100\\ndf.dropna(inplace=True)\";\n",
       "                var nbb_cells = Jupyter.notebook.get_cells();\n",
       "                for (var i = 0; i < nbb_cells.length; ++i) {\n",
       "                    if (nbb_cells[i].input_prompt_number == nbb_cell_id) {\n",
       "                        if (nbb_cells[i].get_text() == nbb_unformatted_code) {\n",
       "                             nbb_cells[i].set_text(nbb_formatted_code);\n",
       "                        }\n",
       "                        break;\n",
       "                    }\n",
       "                }\n",
       "            }, 500);\n",
       "            "
      ],
      "text/plain": [
       "<IPython.core.display.Javascript object>"
      ]
     },
     "metadata": {},
     "output_type": "display_data"
    },
    {
     "data": {
      "application/javascript": [
       "\n",
       "            setTimeout(function() {\n",
       "                var nbb_cell_id = 11;\n",
       "                var nbb_unformatted_code = \"#  checking for nulls after the string replacements\\nprint(\\\"Null value counts...\\\")\\nprint(df.stay.isnull().value_counts())\\n\\n#  when I was converting the stay values to numeric, the 100+ values converted to NaN\\n#  replacing all NaN values with 100\\ndf.dropna(inplace=True)\";\n",
       "                var nbb_formatted_code = \"#  checking for nulls after the string replacements\\nprint(\\\"Null value counts...\\\")\\nprint(df.stay.isnull().value_counts())\\n\\n#  when I was converting the stay values to numeric, the 100+ values converted to NaN\\n#  replacing all NaN values with 100\\ndf.dropna(inplace=True)\";\n",
       "                var nbb_cells = Jupyter.notebook.get_cells();\n",
       "                for (var i = 0; i < nbb_cells.length; ++i) {\n",
       "                    if (nbb_cells[i].input_prompt_number == nbb_cell_id) {\n",
       "                        if (nbb_cells[i].get_text() == nbb_unformatted_code) {\n",
       "                             nbb_cells[i].set_text(nbb_formatted_code);\n",
       "                        }\n",
       "                        break;\n",
       "                    }\n",
       "                }\n",
       "            }, 500);\n",
       "            "
      ],
      "text/plain": [
       "<IPython.core.display.Javascript object>"
      ]
     },
     "metadata": {},
     "output_type": "display_data"
    }
   ],
   "source": [
    "#  checking for nulls after the string replacements\n",
    "print(\"Null value counts...\")\n",
    "print(df.stay.isnull().value_counts())\n",
    "\n",
    "#  when I was converting the stay values to numeric, the 100+ values converted to NaN\n",
    "#  replacing all NaN values with 100\n",
    "df.dropna(inplace=True)"
   ]
  },
  {
   "cell_type": "code",
   "execution_count": 12,
   "metadata": {},
   "outputs": [
    {
     "data": {
      "text/html": [
       "<div>\n",
       "<style scoped>\n",
       "    .dataframe tbody tr th:only-of-type {\n",
       "        vertical-align: middle;\n",
       "    }\n",
       "\n",
       "    .dataframe tbody tr th {\n",
       "        vertical-align: top;\n",
       "    }\n",
       "\n",
       "    .dataframe thead th {\n",
       "        text-align: right;\n",
       "    }\n",
       "</style>\n",
       "<table border=\"1\" class=\"dataframe\">\n",
       "  <thead>\n",
       "    <tr style=\"text-align: right;\">\n",
       "      <th></th>\n",
       "      <th>bed_grade</th>\n",
       "      <th>patientid</th>\n",
       "      <th>admission_type</th>\n",
       "      <th>severity</th>\n",
       "      <th>visitors</th>\n",
       "      <th>age</th>\n",
       "      <th>deposit</th>\n",
       "      <th>stay</th>\n",
       "    </tr>\n",
       "    <tr>\n",
       "      <th>case_id</th>\n",
       "      <th></th>\n",
       "      <th></th>\n",
       "      <th></th>\n",
       "      <th></th>\n",
       "      <th></th>\n",
       "      <th></th>\n",
       "      <th></th>\n",
       "      <th></th>\n",
       "    </tr>\n",
       "  </thead>\n",
       "  <tbody>\n",
       "    <tr>\n",
       "      <th>1</th>\n",
       "      <td>2.0</td>\n",
       "      <td>31397</td>\n",
       "      <td>Emergency</td>\n",
       "      <td>Extreme</td>\n",
       "      <td>2</td>\n",
       "      <td>55</td>\n",
       "      <td>4911.0</td>\n",
       "      <td>5.0</td>\n",
       "    </tr>\n",
       "    <tr>\n",
       "      <th>2</th>\n",
       "      <td>2.0</td>\n",
       "      <td>31397</td>\n",
       "      <td>Trauma</td>\n",
       "      <td>Extreme</td>\n",
       "      <td>2</td>\n",
       "      <td>55</td>\n",
       "      <td>5954.0</td>\n",
       "      <td>45.0</td>\n",
       "    </tr>\n",
       "    <tr>\n",
       "      <th>3</th>\n",
       "      <td>2.0</td>\n",
       "      <td>31397</td>\n",
       "      <td>Trauma</td>\n",
       "      <td>Extreme</td>\n",
       "      <td>2</td>\n",
       "      <td>55</td>\n",
       "      <td>4745.0</td>\n",
       "      <td>35.0</td>\n",
       "    </tr>\n",
       "    <tr>\n",
       "      <th>4</th>\n",
       "      <td>2.0</td>\n",
       "      <td>31397</td>\n",
       "      <td>Trauma</td>\n",
       "      <td>Extreme</td>\n",
       "      <td>2</td>\n",
       "      <td>55</td>\n",
       "      <td>7272.0</td>\n",
       "      <td>45.0</td>\n",
       "    </tr>\n",
       "    <tr>\n",
       "      <th>5</th>\n",
       "      <td>2.0</td>\n",
       "      <td>31397</td>\n",
       "      <td>Trauma</td>\n",
       "      <td>Extreme</td>\n",
       "      <td>2</td>\n",
       "      <td>55</td>\n",
       "      <td>5558.0</td>\n",
       "      <td>45.0</td>\n",
       "    </tr>\n",
       "  </tbody>\n",
       "</table>\n",
       "</div>"
      ],
      "text/plain": [
       "         bed_grade  patientid admission_type severity  visitors  age  deposit  \\\n",
       "case_id                                                                         \n",
       "1              2.0      31397      Emergency  Extreme         2   55   4911.0   \n",
       "2              2.0      31397         Trauma  Extreme         2   55   5954.0   \n",
       "3              2.0      31397         Trauma  Extreme         2   55   4745.0   \n",
       "4              2.0      31397         Trauma  Extreme         2   55   7272.0   \n",
       "5              2.0      31397         Trauma  Extreme         2   55   5558.0   \n",
       "\n",
       "         stay  \n",
       "case_id        \n",
       "1         5.0  \n",
       "2        45.0  \n",
       "3        35.0  \n",
       "4        45.0  \n",
       "5        45.0  "
      ]
     },
     "execution_count": 12,
     "metadata": {},
     "output_type": "execute_result"
    },
    {
     "data": {
      "application/javascript": [
       "\n",
       "            setTimeout(function() {\n",
       "                var nbb_cell_id = 12;\n",
       "                var nbb_unformatted_code = \"df.head()\";\n",
       "                var nbb_formatted_code = \"df.head()\";\n",
       "                var nbb_cells = Jupyter.notebook.get_cells();\n",
       "                for (var i = 0; i < nbb_cells.length; ++i) {\n",
       "                    if (nbb_cells[i].input_prompt_number == nbb_cell_id) {\n",
       "                        if (nbb_cells[i].get_text() == nbb_unformatted_code) {\n",
       "                             nbb_cells[i].set_text(nbb_formatted_code);\n",
       "                        }\n",
       "                        break;\n",
       "                    }\n",
       "                }\n",
       "            }, 500);\n",
       "            "
      ],
      "text/plain": [
       "<IPython.core.display.Javascript object>"
      ]
     },
     "metadata": {},
     "output_type": "display_data"
    },
    {
     "data": {
      "application/javascript": [
       "\n",
       "            setTimeout(function() {\n",
       "                var nbb_cell_id = 12;\n",
       "                var nbb_unformatted_code = \"df.head()\";\n",
       "                var nbb_formatted_code = \"df.head()\";\n",
       "                var nbb_cells = Jupyter.notebook.get_cells();\n",
       "                for (var i = 0; i < nbb_cells.length; ++i) {\n",
       "                    if (nbb_cells[i].input_prompt_number == nbb_cell_id) {\n",
       "                        if (nbb_cells[i].get_text() == nbb_unformatted_code) {\n",
       "                             nbb_cells[i].set_text(nbb_formatted_code);\n",
       "                        }\n",
       "                        break;\n",
       "                    }\n",
       "                }\n",
       "            }, 500);\n",
       "            "
      ],
      "text/plain": [
       "<IPython.core.display.Javascript object>"
      ]
     },
     "metadata": {},
     "output_type": "display_data"
    }
   ],
   "source": [
    "df.head()"
   ]
  },
  {
   "cell_type": "code",
   "execution_count": 13,
   "metadata": {},
   "outputs": [
    {
     "name": "stdout",
     "output_type": "stream",
     "text": [
      "\n",
      "Null value counts after fill...\n",
      "False    311644\n",
      "Name: stay, dtype: int64\n"
     ]
    },
    {
     "data": {
      "application/javascript": [
       "\n",
       "            setTimeout(function() {\n",
       "                var nbb_cell_id = 13;\n",
       "                var nbb_unformatted_code = \"#  checking for nulls after the string replacements\\nprint(\\\"\\\\nNull value counts after fill...\\\")\\nprint(df.stay.isnull().value_counts())\";\n",
       "                var nbb_formatted_code = \"#  checking for nulls after the string replacements\\nprint(\\\"\\\\nNull value counts after fill...\\\")\\nprint(df.stay.isnull().value_counts())\";\n",
       "                var nbb_cells = Jupyter.notebook.get_cells();\n",
       "                for (var i = 0; i < nbb_cells.length; ++i) {\n",
       "                    if (nbb_cells[i].input_prompt_number == nbb_cell_id) {\n",
       "                        if (nbb_cells[i].get_text() == nbb_unformatted_code) {\n",
       "                             nbb_cells[i].set_text(nbb_formatted_code);\n",
       "                        }\n",
       "                        break;\n",
       "                    }\n",
       "                }\n",
       "            }, 500);\n",
       "            "
      ],
      "text/plain": [
       "<IPython.core.display.Javascript object>"
      ]
     },
     "metadata": {},
     "output_type": "display_data"
    },
    {
     "data": {
      "application/javascript": [
       "\n",
       "            setTimeout(function() {\n",
       "                var nbb_cell_id = 13;\n",
       "                var nbb_unformatted_code = \"#  checking for nulls after the string replacements\\nprint(\\\"\\\\nNull value counts after fill...\\\")\\nprint(df.stay.isnull().value_counts())\";\n",
       "                var nbb_formatted_code = \"#  checking for nulls after the string replacements\\nprint(\\\"\\\\nNull value counts after fill...\\\")\\nprint(df.stay.isnull().value_counts())\";\n",
       "                var nbb_cells = Jupyter.notebook.get_cells();\n",
       "                for (var i = 0; i < nbb_cells.length; ++i) {\n",
       "                    if (nbb_cells[i].input_prompt_number == nbb_cell_id) {\n",
       "                        if (nbb_cells[i].get_text() == nbb_unformatted_code) {\n",
       "                             nbb_cells[i].set_text(nbb_formatted_code);\n",
       "                        }\n",
       "                        break;\n",
       "                    }\n",
       "                }\n",
       "            }, 500);\n",
       "            "
      ],
      "text/plain": [
       "<IPython.core.display.Javascript object>"
      ]
     },
     "metadata": {},
     "output_type": "display_data"
    }
   ],
   "source": [
    "#  checking for nulls after the string replacements\n",
    "print(\"\\nNull value counts after fill...\")\n",
    "print(df.stay.isnull().value_counts())"
   ]
  },
  {
   "cell_type": "code",
   "execution_count": 14,
   "metadata": {},
   "outputs": [
    {
     "name": "stdout",
     "output_type": "stream",
     "text": [
      "Unique severity values...\n",
      "['Extreme' 'Moderate' 'Minor']\n",
      "\n",
      "Unique admission types...\n",
      "['Emergency' 'Trauma' 'Urgent']\n",
      "\n",
      "Age groups...\n",
      "[55 75 35 45 85 65 25 15  5 95]\n"
     ]
    },
    {
     "data": {
      "application/javascript": [
       "\n",
       "            setTimeout(function() {\n",
       "                var nbb_cell_id = 14;\n",
       "                var nbb_unformatted_code = \"# unique values for severity and admission type fields to be used to break into groups\\nprint(\\\"Unique severity values...\\\")\\nprint(df.severity.unique())\\nprint(\\\"\\\\nUnique admission types...\\\")\\nprint(df.admission_type.unique())\\n\\nprint(\\\"\\\\nAge groups...\\\")\\nprint(df.age.unique())\";\n",
       "                var nbb_formatted_code = \"# unique values for severity and admission type fields to be used to break into groups\\nprint(\\\"Unique severity values...\\\")\\nprint(df.severity.unique())\\nprint(\\\"\\\\nUnique admission types...\\\")\\nprint(df.admission_type.unique())\\n\\nprint(\\\"\\\\nAge groups...\\\")\\nprint(df.age.unique())\";\n",
       "                var nbb_cells = Jupyter.notebook.get_cells();\n",
       "                for (var i = 0; i < nbb_cells.length; ++i) {\n",
       "                    if (nbb_cells[i].input_prompt_number == nbb_cell_id) {\n",
       "                        if (nbb_cells[i].get_text() == nbb_unformatted_code) {\n",
       "                             nbb_cells[i].set_text(nbb_formatted_code);\n",
       "                        }\n",
       "                        break;\n",
       "                    }\n",
       "                }\n",
       "            }, 500);\n",
       "            "
      ],
      "text/plain": [
       "<IPython.core.display.Javascript object>"
      ]
     },
     "metadata": {},
     "output_type": "display_data"
    },
    {
     "data": {
      "application/javascript": [
       "\n",
       "            setTimeout(function() {\n",
       "                var nbb_cell_id = 14;\n",
       "                var nbb_unformatted_code = \"# unique values for severity and admission type fields to be used to break into groups\\nprint(\\\"Unique severity values...\\\")\\nprint(df.severity.unique())\\nprint(\\\"\\\\nUnique admission types...\\\")\\nprint(df.admission_type.unique())\\n\\nprint(\\\"\\\\nAge groups...\\\")\\nprint(df.age.unique())\";\n",
       "                var nbb_formatted_code = \"# unique values for severity and admission type fields to be used to break into groups\\nprint(\\\"Unique severity values...\\\")\\nprint(df.severity.unique())\\nprint(\\\"\\\\nUnique admission types...\\\")\\nprint(df.admission_type.unique())\\n\\nprint(\\\"\\\\nAge groups...\\\")\\nprint(df.age.unique())\";\n",
       "                var nbb_cells = Jupyter.notebook.get_cells();\n",
       "                for (var i = 0; i < nbb_cells.length; ++i) {\n",
       "                    if (nbb_cells[i].input_prompt_number == nbb_cell_id) {\n",
       "                        if (nbb_cells[i].get_text() == nbb_unformatted_code) {\n",
       "                             nbb_cells[i].set_text(nbb_formatted_code);\n",
       "                        }\n",
       "                        break;\n",
       "                    }\n",
       "                }\n",
       "            }, 500);\n",
       "            "
      ],
      "text/plain": [
       "<IPython.core.display.Javascript object>"
      ]
     },
     "metadata": {},
     "output_type": "display_data"
    }
   ],
   "source": [
    "# unique values for severity and admission type fields to be used to break into groups\n",
    "print(\"Unique severity values...\")\n",
    "print(df.severity.unique())\n",
    "print(\"\\nUnique admission types...\")\n",
    "print(df.admission_type.unique())\n",
    "\n",
    "print(\"\\nAge groups...\")\n",
    "print(df.age.unique())"
   ]
  },
  {
   "cell_type": "code",
   "execution_count": 15,
   "metadata": {},
   "outputs": [
    {
     "data": {
      "application/javascript": [
       "\n",
       "            setTimeout(function() {\n",
       "                var nbb_cell_id = 15;\n",
       "                var nbb_unformatted_code = \"pd.options.display.max_rows = 90\";\n",
       "                var nbb_formatted_code = \"pd.options.display.max_rows = 90\";\n",
       "                var nbb_cells = Jupyter.notebook.get_cells();\n",
       "                for (var i = 0; i < nbb_cells.length; ++i) {\n",
       "                    if (nbb_cells[i].input_prompt_number == nbb_cell_id) {\n",
       "                        if (nbb_cells[i].get_text() == nbb_unformatted_code) {\n",
       "                             nbb_cells[i].set_text(nbb_formatted_code);\n",
       "                        }\n",
       "                        break;\n",
       "                    }\n",
       "                }\n",
       "            }, 500);\n",
       "            "
      ],
      "text/plain": [
       "<IPython.core.display.Javascript object>"
      ]
     },
     "metadata": {},
     "output_type": "display_data"
    },
    {
     "data": {
      "application/javascript": [
       "\n",
       "            setTimeout(function() {\n",
       "                var nbb_cell_id = 15;\n",
       "                var nbb_unformatted_code = \"pd.options.display.max_rows = 90\";\n",
       "                var nbb_formatted_code = \"pd.options.display.max_rows = 90\";\n",
       "                var nbb_cells = Jupyter.notebook.get_cells();\n",
       "                for (var i = 0; i < nbb_cells.length; ++i) {\n",
       "                    if (nbb_cells[i].input_prompt_number == nbb_cell_id) {\n",
       "                        if (nbb_cells[i].get_text() == nbb_unformatted_code) {\n",
       "                             nbb_cells[i].set_text(nbb_formatted_code);\n",
       "                        }\n",
       "                        break;\n",
       "                    }\n",
       "                }\n",
       "            }, 500);\n",
       "            "
      ],
      "text/plain": [
       "<IPython.core.display.Javascript object>"
      ]
     },
     "metadata": {},
     "output_type": "display_data"
    }
   ],
   "source": [
    "pd.options.display.max_rows = 90"
   ]
  },
  {
   "cell_type": "code",
   "execution_count": 16,
   "metadata": {
    "scrolled": false
   },
   "outputs": [
    {
     "data": {
      "text/html": [
       "<style  type=\"text/css\" >\n",
       "    #T_70382c32_2e7d_11eb_818f_bc542fc4f43brow0_col0 {\n",
       "            background-color:  #73a9cf;\n",
       "            color:  #000000;\n",
       "        }    #T_70382c32_2e7d_11eb_818f_bc542fc4f43brow0_col1 {\n",
       "            background-color:  #a4bcda;\n",
       "            color:  #000000;\n",
       "        }    #T_70382c32_2e7d_11eb_818f_bc542fc4f43brow0_col2 {\n",
       "            background-color:  #fef6fa;\n",
       "            color:  #000000;\n",
       "        }    #T_70382c32_2e7d_11eb_818f_bc542fc4f43brow1_col0 {\n",
       "            background-color:  #73a9cf;\n",
       "            color:  #000000;\n",
       "        }    #T_70382c32_2e7d_11eb_818f_bc542fc4f43brow1_col1 {\n",
       "            background-color:  #348ebf;\n",
       "            color:  #000000;\n",
       "        }    #T_70382c32_2e7d_11eb_818f_bc542fc4f43brow1_col2 {\n",
       "            background-color:  #fdf5fa;\n",
       "            color:  #000000;\n",
       "        }    #T_70382c32_2e7d_11eb_818f_bc542fc4f43brow2_col0 {\n",
       "            background-color:  #73a9cf;\n",
       "            color:  #000000;\n",
       "        }    #T_70382c32_2e7d_11eb_818f_bc542fc4f43brow2_col1 {\n",
       "            background-color:  #6da6cd;\n",
       "            color:  #000000;\n",
       "        }    #T_70382c32_2e7d_11eb_818f_bc542fc4f43brow2_col2 {\n",
       "            background-color:  #fef6fb;\n",
       "            color:  #000000;\n",
       "        }    #T_70382c32_2e7d_11eb_818f_bc542fc4f43brow3_col0 {\n",
       "            background-color:  #fff7fb;\n",
       "            color:  #000000;\n",
       "        }    #T_70382c32_2e7d_11eb_818f_bc542fc4f43brow3_col1 {\n",
       "            background-color:  #fff7fb;\n",
       "            color:  #000000;\n",
       "        }    #T_70382c32_2e7d_11eb_818f_bc542fc4f43brow3_col2 {\n",
       "            background-color:  #f7f0f7;\n",
       "            color:  #000000;\n",
       "        }    #T_70382c32_2e7d_11eb_818f_bc542fc4f43brow4_col0 {\n",
       "            background-color:  #73a9cf;\n",
       "            color:  #000000;\n",
       "        }    #T_70382c32_2e7d_11eb_818f_bc542fc4f43brow4_col1 {\n",
       "            background-color:  #dcdaeb;\n",
       "            color:  #000000;\n",
       "        }    #T_70382c32_2e7d_11eb_818f_bc542fc4f43brow4_col2 {\n",
       "            background-color:  #f9f2f8;\n",
       "            color:  #000000;\n",
       "        }    #T_70382c32_2e7d_11eb_818f_bc542fc4f43brow5_col0 {\n",
       "            background-color:  #fff7fb;\n",
       "            color:  #000000;\n",
       "        }    #T_70382c32_2e7d_11eb_818f_bc542fc4f43brow5_col1 {\n",
       "            background-color:  #f5eef6;\n",
       "            color:  #000000;\n",
       "        }    #T_70382c32_2e7d_11eb_818f_bc542fc4f43brow5_col2 {\n",
       "            background-color:  #faf3f9;\n",
       "            color:  #000000;\n",
       "        }    #T_70382c32_2e7d_11eb_818f_bc542fc4f43brow6_col0 {\n",
       "            background-color:  #73a9cf;\n",
       "            color:  #000000;\n",
       "        }    #T_70382c32_2e7d_11eb_818f_bc542fc4f43brow6_col1 {\n",
       "            background-color:  #cccfe5;\n",
       "            color:  #000000;\n",
       "        }    #T_70382c32_2e7d_11eb_818f_bc542fc4f43brow6_col2 {\n",
       "            background-color:  #f7f0f7;\n",
       "            color:  #000000;\n",
       "        }    #T_70382c32_2e7d_11eb_818f_bc542fc4f43brow7_col0 {\n",
       "            background-color:  #73a9cf;\n",
       "            color:  #000000;\n",
       "        }    #T_70382c32_2e7d_11eb_818f_bc542fc4f43brow7_col1 {\n",
       "            background-color:  #79abd0;\n",
       "            color:  #000000;\n",
       "        }    #T_70382c32_2e7d_11eb_818f_bc542fc4f43brow7_col2 {\n",
       "            background-color:  #f6eff7;\n",
       "            color:  #000000;\n",
       "        }    #T_70382c32_2e7d_11eb_818f_bc542fc4f43brow8_col0 {\n",
       "            background-color:  #73a9cf;\n",
       "            color:  #000000;\n",
       "        }    #T_70382c32_2e7d_11eb_818f_bc542fc4f43brow8_col1 {\n",
       "            background-color:  #c5cce3;\n",
       "            color:  #000000;\n",
       "        }    #T_70382c32_2e7d_11eb_818f_bc542fc4f43brow8_col2 {\n",
       "            background-color:  #faf2f8;\n",
       "            color:  #000000;\n",
       "        }    #T_70382c32_2e7d_11eb_818f_bc542fc4f43brow9_col0 {\n",
       "            background-color:  #73a9cf;\n",
       "            color:  #000000;\n",
       "        }    #T_70382c32_2e7d_11eb_818f_bc542fc4f43brow9_col1 {\n",
       "            background-color:  #b8c6e0;\n",
       "            color:  #000000;\n",
       "        }    #T_70382c32_2e7d_11eb_818f_bc542fc4f43brow9_col2 {\n",
       "            background-color:  #fcf4fa;\n",
       "            color:  #000000;\n",
       "        }    #T_70382c32_2e7d_11eb_818f_bc542fc4f43brow10_col0 {\n",
       "            background-color:  #73a9cf;\n",
       "            color:  #000000;\n",
       "        }    #T_70382c32_2e7d_11eb_818f_bc542fc4f43brow10_col1 {\n",
       "            background-color:  #4c99c5;\n",
       "            color:  #000000;\n",
       "        }    #T_70382c32_2e7d_11eb_818f_bc542fc4f43brow10_col2 {\n",
       "            background-color:  #fbf4f9;\n",
       "            color:  #000000;\n",
       "        }    #T_70382c32_2e7d_11eb_818f_bc542fc4f43brow11_col0 {\n",
       "            background-color:  #73a9cf;\n",
       "            color:  #000000;\n",
       "        }    #T_70382c32_2e7d_11eb_818f_bc542fc4f43brow11_col1 {\n",
       "            background-color:  #91b5d6;\n",
       "            color:  #000000;\n",
       "        }    #T_70382c32_2e7d_11eb_818f_bc542fc4f43brow11_col2 {\n",
       "            background-color:  #fdf5fa;\n",
       "            color:  #000000;\n",
       "        }    #T_70382c32_2e7d_11eb_818f_bc542fc4f43brow12_col0 {\n",
       "            background-color:  #fff7fb;\n",
       "            color:  #000000;\n",
       "        }    #T_70382c32_2e7d_11eb_818f_bc542fc4f43brow12_col1 {\n",
       "            background-color:  #f7f0f7;\n",
       "            color:  #000000;\n",
       "        }    #T_70382c32_2e7d_11eb_818f_bc542fc4f43brow12_col2 {\n",
       "            background-color:  #e1dfed;\n",
       "            color:  #000000;\n",
       "        }    #T_70382c32_2e7d_11eb_818f_bc542fc4f43brow13_col0 {\n",
       "            background-color:  #73a9cf;\n",
       "            color:  #000000;\n",
       "        }    #T_70382c32_2e7d_11eb_818f_bc542fc4f43brow13_col1 {\n",
       "            background-color:  #cdd0e5;\n",
       "            color:  #000000;\n",
       "        }    #T_70382c32_2e7d_11eb_818f_bc542fc4f43brow13_col2 {\n",
       "            background-color:  #e7e3f0;\n",
       "            color:  #000000;\n",
       "        }    #T_70382c32_2e7d_11eb_818f_bc542fc4f43brow14_col0 {\n",
       "            background-color:  #73a9cf;\n",
       "            color:  #000000;\n",
       "        }    #T_70382c32_2e7d_11eb_818f_bc542fc4f43brow14_col1 {\n",
       "            background-color:  #eae6f1;\n",
       "            color:  #000000;\n",
       "        }    #T_70382c32_2e7d_11eb_818f_bc542fc4f43brow14_col2 {\n",
       "            background-color:  #f0eaf4;\n",
       "            color:  #000000;\n",
       "        }    #T_70382c32_2e7d_11eb_818f_bc542fc4f43brow15_col0 {\n",
       "            background-color:  #73a9cf;\n",
       "            color:  #000000;\n",
       "        }    #T_70382c32_2e7d_11eb_818f_bc542fc4f43brow15_col1 {\n",
       "            background-color:  #dbdaeb;\n",
       "            color:  #000000;\n",
       "        }    #T_70382c32_2e7d_11eb_818f_bc542fc4f43brow15_col2 {\n",
       "            background-color:  #ebe6f2;\n",
       "            color:  #000000;\n",
       "        }    #T_70382c32_2e7d_11eb_818f_bc542fc4f43brow16_col0 {\n",
       "            background-color:  #73a9cf;\n",
       "            color:  #000000;\n",
       "        }    #T_70382c32_2e7d_11eb_818f_bc542fc4f43brow16_col1 {\n",
       "            background-color:  #9cb9d9;\n",
       "            color:  #000000;\n",
       "        }    #T_70382c32_2e7d_11eb_818f_bc542fc4f43brow16_col2 {\n",
       "            background-color:  #e6e2ef;\n",
       "            color:  #000000;\n",
       "        }    #T_70382c32_2e7d_11eb_818f_bc542fc4f43brow17_col0 {\n",
       "            background-color:  #73a9cf;\n",
       "            color:  #000000;\n",
       "        }    #T_70382c32_2e7d_11eb_818f_bc542fc4f43brow17_col1 {\n",
       "            background-color:  #c5cce3;\n",
       "            color:  #000000;\n",
       "        }    #T_70382c32_2e7d_11eb_818f_bc542fc4f43brow17_col2 {\n",
       "            background-color:  #f0eaf4;\n",
       "            color:  #000000;\n",
       "        }    #T_70382c32_2e7d_11eb_818f_bc542fc4f43brow18_col0 {\n",
       "            background-color:  #73a9cf;\n",
       "            color:  #000000;\n",
       "        }    #T_70382c32_2e7d_11eb_818f_bc542fc4f43brow18_col1 {\n",
       "            background-color:  #91b5d6;\n",
       "            color:  #000000;\n",
       "        }    #T_70382c32_2e7d_11eb_818f_bc542fc4f43brow18_col2 {\n",
       "            background-color:  #f4edf6;\n",
       "            color:  #000000;\n",
       "        }    #T_70382c32_2e7d_11eb_818f_bc542fc4f43brow19_col0 {\n",
       "            background-color:  #73a9cf;\n",
       "            color:  #000000;\n",
       "        }    #T_70382c32_2e7d_11eb_818f_bc542fc4f43brow19_col1 {\n",
       "            background-color:  #4094c3;\n",
       "            color:  #000000;\n",
       "        }    #T_70382c32_2e7d_11eb_818f_bc542fc4f43brow19_col2 {\n",
       "            background-color:  #f0eaf4;\n",
       "            color:  #000000;\n",
       "        }    #T_70382c32_2e7d_11eb_818f_bc542fc4f43brow20_col0 {\n",
       "            background-color:  #73a9cf;\n",
       "            color:  #000000;\n",
       "        }    #T_70382c32_2e7d_11eb_818f_bc542fc4f43brow20_col1 {\n",
       "            background-color:  #9cb9d9;\n",
       "            color:  #000000;\n",
       "        }    #T_70382c32_2e7d_11eb_818f_bc542fc4f43brow20_col2 {\n",
       "            background-color:  #f8f1f8;\n",
       "            color:  #000000;\n",
       "        }    #T_70382c32_2e7d_11eb_818f_bc542fc4f43brow21_col0 {\n",
       "            background-color:  #73a9cf;\n",
       "            color:  #000000;\n",
       "        }    #T_70382c32_2e7d_11eb_818f_bc542fc4f43brow21_col1 {\n",
       "            background-color:  #ebe6f2;\n",
       "            color:  #000000;\n",
       "        }    #T_70382c32_2e7d_11eb_818f_bc542fc4f43brow21_col2 {\n",
       "            background-color:  #b9c6e0;\n",
       "            color:  #000000;\n",
       "        }    #T_70382c32_2e7d_11eb_818f_bc542fc4f43brow22_col0 {\n",
       "            background-color:  #73a9cf;\n",
       "            color:  #000000;\n",
       "        }    #T_70382c32_2e7d_11eb_818f_bc542fc4f43brow22_col1 {\n",
       "            background-color:  #b9c6e0;\n",
       "            color:  #000000;\n",
       "        }    #T_70382c32_2e7d_11eb_818f_bc542fc4f43brow22_col2 {\n",
       "            background-color:  #b4c4df;\n",
       "            color:  #000000;\n",
       "        }    #T_70382c32_2e7d_11eb_818f_bc542fc4f43brow23_col0 {\n",
       "            background-color:  #73a9cf;\n",
       "            color:  #000000;\n",
       "        }    #T_70382c32_2e7d_11eb_818f_bc542fc4f43brow23_col1 {\n",
       "            background-color:  #e6e2ef;\n",
       "            color:  #000000;\n",
       "        }    #T_70382c32_2e7d_11eb_818f_bc542fc4f43brow23_col2 {\n",
       "            background-color:  #e3e0ee;\n",
       "            color:  #000000;\n",
       "        }    #T_70382c32_2e7d_11eb_818f_bc542fc4f43brow24_col0 {\n",
       "            background-color:  #73a9cf;\n",
       "            color:  #000000;\n",
       "        }    #T_70382c32_2e7d_11eb_818f_bc542fc4f43brow24_col1 {\n",
       "            background-color:  #d6d6e9;\n",
       "            color:  #000000;\n",
       "        }    #T_70382c32_2e7d_11eb_818f_bc542fc4f43brow24_col2 {\n",
       "            background-color:  #a1bbda;\n",
       "            color:  #000000;\n",
       "        }    #T_70382c32_2e7d_11eb_818f_bc542fc4f43brow25_col0 {\n",
       "            background-color:  #73a9cf;\n",
       "            color:  #000000;\n",
       "        }    #T_70382c32_2e7d_11eb_818f_bc542fc4f43brow25_col1 {\n",
       "            background-color:  #89b1d4;\n",
       "            color:  #000000;\n",
       "        }    #T_70382c32_2e7d_11eb_818f_bc542fc4f43brow25_col2 {\n",
       "            background-color:  #75a9cf;\n",
       "            color:  #000000;\n",
       "        }    #T_70382c32_2e7d_11eb_818f_bc542fc4f43brow26_col0 {\n",
       "            background-color:  #73a9cf;\n",
       "            color:  #000000;\n",
       "        }    #T_70382c32_2e7d_11eb_818f_bc542fc4f43brow26_col1 {\n",
       "            background-color:  #bfc9e1;\n",
       "            color:  #000000;\n",
       "        }    #T_70382c32_2e7d_11eb_818f_bc542fc4f43brow26_col2 {\n",
       "            background-color:  #d2d3e7;\n",
       "            color:  #000000;\n",
       "        }    #T_70382c32_2e7d_11eb_818f_bc542fc4f43brow27_col0 {\n",
       "            background-color:  #73a9cf;\n",
       "            color:  #000000;\n",
       "        }    #T_70382c32_2e7d_11eb_818f_bc542fc4f43brow27_col1 {\n",
       "            background-color:  #9cb9d9;\n",
       "            color:  #000000;\n",
       "        }    #T_70382c32_2e7d_11eb_818f_bc542fc4f43brow27_col2 {\n",
       "            background-color:  #dfddec;\n",
       "            color:  #000000;\n",
       "        }    #T_70382c32_2e7d_11eb_818f_bc542fc4f43brow28_col0 {\n",
       "            background-color:  #73a9cf;\n",
       "            color:  #000000;\n",
       "        }    #T_70382c32_2e7d_11eb_818f_bc542fc4f43brow28_col1 {\n",
       "            background-color:  #348ebf;\n",
       "            color:  #000000;\n",
       "        }    #T_70382c32_2e7d_11eb_818f_bc542fc4f43brow28_col2 {\n",
       "            background-color:  #ced0e6;\n",
       "            color:  #000000;\n",
       "        }    #T_70382c32_2e7d_11eb_818f_bc542fc4f43brow29_col0 {\n",
       "            background-color:  #73a9cf;\n",
       "            color:  #000000;\n",
       "        }    #T_70382c32_2e7d_11eb_818f_bc542fc4f43brow29_col1 {\n",
       "            background-color:  #7eadd1;\n",
       "            color:  #000000;\n",
       "        }    #T_70382c32_2e7d_11eb_818f_bc542fc4f43brow29_col2 {\n",
       "            background-color:  #f1ebf4;\n",
       "            color:  #000000;\n",
       "        }    #T_70382c32_2e7d_11eb_818f_bc542fc4f43brow30_col0 {\n",
       "            background-color:  #73a9cf;\n",
       "            color:  #000000;\n",
       "        }    #T_70382c32_2e7d_11eb_818f_bc542fc4f43brow30_col1 {\n",
       "            background-color:  #e2dfee;\n",
       "            color:  #000000;\n",
       "        }    #T_70382c32_2e7d_11eb_818f_bc542fc4f43brow30_col2 {\n",
       "            background-color:  #a9bfdc;\n",
       "            color:  #000000;\n",
       "        }    #T_70382c32_2e7d_11eb_818f_bc542fc4f43brow31_col0 {\n",
       "            background-color:  #73a9cf;\n",
       "            color:  #000000;\n",
       "        }    #T_70382c32_2e7d_11eb_818f_bc542fc4f43brow31_col1 {\n",
       "            background-color:  #b4c4df;\n",
       "            color:  #000000;\n",
       "        }    #T_70382c32_2e7d_11eb_818f_bc542fc4f43brow31_col2 {\n",
       "            background-color:  #a5bddb;\n",
       "            color:  #000000;\n",
       "        }    #T_70382c32_2e7d_11eb_818f_bc542fc4f43brow32_col0 {\n",
       "            background-color:  #73a9cf;\n",
       "            color:  #000000;\n",
       "        }    #T_70382c32_2e7d_11eb_818f_bc542fc4f43brow32_col1 {\n",
       "            background-color:  #e1dfed;\n",
       "            color:  #000000;\n",
       "        }    #T_70382c32_2e7d_11eb_818f_bc542fc4f43brow32_col2 {\n",
       "            background-color:  #eae6f1;\n",
       "            color:  #000000;\n",
       "        }    #T_70382c32_2e7d_11eb_818f_bc542fc4f43brow33_col0 {\n",
       "            background-color:  #73a9cf;\n",
       "            color:  #000000;\n",
       "        }    #T_70382c32_2e7d_11eb_818f_bc542fc4f43brow33_col1 {\n",
       "            background-color:  #c9cee4;\n",
       "            color:  #000000;\n",
       "        }    #T_70382c32_2e7d_11eb_818f_bc542fc4f43brow33_col2 {\n",
       "            background-color:  #1c7fb8;\n",
       "            color:  #000000;\n",
       "        }    #T_70382c32_2e7d_11eb_818f_bc542fc4f43brow34_col0 {\n",
       "            background-color:  #73a9cf;\n",
       "            color:  #000000;\n",
       "        }    #T_70382c32_2e7d_11eb_818f_bc542fc4f43brow34_col1 {\n",
       "            background-color:  #7bacd1;\n",
       "            color:  #000000;\n",
       "        }    #T_70382c32_2e7d_11eb_818f_bc542fc4f43brow34_col2 {\n",
       "            background-color:  #034973;\n",
       "            color:  #f1f1f1;\n",
       "        }    #T_70382c32_2e7d_11eb_818f_bc542fc4f43brow35_col0 {\n",
       "            background-color:  #73a9cf;\n",
       "            color:  #000000;\n",
       "        }    #T_70382c32_2e7d_11eb_818f_bc542fc4f43brow35_col1 {\n",
       "            background-color:  #b9c6e0;\n",
       "            color:  #000000;\n",
       "        }    #T_70382c32_2e7d_11eb_818f_bc542fc4f43brow35_col2 {\n",
       "            background-color:  #b3c3de;\n",
       "            color:  #000000;\n",
       "        }    #T_70382c32_2e7d_11eb_818f_bc542fc4f43brow36_col0 {\n",
       "            background-color:  #73a9cf;\n",
       "            color:  #000000;\n",
       "        }    #T_70382c32_2e7d_11eb_818f_bc542fc4f43brow36_col1 {\n",
       "            background-color:  #88b1d4;\n",
       "            color:  #000000;\n",
       "        }    #T_70382c32_2e7d_11eb_818f_bc542fc4f43brow36_col2 {\n",
       "            background-color:  #d3d4e7;\n",
       "            color:  #000000;\n",
       "        }    #T_70382c32_2e7d_11eb_818f_bc542fc4f43brow37_col0 {\n",
       "            background-color:  #73a9cf;\n",
       "            color:  #000000;\n",
       "        }    #T_70382c32_2e7d_11eb_818f_bc542fc4f43brow37_col1 {\n",
       "            background-color:  #2383ba;\n",
       "            color:  #000000;\n",
       "        }    #T_70382c32_2e7d_11eb_818f_bc542fc4f43brow37_col2 {\n",
       "            background-color:  #a9bfdc;\n",
       "            color:  #000000;\n",
       "        }    #T_70382c32_2e7d_11eb_818f_bc542fc4f43brow38_col0 {\n",
       "            background-color:  #73a9cf;\n",
       "            color:  #000000;\n",
       "        }    #T_70382c32_2e7d_11eb_818f_bc542fc4f43brow38_col1 {\n",
       "            background-color:  #62a2cb;\n",
       "            color:  #000000;\n",
       "        }    #T_70382c32_2e7d_11eb_818f_bc542fc4f43brow38_col2 {\n",
       "            background-color:  #f0eaf4;\n",
       "            color:  #000000;\n",
       "        }    #T_70382c32_2e7d_11eb_818f_bc542fc4f43brow39_col0 {\n",
       "            background-color:  #73a9cf;\n",
       "            color:  #000000;\n",
       "        }    #T_70382c32_2e7d_11eb_818f_bc542fc4f43brow39_col1 {\n",
       "            background-color:  #e2dfee;\n",
       "            color:  #000000;\n",
       "        }    #T_70382c32_2e7d_11eb_818f_bc542fc4f43brow39_col2 {\n",
       "            background-color:  #c0c9e2;\n",
       "            color:  #000000;\n",
       "        }    #T_70382c32_2e7d_11eb_818f_bc542fc4f43brow40_col0 {\n",
       "            background-color:  #73a9cf;\n",
       "            color:  #000000;\n",
       "        }    #T_70382c32_2e7d_11eb_818f_bc542fc4f43brow40_col1 {\n",
       "            background-color:  #b1c2de;\n",
       "            color:  #000000;\n",
       "        }    #T_70382c32_2e7d_11eb_818f_bc542fc4f43brow40_col2 {\n",
       "            background-color:  #c1cae2;\n",
       "            color:  #000000;\n",
       "        }    #T_70382c32_2e7d_11eb_818f_bc542fc4f43brow41_col0 {\n",
       "            background-color:  #73a9cf;\n",
       "            color:  #000000;\n",
       "        }    #T_70382c32_2e7d_11eb_818f_bc542fc4f43brow41_col1 {\n",
       "            background-color:  #e0deed;\n",
       "            color:  #000000;\n",
       "        }    #T_70382c32_2e7d_11eb_818f_bc542fc4f43brow41_col2 {\n",
       "            background-color:  #f1ebf5;\n",
       "            color:  #000000;\n",
       "        }    #T_70382c32_2e7d_11eb_818f_bc542fc4f43brow42_col0 {\n",
       "            background-color:  #73a9cf;\n",
       "            color:  #000000;\n",
       "        }    #T_70382c32_2e7d_11eb_818f_bc542fc4f43brow42_col1 {\n",
       "            background-color:  #bcc7e1;\n",
       "            color:  #000000;\n",
       "        }    #T_70382c32_2e7d_11eb_818f_bc542fc4f43brow42_col2 {\n",
       "            background-color:  #157ab5;\n",
       "            color:  #000000;\n",
       "        }    #T_70382c32_2e7d_11eb_818f_bc542fc4f43brow43_col0 {\n",
       "            background-color:  #73a9cf;\n",
       "            color:  #000000;\n",
       "        }    #T_70382c32_2e7d_11eb_818f_bc542fc4f43brow43_col1 {\n",
       "            background-color:  #63a2cb;\n",
       "            color:  #000000;\n",
       "        }    #T_70382c32_2e7d_11eb_818f_bc542fc4f43brow43_col2 {\n",
       "            background-color:  #023858;\n",
       "            color:  #f1f1f1;\n",
       "        }    #T_70382c32_2e7d_11eb_818f_bc542fc4f43brow44_col0 {\n",
       "            background-color:  #73a9cf;\n",
       "            color:  #000000;\n",
       "        }    #T_70382c32_2e7d_11eb_818f_bc542fc4f43brow44_col1 {\n",
       "            background-color:  #afc1dd;\n",
       "            color:  #000000;\n",
       "        }    #T_70382c32_2e7d_11eb_818f_bc542fc4f43brow44_col2 {\n",
       "            background-color:  #cacee5;\n",
       "            color:  #000000;\n",
       "        }    #T_70382c32_2e7d_11eb_818f_bc542fc4f43brow45_col0 {\n",
       "            background-color:  #73a9cf;\n",
       "            color:  #000000;\n",
       "        }    #T_70382c32_2e7d_11eb_818f_bc542fc4f43brow45_col1 {\n",
       "            background-color:  #6da6cd;\n",
       "            color:  #000000;\n",
       "        }    #T_70382c32_2e7d_11eb_818f_bc542fc4f43brow45_col2 {\n",
       "            background-color:  #dedcec;\n",
       "            color:  #000000;\n",
       "        }    #T_70382c32_2e7d_11eb_818f_bc542fc4f43brow46_col0 {\n",
       "            background-color:  #73a9cf;\n",
       "            color:  #000000;\n",
       "        }    #T_70382c32_2e7d_11eb_818f_bc542fc4f43brow46_col1 {\n",
       "            background-color:  #2685bb;\n",
       "            color:  #000000;\n",
       "        }    #T_70382c32_2e7d_11eb_818f_bc542fc4f43brow46_col2 {\n",
       "            background-color:  #c4cbe3;\n",
       "            color:  #000000;\n",
       "        }    #T_70382c32_2e7d_11eb_818f_bc542fc4f43brow47_col0 {\n",
       "            background-color:  #73a9cf;\n",
       "            color:  #000000;\n",
       "        }    #T_70382c32_2e7d_11eb_818f_bc542fc4f43brow47_col1 {\n",
       "            background-color:  #73a9cf;\n",
       "            color:  #000000;\n",
       "        }    #T_70382c32_2e7d_11eb_818f_bc542fc4f43brow47_col2 {\n",
       "            background-color:  #f5eff6;\n",
       "            color:  #000000;\n",
       "        }    #T_70382c32_2e7d_11eb_818f_bc542fc4f43brow48_col0 {\n",
       "            background-color:  #73a9cf;\n",
       "            color:  #000000;\n",
       "        }    #T_70382c32_2e7d_11eb_818f_bc542fc4f43brow48_col1 {\n",
       "            background-color:  #d8d7e9;\n",
       "            color:  #000000;\n",
       "        }    #T_70382c32_2e7d_11eb_818f_bc542fc4f43brow48_col2 {\n",
       "            background-color:  #d4d4e8;\n",
       "            color:  #000000;\n",
       "        }    #T_70382c32_2e7d_11eb_818f_bc542fc4f43brow49_col0 {\n",
       "            background-color:  #73a9cf;\n",
       "            color:  #000000;\n",
       "        }    #T_70382c32_2e7d_11eb_818f_bc542fc4f43brow49_col1 {\n",
       "            background-color:  #9fbad9;\n",
       "            color:  #000000;\n",
       "        }    #T_70382c32_2e7d_11eb_818f_bc542fc4f43brow49_col2 {\n",
       "            background-color:  #d1d2e6;\n",
       "            color:  #000000;\n",
       "        }    #T_70382c32_2e7d_11eb_818f_bc542fc4f43brow50_col0 {\n",
       "            background-color:  #73a9cf;\n",
       "            color:  #000000;\n",
       "        }    #T_70382c32_2e7d_11eb_818f_bc542fc4f43brow50_col1 {\n",
       "            background-color:  #e4e1ef;\n",
       "            color:  #000000;\n",
       "        }    #T_70382c32_2e7d_11eb_818f_bc542fc4f43brow50_col2 {\n",
       "            background-color:  #f4edf6;\n",
       "            color:  #000000;\n",
       "        }    #T_70382c32_2e7d_11eb_818f_bc542fc4f43brow51_col0 {\n",
       "            background-color:  #73a9cf;\n",
       "            color:  #000000;\n",
       "        }    #T_70382c32_2e7d_11eb_818f_bc542fc4f43brow51_col1 {\n",
       "            background-color:  #acc0dd;\n",
       "            color:  #000000;\n",
       "        }    #T_70382c32_2e7d_11eb_818f_bc542fc4f43brow51_col2 {\n",
       "            background-color:  #6fa7ce;\n",
       "            color:  #000000;\n",
       "        }    #T_70382c32_2e7d_11eb_818f_bc542fc4f43brow52_col0 {\n",
       "            background-color:  #73a9cf;\n",
       "            color:  #000000;\n",
       "        }    #T_70382c32_2e7d_11eb_818f_bc542fc4f43brow52_col1 {\n",
       "            background-color:  #5c9fc9;\n",
       "            color:  #000000;\n",
       "        }    #T_70382c32_2e7d_11eb_818f_bc542fc4f43brow52_col2 {\n",
       "            background-color:  #056fae;\n",
       "            color:  #f1f1f1;\n",
       "        }    #T_70382c32_2e7d_11eb_818f_bc542fc4f43brow53_col0 {\n",
       "            background-color:  #73a9cf;\n",
       "            color:  #000000;\n",
       "        }    #T_70382c32_2e7d_11eb_818f_bc542fc4f43brow53_col1 {\n",
       "            background-color:  #a2bcda;\n",
       "            color:  #000000;\n",
       "        }    #T_70382c32_2e7d_11eb_818f_bc542fc4f43brow53_col2 {\n",
       "            background-color:  #e0dded;\n",
       "            color:  #000000;\n",
       "        }    #T_70382c32_2e7d_11eb_818f_bc542fc4f43brow54_col0 {\n",
       "            background-color:  #73a9cf;\n",
       "            color:  #000000;\n",
       "        }    #T_70382c32_2e7d_11eb_818f_bc542fc4f43brow54_col1 {\n",
       "            background-color:  #79abd0;\n",
       "            color:  #000000;\n",
       "        }    #T_70382c32_2e7d_11eb_818f_bc542fc4f43brow54_col2 {\n",
       "            background-color:  #ece7f2;\n",
       "            color:  #000000;\n",
       "        }    #T_70382c32_2e7d_11eb_818f_bc542fc4f43brow55_col0 {\n",
       "            background-color:  #023858;\n",
       "            color:  #f1f1f1;\n",
       "        }    #T_70382c32_2e7d_11eb_818f_bc542fc4f43brow55_col1 {\n",
       "            background-color:  #157ab5;\n",
       "            color:  #000000;\n",
       "        }    #T_70382c32_2e7d_11eb_818f_bc542fc4f43brow55_col2 {\n",
       "            background-color:  #dbdaeb;\n",
       "            color:  #000000;\n",
       "        }    #T_70382c32_2e7d_11eb_818f_bc542fc4f43brow56_col0 {\n",
       "            background-color:  #73a9cf;\n",
       "            color:  #000000;\n",
       "        }    #T_70382c32_2e7d_11eb_818f_bc542fc4f43brow56_col1 {\n",
       "            background-color:  #4c99c5;\n",
       "            color:  #000000;\n",
       "        }    #T_70382c32_2e7d_11eb_818f_bc542fc4f43brow56_col2 {\n",
       "            background-color:  #f9f2f8;\n",
       "            color:  #000000;\n",
       "        }    #T_70382c32_2e7d_11eb_818f_bc542fc4f43brow57_col0 {\n",
       "            background-color:  #73a9cf;\n",
       "            color:  #000000;\n",
       "        }    #T_70382c32_2e7d_11eb_818f_bc542fc4f43brow57_col1 {\n",
       "            background-color:  #dddbec;\n",
       "            color:  #000000;\n",
       "        }    #T_70382c32_2e7d_11eb_818f_bc542fc4f43brow57_col2 {\n",
       "            background-color:  #e2dfee;\n",
       "            color:  #000000;\n",
       "        }    #T_70382c32_2e7d_11eb_818f_bc542fc4f43brow58_col0 {\n",
       "            background-color:  #73a9cf;\n",
       "            color:  #000000;\n",
       "        }    #T_70382c32_2e7d_11eb_818f_bc542fc4f43brow58_col1 {\n",
       "            background-color:  #acc0dd;\n",
       "            color:  #000000;\n",
       "        }    #T_70382c32_2e7d_11eb_818f_bc542fc4f43brow58_col2 {\n",
       "            background-color:  #d9d8ea;\n",
       "            color:  #000000;\n",
       "        }    #T_70382c32_2e7d_11eb_818f_bc542fc4f43brow59_col0 {\n",
       "            background-color:  #73a9cf;\n",
       "            color:  #000000;\n",
       "        }    #T_70382c32_2e7d_11eb_818f_bc542fc4f43brow59_col1 {\n",
       "            background-color:  #dedcec;\n",
       "            color:  #000000;\n",
       "        }    #T_70382c32_2e7d_11eb_818f_bc542fc4f43brow59_col2 {\n",
       "            background-color:  #f7f0f7;\n",
       "            color:  #000000;\n",
       "        }    #T_70382c32_2e7d_11eb_818f_bc542fc4f43brow60_col0 {\n",
       "            background-color:  #73a9cf;\n",
       "            color:  #000000;\n",
       "        }    #T_70382c32_2e7d_11eb_818f_bc542fc4f43brow60_col1 {\n",
       "            background-color:  #99b8d8;\n",
       "            color:  #000000;\n",
       "        }    #T_70382c32_2e7d_11eb_818f_bc542fc4f43brow60_col2 {\n",
       "            background-color:  #b7c5df;\n",
       "            color:  #000000;\n",
       "        }    #T_70382c32_2e7d_11eb_818f_bc542fc4f43brow61_col0 {\n",
       "            background-color:  #73a9cf;\n",
       "            color:  #000000;\n",
       "        }    #T_70382c32_2e7d_11eb_818f_bc542fc4f43brow61_col1 {\n",
       "            background-color:  #509ac6;\n",
       "            color:  #000000;\n",
       "        }    #T_70382c32_2e7d_11eb_818f_bc542fc4f43brow61_col2 {\n",
       "            background-color:  #6da6cd;\n",
       "            color:  #000000;\n",
       "        }    #T_70382c32_2e7d_11eb_818f_bc542fc4f43brow62_col0 {\n",
       "            background-color:  #73a9cf;\n",
       "            color:  #000000;\n",
       "        }    #T_70382c32_2e7d_11eb_818f_bc542fc4f43brow62_col1 {\n",
       "            background-color:  #83afd3;\n",
       "            color:  #000000;\n",
       "        }    #T_70382c32_2e7d_11eb_818f_bc542fc4f43brow62_col2 {\n",
       "            background-color:  #eee8f3;\n",
       "            color:  #000000;\n",
       "        }    #T_70382c32_2e7d_11eb_818f_bc542fc4f43brow63_col0 {\n",
       "            background-color:  #73a9cf;\n",
       "            color:  #000000;\n",
       "        }    #T_70382c32_2e7d_11eb_818f_bc542fc4f43brow63_col1 {\n",
       "            background-color:  #529bc7;\n",
       "            color:  #000000;\n",
       "        }    #T_70382c32_2e7d_11eb_818f_bc542fc4f43brow63_col2 {\n",
       "            background-color:  #ece7f2;\n",
       "            color:  #000000;\n",
       "        }    #T_70382c32_2e7d_11eb_818f_bc542fc4f43brow64_col0 {\n",
       "            background-color:  #023858;\n",
       "            color:  #f1f1f1;\n",
       "        }    #T_70382c32_2e7d_11eb_818f_bc542fc4f43brow64_col1 {\n",
       "            background-color:  #1077b4;\n",
       "            color:  #f1f1f1;\n",
       "        }    #T_70382c32_2e7d_11eb_818f_bc542fc4f43brow64_col2 {\n",
       "            background-color:  #dedcec;\n",
       "            color:  #000000;\n",
       "        }    #T_70382c32_2e7d_11eb_818f_bc542fc4f43brow65_col0 {\n",
       "            background-color:  #73a9cf;\n",
       "            color:  #000000;\n",
       "        }    #T_70382c32_2e7d_11eb_818f_bc542fc4f43brow65_col1 {\n",
       "            background-color:  #2d8abd;\n",
       "            color:  #000000;\n",
       "        }    #T_70382c32_2e7d_11eb_818f_bc542fc4f43brow65_col2 {\n",
       "            background-color:  #faf2f8;\n",
       "            color:  #000000;\n",
       "        }    #T_70382c32_2e7d_11eb_818f_bc542fc4f43brow66_col0 {\n",
       "            background-color:  #73a9cf;\n",
       "            color:  #000000;\n",
       "        }    #T_70382c32_2e7d_11eb_818f_bc542fc4f43brow66_col1 {\n",
       "            background-color:  #c2cbe2;\n",
       "            color:  #000000;\n",
       "        }    #T_70382c32_2e7d_11eb_818f_bc542fc4f43brow66_col2 {\n",
       "            background-color:  #dad9ea;\n",
       "            color:  #000000;\n",
       "        }    #T_70382c32_2e7d_11eb_818f_bc542fc4f43brow67_col0 {\n",
       "            background-color:  #73a9cf;\n",
       "            color:  #000000;\n",
       "        }    #T_70382c32_2e7d_11eb_818f_bc542fc4f43brow67_col1 {\n",
       "            background-color:  #97b7d7;\n",
       "            color:  #000000;\n",
       "        }    #T_70382c32_2e7d_11eb_818f_bc542fc4f43brow67_col2 {\n",
       "            background-color:  #d0d1e6;\n",
       "            color:  #000000;\n",
       "        }    #T_70382c32_2e7d_11eb_818f_bc542fc4f43brow68_col0 {\n",
       "            background-color:  #73a9cf;\n",
       "            color:  #000000;\n",
       "        }    #T_70382c32_2e7d_11eb_818f_bc542fc4f43brow68_col1 {\n",
       "            background-color:  #ced0e6;\n",
       "            color:  #000000;\n",
       "        }    #T_70382c32_2e7d_11eb_818f_bc542fc4f43brow68_col2 {\n",
       "            background-color:  #f7f0f7;\n",
       "            color:  #000000;\n",
       "        }    #T_70382c32_2e7d_11eb_818f_bc542fc4f43brow69_col0 {\n",
       "            background-color:  #73a9cf;\n",
       "            color:  #000000;\n",
       "        }    #T_70382c32_2e7d_11eb_818f_bc542fc4f43brow69_col1 {\n",
       "            background-color:  #83afd3;\n",
       "            color:  #000000;\n",
       "        }    #T_70382c32_2e7d_11eb_818f_bc542fc4f43brow69_col2 {\n",
       "            background-color:  #abbfdc;\n",
       "            color:  #000000;\n",
       "        }    #T_70382c32_2e7d_11eb_818f_bc542fc4f43brow70_col0 {\n",
       "            background-color:  #73a9cf;\n",
       "            color:  #000000;\n",
       "        }    #T_70382c32_2e7d_11eb_818f_bc542fc4f43brow70_col1 {\n",
       "            background-color:  #4697c4;\n",
       "            color:  #000000;\n",
       "        }    #T_70382c32_2e7d_11eb_818f_bc542fc4f43brow70_col2 {\n",
       "            background-color:  #69a5cc;\n",
       "            color:  #000000;\n",
       "        }    #T_70382c32_2e7d_11eb_818f_bc542fc4f43brow71_col0 {\n",
       "            background-color:  #73a9cf;\n",
       "            color:  #000000;\n",
       "        }    #T_70382c32_2e7d_11eb_818f_bc542fc4f43brow71_col1 {\n",
       "            background-color:  #8bb2d4;\n",
       "            color:  #000000;\n",
       "        }    #T_70382c32_2e7d_11eb_818f_bc542fc4f43brow71_col2 {\n",
       "            background-color:  #eee8f3;\n",
       "            color:  #000000;\n",
       "        }    #T_70382c32_2e7d_11eb_818f_bc542fc4f43brow72_col0 {\n",
       "            background-color:  #023858;\n",
       "            color:  #f1f1f1;\n",
       "        }    #T_70382c32_2e7d_11eb_818f_bc542fc4f43brow72_col1 {\n",
       "            background-color:  #0568a3;\n",
       "            color:  #f1f1f1;\n",
       "        }    #T_70382c32_2e7d_11eb_818f_bc542fc4f43brow72_col2 {\n",
       "            background-color:  #f9f2f8;\n",
       "            color:  #000000;\n",
       "        }    #T_70382c32_2e7d_11eb_818f_bc542fc4f43brow73_col0 {\n",
       "            background-color:  #023858;\n",
       "            color:  #f1f1f1;\n",
       "        }    #T_70382c32_2e7d_11eb_818f_bc542fc4f43brow73_col1 {\n",
       "            background-color:  #046096;\n",
       "            color:  #f1f1f1;\n",
       "        }    #T_70382c32_2e7d_11eb_818f_bc542fc4f43brow73_col2 {\n",
       "            background-color:  #f8f1f8;\n",
       "            color:  #000000;\n",
       "        }    #T_70382c32_2e7d_11eb_818f_bc542fc4f43brow74_col0 {\n",
       "            background-color:  #023858;\n",
       "            color:  #f1f1f1;\n",
       "        }    #T_70382c32_2e7d_11eb_818f_bc542fc4f43brow74_col1 {\n",
       "            background-color:  #0872b1;\n",
       "            color:  #f1f1f1;\n",
       "        }    #T_70382c32_2e7d_11eb_818f_bc542fc4f43brow74_col2 {\n",
       "            background-color:  #fef6fb;\n",
       "            color:  #000000;\n",
       "        }    #T_70382c32_2e7d_11eb_818f_bc542fc4f43brow75_col0 {\n",
       "            background-color:  #73a9cf;\n",
       "            color:  #000000;\n",
       "        }    #T_70382c32_2e7d_11eb_818f_bc542fc4f43brow75_col1 {\n",
       "            background-color:  #83afd3;\n",
       "            color:  #000000;\n",
       "        }    #T_70382c32_2e7d_11eb_818f_bc542fc4f43brow75_col2 {\n",
       "            background-color:  #f8f1f8;\n",
       "            color:  #000000;\n",
       "        }    #T_70382c32_2e7d_11eb_818f_bc542fc4f43brow76_col0 {\n",
       "            background-color:  #73a9cf;\n",
       "            color:  #000000;\n",
       "        }    #T_70382c32_2e7d_11eb_818f_bc542fc4f43brow76_col1 {\n",
       "            background-color:  #67a4cc;\n",
       "            color:  #000000;\n",
       "        }    #T_70382c32_2e7d_11eb_818f_bc542fc4f43brow76_col2 {\n",
       "            background-color:  #f9f2f8;\n",
       "            color:  #000000;\n",
       "        }    #T_70382c32_2e7d_11eb_818f_bc542fc4f43brow77_col0 {\n",
       "            background-color:  #73a9cf;\n",
       "            color:  #000000;\n",
       "        }    #T_70382c32_2e7d_11eb_818f_bc542fc4f43brow77_col1 {\n",
       "            background-color:  #7dacd1;\n",
       "            color:  #000000;\n",
       "        }    #T_70382c32_2e7d_11eb_818f_bc542fc4f43brow77_col2 {\n",
       "            background-color:  #fef6fb;\n",
       "            color:  #000000;\n",
       "        }    #T_70382c32_2e7d_11eb_818f_bc542fc4f43brow78_col0 {\n",
       "            background-color:  #023858;\n",
       "            color:  #f1f1f1;\n",
       "        }    #T_70382c32_2e7d_11eb_818f_bc542fc4f43brow78_col1 {\n",
       "            background-color:  #2484ba;\n",
       "            color:  #000000;\n",
       "        }    #T_70382c32_2e7d_11eb_818f_bc542fc4f43brow78_col2 {\n",
       "            background-color:  #f1ebf5;\n",
       "            color:  #000000;\n",
       "        }    #T_70382c32_2e7d_11eb_818f_bc542fc4f43brow79_col0 {\n",
       "            background-color:  #023858;\n",
       "            color:  #f1f1f1;\n",
       "        }    #T_70382c32_2e7d_11eb_818f_bc542fc4f43brow79_col1 {\n",
       "            background-color:  #1278b4;\n",
       "            color:  #f1f1f1;\n",
       "        }    #T_70382c32_2e7d_11eb_818f_bc542fc4f43brow79_col2 {\n",
       "            background-color:  #f0eaf4;\n",
       "            color:  #000000;\n",
       "        }    #T_70382c32_2e7d_11eb_818f_bc542fc4f43brow80_col0 {\n",
       "            background-color:  #73a9cf;\n",
       "            color:  #000000;\n",
       "        }    #T_70382c32_2e7d_11eb_818f_bc542fc4f43brow80_col1 {\n",
       "            background-color:  #3f93c2;\n",
       "            color:  #000000;\n",
       "        }    #T_70382c32_2e7d_11eb_818f_bc542fc4f43brow80_col2 {\n",
       "            background-color:  #fdf5fa;\n",
       "            color:  #000000;\n",
       "        }    #T_70382c32_2e7d_11eb_818f_bc542fc4f43brow81_col0 {\n",
       "            background-color:  #023858;\n",
       "            color:  #f1f1f1;\n",
       "        }    #T_70382c32_2e7d_11eb_818f_bc542fc4f43brow81_col1 {\n",
       "            background-color:  #0569a4;\n",
       "            color:  #f1f1f1;\n",
       "        }    #T_70382c32_2e7d_11eb_818f_bc542fc4f43brow81_col2 {\n",
       "            background-color:  #fef6fb;\n",
       "            color:  #000000;\n",
       "        }    #T_70382c32_2e7d_11eb_818f_bc542fc4f43brow82_col0 {\n",
       "            background-color:  #023858;\n",
       "            color:  #f1f1f1;\n",
       "        }    #T_70382c32_2e7d_11eb_818f_bc542fc4f43brow82_col1 {\n",
       "            background-color:  #046299;\n",
       "            color:  #f1f1f1;\n",
       "        }    #T_70382c32_2e7d_11eb_818f_bc542fc4f43brow82_col2 {\n",
       "            background-color:  #fef6fb;\n",
       "            color:  #000000;\n",
       "        }    #T_70382c32_2e7d_11eb_818f_bc542fc4f43brow83_col0 {\n",
       "            background-color:  #023858;\n",
       "            color:  #f1f1f1;\n",
       "        }    #T_70382c32_2e7d_11eb_818f_bc542fc4f43brow83_col1 {\n",
       "            background-color:  #023858;\n",
       "            color:  #f1f1f1;\n",
       "        }    #T_70382c32_2e7d_11eb_818f_bc542fc4f43brow83_col2 {\n",
       "            background-color:  #fff7fb;\n",
       "            color:  #000000;\n",
       "        }    #T_70382c32_2e7d_11eb_818f_bc542fc4f43brow84_col0 {\n",
       "            background-color:  #73a9cf;\n",
       "            color:  #000000;\n",
       "        }    #T_70382c32_2e7d_11eb_818f_bc542fc4f43brow84_col1 {\n",
       "            background-color:  #a7bddb;\n",
       "            color:  #000000;\n",
       "        }    #T_70382c32_2e7d_11eb_818f_bc542fc4f43brow84_col2 {\n",
       "            background-color:  #fef6fb;\n",
       "            color:  #000000;\n",
       "        }    #T_70382c32_2e7d_11eb_818f_bc542fc4f43brow85_col0 {\n",
       "            background-color:  #73a9cf;\n",
       "            color:  #000000;\n",
       "        }    #T_70382c32_2e7d_11eb_818f_bc542fc4f43brow85_col1 {\n",
       "            background-color:  #81aed2;\n",
       "            color:  #000000;\n",
       "        }    #T_70382c32_2e7d_11eb_818f_bc542fc4f43brow85_col2 {\n",
       "            background-color:  #fef6fb;\n",
       "            color:  #000000;\n",
       "        }    #T_70382c32_2e7d_11eb_818f_bc542fc4f43brow86_col0 {\n",
       "            background-color:  #023858;\n",
       "            color:  #f1f1f1;\n",
       "        }    #T_70382c32_2e7d_11eb_818f_bc542fc4f43brow86_col1 {\n",
       "            background-color:  #529bc7;\n",
       "            color:  #000000;\n",
       "        }    #T_70382c32_2e7d_11eb_818f_bc542fc4f43brow86_col2 {\n",
       "            background-color:  #fff7fb;\n",
       "            color:  #000000;\n",
       "        }    #T_70382c32_2e7d_11eb_818f_bc542fc4f43brow87_col0 {\n",
       "            background-color:  #023858;\n",
       "            color:  #f1f1f1;\n",
       "        }    #T_70382c32_2e7d_11eb_818f_bc542fc4f43brow87_col1 {\n",
       "            background-color:  #056fae;\n",
       "            color:  #f1f1f1;\n",
       "        }    #T_70382c32_2e7d_11eb_818f_bc542fc4f43brow87_col2 {\n",
       "            background-color:  #fdf5fa;\n",
       "            color:  #000000;\n",
       "        }    #T_70382c32_2e7d_11eb_818f_bc542fc4f43brow88_col0 {\n",
       "            background-color:  #73a9cf;\n",
       "            color:  #000000;\n",
       "        }    #T_70382c32_2e7d_11eb_818f_bc542fc4f43brow88_col1 {\n",
       "            background-color:  #5ea0ca;\n",
       "            color:  #000000;\n",
       "        }    #T_70382c32_2e7d_11eb_818f_bc542fc4f43brow88_col2 {\n",
       "            background-color:  #fdf5fa;\n",
       "            color:  #000000;\n",
       "        }    #T_70382c32_2e7d_11eb_818f_bc542fc4f43brow89_col0 {\n",
       "            background-color:  #73a9cf;\n",
       "            color:  #000000;\n",
       "        }    #T_70382c32_2e7d_11eb_818f_bc542fc4f43brow89_col1 {\n",
       "            background-color:  #8fb4d6;\n",
       "            color:  #000000;\n",
       "        }    #T_70382c32_2e7d_11eb_818f_bc542fc4f43brow89_col2 {\n",
       "            background-color:  #fff7fb;\n",
       "            color:  #000000;\n",
       "        }</style><table id=\"T_70382c32_2e7d_11eb_818f_bc542fc4f43b\" ><thead>    <tr>        <th class=\"blank\" ></th>        <th class=\"blank\" ></th>        <th class=\"blank level0\" ></th>        <th class=\"col_heading level0 col0\" colspan=3>stay</th>    </tr>    <tr>        <th class=\"blank\" ></th>        <th class=\"blank\" ></th>        <th class=\"blank level1\" ></th>        <th class=\"col_heading level1 col0\" >median</th>        <th class=\"col_heading level1 col1\" >mean</th>        <th class=\"col_heading level1 col2\" >count</th>    </tr>    <tr>        <th class=\"index_name level0\" >age</th>        <th class=\"index_name level1\" >severity</th>        <th class=\"index_name level2\" >admission_type</th>        <th class=\"blank\" ></th>        <th class=\"blank\" ></th>        <th class=\"blank\" ></th>    </tr></thead><tbody>\n",
       "                <tr>\n",
       "                        <th id=\"T_70382c32_2e7d_11eb_818f_bc542fc4f43blevel0_row0\" class=\"row_heading level0 row0\" rowspan=9>5</th>\n",
       "                        <th id=\"T_70382c32_2e7d_11eb_818f_bc542fc4f43blevel1_row0\" class=\"row_heading level1 row0\" rowspan=3>Extreme</th>\n",
       "                        <th id=\"T_70382c32_2e7d_11eb_818f_bc542fc4f43blevel2_row0\" class=\"row_heading level2 row0\" >Emergency</th>\n",
       "                        <td id=\"T_70382c32_2e7d_11eb_818f_bc542fc4f43brow0_col0\" class=\"data row0 col0\" >25.000000</td>\n",
       "                        <td id=\"T_70382c32_2e7d_11eb_818f_bc542fc4f43brow0_col1\" class=\"data row0 col1\" >29.848485</td>\n",
       "                        <td id=\"T_70382c32_2e7d_11eb_818f_bc542fc4f43brow0_col2\" class=\"data row0 col2\" >198</td>\n",
       "            </tr>\n",
       "            <tr>\n",
       "                                        <th id=\"T_70382c32_2e7d_11eb_818f_bc542fc4f43blevel2_row1\" class=\"row_heading level2 row1\" >Trauma</th>\n",
       "                        <td id=\"T_70382c32_2e7d_11eb_818f_bc542fc4f43brow1_col0\" class=\"data row1 col0\" >25.000000</td>\n",
       "                        <td id=\"T_70382c32_2e7d_11eb_818f_bc542fc4f43brow1_col1\" class=\"data row1 col1\" >34.774920</td>\n",
       "                        <td id=\"T_70382c32_2e7d_11eb_818f_bc542fc4f43brow1_col2\" class=\"data row1 col2\" >311</td>\n",
       "            </tr>\n",
       "            <tr>\n",
       "                                        <th id=\"T_70382c32_2e7d_11eb_818f_bc542fc4f43blevel2_row2\" class=\"row_heading level2 row2\" >Urgent</th>\n",
       "                        <td id=\"T_70382c32_2e7d_11eb_818f_bc542fc4f43brow2_col0\" class=\"data row2 col0\" >25.000000</td>\n",
       "                        <td id=\"T_70382c32_2e7d_11eb_818f_bc542fc4f43brow2_col1\" class=\"data row2 col1\" >32.500000</td>\n",
       "                        <td id=\"T_70382c32_2e7d_11eb_818f_bc542fc4f43brow2_col2\" class=\"data row2 col2\" >104</td>\n",
       "            </tr>\n",
       "            <tr>\n",
       "                                <th id=\"T_70382c32_2e7d_11eb_818f_bc542fc4f43blevel1_row3\" class=\"row_heading level1 row3\" rowspan=3>Minor</th>\n",
       "                        <th id=\"T_70382c32_2e7d_11eb_818f_bc542fc4f43blevel2_row3\" class=\"row_heading level2 row3\" >Emergency</th>\n",
       "                        <td id=\"T_70382c32_2e7d_11eb_818f_bc542fc4f43brow3_col0\" class=\"data row3 col0\" >15.000000</td>\n",
       "                        <td id=\"T_70382c32_2e7d_11eb_818f_bc542fc4f43brow3_col1\" class=\"data row3 col1\" >22.459716</td>\n",
       "                        <td id=\"T_70382c32_2e7d_11eb_818f_bc542fc4f43brow3_col2\" class=\"data row3 col2\" >1055</td>\n",
       "            </tr>\n",
       "            <tr>\n",
       "                                        <th id=\"T_70382c32_2e7d_11eb_818f_bc542fc4f43blevel2_row4\" class=\"row_heading level2 row4\" >Trauma</th>\n",
       "                        <td id=\"T_70382c32_2e7d_11eb_818f_bc542fc4f43brow4_col0\" class=\"data row4 col0\" >25.000000</td>\n",
       "                        <td id=\"T_70382c32_2e7d_11eb_818f_bc542fc4f43brow4_col1\" class=\"data row4 col1\" >26.327543</td>\n",
       "                        <td id=\"T_70382c32_2e7d_11eb_818f_bc542fc4f43brow4_col2\" class=\"data row4 col2\" >806</td>\n",
       "            </tr>\n",
       "            <tr>\n",
       "                                        <th id=\"T_70382c32_2e7d_11eb_818f_bc542fc4f43blevel2_row5\" class=\"row_heading level2 row5\" >Urgent</th>\n",
       "                        <td id=\"T_70382c32_2e7d_11eb_818f_bc542fc4f43brow5_col0\" class=\"data row5 col0\" >15.000000</td>\n",
       "                        <td id=\"T_70382c32_2e7d_11eb_818f_bc542fc4f43brow5_col1\" class=\"data row5 col1\" >23.767123</td>\n",
       "                        <td id=\"T_70382c32_2e7d_11eb_818f_bc542fc4f43brow5_col2\" class=\"data row5 col2\" >657</td>\n",
       "            </tr>\n",
       "            <tr>\n",
       "                                <th id=\"T_70382c32_2e7d_11eb_818f_bc542fc4f43blevel1_row6\" class=\"row_heading level1 row6\" rowspan=3>Moderate</th>\n",
       "                        <th id=\"T_70382c32_2e7d_11eb_818f_bc542fc4f43blevel2_row6\" class=\"row_heading level2 row6\" >Emergency</th>\n",
       "                        <td id=\"T_70382c32_2e7d_11eb_818f_bc542fc4f43brow6_col0\" class=\"data row6 col0\" >25.000000</td>\n",
       "                        <td id=\"T_70382c32_2e7d_11eb_818f_bc542fc4f43brow6_col1\" class=\"data row6 col1\" >27.593607</td>\n",
       "                        <td id=\"T_70382c32_2e7d_11eb_818f_bc542fc4f43brow6_col2\" class=\"data row6 col2\" >1095</td>\n",
       "            </tr>\n",
       "            <tr>\n",
       "                                        <th id=\"T_70382c32_2e7d_11eb_818f_bc542fc4f43blevel2_row7\" class=\"row_heading level2 row7\" >Trauma</th>\n",
       "                        <td id=\"T_70382c32_2e7d_11eb_818f_bc542fc4f43brow7_col0\" class=\"data row7 col0\" >25.000000</td>\n",
       "                        <td id=\"T_70382c32_2e7d_11eb_818f_bc542fc4f43brow7_col1\" class=\"data row7 col1\" >31.970213</td>\n",
       "                        <td id=\"T_70382c32_2e7d_11eb_818f_bc542fc4f43brow7_col2\" class=\"data row7 col2\" >1175</td>\n",
       "            </tr>\n",
       "            <tr>\n",
       "                                        <th id=\"T_70382c32_2e7d_11eb_818f_bc542fc4f43blevel2_row8\" class=\"row_heading level2 row8\" >Urgent</th>\n",
       "                        <td id=\"T_70382c32_2e7d_11eb_818f_bc542fc4f43brow8_col0\" class=\"data row8 col0\" >25.000000</td>\n",
       "                        <td id=\"T_70382c32_2e7d_11eb_818f_bc542fc4f43brow8_col1\" class=\"data row8 col1\" >28.014805</td>\n",
       "                        <td id=\"T_70382c32_2e7d_11eb_818f_bc542fc4f43brow8_col2\" class=\"data row8 col2\" >743</td>\n",
       "            </tr>\n",
       "            <tr>\n",
       "                        <th id=\"T_70382c32_2e7d_11eb_818f_bc542fc4f43blevel0_row9\" class=\"row_heading level0 row9\" rowspan=9>15</th>\n",
       "                        <th id=\"T_70382c32_2e7d_11eb_818f_bc542fc4f43blevel1_row9\" class=\"row_heading level1 row9\" rowspan=3>Extreme</th>\n",
       "                        <th id=\"T_70382c32_2e7d_11eb_818f_bc542fc4f43blevel2_row9\" class=\"row_heading level2 row9\" >Emergency</th>\n",
       "                        <td id=\"T_70382c32_2e7d_11eb_818f_bc542fc4f43brow9_col0\" class=\"data row9 col0\" >25.000000</td>\n",
       "                        <td id=\"T_70382c32_2e7d_11eb_818f_bc542fc4f43brow9_col1\" class=\"data row9 col1\" >28.721973</td>\n",
       "                        <td id=\"T_70382c32_2e7d_11eb_818f_bc542fc4f43brow9_col2\" class=\"data row9 col2\" >446</td>\n",
       "            </tr>\n",
       "            <tr>\n",
       "                                        <th id=\"T_70382c32_2e7d_11eb_818f_bc542fc4f43blevel2_row10\" class=\"row_heading level2 row10\" >Trauma</th>\n",
       "                        <td id=\"T_70382c32_2e7d_11eb_818f_bc542fc4f43brow10_col0\" class=\"data row10 col0\" >25.000000</td>\n",
       "                        <td id=\"T_70382c32_2e7d_11eb_818f_bc542fc4f43brow10_col1\" class=\"data row10 col1\" >33.804781</td>\n",
       "                        <td id=\"T_70382c32_2e7d_11eb_818f_bc542fc4f43brow10_col2\" class=\"data row10 col2\" >502</td>\n",
       "            </tr>\n",
       "            <tr>\n",
       "                                        <th id=\"T_70382c32_2e7d_11eb_818f_bc542fc4f43blevel2_row11\" class=\"row_heading level2 row11\" >Urgent</th>\n",
       "                        <td id=\"T_70382c32_2e7d_11eb_818f_bc542fc4f43brow11_col0\" class=\"data row11 col0\" >25.000000</td>\n",
       "                        <td id=\"T_70382c32_2e7d_11eb_818f_bc542fc4f43brow11_col1\" class=\"data row11 col1\" >30.817175</td>\n",
       "                        <td id=\"T_70382c32_2e7d_11eb_818f_bc542fc4f43brow11_col2\" class=\"data row11 col2\" >361</td>\n",
       "            </tr>\n",
       "            <tr>\n",
       "                                <th id=\"T_70382c32_2e7d_11eb_818f_bc542fc4f43blevel1_row12\" class=\"row_heading level1 row12\" rowspan=3>Minor</th>\n",
       "                        <th id=\"T_70382c32_2e7d_11eb_818f_bc542fc4f43blevel2_row12\" class=\"row_heading level2 row12\" >Emergency</th>\n",
       "                        <td id=\"T_70382c32_2e7d_11eb_818f_bc542fc4f43brow12_col0\" class=\"data row12 col0\" >15.000000</td>\n",
       "                        <td id=\"T_70382c32_2e7d_11eb_818f_bc542fc4f43brow12_col1\" class=\"data row12 col1\" >23.529231</td>\n",
       "                        <td id=\"T_70382c32_2e7d_11eb_818f_bc542fc4f43brow12_col2\" class=\"data row12 col2\" >3250</td>\n",
       "            </tr>\n",
       "            <tr>\n",
       "                                        <th id=\"T_70382c32_2e7d_11eb_818f_bc542fc4f43blevel2_row13\" class=\"row_heading level2 row13\" >Trauma</th>\n",
       "                        <td id=\"T_70382c32_2e7d_11eb_818f_bc542fc4f43brow13_col0\" class=\"data row13 col0\" >25.000000</td>\n",
       "                        <td id=\"T_70382c32_2e7d_11eb_818f_bc542fc4f43brow13_col1\" class=\"data row13 col1\" >27.502670</td>\n",
       "                        <td id=\"T_70382c32_2e7d_11eb_818f_bc542fc4f43brow13_col2\" class=\"data row13 col2\" >2809</td>\n",
       "            </tr>\n",
       "            <tr>\n",
       "                                        <th id=\"T_70382c32_2e7d_11eb_818f_bc542fc4f43blevel2_row14\" class=\"row_heading level2 row14\" >Urgent</th>\n",
       "                        <td id=\"T_70382c32_2e7d_11eb_818f_bc542fc4f43brow14_col0\" class=\"data row14 col0\" >25.000000</td>\n",
       "                        <td id=\"T_70382c32_2e7d_11eb_818f_bc542fc4f43brow14_col1\" class=\"data row14 col1\" >25.114643</td>\n",
       "                        <td id=\"T_70382c32_2e7d_11eb_818f_bc542fc4f43brow14_col2\" class=\"data row14 col2\" >1919</td>\n",
       "            </tr>\n",
       "            <tr>\n",
       "                                <th id=\"T_70382c32_2e7d_11eb_818f_bc542fc4f43blevel1_row15\" class=\"row_heading level1 row15\" rowspan=3>Moderate</th>\n",
       "                        <th id=\"T_70382c32_2e7d_11eb_818f_bc542fc4f43blevel2_row15\" class=\"row_heading level2 row15\" >Emergency</th>\n",
       "                        <td id=\"T_70382c32_2e7d_11eb_818f_bc542fc4f43brow15_col0\" class=\"data row15 col0\" >25.000000</td>\n",
       "                        <td id=\"T_70382c32_2e7d_11eb_818f_bc542fc4f43brow15_col1\" class=\"data row15 col1\" >26.356275</td>\n",
       "                        <td id=\"T_70382c32_2e7d_11eb_818f_bc542fc4f43brow15_col2\" class=\"data row15 col2\" >2470</td>\n",
       "            </tr>\n",
       "            <tr>\n",
       "                                        <th id=\"T_70382c32_2e7d_11eb_818f_bc542fc4f43blevel2_row16\" class=\"row_heading level2 row16\" >Trauma</th>\n",
       "                        <td id=\"T_70382c32_2e7d_11eb_818f_bc542fc4f43brow16_col0\" class=\"data row16 col0\" >25.000000</td>\n",
       "                        <td id=\"T_70382c32_2e7d_11eb_818f_bc542fc4f43brow16_col1\" class=\"data row16 col1\" >30.243986</td>\n",
       "                        <td id=\"T_70382c32_2e7d_11eb_818f_bc542fc4f43brow16_col2\" class=\"data row16 col2\" >2910</td>\n",
       "            </tr>\n",
       "            <tr>\n",
       "                                        <th id=\"T_70382c32_2e7d_11eb_818f_bc542fc4f43blevel2_row17\" class=\"row_heading level2 row17\" >Urgent</th>\n",
       "                        <td id=\"T_70382c32_2e7d_11eb_818f_bc542fc4f43brow17_col0\" class=\"data row17 col0\" >25.000000</td>\n",
       "                        <td id=\"T_70382c32_2e7d_11eb_818f_bc542fc4f43brow17_col1\" class=\"data row17 col1\" >27.966102</td>\n",
       "                        <td id=\"T_70382c32_2e7d_11eb_818f_bc542fc4f43brow17_col2\" class=\"data row17 col2\" >1888</td>\n",
       "            </tr>\n",
       "            <tr>\n",
       "                        <th id=\"T_70382c32_2e7d_11eb_818f_bc542fc4f43blevel0_row18\" class=\"row_heading level0 row18\" rowspan=9>25</th>\n",
       "                        <th id=\"T_70382c32_2e7d_11eb_818f_bc542fc4f43blevel1_row18\" class=\"row_heading level1 row18\" rowspan=3>Extreme</th>\n",
       "                        <th id=\"T_70382c32_2e7d_11eb_818f_bc542fc4f43blevel2_row18\" class=\"row_heading level2 row18\" >Emergency</th>\n",
       "                        <td id=\"T_70382c32_2e7d_11eb_818f_bc542fc4f43brow18_col0\" class=\"data row18 col0\" >25.000000</td>\n",
       "                        <td id=\"T_70382c32_2e7d_11eb_818f_bc542fc4f43brow18_col1\" class=\"data row18 col1\" >30.803443</td>\n",
       "                        <td id=\"T_70382c32_2e7d_11eb_818f_bc542fc4f43brow18_col2\" class=\"data row18 col2\" >1394</td>\n",
       "            </tr>\n",
       "            <tr>\n",
       "                                        <th id=\"T_70382c32_2e7d_11eb_818f_bc542fc4f43blevel2_row19\" class=\"row_heading level2 row19\" >Trauma</th>\n",
       "                        <td id=\"T_70382c32_2e7d_11eb_818f_bc542fc4f43brow19_col0\" class=\"data row19 col0\" >25.000000</td>\n",
       "                        <td id=\"T_70382c32_2e7d_11eb_818f_bc542fc4f43brow19_col1\" class=\"data row19 col1\" >34.199567</td>\n",
       "                        <td id=\"T_70382c32_2e7d_11eb_818f_bc542fc4f43brow19_col2\" class=\"data row19 col2\" >1849</td>\n",
       "            </tr>\n",
       "            <tr>\n",
       "                                        <th id=\"T_70382c32_2e7d_11eb_818f_bc542fc4f43blevel2_row20\" class=\"row_heading level2 row20\" >Urgent</th>\n",
       "                        <td id=\"T_70382c32_2e7d_11eb_818f_bc542fc4f43brow20_col0\" class=\"data row20 col0\" >25.000000</td>\n",
       "                        <td id=\"T_70382c32_2e7d_11eb_818f_bc542fc4f43brow20_col1\" class=\"data row20 col1\" >30.250278</td>\n",
       "                        <td id=\"T_70382c32_2e7d_11eb_818f_bc542fc4f43brow20_col2\" class=\"data row20 col2\" >899</td>\n",
       "            </tr>\n",
       "            <tr>\n",
       "                                <th id=\"T_70382c32_2e7d_11eb_818f_bc542fc4f43blevel1_row21\" class=\"row_heading level1 row21\" rowspan=3>Minor</th>\n",
       "                        <th id=\"T_70382c32_2e7d_11eb_818f_bc542fc4f43blevel2_row21\" class=\"row_heading level2 row21\" >Emergency</th>\n",
       "                        <td id=\"T_70382c32_2e7d_11eb_818f_bc542fc4f43brow21_col0\" class=\"data row21 col0\" >25.000000</td>\n",
       "                        <td id=\"T_70382c32_2e7d_11eb_818f_bc542fc4f43brow21_col1\" class=\"data row21 col1\" >25.021952</td>\n",
       "                        <td id=\"T_70382c32_2e7d_11eb_818f_bc542fc4f43brow21_col2\" class=\"data row21 col2\" >5922</td>\n",
       "            </tr>\n",
       "            <tr>\n",
       "                                        <th id=\"T_70382c32_2e7d_11eb_818f_bc542fc4f43blevel2_row22\" class=\"row_heading level2 row22\" >Trauma</th>\n",
       "                        <td id=\"T_70382c32_2e7d_11eb_818f_bc542fc4f43brow22_col0\" class=\"data row22 col0\" >25.000000</td>\n",
       "                        <td id=\"T_70382c32_2e7d_11eb_818f_bc542fc4f43brow22_col1\" class=\"data row22 col1\" >28.688867</td>\n",
       "                        <td id=\"T_70382c32_2e7d_11eb_818f_bc542fc4f43brow22_col2\" class=\"data row22 col2\" >6216</td>\n",
       "            </tr>\n",
       "            <tr>\n",
       "                                        <th id=\"T_70382c32_2e7d_11eb_818f_bc542fc4f43blevel2_row23\" class=\"row_heading level2 row23\" >Urgent</th>\n",
       "                        <td id=\"T_70382c32_2e7d_11eb_818f_bc542fc4f43brow23_col0\" class=\"data row23 col0\" >25.000000</td>\n",
       "                        <td id=\"T_70382c32_2e7d_11eb_818f_bc542fc4f43brow23_col1\" class=\"data row23 col1\" >25.499195</td>\n",
       "                        <td id=\"T_70382c32_2e7d_11eb_818f_bc542fc4f43brow23_col2\" class=\"data row23 col2\" >3105</td>\n",
       "            </tr>\n",
       "            <tr>\n",
       "                                <th id=\"T_70382c32_2e7d_11eb_818f_bc542fc4f43blevel1_row24\" class=\"row_heading level1 row24\" rowspan=3>Moderate</th>\n",
       "                        <th id=\"T_70382c32_2e7d_11eb_818f_bc542fc4f43blevel2_row24\" class=\"row_heading level2 row24\" >Emergency</th>\n",
       "                        <td id=\"T_70382c32_2e7d_11eb_818f_bc542fc4f43brow24_col0\" class=\"data row24 col0\" >25.000000</td>\n",
       "                        <td id=\"T_70382c32_2e7d_11eb_818f_bc542fc4f43brow24_col1\" class=\"data row24 col1\" >26.842796</td>\n",
       "                        <td id=\"T_70382c32_2e7d_11eb_818f_bc542fc4f43brow24_col2\" class=\"data row24 col2\" >7239</td>\n",
       "            </tr>\n",
       "            <tr>\n",
       "                                        <th id=\"T_70382c32_2e7d_11eb_818f_bc542fc4f43blevel2_row25\" class=\"row_heading level2 row25\" >Trauma</th>\n",
       "                        <td id=\"T_70382c32_2e7d_11eb_818f_bc542fc4f43brow25_col0\" class=\"data row25 col0\" >25.000000</td>\n",
       "                        <td id=\"T_70382c32_2e7d_11eb_818f_bc542fc4f43brow25_col1\" class=\"data row25 col1\" >31.142997</td>\n",
       "                        <td id=\"T_70382c32_2e7d_11eb_818f_bc542fc4f43brow25_col2\" class=\"data row25 col2\" >9217</td>\n",
       "            </tr>\n",
       "            <tr>\n",
       "                                        <th id=\"T_70382c32_2e7d_11eb_818f_bc542fc4f43blevel2_row26\" class=\"row_heading level2 row26\" >Urgent</th>\n",
       "                        <td id=\"T_70382c32_2e7d_11eb_818f_bc542fc4f43brow26_col0\" class=\"data row26 col0\" >25.000000</td>\n",
       "                        <td id=\"T_70382c32_2e7d_11eb_818f_bc542fc4f43brow26_col1\" class=\"data row26 col1\" >28.355825</td>\n",
       "                        <td id=\"T_70382c32_2e7d_11eb_818f_bc542fc4f43brow26_col2\" class=\"data row26 col2\" >4446</td>\n",
       "            </tr>\n",
       "            <tr>\n",
       "                        <th id=\"T_70382c32_2e7d_11eb_818f_bc542fc4f43blevel0_row27\" class=\"row_heading level0 row27\" rowspan=9>35</th>\n",
       "                        <th id=\"T_70382c32_2e7d_11eb_818f_bc542fc4f43blevel1_row27\" class=\"row_heading level1 row27\" rowspan=3>Extreme</th>\n",
       "                        <th id=\"T_70382c32_2e7d_11eb_818f_bc542fc4f43blevel2_row27\" class=\"row_heading level2 row27\" >Emergency</th>\n",
       "                        <td id=\"T_70382c32_2e7d_11eb_818f_bc542fc4f43brow27_col0\" class=\"data row27 col0\" >25.000000</td>\n",
       "                        <td id=\"T_70382c32_2e7d_11eb_818f_bc542fc4f43brow27_col1\" class=\"data row27 col1\" >30.264680</td>\n",
       "                        <td id=\"T_70382c32_2e7d_11eb_818f_bc542fc4f43brow27_col2\" class=\"data row27 col2\" >3457</td>\n",
       "            </tr>\n",
       "            <tr>\n",
       "                                        <th id=\"T_70382c32_2e7d_11eb_818f_bc542fc4f43blevel2_row28\" class=\"row_heading level2 row28\" >Trauma</th>\n",
       "                        <td id=\"T_70382c32_2e7d_11eb_818f_bc542fc4f43brow28_col0\" class=\"data row28 col0\" >25.000000</td>\n",
       "                        <td id=\"T_70382c32_2e7d_11eb_818f_bc542fc4f43brow28_col1\" class=\"data row28 col1\" >34.721519</td>\n",
       "                        <td id=\"T_70382c32_2e7d_11eb_818f_bc542fc4f43brow28_col2\" class=\"data row28 col2\" >4740</td>\n",
       "            </tr>\n",
       "            <tr>\n",
       "                                        <th id=\"T_70382c32_2e7d_11eb_818f_bc542fc4f43blevel2_row29\" class=\"row_heading level2 row29\" >Urgent</th>\n",
       "                        <td id=\"T_70382c32_2e7d_11eb_818f_bc542fc4f43brow29_col0\" class=\"data row29 col0\" >25.000000</td>\n",
       "                        <td id=\"T_70382c32_2e7d_11eb_818f_bc542fc4f43brow29_col1\" class=\"data row29 col1\" >31.717774</td>\n",
       "                        <td id=\"T_70382c32_2e7d_11eb_818f_bc542fc4f43brow29_col2\" class=\"data row29 col2\" >1761</td>\n",
       "            </tr>\n",
       "            <tr>\n",
       "                                <th id=\"T_70382c32_2e7d_11eb_818f_bc542fc4f43blevel1_row30\" class=\"row_heading level1 row30\" rowspan=3>Minor</th>\n",
       "                        <th id=\"T_70382c32_2e7d_11eb_818f_bc542fc4f43blevel2_row30\" class=\"row_heading level2 row30\" >Emergency</th>\n",
       "                        <td id=\"T_70382c32_2e7d_11eb_818f_bc542fc4f43brow30_col0\" class=\"data row30 col0\" >25.000000</td>\n",
       "                        <td id=\"T_70382c32_2e7d_11eb_818f_bc542fc4f43brow30_col1\" class=\"data row30 col1\" >25.768664</td>\n",
       "                        <td id=\"T_70382c32_2e7d_11eb_818f_bc542fc4f43brow30_col2\" class=\"data row30 col2\" >6791</td>\n",
       "            </tr>\n",
       "            <tr>\n",
       "                                        <th id=\"T_70382c32_2e7d_11eb_818f_bc542fc4f43blevel2_row31\" class=\"row_heading level2 row31\" >Trauma</th>\n",
       "                        <td id=\"T_70382c32_2e7d_11eb_818f_bc542fc4f43brow31_col0\" class=\"data row31 col0\" >25.000000</td>\n",
       "                        <td id=\"T_70382c32_2e7d_11eb_818f_bc542fc4f43brow31_col1\" class=\"data row31 col1\" >28.982186</td>\n",
       "                        <td id=\"T_70382c32_2e7d_11eb_818f_bc542fc4f43brow31_col2\" class=\"data row31 col2\" >6961</td>\n",
       "            </tr>\n",
       "            <tr>\n",
       "                                        <th id=\"T_70382c32_2e7d_11eb_818f_bc542fc4f43blevel2_row32\" class=\"row_heading level2 row32\" >Urgent</th>\n",
       "                        <td id=\"T_70382c32_2e7d_11eb_818f_bc542fc4f43brow32_col0\" class=\"data row32 col0\" >25.000000</td>\n",
       "                        <td id=\"T_70382c32_2e7d_11eb_818f_bc542fc4f43brow32_col1\" class=\"data row32 col1\" >25.814961</td>\n",
       "                        <td id=\"T_70382c32_2e7d_11eb_818f_bc542fc4f43brow32_col2\" class=\"data row32 col2\" >2540</td>\n",
       "            </tr>\n",
       "            <tr>\n",
       "                                <th id=\"T_70382c32_2e7d_11eb_818f_bc542fc4f43blevel1_row33\" class=\"row_heading level1 row33\" rowspan=3>Moderate</th>\n",
       "                        <th id=\"T_70382c32_2e7d_11eb_818f_bc542fc4f43blevel2_row33\" class=\"row_heading level2 row33\" >Emergency</th>\n",
       "                        <td id=\"T_70382c32_2e7d_11eb_818f_bc542fc4f43brow33_col0\" class=\"data row33 col0\" >25.000000</td>\n",
       "                        <td id=\"T_70382c32_2e7d_11eb_818f_bc542fc4f43brow33_col1\" class=\"data row33 col1\" >27.779865</td>\n",
       "                        <td id=\"T_70382c32_2e7d_11eb_818f_bc542fc4f43brow33_col2\" class=\"data row33 col2\" >12774</td>\n",
       "            </tr>\n",
       "            <tr>\n",
       "                                        <th id=\"T_70382c32_2e7d_11eb_818f_bc542fc4f43blevel2_row34\" class=\"row_heading level2 row34\" >Trauma</th>\n",
       "                        <td id=\"T_70382c32_2e7d_11eb_818f_bc542fc4f43brow34_col0\" class=\"data row34 col0\" >25.000000</td>\n",
       "                        <td id=\"T_70382c32_2e7d_11eb_818f_bc542fc4f43brow34_col1\" class=\"data row34 col1\" >31.860559</td>\n",
       "                        <td id=\"T_70382c32_2e7d_11eb_818f_bc542fc4f43brow34_col2\" class=\"data row34 col2\" >17312</td>\n",
       "            </tr>\n",
       "            <tr>\n",
       "                                        <th id=\"T_70382c32_2e7d_11eb_818f_bc542fc4f43blevel2_row35\" class=\"row_heading level2 row35\" >Urgent</th>\n",
       "                        <td id=\"T_70382c32_2e7d_11eb_818f_bc542fc4f43brow35_col0\" class=\"data row35 col0\" >25.000000</td>\n",
       "                        <td id=\"T_70382c32_2e7d_11eb_818f_bc542fc4f43brow35_col1\" class=\"data row35 col1\" >28.652961</td>\n",
       "                        <td id=\"T_70382c32_2e7d_11eb_818f_bc542fc4f43brow35_col2\" class=\"data row35 col2\" >6299</td>\n",
       "            </tr>\n",
       "            <tr>\n",
       "                        <th id=\"T_70382c32_2e7d_11eb_818f_bc542fc4f43blevel0_row36\" class=\"row_heading level0 row36\" rowspan=9>45</th>\n",
       "                        <th id=\"T_70382c32_2e7d_11eb_818f_bc542fc4f43blevel1_row36\" class=\"row_heading level1 row36\" rowspan=3>Extreme</th>\n",
       "                        <th id=\"T_70382c32_2e7d_11eb_818f_bc542fc4f43blevel2_row36\" class=\"row_heading level2 row36\" >Emergency</th>\n",
       "                        <td id=\"T_70382c32_2e7d_11eb_818f_bc542fc4f43brow36_col0\" class=\"data row36 col0\" >25.000000</td>\n",
       "                        <td id=\"T_70382c32_2e7d_11eb_818f_bc542fc4f43brow36_col1\" class=\"data row36 col1\" >31.224745</td>\n",
       "                        <td id=\"T_70382c32_2e7d_11eb_818f_bc542fc4f43brow36_col2\" class=\"data row36 col2\" >4405</td>\n",
       "            </tr>\n",
       "            <tr>\n",
       "                                        <th id=\"T_70382c32_2e7d_11eb_818f_bc542fc4f43blevel2_row37\" class=\"row_heading level2 row37\" >Trauma</th>\n",
       "                        <td id=\"T_70382c32_2e7d_11eb_818f_bc542fc4f43brow37_col0\" class=\"data row37 col0\" >25.000000</td>\n",
       "                        <td id=\"T_70382c32_2e7d_11eb_818f_bc542fc4f43brow37_col1\" class=\"data row37 col1\" >35.596949</td>\n",
       "                        <td id=\"T_70382c32_2e7d_11eb_818f_bc542fc4f43brow37_col2\" class=\"data row37 col2\" >6751</td>\n",
       "            </tr>\n",
       "            <tr>\n",
       "                                        <th id=\"T_70382c32_2e7d_11eb_818f_bc542fc4f43blevel2_row38\" class=\"row_heading level2 row38\" >Urgent</th>\n",
       "                        <td id=\"T_70382c32_2e7d_11eb_818f_bc542fc4f43brow38_col0\" class=\"data row38 col0\" >25.000000</td>\n",
       "                        <td id=\"T_70382c32_2e7d_11eb_818f_bc542fc4f43brow38_col1\" class=\"data row38 col1\" >32.961853</td>\n",
       "                        <td id=\"T_70382c32_2e7d_11eb_818f_bc542fc4f43brow38_col2\" class=\"data row38 col2\" >1835</td>\n",
       "            </tr>\n",
       "            <tr>\n",
       "                                <th id=\"T_70382c32_2e7d_11eb_818f_bc542fc4f43blevel1_row39\" class=\"row_heading level1 row39\" rowspan=3>Minor</th>\n",
       "                        <th id=\"T_70382c32_2e7d_11eb_818f_bc542fc4f43blevel2_row39\" class=\"row_heading level2 row39\" >Emergency</th>\n",
       "                        <td id=\"T_70382c32_2e7d_11eb_818f_bc542fc4f43brow39_col0\" class=\"data row39 col0\" >25.000000</td>\n",
       "                        <td id=\"T_70382c32_2e7d_11eb_818f_bc542fc4f43brow39_col1\" class=\"data row39 col1\" >25.740140</td>\n",
       "                        <td id=\"T_70382c32_2e7d_11eb_818f_bc542fc4f43brow39_col2\" class=\"data row39 col2\" >5553</td>\n",
       "            </tr>\n",
       "            <tr>\n",
       "                                        <th id=\"T_70382c32_2e7d_11eb_818f_bc542fc4f43blevel2_row40\" class=\"row_heading level2 row40\" >Trauma</th>\n",
       "                        <td id=\"T_70382c32_2e7d_11eb_818f_bc542fc4f43brow40_col0\" class=\"data row40 col0\" >25.000000</td>\n",
       "                        <td id=\"T_70382c32_2e7d_11eb_818f_bc542fc4f43brow40_col1\" class=\"data row40 col1\" >29.146829</td>\n",
       "                        <td id=\"T_70382c32_2e7d_11eb_818f_bc542fc4f43brow40_col2\" class=\"data row40 col2\" >5503</td>\n",
       "            </tr>\n",
       "            <tr>\n",
       "                                        <th id=\"T_70382c32_2e7d_11eb_818f_bc542fc4f43blevel2_row41\" class=\"row_heading level2 row41\" >Urgent</th>\n",
       "                        <td id=\"T_70382c32_2e7d_11eb_818f_bc542fc4f43brow41_col0\" class=\"data row41 col0\" >25.000000</td>\n",
       "                        <td id=\"T_70382c32_2e7d_11eb_818f_bc542fc4f43brow41_col1\" class=\"data row41 col1\" >25.932401</td>\n",
       "                        <td id=\"T_70382c32_2e7d_11eb_818f_bc542fc4f43brow41_col2\" class=\"data row41 col2\" >1716</td>\n",
       "            </tr>\n",
       "            <tr>\n",
       "                                <th id=\"T_70382c32_2e7d_11eb_818f_bc542fc4f43blevel1_row42\" class=\"row_heading level1 row42\" rowspan=3>Moderate</th>\n",
       "                        <th id=\"T_70382c32_2e7d_11eb_818f_bc542fc4f43blevel2_row42\" class=\"row_heading level2 row42\" >Emergency</th>\n",
       "                        <td id=\"T_70382c32_2e7d_11eb_818f_bc542fc4f43brow42_col0\" class=\"data row42 col0\" >25.000000</td>\n",
       "                        <td id=\"T_70382c32_2e7d_11eb_818f_bc542fc4f43brow42_col1\" class=\"data row42 col1\" >28.495138</td>\n",
       "                        <td id=\"T_70382c32_2e7d_11eb_818f_bc542fc4f43brow42_col2\" class=\"data row42 col2\" >13164</td>\n",
       "            </tr>\n",
       "            <tr>\n",
       "                                        <th id=\"T_70382c32_2e7d_11eb_818f_bc542fc4f43blevel2_row43\" class=\"row_heading level2 row43\" >Trauma</th>\n",
       "                        <td id=\"T_70382c32_2e7d_11eb_818f_bc542fc4f43brow43_col0\" class=\"data row43 col0\" >25.000000</td>\n",
       "                        <td id=\"T_70382c32_2e7d_11eb_818f_bc542fc4f43brow43_col1\" class=\"data row43 col1\" >32.831416</td>\n",
       "                        <td id=\"T_70382c32_2e7d_11eb_818f_bc542fc4f43brow43_col2\" class=\"data row43 col2\" >18519</td>\n",
       "            </tr>\n",
       "            <tr>\n",
       "                                        <th id=\"T_70382c32_2e7d_11eb_818f_bc542fc4f43blevel2_row44\" class=\"row_heading level2 row44\" >Urgent</th>\n",
       "                        <td id=\"T_70382c32_2e7d_11eb_818f_bc542fc4f43brow44_col0\" class=\"data row44 col0\" >25.000000</td>\n",
       "                        <td id=\"T_70382c32_2e7d_11eb_818f_bc542fc4f43brow44_col1\" class=\"data row44 col1\" >29.308157</td>\n",
       "                        <td id=\"T_70382c32_2e7d_11eb_818f_bc542fc4f43brow44_col2\" class=\"data row44 col2\" >4965</td>\n",
       "            </tr>\n",
       "            <tr>\n",
       "                        <th id=\"T_70382c32_2e7d_11eb_818f_bc542fc4f43blevel0_row45\" class=\"row_heading level0 row45\" rowspan=9>55</th>\n",
       "                        <th id=\"T_70382c32_2e7d_11eb_818f_bc542fc4f43blevel1_row45\" class=\"row_heading level1 row45\" rowspan=3>Extreme</th>\n",
       "                        <th id=\"T_70382c32_2e7d_11eb_818f_bc542fc4f43blevel2_row45\" class=\"row_heading level2 row45\" >Emergency</th>\n",
       "                        <td id=\"T_70382c32_2e7d_11eb_818f_bc542fc4f43brow45_col0\" class=\"data row45 col0\" >25.000000</td>\n",
       "                        <td id=\"T_70382c32_2e7d_11eb_818f_bc542fc4f43brow45_col1\" class=\"data row45 col1\" >32.477350</td>\n",
       "                        <td id=\"T_70382c32_2e7d_11eb_818f_bc542fc4f43brow45_col2\" class=\"data row45 col2\" >3532</td>\n",
       "            </tr>\n",
       "            <tr>\n",
       "                                        <th id=\"T_70382c32_2e7d_11eb_818f_bc542fc4f43blevel2_row46\" class=\"row_heading level2 row46\" >Trauma</th>\n",
       "                        <td id=\"T_70382c32_2e7d_11eb_818f_bc542fc4f43brow46_col0\" class=\"data row46 col0\" >25.000000</td>\n",
       "                        <td id=\"T_70382c32_2e7d_11eb_818f_bc542fc4f43brow46_col1\" class=\"data row46 col1\" >35.454630</td>\n",
       "                        <td id=\"T_70382c32_2e7d_11eb_818f_bc542fc4f43brow46_col2\" class=\"data row46 col2\" >5345</td>\n",
       "            </tr>\n",
       "            <tr>\n",
       "                                        <th id=\"T_70382c32_2e7d_11eb_818f_bc542fc4f43blevel2_row47\" class=\"row_heading level2 row47\" >Urgent</th>\n",
       "                        <td id=\"T_70382c32_2e7d_11eb_818f_bc542fc4f43brow47_col0\" class=\"data row47 col0\" >25.000000</td>\n",
       "                        <td id=\"T_70382c32_2e7d_11eb_818f_bc542fc4f43brow47_col1\" class=\"data row47 col1\" >32.259696</td>\n",
       "                        <td id=\"T_70382c32_2e7d_11eb_818f_bc542fc4f43brow47_col2\" class=\"data row47 col2\" >1186</td>\n",
       "            </tr>\n",
       "            <tr>\n",
       "                                <th id=\"T_70382c32_2e7d_11eb_818f_bc542fc4f43blevel1_row48\" class=\"row_heading level1 row48\" rowspan=3>Minor</th>\n",
       "                        <th id=\"T_70382c32_2e7d_11eb_818f_bc542fc4f43blevel2_row48\" class=\"row_heading level2 row48\" >Emergency</th>\n",
       "                        <td id=\"T_70382c32_2e7d_11eb_818f_bc542fc4f43brow48_col0\" class=\"data row48 col0\" >25.000000</td>\n",
       "                        <td id=\"T_70382c32_2e7d_11eb_818f_bc542fc4f43brow48_col1\" class=\"data row48 col1\" >26.654292</td>\n",
       "                        <td id=\"T_70382c32_2e7d_11eb_818f_bc542fc4f43brow48_col2\" class=\"data row48 col2\" >4310</td>\n",
       "            </tr>\n",
       "            <tr>\n",
       "                                        <th id=\"T_70382c32_2e7d_11eb_818f_bc542fc4f43blevel2_row49\" class=\"row_heading level2 row49\" >Trauma</th>\n",
       "                        <td id=\"T_70382c32_2e7d_11eb_818f_bc542fc4f43brow49_col0\" class=\"data row49 col0\" >25.000000</td>\n",
       "                        <td id=\"T_70382c32_2e7d_11eb_818f_bc542fc4f43brow49_col1\" class=\"data row49 col1\" >30.115526</td>\n",
       "                        <td id=\"T_70382c32_2e7d_11eb_818f_bc542fc4f43brow49_col2\" class=\"data row49 col2\" >4631</td>\n",
       "            </tr>\n",
       "            <tr>\n",
       "                                        <th id=\"T_70382c32_2e7d_11eb_818f_bc542fc4f43blevel2_row50\" class=\"row_heading level2 row50\" >Urgent</th>\n",
       "                        <td id=\"T_70382c32_2e7d_11eb_818f_bc542fc4f43brow50_col0\" class=\"data row50 col0\" >25.000000</td>\n",
       "                        <td id=\"T_70382c32_2e7d_11eb_818f_bc542fc4f43brow50_col1\" class=\"data row50 col1\" >25.598761</td>\n",
       "                        <td id=\"T_70382c32_2e7d_11eb_818f_bc542fc4f43brow50_col2\" class=\"data row50 col2\" >1453</td>\n",
       "            </tr>\n",
       "            <tr>\n",
       "                                <th id=\"T_70382c32_2e7d_11eb_818f_bc542fc4f43blevel1_row51\" class=\"row_heading level1 row51\" rowspan=3>Moderate</th>\n",
       "                        <th id=\"T_70382c32_2e7d_11eb_818f_bc542fc4f43blevel2_row51\" class=\"row_heading level2 row51\" >Emergency</th>\n",
       "                        <td id=\"T_70382c32_2e7d_11eb_818f_bc542fc4f43brow51_col0\" class=\"data row51 col0\" >25.000000</td>\n",
       "                        <td id=\"T_70382c32_2e7d_11eb_818f_bc542fc4f43brow51_col1\" class=\"data row51 col1\" >29.421776</td>\n",
       "                        <td id=\"T_70382c32_2e7d_11eb_818f_bc542fc4f43brow51_col2\" class=\"data row51 col2\" >9460</td>\n",
       "            </tr>\n",
       "            <tr>\n",
       "                                        <th id=\"T_70382c32_2e7d_11eb_818f_bc542fc4f43blevel2_row52\" class=\"row_heading level2 row52\" >Trauma</th>\n",
       "                        <td id=\"T_70382c32_2e7d_11eb_818f_bc542fc4f43brow52_col0\" class=\"data row52 col0\" >25.000000</td>\n",
       "                        <td id=\"T_70382c32_2e7d_11eb_818f_bc542fc4f43brow52_col1\" class=\"data row52 col1\" >33.171514</td>\n",
       "                        <td id=\"T_70382c32_2e7d_11eb_818f_bc542fc4f43brow52_col2\" class=\"data row52 col2\" >14028</td>\n",
       "            </tr>\n",
       "            <tr>\n",
       "                                        <th id=\"T_70382c32_2e7d_11eb_818f_bc542fc4f43blevel2_row53\" class=\"row_heading level2 row53\" >Urgent</th>\n",
       "                        <td id=\"T_70382c32_2e7d_11eb_818f_bc542fc4f43brow53_col0\" class=\"data row53 col0\" >25.000000</td>\n",
       "                        <td id=\"T_70382c32_2e7d_11eb_818f_bc542fc4f43brow53_col1\" class=\"data row53 col1\" >29.959738</td>\n",
       "                        <td id=\"T_70382c32_2e7d_11eb_818f_bc542fc4f43brow53_col2\" class=\"data row53 col2\" >3353</td>\n",
       "            </tr>\n",
       "            <tr>\n",
       "                        <th id=\"T_70382c32_2e7d_11eb_818f_bc542fc4f43blevel0_row54\" class=\"row_heading level0 row54\" rowspan=9>65</th>\n",
       "                        <th id=\"T_70382c32_2e7d_11eb_818f_bc542fc4f43blevel1_row54\" class=\"row_heading level1 row54\" rowspan=3>Extreme</th>\n",
       "                        <th id=\"T_70382c32_2e7d_11eb_818f_bc542fc4f43blevel2_row54\" class=\"row_heading level2 row54\" >Emergency</th>\n",
       "                        <td id=\"T_70382c32_2e7d_11eb_818f_bc542fc4f43brow54_col0\" class=\"data row54 col0\" >25.000000</td>\n",
       "                        <td id=\"T_70382c32_2e7d_11eb_818f_bc542fc4f43brow54_col1\" class=\"data row54 col1\" >31.967796</td>\n",
       "                        <td id=\"T_70382c32_2e7d_11eb_818f_bc542fc4f43brow54_col2\" class=\"data row54 col2\" >2391</td>\n",
       "            </tr>\n",
       "            <tr>\n",
       "                                        <th id=\"T_70382c32_2e7d_11eb_818f_bc542fc4f43blevel2_row55\" class=\"row_heading level2 row55\" >Trauma</th>\n",
       "                        <td id=\"T_70382c32_2e7d_11eb_818f_bc542fc4f43brow55_col0\" class=\"data row55 col0\" >35.000000</td>\n",
       "                        <td id=\"T_70382c32_2e7d_11eb_818f_bc542fc4f43brow55_col1\" class=\"data row55 col1\" >36.265350</td>\n",
       "                        <td id=\"T_70382c32_2e7d_11eb_818f_bc542fc4f43brow55_col2\" class=\"data row55 col2\" >3746</td>\n",
       "            </tr>\n",
       "            <tr>\n",
       "                                        <th id=\"T_70382c32_2e7d_11eb_818f_bc542fc4f43blevel2_row56\" class=\"row_heading level2 row56\" >Urgent</th>\n",
       "                        <td id=\"T_70382c32_2e7d_11eb_818f_bc542fc4f43brow56_col0\" class=\"data row56 col0\" >25.000000</td>\n",
       "                        <td id=\"T_70382c32_2e7d_11eb_818f_bc542fc4f43brow56_col1\" class=\"data row56 col1\" >33.800989</td>\n",
       "                        <td id=\"T_70382c32_2e7d_11eb_818f_bc542fc4f43brow56_col2\" class=\"data row56 col2\" >809</td>\n",
       "            </tr>\n",
       "            <tr>\n",
       "                                <th id=\"T_70382c32_2e7d_11eb_818f_bc542fc4f43blevel1_row57\" class=\"row_heading level1 row57\" rowspan=3>Minor</th>\n",
       "                        <th id=\"T_70382c32_2e7d_11eb_818f_bc542fc4f43blevel2_row57\" class=\"row_heading level2 row57\" >Emergency</th>\n",
       "                        <td id=\"T_70382c32_2e7d_11eb_818f_bc542fc4f43brow57_col0\" class=\"data row57 col0\" >25.000000</td>\n",
       "                        <td id=\"T_70382c32_2e7d_11eb_818f_bc542fc4f43brow57_col1\" class=\"data row57 col1\" >26.224554</td>\n",
       "                        <td id=\"T_70382c32_2e7d_11eb_818f_bc542fc4f43brow57_col2\" class=\"data row57 col2\" >3193</td>\n",
       "            </tr>\n",
       "            <tr>\n",
       "                                        <th id=\"T_70382c32_2e7d_11eb_818f_bc542fc4f43blevel2_row58\" class=\"row_heading level2 row58\" >Trauma</th>\n",
       "                        <td id=\"T_70382c32_2e7d_11eb_818f_bc542fc4f43brow58_col0\" class=\"data row58 col0\" >25.000000</td>\n",
       "                        <td id=\"T_70382c32_2e7d_11eb_818f_bc542fc4f43brow58_col1\" class=\"data row58 col1\" >29.395265</td>\n",
       "                        <td id=\"T_70382c32_2e7d_11eb_818f_bc542fc4f43brow58_col2\" class=\"data row58 col2\" >3886</td>\n",
       "            </tr>\n",
       "            <tr>\n",
       "                                        <th id=\"T_70382c32_2e7d_11eb_818f_bc542fc4f43blevel2_row59\" class=\"row_heading level2 row59\" >Urgent</th>\n",
       "                        <td id=\"T_70382c32_2e7d_11eb_818f_bc542fc4f43brow59_col0\" class=\"data row59 col0\" >25.000000</td>\n",
       "                        <td id=\"T_70382c32_2e7d_11eb_818f_bc542fc4f43brow59_col1\" class=\"data row59 col1\" >26.156863</td>\n",
       "                        <td id=\"T_70382c32_2e7d_11eb_818f_bc542fc4f43brow59_col2\" class=\"data row59 col2\" >1020</td>\n",
       "            </tr>\n",
       "            <tr>\n",
       "                                <th id=\"T_70382c32_2e7d_11eb_818f_bc542fc4f43blevel1_row60\" class=\"row_heading level1 row60\" rowspan=3>Moderate</th>\n",
       "                        <th id=\"T_70382c32_2e7d_11eb_818f_bc542fc4f43blevel2_row60\" class=\"row_heading level2 row60\" >Emergency</th>\n",
       "                        <td id=\"T_70382c32_2e7d_11eb_818f_bc542fc4f43brow60_col0\" class=\"data row60 col0\" >25.000000</td>\n",
       "                        <td id=\"T_70382c32_2e7d_11eb_818f_bc542fc4f43brow60_col1\" class=\"data row60 col1\" >30.414201</td>\n",
       "                        <td id=\"T_70382c32_2e7d_11eb_818f_bc542fc4f43brow60_col2\" class=\"data row60 col2\" >6084</td>\n",
       "            </tr>\n",
       "            <tr>\n",
       "                                        <th id=\"T_70382c32_2e7d_11eb_818f_bc542fc4f43blevel2_row61\" class=\"row_heading level2 row61\" >Trauma</th>\n",
       "                        <td id=\"T_70382c32_2e7d_11eb_818f_bc542fc4f43brow61_col0\" class=\"data row61 col0\" >25.000000</td>\n",
       "                        <td id=\"T_70382c32_2e7d_11eb_818f_bc542fc4f43brow61_col1\" class=\"data row61 col1\" >33.598993</td>\n",
       "                        <td id=\"T_70382c32_2e7d_11eb_818f_bc542fc4f43brow61_col2\" class=\"data row61 col2\" >9536</td>\n",
       "            </tr>\n",
       "            <tr>\n",
       "                                        <th id=\"T_70382c32_2e7d_11eb_818f_bc542fc4f43blevel2_row62\" class=\"row_heading level2 row62\" >Urgent</th>\n",
       "                        <td id=\"T_70382c32_2e7d_11eb_818f_bc542fc4f43brow62_col0\" class=\"data row62 col0\" >25.000000</td>\n",
       "                        <td id=\"T_70382c32_2e7d_11eb_818f_bc542fc4f43brow62_col1\" class=\"data row62 col1\" >31.478608</td>\n",
       "                        <td id=\"T_70382c32_2e7d_11eb_818f_bc542fc4f43brow62_col2\" class=\"data row62 col2\" >2127</td>\n",
       "            </tr>\n",
       "            <tr>\n",
       "                        <th id=\"T_70382c32_2e7d_11eb_818f_bc542fc4f43blevel0_row63\" class=\"row_heading level0 row63\" rowspan=9>75</th>\n",
       "                        <th id=\"T_70382c32_2e7d_11eb_818f_bc542fc4f43blevel1_row63\" class=\"row_heading level1 row63\" rowspan=3>Extreme</th>\n",
       "                        <th id=\"T_70382c32_2e7d_11eb_818f_bc542fc4f43blevel2_row63\" class=\"row_heading level2 row63\" >Emergency</th>\n",
       "                        <td id=\"T_70382c32_2e7d_11eb_818f_bc542fc4f43brow63_col0\" class=\"data row63 col0\" >25.000000</td>\n",
       "                        <td id=\"T_70382c32_2e7d_11eb_818f_bc542fc4f43brow63_col1\" class=\"data row63 col1\" >33.569045</td>\n",
       "                        <td id=\"T_70382c32_2e7d_11eb_818f_bc542fc4f43brow63_col2\" class=\"data row63 col2\" >2397</td>\n",
       "            </tr>\n",
       "            <tr>\n",
       "                                        <th id=\"T_70382c32_2e7d_11eb_818f_bc542fc4f43blevel2_row64\" class=\"row_heading level2 row64\" >Trauma</th>\n",
       "                        <td id=\"T_70382c32_2e7d_11eb_818f_bc542fc4f43brow64_col0\" class=\"data row64 col0\" >35.000000</td>\n",
       "                        <td id=\"T_70382c32_2e7d_11eb_818f_bc542fc4f43brow64_col1\" class=\"data row64 col1\" >36.542568</td>\n",
       "                        <td id=\"T_70382c32_2e7d_11eb_818f_bc542fc4f43brow64_col2\" class=\"data row64 col2\" >3559</td>\n",
       "            </tr>\n",
       "            <tr>\n",
       "                                        <th id=\"T_70382c32_2e7d_11eb_818f_bc542fc4f43blevel2_row65\" class=\"row_heading level2 row65\" >Urgent</th>\n",
       "                        <td id=\"T_70382c32_2e7d_11eb_818f_bc542fc4f43brow65_col0\" class=\"data row65 col0\" >25.000000</td>\n",
       "                        <td id=\"T_70382c32_2e7d_11eb_818f_bc542fc4f43brow65_col1\" class=\"data row65 col1\" >35.081522</td>\n",
       "                        <td id=\"T_70382c32_2e7d_11eb_818f_bc542fc4f43brow65_col2\" class=\"data row65 col2\" >736</td>\n",
       "            </tr>\n",
       "            <tr>\n",
       "                                <th id=\"T_70382c32_2e7d_11eb_818f_bc542fc4f43blevel1_row66\" class=\"row_heading level1 row66\" rowspan=3>Minor</th>\n",
       "                        <th id=\"T_70382c32_2e7d_11eb_818f_bc542fc4f43blevel2_row66\" class=\"row_heading level2 row66\" >Emergency</th>\n",
       "                        <td id=\"T_70382c32_2e7d_11eb_818f_bc542fc4f43brow66_col0\" class=\"data row66 col0\" >25.000000</td>\n",
       "                        <td id=\"T_70382c32_2e7d_11eb_818f_bc542fc4f43brow66_col1\" class=\"data row66 col1\" >28.097740</td>\n",
       "                        <td id=\"T_70382c32_2e7d_11eb_818f_bc542fc4f43brow66_col2\" class=\"data row66 col2\" >3806</td>\n",
       "            </tr>\n",
       "            <tr>\n",
       "                                        <th id=\"T_70382c32_2e7d_11eb_818f_bc542fc4f43blevel2_row67\" class=\"row_heading level2 row67\" >Trauma</th>\n",
       "                        <td id=\"T_70382c32_2e7d_11eb_818f_bc542fc4f43brow67_col0\" class=\"data row67 col0\" >25.000000</td>\n",
       "                        <td id=\"T_70382c32_2e7d_11eb_818f_bc542fc4f43brow67_col1\" class=\"data row67 col1\" >30.483733</td>\n",
       "                        <td id=\"T_70382c32_2e7d_11eb_818f_bc542fc4f43brow67_col2\" class=\"data row67 col2\" >4672</td>\n",
       "            </tr>\n",
       "            <tr>\n",
       "                                        <th id=\"T_70382c32_2e7d_11eb_818f_bc542fc4f43blevel2_row68\" class=\"row_heading level2 row68\" >Urgent</th>\n",
       "                        <td id=\"T_70382c32_2e7d_11eb_818f_bc542fc4f43brow68_col0\" class=\"data row68 col0\" >25.000000</td>\n",
       "                        <td id=\"T_70382c32_2e7d_11eb_818f_bc542fc4f43brow68_col1\" class=\"data row68 col1\" >27.452652</td>\n",
       "                        <td id=\"T_70382c32_2e7d_11eb_818f_bc542fc4f43brow68_col2\" class=\"data row68 col2\" >1056</td>\n",
       "            </tr>\n",
       "            <tr>\n",
       "                                <th id=\"T_70382c32_2e7d_11eb_818f_bc542fc4f43blevel1_row69\" class=\"row_heading level1 row69\" rowspan=3>Moderate</th>\n",
       "                        <th id=\"T_70382c32_2e7d_11eb_818f_bc542fc4f43blevel2_row69\" class=\"row_heading level2 row69\" >Emergency</th>\n",
       "                        <td id=\"T_70382c32_2e7d_11eb_818f_bc542fc4f43brow69_col0\" class=\"data row69 col0\" >25.000000</td>\n",
       "                        <td id=\"T_70382c32_2e7d_11eb_818f_bc542fc4f43brow69_col1\" class=\"data row69 col1\" >31.460967</td>\n",
       "                        <td id=\"T_70382c32_2e7d_11eb_818f_bc542fc4f43brow69_col2\" class=\"data row69 col2\" >6725</td>\n",
       "            </tr>\n",
       "            <tr>\n",
       "                                        <th id=\"T_70382c32_2e7d_11eb_818f_bc542fc4f43blevel2_row70\" class=\"row_heading level2 row70\" >Trauma</th>\n",
       "                        <td id=\"T_70382c32_2e7d_11eb_818f_bc542fc4f43brow70_col0\" class=\"data row70 col0\" >25.000000</td>\n",
       "                        <td id=\"T_70382c32_2e7d_11eb_818f_bc542fc4f43brow70_col1\" class=\"data row70 col1\" >33.966304</td>\n",
       "                        <td id=\"T_70382c32_2e7d_11eb_818f_bc542fc4f43brow70_col2\" class=\"data row70 col2\" >9645</td>\n",
       "            </tr>\n",
       "            <tr>\n",
       "                                        <th id=\"T_70382c32_2e7d_11eb_818f_bc542fc4f43blevel2_row71\" class=\"row_heading level2 row71\" >Urgent</th>\n",
       "                        <td id=\"T_70382c32_2e7d_11eb_818f_bc542fc4f43brow71_col0\" class=\"data row71 col0\" >25.000000</td>\n",
       "                        <td id=\"T_70382c32_2e7d_11eb_818f_bc542fc4f43brow71_col1\" class=\"data row71 col1\" >31.086548</td>\n",
       "                        <td id=\"T_70382c32_2e7d_11eb_818f_bc542fc4f43brow71_col2\" class=\"data row71 col2\" >2126</td>\n",
       "            </tr>\n",
       "            <tr>\n",
       "                        <th id=\"T_70382c32_2e7d_11eb_818f_bc542fc4f43blevel0_row72\" class=\"row_heading level0 row72\" rowspan=9>85</th>\n",
       "                        <th id=\"T_70382c32_2e7d_11eb_818f_bc542fc4f43blevel1_row72\" class=\"row_heading level1 row72\" rowspan=3>Extreme</th>\n",
       "                        <th id=\"T_70382c32_2e7d_11eb_818f_bc542fc4f43blevel2_row72\" class=\"row_heading level2 row72\" >Emergency</th>\n",
       "                        <td id=\"T_70382c32_2e7d_11eb_818f_bc542fc4f43brow72_col0\" class=\"data row72 col0\" >35.000000</td>\n",
       "                        <td id=\"T_70382c32_2e7d_11eb_818f_bc542fc4f43brow72_col1\" class=\"data row72 col1\" >37.950392</td>\n",
       "                        <td id=\"T_70382c32_2e7d_11eb_818f_bc542fc4f43brow72_col2\" class=\"data row72 col2\" >766</td>\n",
       "            </tr>\n",
       "            <tr>\n",
       "                                        <th id=\"T_70382c32_2e7d_11eb_818f_bc542fc4f43blevel2_row73\" class=\"row_heading level2 row73\" >Trauma</th>\n",
       "                        <td id=\"T_70382c32_2e7d_11eb_818f_bc542fc4f43brow73_col0\" class=\"data row73 col0\" >35.000000</td>\n",
       "                        <td id=\"T_70382c32_2e7d_11eb_818f_bc542fc4f43brow73_col1\" class=\"data row73 col1\" >38.897059</td>\n",
       "                        <td id=\"T_70382c32_2e7d_11eb_818f_bc542fc4f43brow73_col2\" class=\"data row73 col2\" >816</td>\n",
       "            </tr>\n",
       "            <tr>\n",
       "                                        <th id=\"T_70382c32_2e7d_11eb_818f_bc542fc4f43blevel2_row74\" class=\"row_heading level2 row74\" >Urgent</th>\n",
       "                        <td id=\"T_70382c32_2e7d_11eb_818f_bc542fc4f43brow74_col0\" class=\"data row74 col0\" >35.000000</td>\n",
       "                        <td id=\"T_70382c32_2e7d_11eb_818f_bc542fc4f43brow74_col1\" class=\"data row74 col1\" >36.866667</td>\n",
       "                        <td id=\"T_70382c32_2e7d_11eb_818f_bc542fc4f43brow74_col2\" class=\"data row74 col2\" >150</td>\n",
       "            </tr>\n",
       "            <tr>\n",
       "                                <th id=\"T_70382c32_2e7d_11eb_818f_bc542fc4f43blevel1_row75\" class=\"row_heading level1 row75\" rowspan=3>Minor</th>\n",
       "                        <th id=\"T_70382c32_2e7d_11eb_818f_bc542fc4f43blevel2_row75\" class=\"row_heading level2 row75\" >Emergency</th>\n",
       "                        <td id=\"T_70382c32_2e7d_11eb_818f_bc542fc4f43brow75_col0\" class=\"data row75 col0\" >25.000000</td>\n",
       "                        <td id=\"T_70382c32_2e7d_11eb_818f_bc542fc4f43brow75_col1\" class=\"data row75 col1\" >31.503885</td>\n",
       "                        <td id=\"T_70382c32_2e7d_11eb_818f_bc542fc4f43brow75_col2\" class=\"data row75 col2\" >901</td>\n",
       "            </tr>\n",
       "            <tr>\n",
       "                                        <th id=\"T_70382c32_2e7d_11eb_818f_bc542fc4f43blevel2_row76\" class=\"row_heading level2 row76\" >Trauma</th>\n",
       "                        <td id=\"T_70382c32_2e7d_11eb_818f_bc542fc4f43brow76_col0\" class=\"data row76 col0\" >25.000000</td>\n",
       "                        <td id=\"T_70382c32_2e7d_11eb_818f_bc542fc4f43brow76_col1\" class=\"data row76 col1\" >32.692308</td>\n",
       "                        <td id=\"T_70382c32_2e7d_11eb_818f_bc542fc4f43brow76_col2\" class=\"data row76 col2\" >780</td>\n",
       "            </tr>\n",
       "            <tr>\n",
       "                                        <th id=\"T_70382c32_2e7d_11eb_818f_bc542fc4f43blevel2_row77\" class=\"row_heading level2 row77\" >Urgent</th>\n",
       "                        <td id=\"T_70382c32_2e7d_11eb_818f_bc542fc4f43brow77_col0\" class=\"data row77 col0\" >25.000000</td>\n",
       "                        <td id=\"T_70382c32_2e7d_11eb_818f_bc542fc4f43brow77_col1\" class=\"data row77 col1\" >31.779661</td>\n",
       "                        <td id=\"T_70382c32_2e7d_11eb_818f_bc542fc4f43brow77_col2\" class=\"data row77 col2\" >118</td>\n",
       "            </tr>\n",
       "            <tr>\n",
       "                                <th id=\"T_70382c32_2e7d_11eb_818f_bc542fc4f43blevel1_row78\" class=\"row_heading level1 row78\" rowspan=3>Moderate</th>\n",
       "                        <th id=\"T_70382c32_2e7d_11eb_818f_bc542fc4f43blevel2_row78\" class=\"row_heading level2 row78\" >Emergency</th>\n",
       "                        <td id=\"T_70382c32_2e7d_11eb_818f_bc542fc4f43brow78_col0\" class=\"data row78 col0\" >35.000000</td>\n",
       "                        <td id=\"T_70382c32_2e7d_11eb_818f_bc542fc4f43brow78_col1\" class=\"data row78 col1\" >35.529070</td>\n",
       "                        <td id=\"T_70382c32_2e7d_11eb_818f_bc542fc4f43brow78_col2\" class=\"data row78 col2\" >1720</td>\n",
       "            </tr>\n",
       "            <tr>\n",
       "                                        <th id=\"T_70382c32_2e7d_11eb_818f_bc542fc4f43blevel2_row79\" class=\"row_heading level2 row79\" >Trauma</th>\n",
       "                        <td id=\"T_70382c32_2e7d_11eb_818f_bc542fc4f43brow79_col0\" class=\"data row79 col0\" >35.000000</td>\n",
       "                        <td id=\"T_70382c32_2e7d_11eb_818f_bc542fc4f43brow79_col1\" class=\"data row79 col1\" >36.455664</td>\n",
       "                        <td id=\"T_70382c32_2e7d_11eb_818f_bc542fc4f43brow79_col2\" class=\"data row79 col2\" >1951</td>\n",
       "            </tr>\n",
       "            <tr>\n",
       "                                        <th id=\"T_70382c32_2e7d_11eb_818f_bc542fc4f43blevel2_row80\" class=\"row_heading level2 row80\" >Urgent</th>\n",
       "                        <td id=\"T_70382c32_2e7d_11eb_818f_bc542fc4f43brow80_col0\" class=\"data row80 col0\" >25.000000</td>\n",
       "                        <td id=\"T_70382c32_2e7d_11eb_818f_bc542fc4f43brow80_col1\" class=\"data row80 col1\" >34.275766</td>\n",
       "                        <td id=\"T_70382c32_2e7d_11eb_818f_bc542fc4f43brow80_col2\" class=\"data row80 col2\" >359</td>\n",
       "            </tr>\n",
       "            <tr>\n",
       "                        <th id=\"T_70382c32_2e7d_11eb_818f_bc542fc4f43blevel0_row81\" class=\"row_heading level0 row81\" rowspan=9>95</th>\n",
       "                        <th id=\"T_70382c32_2e7d_11eb_818f_bc542fc4f43blevel1_row81\" class=\"row_heading level1 row81\" rowspan=3>Extreme</th>\n",
       "                        <th id=\"T_70382c32_2e7d_11eb_818f_bc542fc4f43blevel2_row81\" class=\"row_heading level2 row81\" >Emergency</th>\n",
       "                        <td id=\"T_70382c32_2e7d_11eb_818f_bc542fc4f43brow81_col0\" class=\"data row81 col0\" >35.000000</td>\n",
       "                        <td id=\"T_70382c32_2e7d_11eb_818f_bc542fc4f43brow81_col1\" class=\"data row81 col1\" >37.913386</td>\n",
       "                        <td id=\"T_70382c32_2e7d_11eb_818f_bc542fc4f43brow81_col2\" class=\"data row81 col2\" >127</td>\n",
       "            </tr>\n",
       "            <tr>\n",
       "                                        <th id=\"T_70382c32_2e7d_11eb_818f_bc542fc4f43blevel2_row82\" class=\"row_heading level2 row82\" >Trauma</th>\n",
       "                        <td id=\"T_70382c32_2e7d_11eb_818f_bc542fc4f43brow82_col0\" class=\"data row82 col0\" >35.000000</td>\n",
       "                        <td id=\"T_70382c32_2e7d_11eb_818f_bc542fc4f43brow82_col1\" class=\"data row82 col1\" >38.623188</td>\n",
       "                        <td id=\"T_70382c32_2e7d_11eb_818f_bc542fc4f43brow82_col2\" class=\"data row82 col2\" >138</td>\n",
       "            </tr>\n",
       "            <tr>\n",
       "                                        <th id=\"T_70382c32_2e7d_11eb_818f_bc542fc4f43blevel2_row83\" class=\"row_heading level2 row83\" >Urgent</th>\n",
       "                        <td id=\"T_70382c32_2e7d_11eb_818f_bc542fc4f43brow83_col0\" class=\"data row83 col0\" >35.000000</td>\n",
       "                        <td id=\"T_70382c32_2e7d_11eb_818f_bc542fc4f43brow83_col1\" class=\"data row83 col1\" >41.956522</td>\n",
       "                        <td id=\"T_70382c32_2e7d_11eb_818f_bc542fc4f43brow83_col2\" class=\"data row83 col2\" >23</td>\n",
       "            </tr>\n",
       "            <tr>\n",
       "                                <th id=\"T_70382c32_2e7d_11eb_818f_bc542fc4f43blevel1_row84\" class=\"row_heading level1 row84\" rowspan=3>Minor</th>\n",
       "                        <th id=\"T_70382c32_2e7d_11eb_818f_bc542fc4f43blevel2_row84\" class=\"row_heading level2 row84\" >Emergency</th>\n",
       "                        <td id=\"T_70382c32_2e7d_11eb_818f_bc542fc4f43brow84_col0\" class=\"data row84 col0\" >25.000000</td>\n",
       "                        <td id=\"T_70382c32_2e7d_11eb_818f_bc542fc4f43brow84_col1\" class=\"data row84 col1\" >29.751773</td>\n",
       "                        <td id=\"T_70382c32_2e7d_11eb_818f_bc542fc4f43brow84_col2\" class=\"data row84 col2\" >141</td>\n",
       "            </tr>\n",
       "            <tr>\n",
       "                                        <th id=\"T_70382c32_2e7d_11eb_818f_bc542fc4f43blevel2_row85\" class=\"row_heading level2 row85\" >Trauma</th>\n",
       "                        <td id=\"T_70382c32_2e7d_11eb_818f_bc542fc4f43brow85_col0\" class=\"data row85 col0\" >25.000000</td>\n",
       "                        <td id=\"T_70382c32_2e7d_11eb_818f_bc542fc4f43brow85_col1\" class=\"data row85 col1\" >31.534653</td>\n",
       "                        <td id=\"T_70382c32_2e7d_11eb_818f_bc542fc4f43brow85_col2\" class=\"data row85 col2\" >101</td>\n",
       "            </tr>\n",
       "            <tr>\n",
       "                                        <th id=\"T_70382c32_2e7d_11eb_818f_bc542fc4f43blevel2_row86\" class=\"row_heading level2 row86\" >Urgent</th>\n",
       "                        <td id=\"T_70382c32_2e7d_11eb_818f_bc542fc4f43brow86_col0\" class=\"data row86 col0\" >35.000000</td>\n",
       "                        <td id=\"T_70382c32_2e7d_11eb_818f_bc542fc4f43brow86_col1\" class=\"data row86 col1\" >33.571429</td>\n",
       "                        <td id=\"T_70382c32_2e7d_11eb_818f_bc542fc4f43brow86_col2\" class=\"data row86 col2\" >21</td>\n",
       "            </tr>\n",
       "            <tr>\n",
       "                                <th id=\"T_70382c32_2e7d_11eb_818f_bc542fc4f43blevel1_row87\" class=\"row_heading level1 row87\" rowspan=3>Moderate</th>\n",
       "                        <th id=\"T_70382c32_2e7d_11eb_818f_bc542fc4f43blevel2_row87\" class=\"row_heading level2 row87\" >Emergency</th>\n",
       "                        <td id=\"T_70382c32_2e7d_11eb_818f_bc542fc4f43brow87_col0\" class=\"data row87 col0\" >35.000000</td>\n",
       "                        <td id=\"T_70382c32_2e7d_11eb_818f_bc542fc4f43brow87_col1\" class=\"data row87 col1\" >37.211221</td>\n",
       "                        <td id=\"T_70382c32_2e7d_11eb_818f_bc542fc4f43brow87_col2\" class=\"data row87 col2\" >303</td>\n",
       "            </tr>\n",
       "            <tr>\n",
       "                                        <th id=\"T_70382c32_2e7d_11eb_818f_bc542fc4f43blevel2_row88\" class=\"row_heading level2 row88\" >Trauma</th>\n",
       "                        <td id=\"T_70382c32_2e7d_11eb_818f_bc542fc4f43brow88_col0\" class=\"data row88 col0\" >25.000000</td>\n",
       "                        <td id=\"T_70382c32_2e7d_11eb_818f_bc542fc4f43brow88_col1\" class=\"data row88 col1\" >33.055556</td>\n",
       "                        <td id=\"T_70382c32_2e7d_11eb_818f_bc542fc4f43brow88_col2\" class=\"data row88 col2\" >324</td>\n",
       "            </tr>\n",
       "            <tr>\n",
       "                                        <th id=\"T_70382c32_2e7d_11eb_818f_bc542fc4f43blevel2_row89\" class=\"row_heading level2 row89\" >Urgent</th>\n",
       "                        <td id=\"T_70382c32_2e7d_11eb_818f_bc542fc4f43brow89_col0\" class=\"data row89 col0\" >25.000000</td>\n",
       "                        <td id=\"T_70382c32_2e7d_11eb_818f_bc542fc4f43brow89_col1\" class=\"data row89 col1\" >30.901639</td>\n",
       "                        <td id=\"T_70382c32_2e7d_11eb_818f_bc542fc4f43brow89_col2\" class=\"data row89 col2\" >61</td>\n",
       "            </tr>\n",
       "    </tbody></table>"
      ],
      "text/plain": [
       "<pandas.io.formats.style.Styler at 0x230c3f53fd0>"
      ]
     },
     "execution_count": 16,
     "metadata": {},
     "output_type": "execute_result"
    },
    {
     "data": {
      "application/javascript": [
       "\n",
       "            setTimeout(function() {\n",
       "                var nbb_cell_id = 16;\n",
       "                var nbb_unformatted_code = \"df.groupby([\\\"age\\\", \\\"severity\\\", \\\"admission_type\\\"]).agg(\\n    {\\\"stay\\\": [\\\"median\\\", \\\"mean\\\", \\\"count\\\"]}\\n).style.background_gradient()\";\n",
       "                var nbb_formatted_code = \"df.groupby([\\\"age\\\", \\\"severity\\\", \\\"admission_type\\\"]).agg(\\n    {\\\"stay\\\": [\\\"median\\\", \\\"mean\\\", \\\"count\\\"]}\\n).style.background_gradient()\";\n",
       "                var nbb_cells = Jupyter.notebook.get_cells();\n",
       "                for (var i = 0; i < nbb_cells.length; ++i) {\n",
       "                    if (nbb_cells[i].input_prompt_number == nbb_cell_id) {\n",
       "                        if (nbb_cells[i].get_text() == nbb_unformatted_code) {\n",
       "                             nbb_cells[i].set_text(nbb_formatted_code);\n",
       "                        }\n",
       "                        break;\n",
       "                    }\n",
       "                }\n",
       "            }, 500);\n",
       "            "
      ],
      "text/plain": [
       "<IPython.core.display.Javascript object>"
      ]
     },
     "metadata": {},
     "output_type": "display_data"
    },
    {
     "data": {
      "application/javascript": [
       "\n",
       "            setTimeout(function() {\n",
       "                var nbb_cell_id = 16;\n",
       "                var nbb_unformatted_code = \"df.groupby([\\\"age\\\", \\\"severity\\\", \\\"admission_type\\\"]).agg(\\n    {\\\"stay\\\": [\\\"median\\\", \\\"mean\\\", \\\"count\\\"]}\\n).style.background_gradient()\";\n",
       "                var nbb_formatted_code = \"df.groupby([\\\"age\\\", \\\"severity\\\", \\\"admission_type\\\"]).agg(\\n    {\\\"stay\\\": [\\\"median\\\", \\\"mean\\\", \\\"count\\\"]}\\n).style.background_gradient()\";\n",
       "                var nbb_cells = Jupyter.notebook.get_cells();\n",
       "                for (var i = 0; i < nbb_cells.length; ++i) {\n",
       "                    if (nbb_cells[i].input_prompt_number == nbb_cell_id) {\n",
       "                        if (nbb_cells[i].get_text() == nbb_unformatted_code) {\n",
       "                             nbb_cells[i].set_text(nbb_formatted_code);\n",
       "                        }\n",
       "                        break;\n",
       "                    }\n",
       "                }\n",
       "            }, 500);\n",
       "            "
      ],
      "text/plain": [
       "<IPython.core.display.Javascript object>"
      ]
     },
     "metadata": {},
     "output_type": "display_data"
    }
   ],
   "source": [
    "df.groupby([\"age\", \"severity\", \"admission_type\"]).agg(\n",
    "    {\"stay\": [\"median\", \"mean\", \"count\"]}\n",
    ").style.background_gradient()"
   ]
  },
  {
   "cell_type": "markdown",
   "metadata": {},
   "source": [
    "**Preliminary Analysis:**\n",
    "* trauma in each group tends to have the highest average stay regardless of admission type or age\n",
    "* youngest age group with extreme severity of any admission type has a higher average stay\n",
    "* starting at ages 55-65+ anything moderate or extreme results on average in a higher length of stay\n",
    "* within each age group, severity looks to play a significantly greater role in determining a higher avg stay length\n",
    "* admission type looks to have a small relationship to higher stay lengths\n",
    "* ages 35-55 seem to show the highest incidence of visit counts, mainly of moderate/emergency trauma & the same pattern looks to trail off at age groups to either side"
   ]
  },
  {
   "cell_type": "code",
   "execution_count": 17,
   "metadata": {},
   "outputs": [
    {
     "name": "stdout",
     "output_type": "stream",
     "text": [
      "<class 'pandas.core.frame.DataFrame'>\n",
      "Int64Index: 311644 entries, 1 to 318438\n",
      "Data columns (total 8 columns):\n",
      " #   Column          Non-Null Count   Dtype  \n",
      "---  ------          --------------   -----  \n",
      " 0   bed_grade       311644 non-null  float64\n",
      " 1   patientid       311644 non-null  int64  \n",
      " 2   admission_type  311644 non-null  object \n",
      " 3   severity        311644 non-null  object \n",
      " 4   visitors        311644 non-null  int64  \n",
      " 5   age             311644 non-null  int64  \n",
      " 6   deposit         311644 non-null  float64\n",
      " 7   stay            311644 non-null  float64\n",
      "dtypes: float64(3), int64(3), object(2)\n",
      "memory usage: 31.4+ MB\n"
     ]
    },
    {
     "data": {
      "application/javascript": [
       "\n",
       "            setTimeout(function() {\n",
       "                var nbb_cell_id = 17;\n",
       "                var nbb_unformatted_code = \"df.info()\";\n",
       "                var nbb_formatted_code = \"df.info()\";\n",
       "                var nbb_cells = Jupyter.notebook.get_cells();\n",
       "                for (var i = 0; i < nbb_cells.length; ++i) {\n",
       "                    if (nbb_cells[i].input_prompt_number == nbb_cell_id) {\n",
       "                        if (nbb_cells[i].get_text() == nbb_unformatted_code) {\n",
       "                             nbb_cells[i].set_text(nbb_formatted_code);\n",
       "                        }\n",
       "                        break;\n",
       "                    }\n",
       "                }\n",
       "            }, 500);\n",
       "            "
      ],
      "text/plain": [
       "<IPython.core.display.Javascript object>"
      ]
     },
     "metadata": {},
     "output_type": "display_data"
    },
    {
     "data": {
      "application/javascript": [
       "\n",
       "            setTimeout(function() {\n",
       "                var nbb_cell_id = 17;\n",
       "                var nbb_unformatted_code = \"df.info()\";\n",
       "                var nbb_formatted_code = \"df.info()\";\n",
       "                var nbb_cells = Jupyter.notebook.get_cells();\n",
       "                for (var i = 0; i < nbb_cells.length; ++i) {\n",
       "                    if (nbb_cells[i].input_prompt_number == nbb_cell_id) {\n",
       "                        if (nbb_cells[i].get_text() == nbb_unformatted_code) {\n",
       "                             nbb_cells[i].set_text(nbb_formatted_code);\n",
       "                        }\n",
       "                        break;\n",
       "                    }\n",
       "                }\n",
       "            }, 500);\n",
       "            "
      ],
      "text/plain": [
       "<IPython.core.display.Javascript object>"
      ]
     },
     "metadata": {},
     "output_type": "display_data"
    }
   ],
   "source": [
    "df.info()"
   ]
  },
  {
   "cell_type": "markdown",
   "metadata": {},
   "source": [
    "# Admission Type"
   ]
  },
  {
   "cell_type": "code",
   "execution_count": 18,
   "metadata": {},
   "outputs": [
    {
     "data": {
      "image/png": "[encoded data removed]",
      "text/plain": [
       "<Figure size 432x288 with 1 Axes>"
      ]
     },
     "metadata": {
      "needs_background": "light"
     },
     "output_type": "display_data"
    },
    {
     "data": {
      "application/javascript": [
       "\n",
       "            setTimeout(function() {\n",
       "                var nbb_cell_id = 18;\n",
       "                var nbb_unformatted_code = \"# creating groups for each admission type\\ntrauma = df[df.admission_type == \\\"Trauma\\\"]\\nemergency = df[df.admission_type == \\\"Emergency\\\"]\\nurgent = df[df.admission_type == \\\"Urgent\\\"]\\n\\n#  plot histogram of each admission group\\nplt.hist(trauma.stay, label=\\\"Trauma\\\")\\nplt.hist(emergency.stay, label=\\\"Emergency\\\")\\nplt.hist(urgent.stay, label=\\\"Urgent\\\")\\n\\nplt.legend()\\nplt.show()\";\n",
       "                var nbb_formatted_code = \"# creating groups for each admission type\\ntrauma = df[df.admission_type == \\\"Trauma\\\"]\\nemergency = df[df.admission_type == \\\"Emergency\\\"]\\nurgent = df[df.admission_type == \\\"Urgent\\\"]\\n\\n#  plot histogram of each admission group\\nplt.hist(trauma.stay, label=\\\"Trauma\\\")\\nplt.hist(emergency.stay, label=\\\"Emergency\\\")\\nplt.hist(urgent.stay, label=\\\"Urgent\\\")\\n\\nplt.legend()\\nplt.show()\";\n",
       "                var nbb_cells = Jupyter.notebook.get_cells();\n",
       "                for (var i = 0; i < nbb_cells.length; ++i) {\n",
       "                    if (nbb_cells[i].input_prompt_number == nbb_cell_id) {\n",
       "                        if (nbb_cells[i].get_text() == nbb_unformatted_code) {\n",
       "                             nbb_cells[i].set_text(nbb_formatted_code);\n",
       "                        }\n",
       "                        break;\n",
       "                    }\n",
       "                }\n",
       "            }, 500);\n",
       "            "
      ],
      "text/plain": [
       "<IPython.core.display.Javascript object>"
      ]
     },
     "metadata": {},
     "output_type": "display_data"
    },
    {
     "data": {
      "application/javascript": [
       "\n",
       "            setTimeout(function() {\n",
       "                var nbb_cell_id = 18;\n",
       "                var nbb_unformatted_code = \"# creating groups for each admission type\\ntrauma = df[df.admission_type == \\\"Trauma\\\"]\\nemergency = df[df.admission_type == \\\"Emergency\\\"]\\nurgent = df[df.admission_type == \\\"Urgent\\\"]\\n\\n#  plot histogram of each admission group\\nplt.hist(trauma.stay, label=\\\"Trauma\\\")\\nplt.hist(emergency.stay, label=\\\"Emergency\\\")\\nplt.hist(urgent.stay, label=\\\"Urgent\\\")\\n\\nplt.legend()\\nplt.show()\";\n",
       "                var nbb_formatted_code = \"# creating groups for each admission type\\ntrauma = df[df.admission_type == \\\"Trauma\\\"]\\nemergency = df[df.admission_type == \\\"Emergency\\\"]\\nurgent = df[df.admission_type == \\\"Urgent\\\"]\\n\\n#  plot histogram of each admission group\\nplt.hist(trauma.stay, label=\\\"Trauma\\\")\\nplt.hist(emergency.stay, label=\\\"Emergency\\\")\\nplt.hist(urgent.stay, label=\\\"Urgent\\\")\\n\\nplt.legend()\\nplt.show()\";\n",
       "                var nbb_cells = Jupyter.notebook.get_cells();\n",
       "                for (var i = 0; i < nbb_cells.length; ++i) {\n",
       "                    if (nbb_cells[i].input_prompt_number == nbb_cell_id) {\n",
       "                        if (nbb_cells[i].get_text() == nbb_unformatted_code) {\n",
       "                             nbb_cells[i].set_text(nbb_formatted_code);\n",
       "                        }\n",
       "                        break;\n",
       "                    }\n",
       "                }\n",
       "            }, 500);\n",
       "            "
      ],
      "text/plain": [
       "<IPython.core.display.Javascript object>"
      ]
     },
     "metadata": {},
     "output_type": "display_data"
    }
   ],
   "source": [
    "# creating groups for each admission type\n",
    "trauma = df[df.admission_type == \"Trauma\"]\n",
    "emergency = df[df.admission_type == \"Emergency\"]\n",
    "urgent = df[df.admission_type == \"Urgent\"]\n",
    "\n",
    "#  plot histogram of each admission group\n",
    "plt.hist(trauma.stay, label=\"Trauma\")\n",
    "plt.hist(emergency.stay, label=\"Emergency\")\n",
    "plt.hist(urgent.stay, label=\"Urgent\")\n",
    "\n",
    "plt.legend()\n",
    "plt.show()"
   ]
  },
  {
   "cell_type": "code",
   "execution_count": 19,
   "metadata": {
    "scrolled": false
   },
   "outputs": [
    {
     "data": {
      "image/png": "[encoded data removed]",
      "text/plain": [
       "<Figure size 432x288 with 1 Axes>"
      ]
     },
     "metadata": {
      "needs_background": "light"
     },
     "output_type": "display_data"
    },
    {
     "data": {
      "image/png": "[encoded data removed]",
      "text/plain": [
       "<Figure size 432x288 with 1 Axes>"
      ]
     },
     "metadata": {
      "needs_background": "light"
     },
     "output_type": "display_data"
    },
    {
     "data": {
      "image/png": "[encoded data removed]",
      "text/plain": [
       "<Figure size 432x288 with 1 Axes>"
      ]
     },
     "metadata": {
      "needs_background": "light"
     },
     "output_type": "display_data"
    },
    {
     "data": {
      "application/javascript": [
       "\n",
       "            setTimeout(function() {\n",
       "                var nbb_cell_id = 19;\n",
       "                var nbb_unformatted_code = \"qqplot(trauma.stay, line=\\\"s\\\")\\nplt.show()\\nqqplot(emergency.stay, line=\\\"s\\\")\\nplt.show()\\nqqplot(urgent.stay, line=\\\"s\\\")\\nplt.show()\";\n",
       "                var nbb_formatted_code = \"qqplot(trauma.stay, line=\\\"s\\\")\\nplt.show()\\nqqplot(emergency.stay, line=\\\"s\\\")\\nplt.show()\\nqqplot(urgent.stay, line=\\\"s\\\")\\nplt.show()\";\n",
       "                var nbb_cells = Jupyter.notebook.get_cells();\n",
       "                for (var i = 0; i < nbb_cells.length; ++i) {\n",
       "                    if (nbb_cells[i].input_prompt_number == nbb_cell_id) {\n",
       "                        if (nbb_cells[i].get_text() == nbb_unformatted_code) {\n",
       "                             nbb_cells[i].set_text(nbb_formatted_code);\n",
       "                        }\n",
       "                        break;\n",
       "                    }\n",
       "                }\n",
       "            }, 500);\n",
       "            "
      ],
      "text/plain": [
       "<IPython.core.display.Javascript object>"
      ]
     },
     "metadata": {},
     "output_type": "display_data"
    },
    {
     "data": {
      "application/javascript": [
       "\n",
       "            setTimeout(function() {\n",
       "                var nbb_cell_id = 19;\n",
       "                var nbb_unformatted_code = \"qqplot(trauma.stay, line=\\\"s\\\")\\nplt.show()\\nqqplot(emergency.stay, line=\\\"s\\\")\\nplt.show()\\nqqplot(urgent.stay, line=\\\"s\\\")\\nplt.show()\";\n",
       "                var nbb_formatted_code = \"qqplot(trauma.stay, line=\\\"s\\\")\\nplt.show()\\nqqplot(emergency.stay, line=\\\"s\\\")\\nplt.show()\\nqqplot(urgent.stay, line=\\\"s\\\")\\nplt.show()\";\n",
       "                var nbb_cells = Jupyter.notebook.get_cells();\n",
       "                for (var i = 0; i < nbb_cells.length; ++i) {\n",
       "                    if (nbb_cells[i].input_prompt_number == nbb_cell_id) {\n",
       "                        if (nbb_cells[i].get_text() == nbb_unformatted_code) {\n",
       "                             nbb_cells[i].set_text(nbb_formatted_code);\n",
       "                        }\n",
       "                        break;\n",
       "                    }\n",
       "                }\n",
       "            }, 500);\n",
       "            "
      ],
      "text/plain": [
       "<IPython.core.display.Javascript object>"
      ]
     },
     "metadata": {},
     "output_type": "display_data"
    }
   ],
   "source": [
    "qqplot(trauma.stay, line=\"s\")\n",
    "plt.show()\n",
    "qqplot(emergency.stay, line=\"s\")\n",
    "plt.show()\n",
    "qqplot(urgent.stay, line=\"s\")\n",
    "plt.show()"
   ]
  },
  {
   "cell_type": "markdown",
   "metadata": {},
   "source": [
    "**Jarque-Bera Test**\n",
    "* probability that kurtosis and skewness matches that of a noraml distribution\n",
    "\n",
    "H_o = both match that of a normal distribution"
   ]
  },
  {
   "cell_type": "code",
   "execution_count": 20,
   "metadata": {},
   "outputs": [
    {
     "name": "stdout",
     "output_type": "stream",
     "text": [
      "trauma\n",
      "0.0\n",
      "emergency\n",
      "0.0\n",
      "urgent\n",
      "0.0\n"
     ]
    },
    {
     "data": {
      "application/javascript": [
       "\n",
       "            setTimeout(function() {\n",
       "                var nbb_cell_id = 20;\n",
       "                var nbb_unformatted_code = \"#  testing for kurtosis/skewness normality\\nprint(\\\"trauma\\\")\\nt, p = stats.jarque_bera(trauma.stay)\\nprint(p)\\nprint(\\\"emergency\\\")\\nt, p = stats.jarque_bera(emergency.stay)\\nprint(p)\\nprint(\\\"urgent\\\")\\nt, p = stats.jarque_bera(urgent.stay)\\nprint(p)\";\n",
       "                var nbb_formatted_code = \"#  testing for kurtosis/skewness normality\\nprint(\\\"trauma\\\")\\nt, p = stats.jarque_bera(trauma.stay)\\nprint(p)\\nprint(\\\"emergency\\\")\\nt, p = stats.jarque_bera(emergency.stay)\\nprint(p)\\nprint(\\\"urgent\\\")\\nt, p = stats.jarque_bera(urgent.stay)\\nprint(p)\";\n",
       "                var nbb_cells = Jupyter.notebook.get_cells();\n",
       "                for (var i = 0; i < nbb_cells.length; ++i) {\n",
       "                    if (nbb_cells[i].input_prompt_number == nbb_cell_id) {\n",
       "                        if (nbb_cells[i].get_text() == nbb_unformatted_code) {\n",
       "                             nbb_cells[i].set_text(nbb_formatted_code);\n",
       "                        }\n",
       "                        break;\n",
       "                    }\n",
       "                }\n",
       "            }, 500);\n",
       "            "
      ],
      "text/plain": [
       "<IPython.core.display.Javascript object>"
      ]
     },
     "metadata": {},
     "output_type": "display_data"
    },
    {
     "data": {
      "application/javascript": [
       "\n",
       "            setTimeout(function() {\n",
       "                var nbb_cell_id = 20;\n",
       "                var nbb_unformatted_code = \"#  testing for kurtosis/skewness normality\\nprint(\\\"trauma\\\")\\nt, p = stats.jarque_bera(trauma.stay)\\nprint(p)\\nprint(\\\"emergency\\\")\\nt, p = stats.jarque_bera(emergency.stay)\\nprint(p)\\nprint(\\\"urgent\\\")\\nt, p = stats.jarque_bera(urgent.stay)\\nprint(p)\";\n",
       "                var nbb_formatted_code = \"#  testing for kurtosis/skewness normality\\nprint(\\\"trauma\\\")\\nt, p = stats.jarque_bera(trauma.stay)\\nprint(p)\\nprint(\\\"emergency\\\")\\nt, p = stats.jarque_bera(emergency.stay)\\nprint(p)\\nprint(\\\"urgent\\\")\\nt, p = stats.jarque_bera(urgent.stay)\\nprint(p)\";\n",
       "                var nbb_cells = Jupyter.notebook.get_cells();\n",
       "                for (var i = 0; i < nbb_cells.length; ++i) {\n",
       "                    if (nbb_cells[i].input_prompt_number == nbb_cell_id) {\n",
       "                        if (nbb_cells[i].get_text() == nbb_unformatted_code) {\n",
       "                             nbb_cells[i].set_text(nbb_formatted_code);\n",
       "                        }\n",
       "                        break;\n",
       "                    }\n",
       "                }\n",
       "            }, 500);\n",
       "            "
      ],
      "text/plain": [
       "<IPython.core.display.Javascript object>"
      ]
     },
     "metadata": {},
     "output_type": "display_data"
    }
   ],
   "source": [
    "#  testing for kurtosis/skewness normality\n",
    "print(\"trauma\")\n",
    "t, p = stats.jarque_bera(trauma.stay)\n",
    "print(p)\n",
    "print(\"emergency\")\n",
    "t, p = stats.jarque_bera(emergency.stay)\n",
    "print(p)\n",
    "print(\"urgent\")\n",
    "t, p = stats.jarque_bera(urgent.stay)\n",
    "print(p)"
   ]
  },
  {
   "cell_type": "markdown",
   "metadata": {},
   "source": [
    "**Analysis:** null hypothesis is rejected; data is not normally distributed"
   ]
  },
  {
   "cell_type": "markdown",
   "metadata": {},
   "source": [
    "**Kruskal-Wallis Test**"
   ]
  },
  {
   "cell_type": "markdown",
   "metadata": {},
   "source": [
    "H_o = none of the group medians are significantly different"
   ]
  },
  {
   "cell_type": "code",
   "execution_count": 21,
   "metadata": {},
   "outputs": [
    {
     "data": {
      "text/plain": [
       "True"
      ]
     },
     "execution_count": 21,
     "metadata": {},
     "output_type": "execute_result"
    },
    {
     "data": {
      "application/javascript": [
       "\n",
       "            setTimeout(function() {\n",
       "                var nbb_cell_id = 21;\n",
       "                var nbb_unformatted_code = \"t, p = stats.kruskal(trauma.stay, emergency.stay, urgent.stay)\\np < 0.05\";\n",
       "                var nbb_formatted_code = \"t, p = stats.kruskal(trauma.stay, emergency.stay, urgent.stay)\\np < 0.05\";\n",
       "                var nbb_cells = Jupyter.notebook.get_cells();\n",
       "                for (var i = 0; i < nbb_cells.length; ++i) {\n",
       "                    if (nbb_cells[i].input_prompt_number == nbb_cell_id) {\n",
       "                        if (nbb_cells[i].get_text() == nbb_unformatted_code) {\n",
       "                             nbb_cells[i].set_text(nbb_formatted_code);\n",
       "                        }\n",
       "                        break;\n",
       "                    }\n",
       "                }\n",
       "            }, 500);\n",
       "            "
      ],
      "text/plain": [
       "<IPython.core.display.Javascript object>"
      ]
     },
     "metadata": {},
     "output_type": "display_data"
    },
    {
     "data": {
      "application/javascript": [
       "\n",
       "            setTimeout(function() {\n",
       "                var nbb_cell_id = 21;\n",
       "                var nbb_unformatted_code = \"t, p = stats.kruskal(trauma.stay, emergency.stay, urgent.stay)\\np < 0.05\";\n",
       "                var nbb_formatted_code = \"t, p = stats.kruskal(trauma.stay, emergency.stay, urgent.stay)\\np < 0.05\";\n",
       "                var nbb_cells = Jupyter.notebook.get_cells();\n",
       "                for (var i = 0; i < nbb_cells.length; ++i) {\n",
       "                    if (nbb_cells[i].input_prompt_number == nbb_cell_id) {\n",
       "                        if (nbb_cells[i].get_text() == nbb_unformatted_code) {\n",
       "                             nbb_cells[i].set_text(nbb_formatted_code);\n",
       "                        }\n",
       "                        break;\n",
       "                    }\n",
       "                }\n",
       "            }, 500);\n",
       "            "
      ],
      "text/plain": [
       "<IPython.core.display.Javascript object>"
      ]
     },
     "metadata": {},
     "output_type": "display_data"
    }
   ],
   "source": [
    "t, p = stats.kruskal(trauma.stay, emergency.stay, urgent.stay)\n",
    "p < 0.05"
   ]
  },
  {
   "cell_type": "markdown",
   "metadata": {},
   "source": [
    "**Analysis:** null hypothesis that the medians are the same is rejected"
   ]
  },
  {
   "cell_type": "markdown",
   "metadata": {},
   "source": [
    "**Kruskal pair testing**"
   ]
  },
  {
   "cell_type": "code",
   "execution_count": 22,
   "metadata": {},
   "outputs": [
    {
     "name": "stdout",
     "output_type": "stream",
     "text": [
      "[ True  True  True]\n",
      "[0.00000000e+00 0.00000000e+00 3.78133696e-22]\n",
      "0.016666666666666666\n"
     ]
    },
    {
     "data": {
      "application/javascript": [
       "\n",
       "            setTimeout(function() {\n",
       "                var nbb_cell_id = 22;\n",
       "                var nbb_unformatted_code = \"p_vals = []\\n\\n# run kruskal test on each pair of groups and add to list of uncorrected p-values\\nt, p = stats.kruskal(trauma.stay, emergency.stay)\\np_vals.append(p)\\nt, p = stats.kruskal(trauma.stay, urgent.stay)\\np_vals.append(p)\\nt, p = stats.kruskal(emergency.stay, urgent.stay)\\np_vals.append(p)\\n\\nreject, p_corrected, _, corrected_alpha = multipletests(p_vals, method=\\\"bonferroni\\\")\\nprint(reject)\\nprint(p_corrected)\\nprint(corrected_alpha)\";\n",
       "                var nbb_formatted_code = \"p_vals = []\\n\\n# run kruskal test on each pair of groups and add to list of uncorrected p-values\\nt, p = stats.kruskal(trauma.stay, emergency.stay)\\np_vals.append(p)\\nt, p = stats.kruskal(trauma.stay, urgent.stay)\\np_vals.append(p)\\nt, p = stats.kruskal(emergency.stay, urgent.stay)\\np_vals.append(p)\\n\\nreject, p_corrected, _, corrected_alpha = multipletests(p_vals, method=\\\"bonferroni\\\")\\nprint(reject)\\nprint(p_corrected)\\nprint(corrected_alpha)\";\n",
       "                var nbb_cells = Jupyter.notebook.get_cells();\n",
       "                for (var i = 0; i < nbb_cells.length; ++i) {\n",
       "                    if (nbb_cells[i].input_prompt_number == nbb_cell_id) {\n",
       "                        if (nbb_cells[i].get_text() == nbb_unformatted_code) {\n",
       "                             nbb_cells[i].set_text(nbb_formatted_code);\n",
       "                        }\n",
       "                        break;\n",
       "                    }\n",
       "                }\n",
       "            }, 500);\n",
       "            "
      ],
      "text/plain": [
       "<IPython.core.display.Javascript object>"
      ]
     },
     "metadata": {},
     "output_type": "display_data"
    },
    {
     "data": {
      "application/javascript": [
       "\n",
       "            setTimeout(function() {\n",
       "                var nbb_cell_id = 22;\n",
       "                var nbb_unformatted_code = \"p_vals = []\\n\\n# run kruskal test on each pair of groups and add to list of uncorrected p-values\\nt, p = stats.kruskal(trauma.stay, emergency.stay)\\np_vals.append(p)\\nt, p = stats.kruskal(trauma.stay, urgent.stay)\\np_vals.append(p)\\nt, p = stats.kruskal(emergency.stay, urgent.stay)\\np_vals.append(p)\\n\\nreject, p_corrected, _, corrected_alpha = multipletests(p_vals, method=\\\"bonferroni\\\")\\nprint(reject)\\nprint(p_corrected)\\nprint(corrected_alpha)\";\n",
       "                var nbb_formatted_code = \"p_vals = []\\n\\n# run kruskal test on each pair of groups and add to list of uncorrected p-values\\nt, p = stats.kruskal(trauma.stay, emergency.stay)\\np_vals.append(p)\\nt, p = stats.kruskal(trauma.stay, urgent.stay)\\np_vals.append(p)\\nt, p = stats.kruskal(emergency.stay, urgent.stay)\\np_vals.append(p)\\n\\nreject, p_corrected, _, corrected_alpha = multipletests(p_vals, method=\\\"bonferroni\\\")\\nprint(reject)\\nprint(p_corrected)\\nprint(corrected_alpha)\";\n",
       "                var nbb_cells = Jupyter.notebook.get_cells();\n",
       "                for (var i = 0; i < nbb_cells.length; ++i) {\n",
       "                    if (nbb_cells[i].input_prompt_number == nbb_cell_id) {\n",
       "                        if (nbb_cells[i].get_text() == nbb_unformatted_code) {\n",
       "                             nbb_cells[i].set_text(nbb_formatted_code);\n",
       "                        }\n",
       "                        break;\n",
       "                    }\n",
       "                }\n",
       "            }, 500);\n",
       "            "
      ],
      "text/plain": [
       "<IPython.core.display.Javascript object>"
      ]
     },
     "metadata": {},
     "output_type": "display_data"
    }
   ],
   "source": [
    "p_vals = []\n",
    "\n",
    "# run kruskal test on each pair of groups and add to list of uncorrected p-values\n",
    "t, p = stats.kruskal(trauma.stay, emergency.stay)\n",
    "p_vals.append(p)\n",
    "t, p = stats.kruskal(trauma.stay, urgent.stay)\n",
    "p_vals.append(p)\n",
    "t, p = stats.kruskal(emergency.stay, urgent.stay)\n",
    "p_vals.append(p)\n",
    "\n",
    "reject, p_corrected, _, corrected_alpha = multipletests(p_vals, method=\"bonferroni\")\n",
    "print(reject)\n",
    "print(p_corrected)\n",
    "print(corrected_alpha)"
   ]
  },
  {
   "cell_type": "markdown",
   "metadata": {},
   "source": [
    "**Analysis:** After the correction, the null hypotheses that the medians are all the same can be rejected"
   ]
  },
  {
   "cell_type": "markdown",
   "metadata": {},
   "source": [
    "## **Post hoc effect size analysis**"
   ]
  },
  {
   "cell_type": "markdown",
   "metadata": {},
   "source": [
    "### **Confidence interval for 2 group median test**"
   ]
  },
  {
   "cell_type": "markdown",
   "metadata": {},
   "source": [
    "**Trauma vs. Urgent confidence interval**"
   ]
  },
  {
   "cell_type": "code",
   "execution_count": 23,
   "metadata": {},
   "outputs": [
    {
     "data": {
      "application/vnd.jupyter.widget-view+json": {
       "model_id": "22b1276e07cb45398c45daf2ffff00c8",
       "version_major": 2,
       "version_minor": 0
      },
      "text/plain": [
       "HBox(children=(FloatProgress(value=0.0, max=5000.0), HTML(value='')))"
      ]
     },
     "metadata": {},
     "output_type": "display_data"
    },
    {
     "name": "stdout",
     "output_type": "stream",
     "text": [
      "\n",
      "Trauma vs. Urgent\n",
      "Bootstrapped confidence interval: 0.0, 0.0\n"
     ]
    },
    {
     "data": {
      "application/javascript": [
       "\n",
       "            setTimeout(function() {\n",
       "                var nbb_cell_id = 23;\n",
       "                var nbb_unformatted_code = \"median_diffs = []\\n# random sample of each group\\nfor i in status(range(5000)):\\n    trauma_sample = trauma.stay.sample(frac=1.0, replace=True)\\n    #     emergency_sample = emergency.stay.sample(frac=1.0, replace=True)\\n    urgent_sample = urgent.stay.sample(frac=1.0, replace=True)\\n    urgent_median = urgent_sample.median()\\n    #     non_trauma_median = (emergency_sample.median() + urgent_sample.median()) / 2\\n    trauma_median = trauma_sample.median()\\n    median_diff = trauma_median - urgent_median\\n    median_diffs.append(median_diff)\\n\\n# calculate the 95% confidence interval of the bootstrapped differences of mean with np.percentile()\\nci_lo = np.percentile(median_diffs, 2.5)\\nci_hi = np.percentile(median_diffs, 97.5)\\nprint(\\\"Trauma vs. Urgent\\\")\\nprint(f\\\"Bootstrapped confidence interval: {ci_lo}, {ci_hi}\\\")\";\n",
       "                var nbb_formatted_code = \"median_diffs = []\\n# random sample of each group\\nfor i in status(range(5000)):\\n    trauma_sample = trauma.stay.sample(frac=1.0, replace=True)\\n    #     emergency_sample = emergency.stay.sample(frac=1.0, replace=True)\\n    urgent_sample = urgent.stay.sample(frac=1.0, replace=True)\\n    urgent_median = urgent_sample.median()\\n    #     non_trauma_median = (emergency_sample.median() + urgent_sample.median()) / 2\\n    trauma_median = trauma_sample.median()\\n    median_diff = trauma_median - urgent_median\\n    median_diffs.append(median_diff)\\n\\n# calculate the 95% confidence interval of the bootstrapped differences of mean with np.percentile()\\nci_lo = np.percentile(median_diffs, 2.5)\\nci_hi = np.percentile(median_diffs, 97.5)\\nprint(\\\"Trauma vs. Urgent\\\")\\nprint(f\\\"Bootstrapped confidence interval: {ci_lo}, {ci_hi}\\\")\";\n",
       "                var nbb_cells = Jupyter.notebook.get_cells();\n",
       "                for (var i = 0; i < nbb_cells.length; ++i) {\n",
       "                    if (nbb_cells[i].input_prompt_number == nbb_cell_id) {\n",
       "                        if (nbb_cells[i].get_text() == nbb_unformatted_code) {\n",
       "                             nbb_cells[i].set_text(nbb_formatted_code);\n",
       "                        }\n",
       "                        break;\n",
       "                    }\n",
       "                }\n",
       "            }, 500);\n",
       "            "
      ],
      "text/plain": [
       "<IPython.core.display.Javascript object>"
      ]
     },
     "metadata": {},
     "output_type": "display_data"
    },
    {
     "data": {
      "application/javascript": [
       "\n",
       "            setTimeout(function() {\n",
       "                var nbb_cell_id = 23;\n",
       "                var nbb_unformatted_code = \"median_diffs = []\\n# random sample of each group\\nfor i in status(range(5000)):\\n    trauma_sample = trauma.stay.sample(frac=1.0, replace=True)\\n    #     emergency_sample = emergency.stay.sample(frac=1.0, replace=True)\\n    urgent_sample = urgent.stay.sample(frac=1.0, replace=True)\\n    urgent_median = urgent_sample.median()\\n    #     non_trauma_median = (emergency_sample.median() + urgent_sample.median()) / 2\\n    trauma_median = trauma_sample.median()\\n    median_diff = trauma_median - urgent_median\\n    median_diffs.append(median_diff)\\n\\n# calculate the 95% confidence interval of the bootstrapped differences of mean with np.percentile()\\nci_lo = np.percentile(median_diffs, 2.5)\\nci_hi = np.percentile(median_diffs, 97.5)\\nprint(\\\"Trauma vs. Urgent\\\")\\nprint(f\\\"Bootstrapped confidence interval: {ci_lo}, {ci_hi}\\\")\";\n",
       "                var nbb_formatted_code = \"median_diffs = []\\n# random sample of each group\\nfor i in status(range(5000)):\\n    trauma_sample = trauma.stay.sample(frac=1.0, replace=True)\\n    #     emergency_sample = emergency.stay.sample(frac=1.0, replace=True)\\n    urgent_sample = urgent.stay.sample(frac=1.0, replace=True)\\n    urgent_median = urgent_sample.median()\\n    #     non_trauma_median = (emergency_sample.median() + urgent_sample.median()) / 2\\n    trauma_median = trauma_sample.median()\\n    median_diff = trauma_median - urgent_median\\n    median_diffs.append(median_diff)\\n\\n# calculate the 95% confidence interval of the bootstrapped differences of mean with np.percentile()\\nci_lo = np.percentile(median_diffs, 2.5)\\nci_hi = np.percentile(median_diffs, 97.5)\\nprint(\\\"Trauma vs. Urgent\\\")\\nprint(f\\\"Bootstrapped confidence interval: {ci_lo}, {ci_hi}\\\")\";\n",
       "                var nbb_cells = Jupyter.notebook.get_cells();\n",
       "                for (var i = 0; i < nbb_cells.length; ++i) {\n",
       "                    if (nbb_cells[i].input_prompt_number == nbb_cell_id) {\n",
       "                        if (nbb_cells[i].get_text() == nbb_unformatted_code) {\n",
       "                             nbb_cells[i].set_text(nbb_formatted_code);\n",
       "                        }\n",
       "                        break;\n",
       "                    }\n",
       "                }\n",
       "            }, 500);\n",
       "            "
      ],
      "text/plain": [
       "<IPython.core.display.Javascript object>"
      ]
     },
     "metadata": {},
     "output_type": "display_data"
    }
   ],
   "source": [
    "median_diffs = []\n",
    "# random sample of each group\n",
    "for i in status(range(5000)):\n",
    "    trauma_sample = trauma.stay.sample(frac=1.0, replace=True)\n",
    "    #     emergency_sample = emergency.stay.sample(frac=1.0, replace=True)\n",
    "    urgent_sample = urgent.stay.sample(frac=1.0, replace=True)\n",
    "    urgent_median = urgent_sample.median()\n",
    "    #     non_trauma_median = (emergency_sample.median() + urgent_sample.median()) / 2\n",
    "    trauma_median = trauma_sample.median()\n",
    "    median_diff = trauma_median - urgent_median\n",
    "    median_diffs.append(median_diff)\n",
    "\n",
    "# calculate the 95% confidence interval of the bootstrapped differences of mean with np.percentile()\n",
    "ci_lo = np.percentile(median_diffs, 2.5)\n",
    "ci_hi = np.percentile(median_diffs, 97.5)\n",
    "print(\"Trauma vs. Urgent\")\n",
    "print(f\"Bootstrapped confidence interval: {ci_lo}, {ci_hi}\")"
   ]
  },
  {
   "cell_type": "markdown",
   "metadata": {},
   "source": [
    "**Analysis:** The confidence interval between median difference of trauma and urgent is 0. There is essentially 0 effect size."
   ]
  },
  {
   "cell_type": "markdown",
   "metadata": {},
   "source": [
    "**Trauma vs. Emergency confidence interval**"
   ]
  },
  {
   "cell_type": "code",
   "execution_count": 24,
   "metadata": {
    "scrolled": true
   },
   "outputs": [
    {
     "data": {
      "application/vnd.jupyter.widget-view+json": {
       "model_id": "15c09f7f01374c51ace4ecd227e73968",
       "version_major": 2,
       "version_minor": 0
      },
      "text/plain": [
       "HBox(children=(FloatProgress(value=0.0, max=5000.0), HTML(value='')))"
      ]
     },
     "metadata": {},
     "output_type": "display_data"
    },
    {
     "name": "stdout",
     "output_type": "stream",
     "text": [
      "\n",
      "Trauma vs. Emergency\n",
      "Bootstrapped confidence interval: 0.0, 0.0\n"
     ]
    },
    {
     "data": {
      "application/javascript": [
       "\n",
       "            setTimeout(function() {\n",
       "                var nbb_cell_id = 24;\n",
       "                var nbb_unformatted_code = \"median_diffs = []\\n# random sample of each group\\nfor i in status(range(5000)):\\n    trauma_sample = trauma.stay.sample(frac=1.0, replace=True)\\n    emergency_sample = emergency.stay.sample(frac=1.0, replace=True)\\n    emergency_median = emergency_sample.median()\\n    #     urgent_sample = urgent.stay.sample(frac=1.0, replace=True)\\n    #     urgent_median = urgent_sample.median()\\n    #     non_trauma_median = (emergency_sample.median() + urgent_sample.median()) / 2\\n    trauma_median = trauma_sample.median()\\n    median_diff = trauma_median - emergency_median\\n    median_diffs.append(median_diff)\\n\\n# calculate the 95% confidence interval of the bootstrapped differences of mean with np.percentile()\\nci_lo = np.percentile(median_diffs, 2.5)\\nci_hi = np.percentile(median_diffs, 97.5)\\nprint(\\\"Trauma vs. Emergency\\\")\\nprint(f\\\"Bootstrapped confidence interval: {ci_lo}, {ci_hi}\\\")\";\n",
       "                var nbb_formatted_code = \"median_diffs = []\\n# random sample of each group\\nfor i in status(range(5000)):\\n    trauma_sample = trauma.stay.sample(frac=1.0, replace=True)\\n    emergency_sample = emergency.stay.sample(frac=1.0, replace=True)\\n    emergency_median = emergency_sample.median()\\n    #     urgent_sample = urgent.stay.sample(frac=1.0, replace=True)\\n    #     urgent_median = urgent_sample.median()\\n    #     non_trauma_median = (emergency_sample.median() + urgent_sample.median()) / 2\\n    trauma_median = trauma_sample.median()\\n    median_diff = trauma_median - emergency_median\\n    median_diffs.append(median_diff)\\n\\n# calculate the 95% confidence interval of the bootstrapped differences of mean with np.percentile()\\nci_lo = np.percentile(median_diffs, 2.5)\\nci_hi = np.percentile(median_diffs, 97.5)\\nprint(\\\"Trauma vs. Emergency\\\")\\nprint(f\\\"Bootstrapped confidence interval: {ci_lo}, {ci_hi}\\\")\";\n",
       "                var nbb_cells = Jupyter.notebook.get_cells();\n",
       "                for (var i = 0; i < nbb_cells.length; ++i) {\n",
       "                    if (nbb_cells[i].input_prompt_number == nbb_cell_id) {\n",
       "                        if (nbb_cells[i].get_text() == nbb_unformatted_code) {\n",
       "                             nbb_cells[i].set_text(nbb_formatted_code);\n",
       "                        }\n",
       "                        break;\n",
       "                    }\n",
       "                }\n",
       "            }, 500);\n",
       "            "
      ],
      "text/plain": [
       "<IPython.core.display.Javascript object>"
      ]
     },
     "metadata": {},
     "output_type": "display_data"
    },
    {
     "data": {
      "application/javascript": [
       "\n",
       "            setTimeout(function() {\n",
       "                var nbb_cell_id = 24;\n",
       "                var nbb_unformatted_code = \"median_diffs = []\\n# random sample of each group\\nfor i in status(range(5000)):\\n    trauma_sample = trauma.stay.sample(frac=1.0, replace=True)\\n    emergency_sample = emergency.stay.sample(frac=1.0, replace=True)\\n    emergency_median = emergency_sample.median()\\n    #     urgent_sample = urgent.stay.sample(frac=1.0, replace=True)\\n    #     urgent_median = urgent_sample.median()\\n    #     non_trauma_median = (emergency_sample.median() + urgent_sample.median()) / 2\\n    trauma_median = trauma_sample.median()\\n    median_diff = trauma_median - emergency_median\\n    median_diffs.append(median_diff)\\n\\n# calculate the 95% confidence interval of the bootstrapped differences of mean with np.percentile()\\nci_lo = np.percentile(median_diffs, 2.5)\\nci_hi = np.percentile(median_diffs, 97.5)\\nprint(\\\"Trauma vs. Emergency\\\")\\nprint(f\\\"Bootstrapped confidence interval: {ci_lo}, {ci_hi}\\\")\";\n",
       "                var nbb_formatted_code = \"median_diffs = []\\n# random sample of each group\\nfor i in status(range(5000)):\\n    trauma_sample = trauma.stay.sample(frac=1.0, replace=True)\\n    emergency_sample = emergency.stay.sample(frac=1.0, replace=True)\\n    emergency_median = emergency_sample.median()\\n    #     urgent_sample = urgent.stay.sample(frac=1.0, replace=True)\\n    #     urgent_median = urgent_sample.median()\\n    #     non_trauma_median = (emergency_sample.median() + urgent_sample.median()) / 2\\n    trauma_median = trauma_sample.median()\\n    median_diff = trauma_median - emergency_median\\n    median_diffs.append(median_diff)\\n\\n# calculate the 95% confidence interval of the bootstrapped differences of mean with np.percentile()\\nci_lo = np.percentile(median_diffs, 2.5)\\nci_hi = np.percentile(median_diffs, 97.5)\\nprint(\\\"Trauma vs. Emergency\\\")\\nprint(f\\\"Bootstrapped confidence interval: {ci_lo}, {ci_hi}\\\")\";\n",
       "                var nbb_cells = Jupyter.notebook.get_cells();\n",
       "                for (var i = 0; i < nbb_cells.length; ++i) {\n",
       "                    if (nbb_cells[i].input_prompt_number == nbb_cell_id) {\n",
       "                        if (nbb_cells[i].get_text() == nbb_unformatted_code) {\n",
       "                             nbb_cells[i].set_text(nbb_formatted_code);\n",
       "                        }\n",
       "                        break;\n",
       "                    }\n",
       "                }\n",
       "            }, 500);\n",
       "            "
      ],
      "text/plain": [
       "<IPython.core.display.Javascript object>"
      ]
     },
     "metadata": {},
     "output_type": "display_data"
    }
   ],
   "source": [
    "median_diffs = []\n",
    "# random sample of each group\n",
    "for i in status(range(5000)):\n",
    "    trauma_sample = trauma.stay.sample(frac=1.0, replace=True)\n",
    "    emergency_sample = emergency.stay.sample(frac=1.0, replace=True)\n",
    "    emergency_median = emergency_sample.median()\n",
    "    #     urgent_sample = urgent.stay.sample(frac=1.0, replace=True)\n",
    "    #     urgent_median = urgent_sample.median()\n",
    "    #     non_trauma_median = (emergency_sample.median() + urgent_sample.median()) / 2\n",
    "    trauma_median = trauma_sample.median()\n",
    "    median_diff = trauma_median - emergency_median\n",
    "    median_diffs.append(median_diff)\n",
    "\n",
    "# calculate the 95% confidence interval of the bootstrapped differences of mean with np.percentile()\n",
    "ci_lo = np.percentile(median_diffs, 2.5)\n",
    "ci_hi = np.percentile(median_diffs, 97.5)\n",
    "print(\"Trauma vs. Emergency\")\n",
    "print(f\"Bootstrapped confidence interval: {ci_lo}, {ci_hi}\")"
   ]
  },
  {
   "cell_type": "markdown",
   "metadata": {},
   "source": [
    "**Analysis:** The confidence interval between median difference of trauma and urgent is 0. There is essentially 0 effect size."
   ]
  },
  {
   "cell_type": "markdown",
   "metadata": {},
   "source": [
    "### **Common language effect size test**"
   ]
  },
  {
   "cell_type": "markdown",
   "metadata": {},
   "source": [
    "**CLES test: Trauma vs. Urgent**"
   ]
  },
  {
   "cell_type": "code",
   "execution_count": 25,
   "metadata": {},
   "outputs": [
    {
     "data": {
      "text/plain": [
       "0.4607461491367074"
      ]
     },
     "execution_count": 25,
     "metadata": {},
     "output_type": "execute_result"
    },
    {
     "data": {
      "application/javascript": [
       "\n",
       "            setTimeout(function() {\n",
       "                var nbb_cell_id = 25;\n",
       "                var nbb_unformatted_code = \"# 50% sample size of each group\\ntrauma_sample = trauma.stay.sample(frac=0.5, replace=True)\\nurgent_sample = urgent.stay.sample(frac=0.5, replace=True)\\n\\n# CLES test for trauma vs. urgent\\ncles_ind(trauma_sample, urgent_sample)\";\n",
       "                var nbb_formatted_code = \"# 50% sample size of each group\\ntrauma_sample = trauma.stay.sample(frac=0.5, replace=True)\\nurgent_sample = urgent.stay.sample(frac=0.5, replace=True)\\n\\n# CLES test for trauma vs. urgent\\ncles_ind(trauma_sample, urgent_sample)\";\n",
       "                var nbb_cells = Jupyter.notebook.get_cells();\n",
       "                for (var i = 0; i < nbb_cells.length; ++i) {\n",
       "                    if (nbb_cells[i].input_prompt_number == nbb_cell_id) {\n",
       "                        if (nbb_cells[i].get_text() == nbb_unformatted_code) {\n",
       "                             nbb_cells[i].set_text(nbb_formatted_code);\n",
       "                        }\n",
       "                        break;\n",
       "                    }\n",
       "                }\n",
       "            }, 500);\n",
       "            "
      ],
      "text/plain": [
       "<IPython.core.display.Javascript object>"
      ]
     },
     "metadata": {},
     "output_type": "display_data"
    },
    {
     "data": {
      "application/javascript": [
       "\n",
       "            setTimeout(function() {\n",
       "                var nbb_cell_id = 25;\n",
       "                var nbb_unformatted_code = \"# 50% sample size of each group\\ntrauma_sample = trauma.stay.sample(frac=0.5, replace=True)\\nurgent_sample = urgent.stay.sample(frac=0.5, replace=True)\\n\\n# CLES test for trauma vs. urgent\\ncles_ind(trauma_sample, urgent_sample)\";\n",
       "                var nbb_formatted_code = \"# 50% sample size of each group\\ntrauma_sample = trauma.stay.sample(frac=0.5, replace=True)\\nurgent_sample = urgent.stay.sample(frac=0.5, replace=True)\\n\\n# CLES test for trauma vs. urgent\\ncles_ind(trauma_sample, urgent_sample)\";\n",
       "                var nbb_cells = Jupyter.notebook.get_cells();\n",
       "                for (var i = 0; i < nbb_cells.length; ++i) {\n",
       "                    if (nbb_cells[i].input_prompt_number == nbb_cell_id) {\n",
       "                        if (nbb_cells[i].get_text() == nbb_unformatted_code) {\n",
       "                             nbb_cells[i].set_text(nbb_formatted_code);\n",
       "                        }\n",
       "                        break;\n",
       "                    }\n",
       "                }\n",
       "            }, 500);\n",
       "            "
      ],
      "text/plain": [
       "<IPython.core.display.Javascript object>"
      ]
     },
     "metadata": {},
     "output_type": "display_data"
    }
   ],
   "source": [
    "# 50% sample size of each group\n",
    "trauma_sample = trauma.stay.sample(frac=0.5, replace=True)\n",
    "urgent_sample = urgent.stay.sample(frac=0.5, replace=True)\n",
    "\n",
    "# CLES test for trauma vs. urgent\n",
    "cles_ind(trauma_sample, urgent_sample)"
   ]
  },
  {
   "cell_type": "markdown",
   "metadata": {},
   "source": [
    "**Analysis:** When admitting a patient as **trauma**, 46% of the time we would expect a longer stay than if they were admitted as **urgent**. "
   ]
  },
  {
   "cell_type": "markdown",
   "metadata": {},
   "source": [
    "**CLES Test: Trauma vs. Emergency**"
   ]
  },
  {
   "cell_type": "code",
   "execution_count": 26,
   "metadata": {},
   "outputs": [
    {
     "data": {
      "text/plain": [
       "0.4780300786791433"
      ]
     },
     "execution_count": 26,
     "metadata": {},
     "output_type": "execute_result"
    },
    {
     "data": {
      "application/javascript": [
       "\n",
       "            setTimeout(function() {\n",
       "                var nbb_cell_id = 26;\n",
       "                var nbb_unformatted_code = \"#  new 25% sample of trauma and emergency groups\\ntrauma_sample = trauma.stay.sample(frac=0.25, replace=True)\\nemergency_sample = emergency.stay.sample(frac=0.25, replace=True)\\n\\n# CLES for trauma vs. emergency\\ncles_ind(trauma_sample, emergency_sample)\";\n",
       "                var nbb_formatted_code = \"#  new 25% sample of trauma and emergency groups\\ntrauma_sample = trauma.stay.sample(frac=0.25, replace=True)\\nemergency_sample = emergency.stay.sample(frac=0.25, replace=True)\\n\\n# CLES for trauma vs. emergency\\ncles_ind(trauma_sample, emergency_sample)\";\n",
       "                var nbb_cells = Jupyter.notebook.get_cells();\n",
       "                for (var i = 0; i < nbb_cells.length; ++i) {\n",
       "                    if (nbb_cells[i].input_prompt_number == nbb_cell_id) {\n",
       "                        if (nbb_cells[i].get_text() == nbb_unformatted_code) {\n",
       "                             nbb_cells[i].set_text(nbb_formatted_code);\n",
       "                        }\n",
       "                        break;\n",
       "                    }\n",
       "                }\n",
       "            }, 500);\n",
       "            "
      ],
      "text/plain": [
       "<IPython.core.display.Javascript object>"
      ]
     },
     "metadata": {},
     "output_type": "display_data"
    },
    {
     "data": {
      "application/javascript": [
       "\n",
       "            setTimeout(function() {\n",
       "                var nbb_cell_id = 26;\n",
       "                var nbb_unformatted_code = \"#  new 25% sample of trauma and emergency groups\\ntrauma_sample = trauma.stay.sample(frac=0.25, replace=True)\\nemergency_sample = emergency.stay.sample(frac=0.25, replace=True)\\n\\n# CLES for trauma vs. emergency\\ncles_ind(trauma_sample, emergency_sample)\";\n",
       "                var nbb_formatted_code = \"#  new 25% sample of trauma and emergency groups\\ntrauma_sample = trauma.stay.sample(frac=0.25, replace=True)\\nemergency_sample = emergency.stay.sample(frac=0.25, replace=True)\\n\\n# CLES for trauma vs. emergency\\ncles_ind(trauma_sample, emergency_sample)\";\n",
       "                var nbb_cells = Jupyter.notebook.get_cells();\n",
       "                for (var i = 0; i < nbb_cells.length; ++i) {\n",
       "                    if (nbb_cells[i].input_prompt_number == nbb_cell_id) {\n",
       "                        if (nbb_cells[i].get_text() == nbb_unformatted_code) {\n",
       "                             nbb_cells[i].set_text(nbb_formatted_code);\n",
       "                        }\n",
       "                        break;\n",
       "                    }\n",
       "                }\n",
       "            }, 500);\n",
       "            "
      ],
      "text/plain": [
       "<IPython.core.display.Javascript object>"
      ]
     },
     "metadata": {},
     "output_type": "display_data"
    }
   ],
   "source": [
    "#  new 25% sample of trauma and emergency groups\n",
    "trauma_sample = trauma.stay.sample(frac=0.25, replace=True)\n",
    "emergency_sample = emergency.stay.sample(frac=0.25, replace=True)\n",
    "\n",
    "# CLES for trauma vs. emergency\n",
    "cles_ind(trauma_sample, emergency_sample)"
   ]
  },
  {
   "cell_type": "markdown",
   "metadata": {},
   "source": [
    "**Analysis:** When admitting a patient as **trauma**, 48% of the time we would expect a longer stay than if they were admitted as **emergency**. "
   ]
  },
  {
   "cell_type": "markdown",
   "metadata": {},
   "source": [
    "**CLES Test: Emergency vs. Urgent**"
   ]
  },
  {
   "cell_type": "code",
   "execution_count": 27,
   "metadata": {},
   "outputs": [
    {
     "data": {
      "text/plain": [
       "0.41556759613026806"
      ]
     },
     "execution_count": 27,
     "metadata": {},
     "output_type": "execute_result"
    },
    {
     "data": {
      "application/javascript": [
       "\n",
       "            setTimeout(function() {\n",
       "                var nbb_cell_id = 27;\n",
       "                var nbb_unformatted_code = \"# 50% samples of emergency and urgent groups\\nemergency_sample = emergency.stay.sample(frac=0.5, replace=True)\\nurgent_sample = urgent.stay.sample(frac=0.5, replace=True)\\n\\n#  CLES test for emergency vs. urgent\\ncles_ind(emergency_sample, urgent_sample)\";\n",
       "                var nbb_formatted_code = \"# 50% samples of emergency and urgent groups\\nemergency_sample = emergency.stay.sample(frac=0.5, replace=True)\\nurgent_sample = urgent.stay.sample(frac=0.5, replace=True)\\n\\n#  CLES test for emergency vs. urgent\\ncles_ind(emergency_sample, urgent_sample)\";\n",
       "                var nbb_cells = Jupyter.notebook.get_cells();\n",
       "                for (var i = 0; i < nbb_cells.length; ++i) {\n",
       "                    if (nbb_cells[i].input_prompt_number == nbb_cell_id) {\n",
       "                        if (nbb_cells[i].get_text() == nbb_unformatted_code) {\n",
       "                             nbb_cells[i].set_text(nbb_formatted_code);\n",
       "                        }\n",
       "                        break;\n",
       "                    }\n",
       "                }\n",
       "            }, 500);\n",
       "            "
      ],
      "text/plain": [
       "<IPython.core.display.Javascript object>"
      ]
     },
     "metadata": {},
     "output_type": "display_data"
    },
    {
     "data": {
      "application/javascript": [
       "\n",
       "            setTimeout(function() {\n",
       "                var nbb_cell_id = 27;\n",
       "                var nbb_unformatted_code = \"# 50% samples of emergency and urgent groups\\nemergency_sample = emergency.stay.sample(frac=0.5, replace=True)\\nurgent_sample = urgent.stay.sample(frac=0.5, replace=True)\\n\\n#  CLES test for emergency vs. urgent\\ncles_ind(emergency_sample, urgent_sample)\";\n",
       "                var nbb_formatted_code = \"# 50% samples of emergency and urgent groups\\nemergency_sample = emergency.stay.sample(frac=0.5, replace=True)\\nurgent_sample = urgent.stay.sample(frac=0.5, replace=True)\\n\\n#  CLES test for emergency vs. urgent\\ncles_ind(emergency_sample, urgent_sample)\";\n",
       "                var nbb_cells = Jupyter.notebook.get_cells();\n",
       "                for (var i = 0; i < nbb_cells.length; ++i) {\n",
       "                    if (nbb_cells[i].input_prompt_number == nbb_cell_id) {\n",
       "                        if (nbb_cells[i].get_text() == nbb_unformatted_code) {\n",
       "                             nbb_cells[i].set_text(nbb_formatted_code);\n",
       "                        }\n",
       "                        break;\n",
       "                    }\n",
       "                }\n",
       "            }, 500);\n",
       "            "
      ],
      "text/plain": [
       "<IPython.core.display.Javascript object>"
      ]
     },
     "metadata": {},
     "output_type": "display_data"
    }
   ],
   "source": [
    "# 50% samples of emergency and urgent groups\n",
    "emergency_sample = emergency.stay.sample(frac=0.5, replace=True)\n",
    "urgent_sample = urgent.stay.sample(frac=0.5, replace=True)\n",
    "\n",
    "#  CLES test for emergency vs. urgent\n",
    "cles_ind(emergency_sample, urgent_sample)"
   ]
  },
  {
   "cell_type": "markdown",
   "metadata": {},
   "source": [
    "**Analysis:** When admitting a patient as **emergency**, 42% of the time we would expect a longer stay than if they were admitted as **urgent**"
   ]
  },
  {
   "cell_type": "markdown",
   "metadata": {},
   "source": [
    "**Conclusion:** Even though we were able to reject the null hypothesis that the group medians are the same, but the confidence interval for the size of the effect is 0."
   ]
  },
  {
   "cell_type": "markdown",
   "metadata": {},
   "source": [
    "# Age vs. LOS"
   ]
  },
  {
   "cell_type": "code",
   "execution_count": 28,
   "metadata": {},
   "outputs": [
    {
     "data": {
      "application/javascript": [
       "\n",
       "            setTimeout(function() {\n",
       "                var nbb_cell_id = 28;\n",
       "                var nbb_unformatted_code = \"moderate = df[df.severity == \\\"Moderate\\\"]\\nminor = df[df.severity == \\\"Minor\\\"]\\nextreme = df[df.severity == \\\"Extreme\\\"]\";\n",
       "                var nbb_formatted_code = \"moderate = df[df.severity == \\\"Moderate\\\"]\\nminor = df[df.severity == \\\"Minor\\\"]\\nextreme = df[df.severity == \\\"Extreme\\\"]\";\n",
       "                var nbb_cells = Jupyter.notebook.get_cells();\n",
       "                for (var i = 0; i < nbb_cells.length; ++i) {\n",
       "                    if (nbb_cells[i].input_prompt_number == nbb_cell_id) {\n",
       "                        if (nbb_cells[i].get_text() == nbb_unformatted_code) {\n",
       "                             nbb_cells[i].set_text(nbb_formatted_code);\n",
       "                        }\n",
       "                        break;\n",
       "                    }\n",
       "                }\n",
       "            }, 500);\n",
       "            "
      ],
      "text/plain": [
       "<IPython.core.display.Javascript object>"
      ]
     },
     "metadata": {},
     "output_type": "display_data"
    },
    {
     "data": {
      "application/javascript": [
       "\n",
       "            setTimeout(function() {\n",
       "                var nbb_cell_id = 28;\n",
       "                var nbb_unformatted_code = \"moderate = df[df.severity == \\\"Moderate\\\"]\\nminor = df[df.severity == \\\"Minor\\\"]\\nextreme = df[df.severity == \\\"Extreme\\\"]\";\n",
       "                var nbb_formatted_code = \"moderate = df[df.severity == \\\"Moderate\\\"]\\nminor = df[df.severity == \\\"Minor\\\"]\\nextreme = df[df.severity == \\\"Extreme\\\"]\";\n",
       "                var nbb_cells = Jupyter.notebook.get_cells();\n",
       "                for (var i = 0; i < nbb_cells.length; ++i) {\n",
       "                    if (nbb_cells[i].input_prompt_number == nbb_cell_id) {\n",
       "                        if (nbb_cells[i].get_text() == nbb_unformatted_code) {\n",
       "                             nbb_cells[i].set_text(nbb_formatted_code);\n",
       "                        }\n",
       "                        break;\n",
       "                    }\n",
       "                }\n",
       "            }, 500);\n",
       "            "
      ],
      "text/plain": [
       "<IPython.core.display.Javascript object>"
      ]
     },
     "metadata": {},
     "output_type": "display_data"
    }
   ],
   "source": [
    "moderate = df[df.severity == \"Moderate\"]\n",
    "minor = df[df.severity == \"Minor\"]\n",
    "extreme = df[df.severity == \"Extreme\"]"
   ]
  },
  {
   "cell_type": "markdown",
   "metadata": {},
   "source": [
    "**Minor severity**"
   ]
  },
  {
   "cell_type": "code",
   "execution_count": 29,
   "metadata": {
    "scrolled": false
   },
   "outputs": [
    {
     "data": {
      "text/html": [
       "<style  type=\"text/css\" >\n",
       "    #T_cbf38cf5_2e7d_11eb_9f9a_bc542fc4f43brow0_col0 {\n",
       "            background-color:  #fff7fb;\n",
       "            color:  #000000;\n",
       "        }    #T_cbf38cf5_2e7d_11eb_9f9a_bc542fc4f43brow0_col1 {\n",
       "            background-color:  #e8e4f0;\n",
       "            color:  #000000;\n",
       "        }    #T_cbf38cf5_2e7d_11eb_9f9a_bc542fc4f43brow1_col0 {\n",
       "            background-color:  #e5e1ef;\n",
       "            color:  #000000;\n",
       "        }    #T_cbf38cf5_2e7d_11eb_9f9a_bc542fc4f43brow1_col1 {\n",
       "            background-color:  #7bacd1;\n",
       "            color:  #000000;\n",
       "        }    #T_cbf38cf5_2e7d_11eb_9f9a_bc542fc4f43brow2_col0 {\n",
       "            background-color:  #b8c6e0;\n",
       "            color:  #000000;\n",
       "        }    #T_cbf38cf5_2e7d_11eb_9f9a_bc542fc4f43brow2_col1 {\n",
       "            background-color:  #034973;\n",
       "            color:  #f1f1f1;\n",
       "        }    #T_cbf38cf5_2e7d_11eb_9f9a_bc542fc4f43brow3_col0 {\n",
       "            background-color:  #a1bbda;\n",
       "            color:  #000000;\n",
       "        }    #T_cbf38cf5_2e7d_11eb_9f9a_bc542fc4f43brow3_col1 {\n",
       "            background-color:  #023858;\n",
       "            color:  #f1f1f1;\n",
       "        }    #T_cbf38cf5_2e7d_11eb_9f9a_bc542fc4f43brow4_col0 {\n",
       "            background-color:  #9cb9d9;\n",
       "            color:  #000000;\n",
       "        }    #T_cbf38cf5_2e7d_11eb_9f9a_bc542fc4f43brow4_col1 {\n",
       "            background-color:  #056ba7;\n",
       "            color:  #f1f1f1;\n",
       "        }    #T_cbf38cf5_2e7d_11eb_9f9a_bc542fc4f43brow5_col0 {\n",
       "            background-color:  #73a9cf;\n",
       "            color:  #000000;\n",
       "        }    #T_cbf38cf5_2e7d_11eb_9f9a_bc542fc4f43brow5_col1 {\n",
       "            background-color:  #348ebf;\n",
       "            color:  #000000;\n",
       "        }    #T_cbf38cf5_2e7d_11eb_9f9a_bc542fc4f43brow6_col0 {\n",
       "            background-color:  #83afd3;\n",
       "            color:  #000000;\n",
       "        }    #T_cbf38cf5_2e7d_11eb_9f9a_bc542fc4f43brow6_col1 {\n",
       "            background-color:  #78abd0;\n",
       "            color:  #000000;\n",
       "        }    #T_cbf38cf5_2e7d_11eb_9f9a_bc542fc4f43brow7_col0 {\n",
       "            background-color:  #2d8abd;\n",
       "            color:  #000000;\n",
       "        }    #T_cbf38cf5_2e7d_11eb_9f9a_bc542fc4f43brow7_col1 {\n",
       "            background-color:  #4c99c5;\n",
       "            color:  #000000;\n",
       "        }    #T_cbf38cf5_2e7d_11eb_9f9a_bc542fc4f43brow8_col0 {\n",
       "            background-color:  #023858;\n",
       "            color:  #f1f1f1;\n",
       "        }    #T_cbf38cf5_2e7d_11eb_9f9a_bc542fc4f43brow8_col1 {\n",
       "            background-color:  #f1ebf4;\n",
       "            color:  #000000;\n",
       "        }    #T_cbf38cf5_2e7d_11eb_9f9a_bc542fc4f43brow9_col0 {\n",
       "            background-color:  #046097;\n",
       "            color:  #f1f1f1;\n",
       "        }    #T_cbf38cf5_2e7d_11eb_9f9a_bc542fc4f43brow9_col1 {\n",
       "            background-color:  #fff7fb;\n",
       "            color:  #000000;\n",
       "        }</style><table id=\"T_cbf38cf5_2e7d_11eb_9f9a_bc542fc4f43b\" ><thead>    <tr>        <th class=\"blank level0\" ></th>        <th class=\"col_heading level0 col0\" colspan=2>stay</th>    </tr>    <tr>        <th class=\"blank level1\" ></th>        <th class=\"col_heading level1 col0\" >mean</th>        <th class=\"col_heading level1 col1\" >count</th>    </tr>    <tr>        <th class=\"index_name level0\" >age</th>        <th class=\"blank\" ></th>        <th class=\"blank\" ></th>    </tr></thead><tbody>\n",
       "                <tr>\n",
       "                        <th id=\"T_cbf38cf5_2e7d_11eb_9f9a_bc542fc4f43blevel0_row0\" class=\"row_heading level0 row0\" >5</th>\n",
       "                        <td id=\"T_cbf38cf5_2e7d_11eb_9f9a_bc542fc4f43brow0_col0\" class=\"data row0 col0\" >24.038920</td>\n",
       "                        <td id=\"T_cbf38cf5_2e7d_11eb_9f9a_bc542fc4f43brow0_col1\" class=\"data row0 col1\" >2518</td>\n",
       "            </tr>\n",
       "            <tr>\n",
       "                        <th id=\"T_cbf38cf5_2e7d_11eb_9f9a_bc542fc4f43blevel0_row1\" class=\"row_heading level0 row1\" >15</th>\n",
       "                        <td id=\"T_cbf38cf5_2e7d_11eb_9f9a_bc542fc4f43brow1_col0\" class=\"data row1 col0\" >25.309601</td>\n",
       "                        <td id=\"T_cbf38cf5_2e7d_11eb_9f9a_bc542fc4f43brow1_col1\" class=\"data row1 col1\" >7978</td>\n",
       "            </tr>\n",
       "            <tr>\n",
       "                        <th id=\"T_cbf38cf5_2e7d_11eb_9f9a_bc542fc4f43blevel0_row2\" class=\"row_heading level0 row2\" >25</th>\n",
       "                        <td id=\"T_cbf38cf5_2e7d_11eb_9f9a_bc542fc4f43brow2_col0\" class=\"data row2 col0\" >26.614512</td>\n",
       "                        <td id=\"T_cbf38cf5_2e7d_11eb_9f9a_bc542fc4f43brow2_col1\" class=\"data row2 col1\" >15243</td>\n",
       "            </tr>\n",
       "            <tr>\n",
       "                        <th id=\"T_cbf38cf5_2e7d_11eb_9f9a_bc542fc4f43blevel0_row3\" class=\"row_heading level0 row3\" >35</th>\n",
       "                        <td id=\"T_cbf38cf5_2e7d_11eb_9f9a_bc542fc4f43brow3_col0\" class=\"data row3 col0\" >27.148907</td>\n",
       "                        <td id=\"T_cbf38cf5_2e7d_11eb_9f9a_bc542fc4f43brow3_col1\" class=\"data row3 col1\" >16292</td>\n",
       "            </tr>\n",
       "            <tr>\n",
       "                        <th id=\"T_cbf38cf5_2e7d_11eb_9f9a_bc542fc4f43blevel0_row4\" class=\"row_heading level0 row4\" >45</th>\n",
       "                        <td id=\"T_cbf38cf5_2e7d_11eb_9f9a_bc542fc4f43brow4_col0\" class=\"data row4 col0\" >27.233793</td>\n",
       "                        <td id=\"T_cbf38cf5_2e7d_11eb_9f9a_bc542fc4f43brow4_col1\" class=\"data row4 col1\" >12772</td>\n",
       "            </tr>\n",
       "            <tr>\n",
       "                        <th id=\"T_cbf38cf5_2e7d_11eb_9f9a_bc542fc4f43blevel0_row5\" class=\"row_heading level0 row5\" >55</th>\n",
       "                        <td id=\"T_cbf38cf5_2e7d_11eb_9f9a_bc542fc4f43brow5_col0\" class=\"data row5 col0\" >28.048874</td>\n",
       "                        <td id=\"T_cbf38cf5_2e7d_11eb_9f9a_bc542fc4f43brow5_col1\" class=\"data row5 col1\" >10394</td>\n",
       "            </tr>\n",
       "            <tr>\n",
       "                        <th id=\"T_cbf38cf5_2e7d_11eb_9f9a_bc542fc4f43blevel0_row6\" class=\"row_heading level0 row6\" >65</th>\n",
       "                        <td id=\"T_cbf38cf5_2e7d_11eb_9f9a_bc542fc4f43brow6_col0\" class=\"data row6 col0\" >27.737375</td>\n",
       "                        <td id=\"T_cbf38cf5_2e7d_11eb_9f9a_bc542fc4f43brow6_col1\" class=\"data row6 col1\" >8099</td>\n",
       "            </tr>\n",
       "            <tr>\n",
       "                        <th id=\"T_cbf38cf5_2e7d_11eb_9f9a_bc542fc4f43blevel0_row7\" class=\"row_heading level0 row7\" >75</th>\n",
       "                        <td id=\"T_cbf38cf5_2e7d_11eb_9f9a_bc542fc4f43brow7_col0\" class=\"data row7 col0\" >29.195511</td>\n",
       "                        <td id=\"T_cbf38cf5_2e7d_11eb_9f9a_bc542fc4f43brow7_col1\" class=\"data row7 col1\" >9534</td>\n",
       "            </tr>\n",
       "            <tr>\n",
       "                        <th id=\"T_cbf38cf5_2e7d_11eb_9f9a_bc542fc4f43blevel0_row8\" class=\"row_heading level0 row8\" >85</th>\n",
       "                        <td id=\"T_cbf38cf5_2e7d_11eb_9f9a_bc542fc4f43brow8_col0\" class=\"data row8 col0\" >32.037243</td>\n",
       "                        <td id=\"T_cbf38cf5_2e7d_11eb_9f9a_bc542fc4f43brow8_col1\" class=\"data row8 col1\" >1799</td>\n",
       "            </tr>\n",
       "            <tr>\n",
       "                        <th id=\"T_cbf38cf5_2e7d_11eb_9f9a_bc542fc4f43blevel0_row9\" class=\"row_heading level0 row9\" >95</th>\n",
       "                        <td id=\"T_cbf38cf5_2e7d_11eb_9f9a_bc542fc4f43brow9_col0\" class=\"data row9 col0\" >30.741445</td>\n",
       "                        <td id=\"T_cbf38cf5_2e7d_11eb_9f9a_bc542fc4f43brow9_col1\" class=\"data row9 col1\" >263</td>\n",
       "            </tr>\n",
       "    </tbody></table>"
      ],
      "text/plain": [
       "<pandas.io.formats.style.Styler at 0x230c4d44130>"
      ]
     },
     "execution_count": 29,
     "metadata": {},
     "output_type": "execute_result"
    },
    {
     "data": {
      "application/javascript": [
       "\n",
       "            setTimeout(function() {\n",
       "                var nbb_cell_id = 29;\n",
       "                var nbb_unformatted_code = \"minor.groupby([\\\"age\\\"]).agg({\\\"stay\\\": [\\\"mean\\\", \\\"count\\\"]}).style.background_gradient()\";\n",
       "                var nbb_formatted_code = \"minor.groupby([\\\"age\\\"]).agg({\\\"stay\\\": [\\\"mean\\\", \\\"count\\\"]}).style.background_gradient()\";\n",
       "                var nbb_cells = Jupyter.notebook.get_cells();\n",
       "                for (var i = 0; i < nbb_cells.length; ++i) {\n",
       "                    if (nbb_cells[i].input_prompt_number == nbb_cell_id) {\n",
       "                        if (nbb_cells[i].get_text() == nbb_unformatted_code) {\n",
       "                             nbb_cells[i].set_text(nbb_formatted_code);\n",
       "                        }\n",
       "                        break;\n",
       "                    }\n",
       "                }\n",
       "            }, 500);\n",
       "            "
      ],
      "text/plain": [
       "<IPython.core.display.Javascript object>"
      ]
     },
     "metadata": {},
     "output_type": "display_data"
    },
    {
     "data": {
      "application/javascript": [
       "\n",
       "            setTimeout(function() {\n",
       "                var nbb_cell_id = 29;\n",
       "                var nbb_unformatted_code = \"minor.groupby([\\\"age\\\"]).agg({\\\"stay\\\": [\\\"mean\\\", \\\"count\\\"]}).style.background_gradient()\";\n",
       "                var nbb_formatted_code = \"minor.groupby([\\\"age\\\"]).agg({\\\"stay\\\": [\\\"mean\\\", \\\"count\\\"]}).style.background_gradient()\";\n",
       "                var nbb_cells = Jupyter.notebook.get_cells();\n",
       "                for (var i = 0; i < nbb_cells.length; ++i) {\n",
       "                    if (nbb_cells[i].input_prompt_number == nbb_cell_id) {\n",
       "                        if (nbb_cells[i].get_text() == nbb_unformatted_code) {\n",
       "                             nbb_cells[i].set_text(nbb_formatted_code);\n",
       "                        }\n",
       "                        break;\n",
       "                    }\n",
       "                }\n",
       "            }, 500);\n",
       "            "
      ],
      "text/plain": [
       "<IPython.core.display.Javascript object>"
      ]
     },
     "metadata": {},
     "output_type": "display_data"
    }
   ],
   "source": [
    "minor.groupby([\"age\"]).agg({\"stay\": [\"mean\", \"count\"]}).style.background_gradient()"
   ]
  },
  {
   "cell_type": "markdown",
   "metadata": {},
   "source": [
    "**Moderate severity**"
   ]
  },
  {
   "cell_type": "code",
   "execution_count": 30,
   "metadata": {},
   "outputs": [
    {
     "data": {
      "text/html": [
       "<style  type=\"text/css\" >\n",
       "    #T_cc00fa96_2e7d_11eb_9eb0_bc542fc4f43brow0_col0 {\n",
       "            background-color:  #e8e4f0;\n",
       "            color:  #000000;\n",
       "        }    #T_cc00fa96_2e7d_11eb_9eb0_bc542fc4f43brow0_col1 {\n",
       "            background-color:  #f5eff6;\n",
       "            color:  #000000;\n",
       "        }    #T_cc00fa96_2e7d_11eb_9eb0_bc542fc4f43brow1_col0 {\n",
       "            background-color:  #fff7fb;\n",
       "            color:  #000000;\n",
       "        }    #T_cc00fa96_2e7d_11eb_9eb0_bc542fc4f43brow1_col1 {\n",
       "            background-color:  #e0dded;\n",
       "            color:  #000000;\n",
       "        }    #T_cc00fa96_2e7d_11eb_9eb0_bc542fc4f43brow2_col0 {\n",
       "            background-color:  #f1ebf4;\n",
       "            color:  #000000;\n",
       "        }    #T_cc00fa96_2e7d_11eb_9eb0_bc542fc4f43brow2_col1 {\n",
       "            background-color:  #569dc8;\n",
       "            color:  #000000;\n",
       "        }    #T_cc00fa96_2e7d_11eb_9eb0_bc542fc4f43brow3_col0 {\n",
       "            background-color:  #dad9ea;\n",
       "            color:  #000000;\n",
       "        }    #T_cc00fa96_2e7d_11eb_9eb0_bc542fc4f43brow3_col1 {\n",
       "            background-color:  #02395a;\n",
       "            color:  #f1f1f1;\n",
       "        }    #T_cc00fa96_2e7d_11eb_9eb0_bc542fc4f43brow4_col0 {\n",
       "            background-color:  #b7c5df;\n",
       "            color:  #000000;\n",
       "        }    #T_cc00fa96_2e7d_11eb_9eb0_bc542fc4f43brow4_col1 {\n",
       "            background-color:  #023858;\n",
       "            color:  #f1f1f1;\n",
       "        }    #T_cc00fa96_2e7d_11eb_9eb0_bc542fc4f43brow5_col0 {\n",
       "            background-color:  #97b7d7;\n",
       "            color:  #000000;\n",
       "        }    #T_cc00fa96_2e7d_11eb_9eb0_bc542fc4f43brow5_col1 {\n",
       "            background-color:  #0d75b3;\n",
       "            color:  #f1f1f1;\n",
       "        }    #T_cc00fa96_2e7d_11eb_9eb0_bc542fc4f43brow6_col0 {\n",
       "            background-color:  #69a5cc;\n",
       "            color:  #000000;\n",
       "        }    #T_cc00fa96_2e7d_11eb_9eb0_bc542fc4f43brow6_col1 {\n",
       "            background-color:  #7eadd1;\n",
       "            color:  #000000;\n",
       "        }    #T_cc00fa96_2e7d_11eb_9eb0_bc542fc4f43brow7_col0 {\n",
       "            background-color:  #4a98c5;\n",
       "            color:  #000000;\n",
       "        }    #T_cc00fa96_2e7d_11eb_9eb0_bc542fc4f43brow7_col1 {\n",
       "            background-color:  #76aad0;\n",
       "            color:  #000000;\n",
       "        }    #T_cc00fa96_2e7d_11eb_9eb0_bc542fc4f43brow8_col0 {\n",
       "            background-color:  #023858;\n",
       "            color:  #f1f1f1;\n",
       "        }    #T_cc00fa96_2e7d_11eb_9eb0_bc542fc4f43brow8_col1 {\n",
       "            background-color:  #f1ebf5;\n",
       "            color:  #000000;\n",
       "        }    #T_cc00fa96_2e7d_11eb_9eb0_bc542fc4f43brow9_col0 {\n",
       "            background-color:  #045f95;\n",
       "            color:  #f1f1f1;\n",
       "        }    #T_cc00fa96_2e7d_11eb_9eb0_bc542fc4f43brow9_col1 {\n",
       "            background-color:  #fff7fb;\n",
       "            color:  #000000;\n",
       "        }</style><table id=\"T_cc00fa96_2e7d_11eb_9eb0_bc542fc4f43b\" ><thead>    <tr>        <th class=\"blank level0\" ></th>        <th class=\"col_heading level0 col0\" colspan=2>stay</th>    </tr>    <tr>        <th class=\"blank level1\" ></th>        <th class=\"col_heading level1 col0\" >mean</th>        <th class=\"col_heading level1 col1\" >count</th>    </tr>    <tr>        <th class=\"index_name level0\" >age</th>        <th class=\"blank\" ></th>        <th class=\"blank\" ></th>    </tr></thead><tbody>\n",
       "                <tr>\n",
       "                        <th id=\"T_cc00fa96_2e7d_11eb_9eb0_bc542fc4f43blevel0_row0\" class=\"row_heading level0 row0\" >5</th>\n",
       "                        <td id=\"T_cc00fa96_2e7d_11eb_9eb0_bc542fc4f43brow0_col0\" class=\"data row0 col0\" >29.404248</td>\n",
       "                        <td id=\"T_cc00fa96_2e7d_11eb_9eb0_bc542fc4f43brow0_col1\" class=\"data row0 col1\" >3013</td>\n",
       "            </tr>\n",
       "            <tr>\n",
       "                        <th id=\"T_cc00fa96_2e7d_11eb_9eb0_bc542fc4f43blevel0_row1\" class=\"row_heading level0 row1\" >15</th>\n",
       "                        <td id=\"T_cc00fa96_2e7d_11eb_9eb0_bc542fc4f43brow1_col0\" class=\"data row1 col0\" >28.331040</td>\n",
       "                        <td id=\"T_cc00fa96_2e7d_11eb_9eb0_bc542fc4f43brow1_col1\" class=\"data row1 col1\" >7268</td>\n",
       "            </tr>\n",
       "            <tr>\n",
       "                        <th id=\"T_cc00fa96_2e7d_11eb_9eb0_bc542fc4f43blevel0_row2\" class=\"row_heading level0 row2\" >25</th>\n",
       "                        <td id=\"T_cc00fa96_2e7d_11eb_9eb0_bc542fc4f43brow2_col0\" class=\"data row2 col0\" >29.060855</td>\n",
       "                        <td id=\"T_cc00fa96_2e7d_11eb_9eb0_bc542fc4f43brow2_col1\" class=\"data row2 col1\" >20902</td>\n",
       "            </tr>\n",
       "            <tr>\n",
       "                        <th id=\"T_cc00fa96_2e7d_11eb_9eb0_bc542fc4f43blevel0_row3\" class=\"row_heading level0 row3\" >35</th>\n",
       "                        <td id=\"T_cc00fa96_2e7d_11eb_9eb0_bc542fc4f43brow3_col0\" class=\"data row3 col0\" >29.872612</td>\n",
       "                        <td id=\"T_cc00fa96_2e7d_11eb_9eb0_bc542fc4f43brow3_col1\" class=\"data row3 col1\" >36385</td>\n",
       "            </tr>\n",
       "            <tr>\n",
       "                        <th id=\"T_cc00fa96_2e7d_11eb_9eb0_bc542fc4f43blevel0_row4\" class=\"row_heading level0 row4\" >45</th>\n",
       "                        <td id=\"T_cc00fa96_2e7d_11eb_9eb0_bc542fc4f43brow4_col0\" class=\"data row4 col0\" >30.796496</td>\n",
       "                        <td id=\"T_cc00fa96_2e7d_11eb_9eb0_bc542fc4f43brow4_col1\" class=\"data row4 col1\" >36648</td>\n",
       "            </tr>\n",
       "            <tr>\n",
       "                        <th id=\"T_cc00fa96_2e7d_11eb_9eb0_bc542fc4f43blevel0_row5\" class=\"row_heading level0 row5\" >55</th>\n",
       "                        <td id=\"T_cc00fa96_2e7d_11eb_9eb0_bc542fc4f43brow5_col0\" class=\"data row5 col0\" >31.448717</td>\n",
       "                        <td id=\"T_cc00fa96_2e7d_11eb_9eb0_bc542fc4f43brow5_col1\" class=\"data row5 col1\" >26841</td>\n",
       "            </tr>\n",
       "            <tr>\n",
       "                        <th id=\"T_cc00fa96_2e7d_11eb_9eb0_bc542fc4f43blevel0_row6\" class=\"row_heading level0 row6\" >65</th>\n",
       "                        <td id=\"T_cc00fa96_2e7d_11eb_9eb0_bc542fc4f43brow6_col0\" class=\"data row6 col0\" >32.253057</td>\n",
       "                        <td id=\"T_cc00fa96_2e7d_11eb_9eb0_bc542fc4f43brow6_col1\" class=\"data row6 col1\" >17747</td>\n",
       "            </tr>\n",
       "            <tr>\n",
       "                        <th id=\"T_cc00fa96_2e7d_11eb_9eb0_bc542fc4f43blevel0_row7\" class=\"row_heading level0 row7\" >75</th>\n",
       "                        <td id=\"T_cc00fa96_2e7d_11eb_9eb0_bc542fc4f43brow7_col0\" class=\"data row7 col0\" >32.724373</td>\n",
       "                        <td id=\"T_cc00fa96_2e7d_11eb_9eb0_bc542fc4f43brow7_col1\" class=\"data row7 col1\" >18496</td>\n",
       "            </tr>\n",
       "            <tr>\n",
       "                        <th id=\"T_cc00fa96_2e7d_11eb_9eb0_bc542fc4f43blevel0_row8\" class=\"row_heading level0 row8\" >85</th>\n",
       "                        <td id=\"T_cc00fa96_2e7d_11eb_9eb0_bc542fc4f43brow8_col0\" class=\"data row8 col0\" >35.866005</td>\n",
       "                        <td id=\"T_cc00fa96_2e7d_11eb_9eb0_bc542fc4f43brow8_col1\" class=\"data row8 col1\" >4030</td>\n",
       "            </tr>\n",
       "            <tr>\n",
       "                        <th id=\"T_cc00fa96_2e7d_11eb_9eb0_bc542fc4f43blevel0_row9\" class=\"row_heading level0 row9\" >95</th>\n",
       "                        <td id=\"T_cc00fa96_2e7d_11eb_9eb0_bc542fc4f43brow9_col0\" class=\"data row9 col0\" >34.694767</td>\n",
       "                        <td id=\"T_cc00fa96_2e7d_11eb_9eb0_bc542fc4f43brow9_col1\" class=\"data row9 col1\" >688</td>\n",
       "            </tr>\n",
       "    </tbody></table>"
      ],
      "text/plain": [
       "<pandas.io.formats.style.Styler at 0x230d3cee400>"
      ]
     },
     "execution_count": 30,
     "metadata": {},
     "output_type": "execute_result"
    },
    {
     "data": {
      "application/javascript": [
       "\n",
       "            setTimeout(function() {\n",
       "                var nbb_cell_id = 30;\n",
       "                var nbb_unformatted_code = \"moderate.groupby([\\\"age\\\"]).agg({\\\"stay\\\": [\\\"mean\\\", \\\"count\\\"]}).style.background_gradient()\";\n",
       "                var nbb_formatted_code = \"moderate.groupby([\\\"age\\\"]).agg({\\\"stay\\\": [\\\"mean\\\", \\\"count\\\"]}).style.background_gradient()\";\n",
       "                var nbb_cells = Jupyter.notebook.get_cells();\n",
       "                for (var i = 0; i < nbb_cells.length; ++i) {\n",
       "                    if (nbb_cells[i].input_prompt_number == nbb_cell_id) {\n",
       "                        if (nbb_cells[i].get_text() == nbb_unformatted_code) {\n",
       "                             nbb_cells[i].set_text(nbb_formatted_code);\n",
       "                        }\n",
       "                        break;\n",
       "                    }\n",
       "                }\n",
       "            }, 500);\n",
       "            "
      ],
      "text/plain": [
       "<IPython.core.display.Javascript object>"
      ]
     },
     "metadata": {},
     "output_type": "display_data"
    },
    {
     "data": {
      "application/javascript": [
       "\n",
       "            setTimeout(function() {\n",
       "                var nbb_cell_id = 30;\n",
       "                var nbb_unformatted_code = \"moderate.groupby([\\\"age\\\"]).agg({\\\"stay\\\": [\\\"mean\\\", \\\"count\\\"]}).style.background_gradient()\";\n",
       "                var nbb_formatted_code = \"moderate.groupby([\\\"age\\\"]).agg({\\\"stay\\\": [\\\"mean\\\", \\\"count\\\"]}).style.background_gradient()\";\n",
       "                var nbb_cells = Jupyter.notebook.get_cells();\n",
       "                for (var i = 0; i < nbb_cells.length; ++i) {\n",
       "                    if (nbb_cells[i].input_prompt_number == nbb_cell_id) {\n",
       "                        if (nbb_cells[i].get_text() == nbb_unformatted_code) {\n",
       "                             nbb_cells[i].set_text(nbb_formatted_code);\n",
       "                        }\n",
       "                        break;\n",
       "                    }\n",
       "                }\n",
       "            }, 500);\n",
       "            "
      ],
      "text/plain": [
       "<IPython.core.display.Javascript object>"
      ]
     },
     "metadata": {},
     "output_type": "display_data"
    }
   ],
   "source": [
    "moderate.groupby([\"age\"]).agg({\"stay\": [\"mean\", \"count\"]}).style.background_gradient()"
   ]
  },
  {
   "cell_type": "markdown",
   "metadata": {},
   "source": [
    "**Extreme severity**"
   ]
  },
  {
   "cell_type": "code",
   "execution_count": 31,
   "metadata": {},
   "outputs": [
    {
     "data": {
      "text/html": [
       "<style  type=\"text/css\" >\n",
       "    #T_cc0da560_2e7d_11eb_9bd2_bc542fc4f43brow0_col0 {\n",
       "            background-color:  #d9d8ea;\n",
       "            color:  #000000;\n",
       "        }    #T_cc0da560_2e7d_11eb_9bd2_bc542fc4f43brow0_col1 {\n",
       "            background-color:  #fbf4f9;\n",
       "            color:  #000000;\n",
       "        }    #T_cc0da560_2e7d_11eb_9bd2_bc542fc4f43brow1_col0 {\n",
       "            background-color:  #fff7fb;\n",
       "            color:  #000000;\n",
       "        }    #T_cc0da560_2e7d_11eb_9bd2_bc542fc4f43brow1_col1 {\n",
       "            background-color:  #f3edf5;\n",
       "            color:  #000000;\n",
       "        }    #T_cc0da560_2e7d_11eb_9bd2_bc542fc4f43brow2_col0 {\n",
       "            background-color:  #ebe6f2;\n",
       "            color:  #000000;\n",
       "        }    #T_cc0da560_2e7d_11eb_9bd2_bc542fc4f43brow2_col1 {\n",
       "            background-color:  #bfc9e1;\n",
       "            color:  #000000;\n",
       "        }    #T_cc0da560_2e7d_11eb_9bd2_bc542fc4f43brow3_col0 {\n",
       "            background-color:  #dedcec;\n",
       "            color:  #000000;\n",
       "        }    #T_cc0da560_2e7d_11eb_9bd2_bc542fc4f43brow3_col1 {\n",
       "            background-color:  #056ead;\n",
       "            color:  #f1f1f1;\n",
       "        }    #T_cc0da560_2e7d_11eb_9bd2_bc542fc4f43brow4_col0 {\n",
       "            background-color:  #b1c2de;\n",
       "            color:  #000000;\n",
       "        }    #T_cc0da560_2e7d_11eb_9bd2_bc542fc4f43brow4_col1 {\n",
       "            background-color:  #023858;\n",
       "            color:  #f1f1f1;\n",
       "        }    #T_cc0da560_2e7d_11eb_9bd2_bc542fc4f43brow5_col0 {\n",
       "            background-color:  #a4bcda;\n",
       "            color:  #000000;\n",
       "        }    #T_cc0da560_2e7d_11eb_9bd2_bc542fc4f43brow5_col1 {\n",
       "            background-color:  #056dab;\n",
       "            color:  #f1f1f1;\n",
       "        }    #T_cc0da560_2e7d_11eb_9bd2_bc542fc4f43brow6_col0 {\n",
       "            background-color:  #8bb2d4;\n",
       "            color:  #000000;\n",
       "        }    #T_cc0da560_2e7d_11eb_9bd2_bc542fc4f43brow6_col1 {\n",
       "            background-color:  #67a4cc;\n",
       "            color:  #000000;\n",
       "        }    #T_cc0da560_2e7d_11eb_9bd2_bc542fc4f43brow7_col0 {\n",
       "            background-color:  #589ec8;\n",
       "            color:  #000000;\n",
       "        }    #T_cc0da560_2e7d_11eb_9bd2_bc542fc4f43brow7_col1 {\n",
       "            background-color:  #71a8ce;\n",
       "            color:  #000000;\n",
       "        }    #T_cc0da560_2e7d_11eb_9bd2_bc542fc4f43brow8_col0 {\n",
       "            background-color:  #034267;\n",
       "            color:  #f1f1f1;\n",
       "        }    #T_cc0da560_2e7d_11eb_9bd2_bc542fc4f43brow8_col1 {\n",
       "            background-color:  #eee8f3;\n",
       "            color:  #000000;\n",
       "        }    #T_cc0da560_2e7d_11eb_9bd2_bc542fc4f43brow9_col0 {\n",
       "            background-color:  #023858;\n",
       "            color:  #f1f1f1;\n",
       "        }    #T_cc0da560_2e7d_11eb_9bd2_bc542fc4f43brow9_col1 {\n",
       "            background-color:  #fff7fb;\n",
       "            color:  #000000;\n",
       "        }</style><table id=\"T_cc0da560_2e7d_11eb_9bd2_bc542fc4f43b\" ><thead>    <tr>        <th class=\"blank level0\" ></th>        <th class=\"col_heading level0 col0\" colspan=2>stay</th>    </tr>    <tr>        <th class=\"blank level1\" ></th>        <th class=\"col_heading level1 col0\" >mean</th>        <th class=\"col_heading level1 col1\" >count</th>    </tr>    <tr>        <th class=\"index_name level0\" >age</th>        <th class=\"blank\" ></th>        <th class=\"blank\" ></th>    </tr></thead><tbody>\n",
       "                <tr>\n",
       "                        <th id=\"T_cc0da560_2e7d_11eb_9bd2_bc542fc4f43blevel0_row0\" class=\"row_heading level0 row0\" >5</th>\n",
       "                        <td id=\"T_cc0da560_2e7d_11eb_9bd2_bc542fc4f43brow0_col0\" class=\"data row0 col0\" >32.797716</td>\n",
       "                        <td id=\"T_cc0da560_2e7d_11eb_9bd2_bc542fc4f43brow0_col1\" class=\"data row0 col1\" >613</td>\n",
       "            </tr>\n",
       "            <tr>\n",
       "                        <th id=\"T_cc0da560_2e7d_11eb_9bd2_bc542fc4f43blevel0_row1\" class=\"row_heading level0 row1\" >15</th>\n",
       "                        <td id=\"T_cc0da560_2e7d_11eb_9bd2_bc542fc4f43brow1_col0\" class=\"data row1 col0\" >31.249045</td>\n",
       "                        <td id=\"T_cc0da560_2e7d_11eb_9bd2_bc542fc4f43brow1_col1\" class=\"data row1 col1\" >1309</td>\n",
       "            </tr>\n",
       "            <tr>\n",
       "                        <th id=\"T_cc0da560_2e7d_11eb_9bd2_bc542fc4f43blevel0_row2\" class=\"row_heading level0 row2\" >25</th>\n",
       "                        <td id=\"T_cc0da560_2e7d_11eb_9bd2_bc542fc4f43brow2_col0\" class=\"data row2 col0\" >32.199421</td>\n",
       "                        <td id=\"T_cc0da560_2e7d_11eb_9bd2_bc542fc4f43brow2_col1\" class=\"data row2 col1\" >4142</td>\n",
       "            </tr>\n",
       "            <tr>\n",
       "                        <th id=\"T_cc0da560_2e7d_11eb_9bd2_bc542fc4f43blevel0_row3\" class=\"row_heading level0 row3\" >35</th>\n",
       "                        <td id=\"T_cc0da560_2e7d_11eb_9bd2_bc542fc4f43brow3_col0\" class=\"data row3 col0\" >32.643101</td>\n",
       "                        <td id=\"T_cc0da560_2e7d_11eb_9bd2_bc542fc4f43brow3_col1\" class=\"data row3 col1\" >9958</td>\n",
       "            </tr>\n",
       "            <tr>\n",
       "                        <th id=\"T_cc0da560_2e7d_11eb_9bd2_bc542fc4f43blevel0_row4\" class=\"row_heading level0 row4\" >45</th>\n",
       "                        <td id=\"T_cc0da560_2e7d_11eb_9bd2_bc542fc4f43brow4_col0\" class=\"data row4 col0\" >33.742206</td>\n",
       "                        <td id=\"T_cc0da560_2e7d_11eb_9bd2_bc542fc4f43brow4_col1\" class=\"data row4 col1\" >12991</td>\n",
       "            </tr>\n",
       "            <tr>\n",
       "                        <th id=\"T_cc0da560_2e7d_11eb_9bd2_bc542fc4f43blevel0_row5\" class=\"row_heading level0 row5\" >55</th>\n",
       "                        <td id=\"T_cc0da560_2e7d_11eb_9bd2_bc542fc4f43brow5_col0\" class=\"data row5 col0\" >34.033092</td>\n",
       "                        <td id=\"T_cc0da560_2e7d_11eb_9bd2_bc542fc4f43brow5_col1\" class=\"data row5 col1\" >10063</td>\n",
       "            </tr>\n",
       "            <tr>\n",
       "                        <th id=\"T_cc0da560_2e7d_11eb_9bd2_bc542fc4f43blevel0_row6\" class=\"row_heading level0 row6\" >65</th>\n",
       "                        <td id=\"T_cc0da560_2e7d_11eb_9bd2_bc542fc4f43brow6_col0\" class=\"data row6 col0\" >34.498992</td>\n",
       "                        <td id=\"T_cc0da560_2e7d_11eb_9bd2_bc542fc4f43brow6_col1\" class=\"data row6 col1\" >6946</td>\n",
       "            </tr>\n",
       "            <tr>\n",
       "                        <th id=\"T_cc0da560_2e7d_11eb_9bd2_bc542fc4f43blevel0_row7\" class=\"row_heading level0 row7\" >75</th>\n",
       "                        <td id=\"T_cc0da560_2e7d_11eb_9bd2_bc542fc4f43brow7_col0\" class=\"data row7 col0\" >35.316796</td>\n",
       "                        <td id=\"T_cc0da560_2e7d_11eb_9bd2_bc542fc4f43brow7_col1\" class=\"data row7 col1\" >6692</td>\n",
       "            </tr>\n",
       "            <tr>\n",
       "                        <th id=\"T_cc0da560_2e7d_11eb_9bd2_bc542fc4f43blevel0_row8\" class=\"row_heading level0 row8\" >85</th>\n",
       "                        <td id=\"T_cc0da560_2e7d_11eb_9bd2_bc542fc4f43brow8_col0\" class=\"data row8 col0\" >38.302540</td>\n",
       "                        <td id=\"T_cc0da560_2e7d_11eb_9bd2_bc542fc4f43brow8_col1\" class=\"data row8 col1\" >1732</td>\n",
       "            </tr>\n",
       "            <tr>\n",
       "                        <th id=\"T_cc0da560_2e7d_11eb_9bd2_bc542fc4f43blevel0_row9\" class=\"row_heading level0 row9\" >95</th>\n",
       "                        <td id=\"T_cc0da560_2e7d_11eb_9bd2_bc542fc4f43brow9_col0\" class=\"data row9 col0\" >38.576389</td>\n",
       "                        <td id=\"T_cc0da560_2e7d_11eb_9bd2_bc542fc4f43brow9_col1\" class=\"data row9 col1\" >288</td>\n",
       "            </tr>\n",
       "    </tbody></table>"
      ],
      "text/plain": [
       "<pandas.io.formats.style.Styler at 0x230d3219070>"
      ]
     },
     "execution_count": 31,
     "metadata": {},
     "output_type": "execute_result"
    },
    {
     "data": {
      "application/javascript": [
       "\n",
       "            setTimeout(function() {\n",
       "                var nbb_cell_id = 31;\n",
       "                var nbb_unformatted_code = \"extreme.groupby([\\\"age\\\"]).agg({\\\"stay\\\": [\\\"mean\\\", \\\"count\\\"]}).style.background_gradient()\";\n",
       "                var nbb_formatted_code = \"extreme.groupby([\\\"age\\\"]).agg({\\\"stay\\\": [\\\"mean\\\", \\\"count\\\"]}).style.background_gradient()\";\n",
       "                var nbb_cells = Jupyter.notebook.get_cells();\n",
       "                for (var i = 0; i < nbb_cells.length; ++i) {\n",
       "                    if (nbb_cells[i].input_prompt_number == nbb_cell_id) {\n",
       "                        if (nbb_cells[i].get_text() == nbb_unformatted_code) {\n",
       "                             nbb_cells[i].set_text(nbb_formatted_code);\n",
       "                        }\n",
       "                        break;\n",
       "                    }\n",
       "                }\n",
       "            }, 500);\n",
       "            "
      ],
      "text/plain": [
       "<IPython.core.display.Javascript object>"
      ]
     },
     "metadata": {},
     "output_type": "display_data"
    },
    {
     "data": {
      "application/javascript": [
       "\n",
       "            setTimeout(function() {\n",
       "                var nbb_cell_id = 31;\n",
       "                var nbb_unformatted_code = \"extreme.groupby([\\\"age\\\"]).agg({\\\"stay\\\": [\\\"mean\\\", \\\"count\\\"]}).style.background_gradient()\";\n",
       "                var nbb_formatted_code = \"extreme.groupby([\\\"age\\\"]).agg({\\\"stay\\\": [\\\"mean\\\", \\\"count\\\"]}).style.background_gradient()\";\n",
       "                var nbb_cells = Jupyter.notebook.get_cells();\n",
       "                for (var i = 0; i < nbb_cells.length; ++i) {\n",
       "                    if (nbb_cells[i].input_prompt_number == nbb_cell_id) {\n",
       "                        if (nbb_cells[i].get_text() == nbb_unformatted_code) {\n",
       "                             nbb_cells[i].set_text(nbb_formatted_code);\n",
       "                        }\n",
       "                        break;\n",
       "                    }\n",
       "                }\n",
       "            }, 500);\n",
       "            "
      ],
      "text/plain": [
       "<IPython.core.display.Javascript object>"
      ]
     },
     "metadata": {},
     "output_type": "display_data"
    }
   ],
   "source": [
    "extreme.groupby([\"age\"]).agg({\"stay\": [\"mean\", \"count\"]}).style.background_gradient()"
   ]
  },
  {
   "cell_type": "code",
   "execution_count": 32,
   "metadata": {
    "scrolled": false
   },
   "outputs": [
    {
     "data": {
      "text/plain": [
       "<matplotlib.axes._subplots.AxesSubplot at 0x230c3ebc8b0>"
      ]
     },
     "execution_count": 32,
     "metadata": {},
     "output_type": "execute_result"
    },
    {
     "data": {
      "image/png": "[encoded data removed]",
      "text/plain": [
       "<Figure size 432x288 with 1 Axes>"
      ]
     },
     "metadata": {
      "needs_background": "light"
     },
     "output_type": "display_data"
    },
    {
     "data": {
      "image/png": "[encoded data removed]",
      "text/plain": [
       "<Figure size 432x288 with 1 Axes>"
      ]
     },
     "metadata": {
      "needs_background": "light"
     },
     "output_type": "display_data"
    },
    {
     "data": {
      "image/png": "[encoded data removed]",
      "text/plain": [
       "<Figure size 432x288 with 1 Axes>"
      ]
     },
     "metadata": {
      "needs_background": "light"
     },
     "output_type": "display_data"
    },
    {
     "data": {
      "application/javascript": [
       "\n",
       "            setTimeout(function() {\n",
       "                var nbb_cell_id = 32;\n",
       "                var nbb_unformatted_code = \"minor_agg = minor.groupby([\\\"age\\\"]).agg({\\\"stay\\\": [\\\"mean\\\"]})\\nmoderate_agg = moderate.groupby([\\\"age\\\"]).agg({\\\"stay\\\": [\\\"mean\\\"]})\\nextreme_agg = extreme.groupby([\\\"age\\\"]).agg({\\\"stay\\\": [\\\"mean\\\"]})\\n\\nminor_agg.plot()\\nmoderate_agg.plot()\\nextreme_agg.plot()\";\n",
       "                var nbb_formatted_code = \"minor_agg = minor.groupby([\\\"age\\\"]).agg({\\\"stay\\\": [\\\"mean\\\"]})\\nmoderate_agg = moderate.groupby([\\\"age\\\"]).agg({\\\"stay\\\": [\\\"mean\\\"]})\\nextreme_agg = extreme.groupby([\\\"age\\\"]).agg({\\\"stay\\\": [\\\"mean\\\"]})\\n\\nminor_agg.plot()\\nmoderate_agg.plot()\\nextreme_agg.plot()\";\n",
       "                var nbb_cells = Jupyter.notebook.get_cells();\n",
       "                for (var i = 0; i < nbb_cells.length; ++i) {\n",
       "                    if (nbb_cells[i].input_prompt_number == nbb_cell_id) {\n",
       "                        if (nbb_cells[i].get_text() == nbb_unformatted_code) {\n",
       "                             nbb_cells[i].set_text(nbb_formatted_code);\n",
       "                        }\n",
       "                        break;\n",
       "                    }\n",
       "                }\n",
       "            }, 500);\n",
       "            "
      ],
      "text/plain": [
       "<IPython.core.display.Javascript object>"
      ]
     },
     "metadata": {},
     "output_type": "display_data"
    },
    {
     "data": {
      "application/javascript": [
       "\n",
       "            setTimeout(function() {\n",
       "                var nbb_cell_id = 32;\n",
       "                var nbb_unformatted_code = \"minor_agg = minor.groupby([\\\"age\\\"]).agg({\\\"stay\\\": [\\\"mean\\\"]})\\nmoderate_agg = moderate.groupby([\\\"age\\\"]).agg({\\\"stay\\\": [\\\"mean\\\"]})\\nextreme_agg = extreme.groupby([\\\"age\\\"]).agg({\\\"stay\\\": [\\\"mean\\\"]})\\n\\nminor_agg.plot()\\nmoderate_agg.plot()\\nextreme_agg.plot()\";\n",
       "                var nbb_formatted_code = \"minor_agg = minor.groupby([\\\"age\\\"]).agg({\\\"stay\\\": [\\\"mean\\\"]})\\nmoderate_agg = moderate.groupby([\\\"age\\\"]).agg({\\\"stay\\\": [\\\"mean\\\"]})\\nextreme_agg = extreme.groupby([\\\"age\\\"]).agg({\\\"stay\\\": [\\\"mean\\\"]})\\n\\nminor_agg.plot()\\nmoderate_agg.plot()\\nextreme_agg.plot()\";\n",
       "                var nbb_cells = Jupyter.notebook.get_cells();\n",
       "                for (var i = 0; i < nbb_cells.length; ++i) {\n",
       "                    if (nbb_cells[i].input_prompt_number == nbb_cell_id) {\n",
       "                        if (nbb_cells[i].get_text() == nbb_unformatted_code) {\n",
       "                             nbb_cells[i].set_text(nbb_formatted_code);\n",
       "                        }\n",
       "                        break;\n",
       "                    }\n",
       "                }\n",
       "            }, 500);\n",
       "            "
      ],
      "text/plain": [
       "<IPython.core.display.Javascript object>"
      ]
     },
     "metadata": {},
     "output_type": "display_data"
    }
   ],
   "source": [
    "minor_agg = minor.groupby([\"age\"]).agg({\"stay\": [\"mean\"]})\n",
    "moderate_agg = moderate.groupby([\"age\"]).agg({\"stay\": [\"mean\"]})\n",
    "extreme_agg = extreme.groupby([\"age\"]).agg({\"stay\": [\"mean\"]})\n",
    "\n",
    "minor_agg.plot()\n",
    "moderate_agg.plot()\n",
    "extreme_agg.plot()"
   ]
  },
  {
   "cell_type": "markdown",
   "metadata": {},
   "source": [
    "**Analysis:** \n",
    "* Between the aggregate mean table and the line plot, there seems to be a definite correlation between age and length of stay.\n",
    "* there does seem to be more of a correlation in the minor and moderate groups than in the extreme group"
   ]
  },
  {
   "cell_type": "markdown",
   "metadata": {},
   "source": [
    "**Correlation coefficients**"
   ]
  },
  {
   "cell_type": "code",
   "execution_count": 33,
   "metadata": {
    "scrolled": true
   },
   "outputs": [
    {
     "name": "stdout",
     "output_type": "stream",
     "text": [
      "Minor\n",
      "(0.07056266314133419, 3.766795192972117e-94)\n",
      "Moderate\n",
      "(0.075292102384955, 1.1354832776736747e-214)\n",
      "Extreme\n",
      "(0.05987691272507544, 1.165543385469099e-44)\n"
     ]
    },
    {
     "data": {
      "application/javascript": [
       "\n",
       "            setTimeout(function() {\n",
       "                var nbb_cell_id = 33;\n",
       "                var nbb_unformatted_code = \"print(\\\"Minor\\\")\\nprint(stats.pearsonr(minor.age, minor.stay))\\nprint(\\\"Moderate\\\")\\nprint(stats.pearsonr(moderate.age, moderate.stay))\\nprint(\\\"Extreme\\\")\\nprint(stats.pearsonr(extreme.age, extreme.stay))\";\n",
       "                var nbb_formatted_code = \"print(\\\"Minor\\\")\\nprint(stats.pearsonr(minor.age, minor.stay))\\nprint(\\\"Moderate\\\")\\nprint(stats.pearsonr(moderate.age, moderate.stay))\\nprint(\\\"Extreme\\\")\\nprint(stats.pearsonr(extreme.age, extreme.stay))\";\n",
       "                var nbb_cells = Jupyter.notebook.get_cells();\n",
       "                for (var i = 0; i < nbb_cells.length; ++i) {\n",
       "                    if (nbb_cells[i].input_prompt_number == nbb_cell_id) {\n",
       "                        if (nbb_cells[i].get_text() == nbb_unformatted_code) {\n",
       "                             nbb_cells[i].set_text(nbb_formatted_code);\n",
       "                        }\n",
       "                        break;\n",
       "                    }\n",
       "                }\n",
       "            }, 500);\n",
       "            "
      ],
      "text/plain": [
       "<IPython.core.display.Javascript object>"
      ]
     },
     "metadata": {},
     "output_type": "display_data"
    },
    {
     "data": {
      "application/javascript": [
       "\n",
       "            setTimeout(function() {\n",
       "                var nbb_cell_id = 33;\n",
       "                var nbb_unformatted_code = \"print(\\\"Minor\\\")\\nprint(stats.pearsonr(minor.age, minor.stay))\\nprint(\\\"Moderate\\\")\\nprint(stats.pearsonr(moderate.age, moderate.stay))\\nprint(\\\"Extreme\\\")\\nprint(stats.pearsonr(extreme.age, extreme.stay))\";\n",
       "                var nbb_formatted_code = \"print(\\\"Minor\\\")\\nprint(stats.pearsonr(minor.age, minor.stay))\\nprint(\\\"Moderate\\\")\\nprint(stats.pearsonr(moderate.age, moderate.stay))\\nprint(\\\"Extreme\\\")\\nprint(stats.pearsonr(extreme.age, extreme.stay))\";\n",
       "                var nbb_cells = Jupyter.notebook.get_cells();\n",
       "                for (var i = 0; i < nbb_cells.length; ++i) {\n",
       "                    if (nbb_cells[i].input_prompt_number == nbb_cell_id) {\n",
       "                        if (nbb_cells[i].get_text() == nbb_unformatted_code) {\n",
       "                             nbb_cells[i].set_text(nbb_formatted_code);\n",
       "                        }\n",
       "                        break;\n",
       "                    }\n",
       "                }\n",
       "            }, 500);\n",
       "            "
      ],
      "text/plain": [
       "<IPython.core.display.Javascript object>"
      ]
     },
     "metadata": {},
     "output_type": "display_data"
    }
   ],
   "source": [
    "print(\"Minor\")\n",
    "print(stats.pearsonr(minor.age, minor.stay))\n",
    "print(\"Moderate\")\n",
    "print(stats.pearsonr(moderate.age, moderate.stay))\n",
    "print(\"Extreme\")\n",
    "print(stats.pearsonr(extreme.age, extreme.stay))"
   ]
  },
  {
   "cell_type": "markdown",
   "metadata": {},
   "source": [
    "## Bottom 20th percentile for age"
   ]
  },
  {
   "cell_type": "markdown",
   "metadata": {},
   "source": [
    "### Moderate"
   ]
  },
  {
   "cell_type": "code",
   "execution_count": 34,
   "metadata": {},
   "outputs": [
    {
     "data": {
      "text/plain": [
       "35.0"
      ]
     },
     "execution_count": 34,
     "metadata": {},
     "output_type": "execute_result"
    },
    {
     "data": {
      "application/javascript": [
       "\n",
       "            setTimeout(function() {\n",
       "                var nbb_cell_id = 34;\n",
       "                var nbb_unformatted_code = \"#  find 20th percentile of age range\\nnp.percentile(moderate.age, 20)\";\n",
       "                var nbb_formatted_code = \"#  find 20th percentile of age range\\nnp.percentile(moderate.age, 20)\";\n",
       "                var nbb_cells = Jupyter.notebook.get_cells();\n",
       "                for (var i = 0; i < nbb_cells.length; ++i) {\n",
       "                    if (nbb_cells[i].input_prompt_number == nbb_cell_id) {\n",
       "                        if (nbb_cells[i].get_text() == nbb_unformatted_code) {\n",
       "                             nbb_cells[i].set_text(nbb_formatted_code);\n",
       "                        }\n",
       "                        break;\n",
       "                    }\n",
       "                }\n",
       "            }, 500);\n",
       "            "
      ],
      "text/plain": [
       "<IPython.core.display.Javascript object>"
      ]
     },
     "metadata": {},
     "output_type": "display_data"
    },
    {
     "data": {
      "application/javascript": [
       "\n",
       "            setTimeout(function() {\n",
       "                var nbb_cell_id = 34;\n",
       "                var nbb_unformatted_code = \"#  find 20th percentile of age range\\nnp.percentile(moderate.age, 20)\";\n",
       "                var nbb_formatted_code = \"#  find 20th percentile of age range\\nnp.percentile(moderate.age, 20)\";\n",
       "                var nbb_cells = Jupyter.notebook.get_cells();\n",
       "                for (var i = 0; i < nbb_cells.length; ++i) {\n",
       "                    if (nbb_cells[i].input_prompt_number == nbb_cell_id) {\n",
       "                        if (nbb_cells[i].get_text() == nbb_unformatted_code) {\n",
       "                             nbb_cells[i].set_text(nbb_formatted_code);\n",
       "                        }\n",
       "                        break;\n",
       "                    }\n",
       "                }\n",
       "            }, 500);\n",
       "            "
      ],
      "text/plain": [
       "<IPython.core.display.Javascript object>"
      ]
     },
     "metadata": {},
     "output_type": "display_data"
    }
   ],
   "source": [
    "#  find 20th percentile of age range\n",
    "np.percentile(moderate.age, 20)"
   ]
  },
  {
   "cell_type": "code",
   "execution_count": 35,
   "metadata": {},
   "outputs": [
    {
     "data": {
      "application/javascript": [
       "\n",
       "            setTimeout(function() {\n",
       "                var nbb_cell_id = 35;\n",
       "                var nbb_unformatted_code = \"# create 2 groups\\nbottom_20 = df[df.age <= 35]\\ntop_80 = df[df.age > 35]\";\n",
       "                var nbb_formatted_code = \"# create 2 groups\\nbottom_20 = df[df.age <= 35]\\ntop_80 = df[df.age > 35]\";\n",
       "                var nbb_cells = Jupyter.notebook.get_cells();\n",
       "                for (var i = 0; i < nbb_cells.length; ++i) {\n",
       "                    if (nbb_cells[i].input_prompt_number == nbb_cell_id) {\n",
       "                        if (nbb_cells[i].get_text() == nbb_unformatted_code) {\n",
       "                             nbb_cells[i].set_text(nbb_formatted_code);\n",
       "                        }\n",
       "                        break;\n",
       "                    }\n",
       "                }\n",
       "            }, 500);\n",
       "            "
      ],
      "text/plain": [
       "<IPython.core.display.Javascript object>"
      ]
     },
     "metadata": {},
     "output_type": "display_data"
    },
    {
     "data": {
      "application/javascript": [
       "\n",
       "            setTimeout(function() {\n",
       "                var nbb_cell_id = 35;\n",
       "                var nbb_unformatted_code = \"# create 2 groups\\nbottom_20 = df[df.age <= 35]\\ntop_80 = df[df.age > 35]\";\n",
       "                var nbb_formatted_code = \"# create 2 groups\\nbottom_20 = df[df.age <= 35]\\ntop_80 = df[df.age > 35]\";\n",
       "                var nbb_cells = Jupyter.notebook.get_cells();\n",
       "                for (var i = 0; i < nbb_cells.length; ++i) {\n",
       "                    if (nbb_cells[i].input_prompt_number == nbb_cell_id) {\n",
       "                        if (nbb_cells[i].get_text() == nbb_unformatted_code) {\n",
       "                             nbb_cells[i].set_text(nbb_formatted_code);\n",
       "                        }\n",
       "                        break;\n",
       "                    }\n",
       "                }\n",
       "            }, 500);\n",
       "            "
      ],
      "text/plain": [
       "<IPython.core.display.Javascript object>"
      ]
     },
     "metadata": {},
     "output_type": "display_data"
    }
   ],
   "source": [
    "# create 2 groups\n",
    "bottom_20 = df[df.age <= 35]\n",
    "top_80 = df[df.age > 35]"
   ]
  },
  {
   "cell_type": "markdown",
   "metadata": {},
   "source": [
    "**Normality checks**"
   ]
  },
  {
   "cell_type": "code",
   "execution_count": 36,
   "metadata": {
    "scrolled": true
   },
   "outputs": [
    {
     "data": {
      "text/plain": [
       "<matplotlib.axes._subplots.AxesSubplot at 0x230d3d4ad60>"
      ]
     },
     "execution_count": 36,
     "metadata": {},
     "output_type": "execute_result"
    },
    {
     "data": {
      "image/png": "[encoded data removed]",
      "text/plain": [
       "<Figure size 432x288 with 1 Axes>"
      ]
     },
     "metadata": {
      "needs_background": "light"
     },
     "output_type": "display_data"
    },
    {
     "data": {
      "application/javascript": [
       "\n",
       "            setTimeout(function() {\n",
       "                var nbb_cell_id = 36;\n",
       "                var nbb_unformatted_code = \"sns.distplot(bottom_20.stay)\\nsns.distplot(top_80.stay)\";\n",
       "                var nbb_formatted_code = \"sns.distplot(bottom_20.stay)\\nsns.distplot(top_80.stay)\";\n",
       "                var nbb_cells = Jupyter.notebook.get_cells();\n",
       "                for (var i = 0; i < nbb_cells.length; ++i) {\n",
       "                    if (nbb_cells[i].input_prompt_number == nbb_cell_id) {\n",
       "                        if (nbb_cells[i].get_text() == nbb_unformatted_code) {\n",
       "                             nbb_cells[i].set_text(nbb_formatted_code);\n",
       "                        }\n",
       "                        break;\n",
       "                    }\n",
       "                }\n",
       "            }, 500);\n",
       "            "
      ],
      "text/plain": [
       "<IPython.core.display.Javascript object>"
      ]
     },
     "metadata": {},
     "output_type": "display_data"
    },
    {
     "data": {
      "application/javascript": [
       "\n",
       "            setTimeout(function() {\n",
       "                var nbb_cell_id = 36;\n",
       "                var nbb_unformatted_code = \"sns.distplot(bottom_20.stay)\\nsns.distplot(top_80.stay)\";\n",
       "                var nbb_formatted_code = \"sns.distplot(bottom_20.stay)\\nsns.distplot(top_80.stay)\";\n",
       "                var nbb_cells = Jupyter.notebook.get_cells();\n",
       "                for (var i = 0; i < nbb_cells.length; ++i) {\n",
       "                    if (nbb_cells[i].input_prompt_number == nbb_cell_id) {\n",
       "                        if (nbb_cells[i].get_text() == nbb_unformatted_code) {\n",
       "                             nbb_cells[i].set_text(nbb_formatted_code);\n",
       "                        }\n",
       "                        break;\n",
       "                    }\n",
       "                }\n",
       "            }, 500);\n",
       "            "
      ],
      "text/plain": [
       "<IPython.core.display.Javascript object>"
      ]
     },
     "metadata": {},
     "output_type": "display_data"
    }
   ],
   "source": [
    "sns.distplot(bottom_20.stay)\n",
    "sns.distplot(top_80.stay)"
   ]
  },
  {
   "cell_type": "code",
   "execution_count": 37,
   "metadata": {},
   "outputs": [
    {
     "data": {
      "image/png": "[encoded data removed]",
      "text/plain": [
       "<Figure size 432x288 with 1 Axes>"
      ]
     },
     "metadata": {
      "needs_background": "light"
     },
     "output_type": "display_data"
    },
    {
     "data": {
      "image/png": "[encoded data removed]",
      "text/plain": [
       "<Figure size 432x288 with 1 Axes>"
      ]
     },
     "metadata": {
      "needs_background": "light"
     },
     "output_type": "display_data"
    },
    {
     "data": {
      "application/javascript": [
       "\n",
       "            setTimeout(function() {\n",
       "                var nbb_cell_id = 37;\n",
       "                var nbb_unformatted_code = \"# qqplots for both groups length of stay\\nqqplot(bottom_20.stay, line=\\\"s\\\")\\nplt.show()\\nqqplot(top_80.stay, line=\\\"s\\\")\\nplt.show()\";\n",
       "                var nbb_formatted_code = \"# qqplots for both groups length of stay\\nqqplot(bottom_20.stay, line=\\\"s\\\")\\nplt.show()\\nqqplot(top_80.stay, line=\\\"s\\\")\\nplt.show()\";\n",
       "                var nbb_cells = Jupyter.notebook.get_cells();\n",
       "                for (var i = 0; i < nbb_cells.length; ++i) {\n",
       "                    if (nbb_cells[i].input_prompt_number == nbb_cell_id) {\n",
       "                        if (nbb_cells[i].get_text() == nbb_unformatted_code) {\n",
       "                             nbb_cells[i].set_text(nbb_formatted_code);\n",
       "                        }\n",
       "                        break;\n",
       "                    }\n",
       "                }\n",
       "            }, 500);\n",
       "            "
      ],
      "text/plain": [
       "<IPython.core.display.Javascript object>"
      ]
     },
     "metadata": {},
     "output_type": "display_data"
    },
    {
     "data": {
      "application/javascript": [
       "\n",
       "            setTimeout(function() {\n",
       "                var nbb_cell_id = 37;\n",
       "                var nbb_unformatted_code = \"# qqplots for both groups length of stay\\nqqplot(bottom_20.stay, line=\\\"s\\\")\\nplt.show()\\nqqplot(top_80.stay, line=\\\"s\\\")\\nplt.show()\";\n",
       "                var nbb_formatted_code = \"# qqplots for both groups length of stay\\nqqplot(bottom_20.stay, line=\\\"s\\\")\\nplt.show()\\nqqplot(top_80.stay, line=\\\"s\\\")\\nplt.show()\";\n",
       "                var nbb_cells = Jupyter.notebook.get_cells();\n",
       "                for (var i = 0; i < nbb_cells.length; ++i) {\n",
       "                    if (nbb_cells[i].input_prompt_number == nbb_cell_id) {\n",
       "                        if (nbb_cells[i].get_text() == nbb_unformatted_code) {\n",
       "                             nbb_cells[i].set_text(nbb_formatted_code);\n",
       "                        }\n",
       "                        break;\n",
       "                    }\n",
       "                }\n",
       "            }, 500);\n",
       "            "
      ],
      "text/plain": [
       "<IPython.core.display.Javascript object>"
      ]
     },
     "metadata": {},
     "output_type": "display_data"
    }
   ],
   "source": [
    "# qqplots for both groups length of stay\n",
    "qqplot(bottom_20.stay, line=\"s\")\n",
    "plt.show()\n",
    "qqplot(top_80.stay, line=\"s\")\n",
    "plt.show()"
   ]
  },
  {
   "cell_type": "markdown",
   "metadata": {},
   "source": [
    "**Jarque-Bera Test**\n",
    "\n",
    "H_null = the kurtosis and skewness match that of a normal distribution"
   ]
  },
  {
   "cell_type": "code",
   "execution_count": 38,
   "metadata": {},
   "outputs": [
    {
     "name": "stdout",
     "output_type": "stream",
     "text": [
      "reject null: True\n",
      "reject null: True\n"
     ]
    },
    {
     "data": {
      "application/javascript": [
       "\n",
       "            setTimeout(function() {\n",
       "                var nbb_cell_id = 38;\n",
       "                var nbb_unformatted_code = \"t, p = stats.jarque_bera(bottom_20.stay)\\nprint(\\\"reject null: \\\" + str(p < 0.05))\\n\\nt, p = stats.jarque_bera(top_80.stay)\\nprint(\\\"reject null: \\\" + str(p < 0.05))\";\n",
       "                var nbb_formatted_code = \"t, p = stats.jarque_bera(bottom_20.stay)\\nprint(\\\"reject null: \\\" + str(p < 0.05))\\n\\nt, p = stats.jarque_bera(top_80.stay)\\nprint(\\\"reject null: \\\" + str(p < 0.05))\";\n",
       "                var nbb_cells = Jupyter.notebook.get_cells();\n",
       "                for (var i = 0; i < nbb_cells.length; ++i) {\n",
       "                    if (nbb_cells[i].input_prompt_number == nbb_cell_id) {\n",
       "                        if (nbb_cells[i].get_text() == nbb_unformatted_code) {\n",
       "                             nbb_cells[i].set_text(nbb_formatted_code);\n",
       "                        }\n",
       "                        break;\n",
       "                    }\n",
       "                }\n",
       "            }, 500);\n",
       "            "
      ],
      "text/plain": [
       "<IPython.core.display.Javascript object>"
      ]
     },
     "metadata": {},
     "output_type": "display_data"
    },
    {
     "data": {
      "application/javascript": [
       "\n",
       "            setTimeout(function() {\n",
       "                var nbb_cell_id = 38;\n",
       "                var nbb_unformatted_code = \"t, p = stats.jarque_bera(bottom_20.stay)\\nprint(\\\"reject null: \\\" + str(p < 0.05))\\n\\nt, p = stats.jarque_bera(top_80.stay)\\nprint(\\\"reject null: \\\" + str(p < 0.05))\";\n",
       "                var nbb_formatted_code = \"t, p = stats.jarque_bera(bottom_20.stay)\\nprint(\\\"reject null: \\\" + str(p < 0.05))\\n\\nt, p = stats.jarque_bera(top_80.stay)\\nprint(\\\"reject null: \\\" + str(p < 0.05))\";\n",
       "                var nbb_cells = Jupyter.notebook.get_cells();\n",
       "                for (var i = 0; i < nbb_cells.length; ++i) {\n",
       "                    if (nbb_cells[i].input_prompt_number == nbb_cell_id) {\n",
       "                        if (nbb_cells[i].get_text() == nbb_unformatted_code) {\n",
       "                             nbb_cells[i].set_text(nbb_formatted_code);\n",
       "                        }\n",
       "                        break;\n",
       "                    }\n",
       "                }\n",
       "            }, 500);\n",
       "            "
      ],
      "text/plain": [
       "<IPython.core.display.Javascript object>"
      ]
     },
     "metadata": {},
     "output_type": "display_data"
    }
   ],
   "source": [
    "t, p = stats.jarque_bera(bottom_20.stay)\n",
    "print(\"reject null: \" + str(p < 0.05))\n",
    "\n",
    "t, p = stats.jarque_bera(top_80.stay)\n",
    "print(\"reject null: \" + str(p < 0.05))"
   ]
  },
  {
   "cell_type": "markdown",
   "metadata": {},
   "source": [
    "* both groups do not match the kurtosis and skewness of a normal distribution"
   ]
  },
  {
   "cell_type": "markdown",
   "metadata": {},
   "source": [
    "**Kruskal-Wallis Test**\n",
    "\n",
    "H_null = the medians of both groups are the same"
   ]
  },
  {
   "cell_type": "code",
   "execution_count": 39,
   "metadata": {},
   "outputs": [
    {
     "name": "stdout",
     "output_type": "stream",
     "text": [
      "reject null: True\n"
     ]
    },
    {
     "data": {
      "application/javascript": [
       "\n",
       "            setTimeout(function() {\n",
       "                var nbb_cell_id = 39;\n",
       "                var nbb_unformatted_code = \"t, p = stats.kruskal(bottom_20.stay, top_80.stay)\\nprint(\\\"reject null: \\\" + str(p < 0.05))\";\n",
       "                var nbb_formatted_code = \"t, p = stats.kruskal(bottom_20.stay, top_80.stay)\\nprint(\\\"reject null: \\\" + str(p < 0.05))\";\n",
       "                var nbb_cells = Jupyter.notebook.get_cells();\n",
       "                for (var i = 0; i < nbb_cells.length; ++i) {\n",
       "                    if (nbb_cells[i].input_prompt_number == nbb_cell_id) {\n",
       "                        if (nbb_cells[i].get_text() == nbb_unformatted_code) {\n",
       "                             nbb_cells[i].set_text(nbb_formatted_code);\n",
       "                        }\n",
       "                        break;\n",
       "                    }\n",
       "                }\n",
       "            }, 500);\n",
       "            "
      ],
      "text/plain": [
       "<IPython.core.display.Javascript object>"
      ]
     },
     "metadata": {},
     "output_type": "display_data"
    },
    {
     "data": {
      "application/javascript": [
       "\n",
       "            setTimeout(function() {\n",
       "                var nbb_cell_id = 39;\n",
       "                var nbb_unformatted_code = \"t, p = stats.kruskal(bottom_20.stay, top_80.stay)\\nprint(\\\"reject null: \\\" + str(p < 0.05))\";\n",
       "                var nbb_formatted_code = \"t, p = stats.kruskal(bottom_20.stay, top_80.stay)\\nprint(\\\"reject null: \\\" + str(p < 0.05))\";\n",
       "                var nbb_cells = Jupyter.notebook.get_cells();\n",
       "                for (var i = 0; i < nbb_cells.length; ++i) {\n",
       "                    if (nbb_cells[i].input_prompt_number == nbb_cell_id) {\n",
       "                        if (nbb_cells[i].get_text() == nbb_unformatted_code) {\n",
       "                             nbb_cells[i].set_text(nbb_formatted_code);\n",
       "                        }\n",
       "                        break;\n",
       "                    }\n",
       "                }\n",
       "            }, 500);\n",
       "            "
      ],
      "text/plain": [
       "<IPython.core.display.Javascript object>"
      ]
     },
     "metadata": {},
     "output_type": "display_data"
    }
   ],
   "source": [
    "t, p = stats.kruskal(bottom_20.stay, top_80.stay)\n",
    "print(\"reject null: \" + str(p < 0.05))"
   ]
  },
  {
   "cell_type": "markdown",
   "metadata": {},
   "source": [
    "* the medians of both groups are significantly different"
   ]
  },
  {
   "cell_type": "code",
   "execution_count": 40,
   "metadata": {},
   "outputs": [
    {
     "data": {
      "application/vnd.jupyter.widget-view+json": {
       "model_id": "eb6610bad84f4925bffed332acc3074a",
       "version_major": 2,
       "version_minor": 0
      },
      "text/plain": [
       "HBox(children=(FloatProgress(value=0.0, max=5000.0), HTML(value='')))"
      ]
     },
     "metadata": {},
     "output_type": "display_data"
    },
    {
     "name": "stdout",
     "output_type": "stream",
     "text": [
      "\n",
      "Bottom 20th percentile confidence interval: 0.0, 0.0\n"
     ]
    },
    {
     "data": {
      "application/javascript": [
       "\n",
       "            setTimeout(function() {\n",
       "                var nbb_cell_id = 40;\n",
       "                var nbb_unformatted_code = \"median_diffs = []\\nfor i in status(range(5000)):\\n    bottom_sample = bottom_20.stay.sample(frac=1.0, replace=True)\\n    top_sample = top_80.stay.sample(frac=1.0, replace=True)\\n    median_diff = bottom_sample.median() - top_sample.median()\\n    median_diffs.append(median_diff)\\n\\nci_lo = np.percentile(median_diffs, 2.5)\\nci_hi = np.percentile(median_diffs, 97.5)\\nprint(f\\\"Bottom 20th percentile confidence interval: {ci_lo}, {ci_hi}\\\")\";\n",
       "                var nbb_formatted_code = \"median_diffs = []\\nfor i in status(range(5000)):\\n    bottom_sample = bottom_20.stay.sample(frac=1.0, replace=True)\\n    top_sample = top_80.stay.sample(frac=1.0, replace=True)\\n    median_diff = bottom_sample.median() - top_sample.median()\\n    median_diffs.append(median_diff)\\n\\nci_lo = np.percentile(median_diffs, 2.5)\\nci_hi = np.percentile(median_diffs, 97.5)\\nprint(f\\\"Bottom 20th percentile confidence interval: {ci_lo}, {ci_hi}\\\")\";\n",
       "                var nbb_cells = Jupyter.notebook.get_cells();\n",
       "                for (var i = 0; i < nbb_cells.length; ++i) {\n",
       "                    if (nbb_cells[i].input_prompt_number == nbb_cell_id) {\n",
       "                        if (nbb_cells[i].get_text() == nbb_unformatted_code) {\n",
       "                             nbb_cells[i].set_text(nbb_formatted_code);\n",
       "                        }\n",
       "                        break;\n",
       "                    }\n",
       "                }\n",
       "            }, 500);\n",
       "            "
      ],
      "text/plain": [
       "<IPython.core.display.Javascript object>"
      ]
     },
     "metadata": {},
     "output_type": "display_data"
    },
    {
     "data": {
      "application/javascript": [
       "\n",
       "            setTimeout(function() {\n",
       "                var nbb_cell_id = 40;\n",
       "                var nbb_unformatted_code = \"median_diffs = []\\nfor i in status(range(5000)):\\n    bottom_sample = bottom_20.stay.sample(frac=1.0, replace=True)\\n    top_sample = top_80.stay.sample(frac=1.0, replace=True)\\n    median_diff = bottom_sample.median() - top_sample.median()\\n    median_diffs.append(median_diff)\\n\\nci_lo = np.percentile(median_diffs, 2.5)\\nci_hi = np.percentile(median_diffs, 97.5)\\nprint(f\\\"Bottom 20th percentile confidence interval: {ci_lo}, {ci_hi}\\\")\";\n",
       "                var nbb_formatted_code = \"median_diffs = []\\nfor i in status(range(5000)):\\n    bottom_sample = bottom_20.stay.sample(frac=1.0, replace=True)\\n    top_sample = top_80.stay.sample(frac=1.0, replace=True)\\n    median_diff = bottom_sample.median() - top_sample.median()\\n    median_diffs.append(median_diff)\\n\\nci_lo = np.percentile(median_diffs, 2.5)\\nci_hi = np.percentile(median_diffs, 97.5)\\nprint(f\\\"Bottom 20th percentile confidence interval: {ci_lo}, {ci_hi}\\\")\";\n",
       "                var nbb_cells = Jupyter.notebook.get_cells();\n",
       "                for (var i = 0; i < nbb_cells.length; ++i) {\n",
       "                    if (nbb_cells[i].input_prompt_number == nbb_cell_id) {\n",
       "                        if (nbb_cells[i].get_text() == nbb_unformatted_code) {\n",
       "                             nbb_cells[i].set_text(nbb_formatted_code);\n",
       "                        }\n",
       "                        break;\n",
       "                    }\n",
       "                }\n",
       "            }, 500);\n",
       "            "
      ],
      "text/plain": [
       "<IPython.core.display.Javascript object>"
      ]
     },
     "metadata": {},
     "output_type": "display_data"
    }
   ],
   "source": [
    "median_diffs = []\n",
    "for i in status(range(5000)):\n",
    "    bottom_sample = bottom_20.stay.sample(frac=1.0, replace=True)\n",
    "    top_sample = top_80.stay.sample(frac=1.0, replace=True)\n",
    "    median_diff = bottom_sample.median() - top_sample.median()\n",
    "    median_diffs.append(median_diff)\n",
    "\n",
    "ci_lo = np.percentile(median_diffs, 2.5)\n",
    "ci_hi = np.percentile(median_diffs, 97.5)\n",
    "print(f\"Bottom 20th percentile confidence interval: {ci_lo}, {ci_hi}\")"
   ]
  },
  {
   "cell_type": "markdown",
   "metadata": {},
   "source": [
    "**Analysis:** \n",
    "* moderate severity group\n",
    "* The median confidence interval for the bottom 20th age percentile is 0.0"
   ]
  },
  {
   "cell_type": "markdown",
   "metadata": {},
   "source": [
    "**Common language effect size**"
   ]
  },
  {
   "cell_type": "code",
   "execution_count": 41,
   "metadata": {},
   "outputs": [
    {
     "data": {
      "text/plain": [
       "0.4435827776874105"
      ]
     },
     "execution_count": 41,
     "metadata": {},
     "output_type": "execute_result"
    },
    {
     "data": {
      "application/javascript": [
       "\n",
       "            setTimeout(function() {\n",
       "                var nbb_cell_id = 41;\n",
       "                var nbb_unformatted_code = \"# 25% sample size of each group\\nbottom_sample = bottom_20.stay.sample(frac=0.25, replace=True)\\ntop_sample = top_80.stay.sample(frac=0.25, replace=True)\\n\\n# CLES test for trauma vs. urgent\\ncles_ind(bottom_sample, top_sample)\";\n",
       "                var nbb_formatted_code = \"# 25% sample size of each group\\nbottom_sample = bottom_20.stay.sample(frac=0.25, replace=True)\\ntop_sample = top_80.stay.sample(frac=0.25, replace=True)\\n\\n# CLES test for trauma vs. urgent\\ncles_ind(bottom_sample, top_sample)\";\n",
       "                var nbb_cells = Jupyter.notebook.get_cells();\n",
       "                for (var i = 0; i < nbb_cells.length; ++i) {\n",
       "                    if (nbb_cells[i].input_prompt_number == nbb_cell_id) {\n",
       "                        if (nbb_cells[i].get_text() == nbb_unformatted_code) {\n",
       "                             nbb_cells[i].set_text(nbb_formatted_code);\n",
       "                        }\n",
       "                        break;\n",
       "                    }\n",
       "                }\n",
       "            }, 500);\n",
       "            "
      ],
      "text/plain": [
       "<IPython.core.display.Javascript object>"
      ]
     },
     "metadata": {},
     "output_type": "display_data"
    },
    {
     "data": {
      "application/javascript": [
       "\n",
       "            setTimeout(function() {\n",
       "                var nbb_cell_id = 41;\n",
       "                var nbb_unformatted_code = \"# 25% sample size of each group\\nbottom_sample = bottom_20.stay.sample(frac=0.25, replace=True)\\ntop_sample = top_80.stay.sample(frac=0.25, replace=True)\\n\\n# CLES test for trauma vs. urgent\\ncles_ind(bottom_sample, top_sample)\";\n",
       "                var nbb_formatted_code = \"# 25% sample size of each group\\nbottom_sample = bottom_20.stay.sample(frac=0.25, replace=True)\\ntop_sample = top_80.stay.sample(frac=0.25, replace=True)\\n\\n# CLES test for trauma vs. urgent\\ncles_ind(bottom_sample, top_sample)\";\n",
       "                var nbb_cells = Jupyter.notebook.get_cells();\n",
       "                for (var i = 0; i < nbb_cells.length; ++i) {\n",
       "                    if (nbb_cells[i].input_prompt_number == nbb_cell_id) {\n",
       "                        if (nbb_cells[i].get_text() == nbb_unformatted_code) {\n",
       "                             nbb_cells[i].set_text(nbb_formatted_code);\n",
       "                        }\n",
       "                        break;\n",
       "                    }\n",
       "                }\n",
       "            }, 500);\n",
       "            "
      ],
      "text/plain": [
       "<IPython.core.display.Javascript object>"
      ]
     },
     "metadata": {},
     "output_type": "display_data"
    }
   ],
   "source": [
    "# 25% sample size of each group\n",
    "bottom_sample = bottom_20.stay.sample(frac=0.25, replace=True)\n",
    "top_sample = top_80.stay.sample(frac=0.25, replace=True)\n",
    "\n",
    "# CLES test for trauma vs. urgent\n",
    "cles_ind(bottom_sample, top_sample)"
   ]
  },
  {
   "cell_type": "markdown",
   "metadata": {},
   "source": [
    "**Analysis:** 44% of the time when a patient in the bottom 20th age percentile is admitted with a moderate condition they will have a shorter length of stay"
   ]
  },
  {
   "cell_type": "markdown",
   "metadata": {},
   "source": [
    "## Top 20th percentile for age"
   ]
  },
  {
   "cell_type": "code",
   "execution_count": 42,
   "metadata": {},
   "outputs": [
    {
     "data": {
      "text/plain": [
       "65.0"
      ]
     },
     "execution_count": 42,
     "metadata": {},
     "output_type": "execute_result"
    },
    {
     "data": {
      "application/javascript": [
       "\n",
       "            setTimeout(function() {\n",
       "                var nbb_cell_id = 42;\n",
       "                var nbb_unformatted_code = \"#  find 20th percentile of age range\\nnp.percentile(moderate.age, 80)\";\n",
       "                var nbb_formatted_code = \"#  find 20th percentile of age range\\nnp.percentile(moderate.age, 80)\";\n",
       "                var nbb_cells = Jupyter.notebook.get_cells();\n",
       "                for (var i = 0; i < nbb_cells.length; ++i) {\n",
       "                    if (nbb_cells[i].input_prompt_number == nbb_cell_id) {\n",
       "                        if (nbb_cells[i].get_text() == nbb_unformatted_code) {\n",
       "                             nbb_cells[i].set_text(nbb_formatted_code);\n",
       "                        }\n",
       "                        break;\n",
       "                    }\n",
       "                }\n",
       "            }, 500);\n",
       "            "
      ],
      "text/plain": [
       "<IPython.core.display.Javascript object>"
      ]
     },
     "metadata": {},
     "output_type": "display_data"
    },
    {
     "data": {
      "application/javascript": [
       "\n",
       "            setTimeout(function() {\n",
       "                var nbb_cell_id = 42;\n",
       "                var nbb_unformatted_code = \"#  find 20th percentile of age range\\nnp.percentile(moderate.age, 80)\";\n",
       "                var nbb_formatted_code = \"#  find 20th percentile of age range\\nnp.percentile(moderate.age, 80)\";\n",
       "                var nbb_cells = Jupyter.notebook.get_cells();\n",
       "                for (var i = 0; i < nbb_cells.length; ++i) {\n",
       "                    if (nbb_cells[i].input_prompt_number == nbb_cell_id) {\n",
       "                        if (nbb_cells[i].get_text() == nbb_unformatted_code) {\n",
       "                             nbb_cells[i].set_text(nbb_formatted_code);\n",
       "                        }\n",
       "                        break;\n",
       "                    }\n",
       "                }\n",
       "            }, 500);\n",
       "            "
      ],
      "text/plain": [
       "<IPython.core.display.Javascript object>"
      ]
     },
     "metadata": {},
     "output_type": "display_data"
    }
   ],
   "source": [
    "#  find 20th percentile of age range\n",
    "np.percentile(moderate.age, 80)"
   ]
  },
  {
   "cell_type": "code",
   "execution_count": 43,
   "metadata": {},
   "outputs": [
    {
     "data": {
      "application/javascript": [
       "\n",
       "            setTimeout(function() {\n",
       "                var nbb_cell_id = 43;\n",
       "                var nbb_unformatted_code = \"# create 2 groups\\ntop_20 = df[df.age >= 65]\\nbottom_80 = df[df.age < 65]\";\n",
       "                var nbb_formatted_code = \"# create 2 groups\\ntop_20 = df[df.age >= 65]\\nbottom_80 = df[df.age < 65]\";\n",
       "                var nbb_cells = Jupyter.notebook.get_cells();\n",
       "                for (var i = 0; i < nbb_cells.length; ++i) {\n",
       "                    if (nbb_cells[i].input_prompt_number == nbb_cell_id) {\n",
       "                        if (nbb_cells[i].get_text() == nbb_unformatted_code) {\n",
       "                             nbb_cells[i].set_text(nbb_formatted_code);\n",
       "                        }\n",
       "                        break;\n",
       "                    }\n",
       "                }\n",
       "            }, 500);\n",
       "            "
      ],
      "text/plain": [
       "<IPython.core.display.Javascript object>"
      ]
     },
     "metadata": {},
     "output_type": "display_data"
    },
    {
     "data": {
      "application/javascript": [
       "\n",
       "            setTimeout(function() {\n",
       "                var nbb_cell_id = 43;\n",
       "                var nbb_unformatted_code = \"# create 2 groups\\ntop_20 = df[df.age >= 65]\\nbottom_80 = df[df.age < 65]\";\n",
       "                var nbb_formatted_code = \"# create 2 groups\\ntop_20 = df[df.age >= 65]\\nbottom_80 = df[df.age < 65]\";\n",
       "                var nbb_cells = Jupyter.notebook.get_cells();\n",
       "                for (var i = 0; i < nbb_cells.length; ++i) {\n",
       "                    if (nbb_cells[i].input_prompt_number == nbb_cell_id) {\n",
       "                        if (nbb_cells[i].get_text() == nbb_unformatted_code) {\n",
       "                             nbb_cells[i].set_text(nbb_formatted_code);\n",
       "                        }\n",
       "                        break;\n",
       "                    }\n",
       "                }\n",
       "            }, 500);\n",
       "            "
      ],
      "text/plain": [
       "<IPython.core.display.Javascript object>"
      ]
     },
     "metadata": {},
     "output_type": "display_data"
    }
   ],
   "source": [
    "# create 2 groups\n",
    "top_20 = df[df.age >= 65]\n",
    "bottom_80 = df[df.age < 65]"
   ]
  },
  {
   "cell_type": "markdown",
   "metadata": {},
   "source": [
    "**Normality Checks**"
   ]
  },
  {
   "cell_type": "code",
   "execution_count": 44,
   "metadata": {},
   "outputs": [
    {
     "data": {
      "text/plain": [
       "<matplotlib.axes._subplots.AxesSubplot at 0x230d6f54430>"
      ]
     },
     "execution_count": 44,
     "metadata": {},
     "output_type": "execute_result"
    },
    {
     "data": {
      "image/png": "[encoded data removed]",
      "text/plain": [
       "<Figure size 432x288 with 1 Axes>"
      ]
     },
     "metadata": {
      "needs_background": "light"
     },
     "output_type": "display_data"
    },
    {
     "data": {
      "application/javascript": [
       "\n",
       "            setTimeout(function() {\n",
       "                var nbb_cell_id = 44;\n",
       "                var nbb_unformatted_code = \"sns.distplot(bottom_20.stay)\\nsns.distplot(top_80.stay)\";\n",
       "                var nbb_formatted_code = \"sns.distplot(bottom_20.stay)\\nsns.distplot(top_80.stay)\";\n",
       "                var nbb_cells = Jupyter.notebook.get_cells();\n",
       "                for (var i = 0; i < nbb_cells.length; ++i) {\n",
       "                    if (nbb_cells[i].input_prompt_number == nbb_cell_id) {\n",
       "                        if (nbb_cells[i].get_text() == nbb_unformatted_code) {\n",
       "                             nbb_cells[i].set_text(nbb_formatted_code);\n",
       "                        }\n",
       "                        break;\n",
       "                    }\n",
       "                }\n",
       "            }, 500);\n",
       "            "
      ],
      "text/plain": [
       "<IPython.core.display.Javascript object>"
      ]
     },
     "metadata": {},
     "output_type": "display_data"
    },
    {
     "data": {
      "application/javascript": [
       "\n",
       "            setTimeout(function() {\n",
       "                var nbb_cell_id = 44;\n",
       "                var nbb_unformatted_code = \"sns.distplot(bottom_20.stay)\\nsns.distplot(top_80.stay)\";\n",
       "                var nbb_formatted_code = \"sns.distplot(bottom_20.stay)\\nsns.distplot(top_80.stay)\";\n",
       "                var nbb_cells = Jupyter.notebook.get_cells();\n",
       "                for (var i = 0; i < nbb_cells.length; ++i) {\n",
       "                    if (nbb_cells[i].input_prompt_number == nbb_cell_id) {\n",
       "                        if (nbb_cells[i].get_text() == nbb_unformatted_code) {\n",
       "                             nbb_cells[i].set_text(nbb_formatted_code);\n",
       "                        }\n",
       "                        break;\n",
       "                    }\n",
       "                }\n",
       "            }, 500);\n",
       "            "
      ],
      "text/plain": [
       "<IPython.core.display.Javascript object>"
      ]
     },
     "metadata": {},
     "output_type": "display_data"
    }
   ],
   "source": [
    "sns.distplot(bottom_20.stay)\n",
    "sns.distplot(top_80.stay)"
   ]
  },
  {
   "cell_type": "code",
   "execution_count": 45,
   "metadata": {},
   "outputs": [
    {
     "data": {
      "image/png": "[encoded data removed]",
      "text/plain": [
       "<Figure size 432x288 with 1 Axes>"
      ]
     },
     "metadata": {
      "needs_background": "light"
     },
     "output_type": "display_data"
    },
    {
     "data": {
      "image/png": "[encoded data removed]",
      "text/plain": [
       "<Figure size 432x288 with 1 Axes>"
      ]
     },
     "metadata": {
      "needs_background": "light"
     },
     "output_type": "display_data"
    },
    {
     "data": {
      "application/javascript": [
       "\n",
       "            setTimeout(function() {\n",
       "                var nbb_cell_id = 45;\n",
       "                var nbb_unformatted_code = \"# qqplots for both groups length of stay\\nqqplot(top_20.stay, line=\\\"s\\\")\\nplt.show()\\nqqplot(bottom_80.stay, line=\\\"s\\\")\\nplt.show()\";\n",
       "                var nbb_formatted_code = \"# qqplots for both groups length of stay\\nqqplot(top_20.stay, line=\\\"s\\\")\\nplt.show()\\nqqplot(bottom_80.stay, line=\\\"s\\\")\\nplt.show()\";\n",
       "                var nbb_cells = Jupyter.notebook.get_cells();\n",
       "                for (var i = 0; i < nbb_cells.length; ++i) {\n",
       "                    if (nbb_cells[i].input_prompt_number == nbb_cell_id) {\n",
       "                        if (nbb_cells[i].get_text() == nbb_unformatted_code) {\n",
       "                             nbb_cells[i].set_text(nbb_formatted_code);\n",
       "                        }\n",
       "                        break;\n",
       "                    }\n",
       "                }\n",
       "            }, 500);\n",
       "            "
      ],
      "text/plain": [
       "<IPython.core.display.Javascript object>"
      ]
     },
     "metadata": {},
     "output_type": "display_data"
    },
    {
     "data": {
      "application/javascript": [
       "\n",
       "            setTimeout(function() {\n",
       "                var nbb_cell_id = 45;\n",
       "                var nbb_unformatted_code = \"# qqplots for both groups length of stay\\nqqplot(top_20.stay, line=\\\"s\\\")\\nplt.show()\\nqqplot(bottom_80.stay, line=\\\"s\\\")\\nplt.show()\";\n",
       "                var nbb_formatted_code = \"# qqplots for both groups length of stay\\nqqplot(top_20.stay, line=\\\"s\\\")\\nplt.show()\\nqqplot(bottom_80.stay, line=\\\"s\\\")\\nplt.show()\";\n",
       "                var nbb_cells = Jupyter.notebook.get_cells();\n",
       "                for (var i = 0; i < nbb_cells.length; ++i) {\n",
       "                    if (nbb_cells[i].input_prompt_number == nbb_cell_id) {\n",
       "                        if (nbb_cells[i].get_text() == nbb_unformatted_code) {\n",
       "                             nbb_cells[i].set_text(nbb_formatted_code);\n",
       "                        }\n",
       "                        break;\n",
       "                    }\n",
       "                }\n",
       "            }, 500);\n",
       "            "
      ],
      "text/plain": [
       "<IPython.core.display.Javascript object>"
      ]
     },
     "metadata": {},
     "output_type": "display_data"
    }
   ],
   "source": [
    "# qqplots for both groups length of stay\n",
    "qqplot(top_20.stay, line=\"s\")\n",
    "plt.show()\n",
    "qqplot(bottom_80.stay, line=\"s\")\n",
    "plt.show()"
   ]
  },
  {
   "cell_type": "markdown",
   "metadata": {},
   "source": [
    "**Jarque-Bera Test**\n",
    "\n",
    "H_null = the distributions match that of a normal distribution"
   ]
  },
  {
   "cell_type": "code",
   "execution_count": 46,
   "metadata": {},
   "outputs": [
    {
     "name": "stdout",
     "output_type": "stream",
     "text": [
      "reject null: True\n",
      "reject null: True\n"
     ]
    },
    {
     "data": {
      "application/javascript": [
       "\n",
       "            setTimeout(function() {\n",
       "                var nbb_cell_id = 46;\n",
       "                var nbb_unformatted_code = \"t, p = stats.jarque_bera(top_20.stay)\\nprint(\\\"reject null: \\\" + str(p < 0.05))\\n\\nt, p = stats.jarque_bera(bottom_80.stay)\\nprint(\\\"reject null: \\\" + str(p < 0.05))\";\n",
       "                var nbb_formatted_code = \"t, p = stats.jarque_bera(top_20.stay)\\nprint(\\\"reject null: \\\" + str(p < 0.05))\\n\\nt, p = stats.jarque_bera(bottom_80.stay)\\nprint(\\\"reject null: \\\" + str(p < 0.05))\";\n",
       "                var nbb_cells = Jupyter.notebook.get_cells();\n",
       "                for (var i = 0; i < nbb_cells.length; ++i) {\n",
       "                    if (nbb_cells[i].input_prompt_number == nbb_cell_id) {\n",
       "                        if (nbb_cells[i].get_text() == nbb_unformatted_code) {\n",
       "                             nbb_cells[i].set_text(nbb_formatted_code);\n",
       "                        }\n",
       "                        break;\n",
       "                    }\n",
       "                }\n",
       "            }, 500);\n",
       "            "
      ],
      "text/plain": [
       "<IPython.core.display.Javascript object>"
      ]
     },
     "metadata": {},
     "output_type": "display_data"
    },
    {
     "data": {
      "application/javascript": [
       "\n",
       "            setTimeout(function() {\n",
       "                var nbb_cell_id = 46;\n",
       "                var nbb_unformatted_code = \"t, p = stats.jarque_bera(top_20.stay)\\nprint(\\\"reject null: \\\" + str(p < 0.05))\\n\\nt, p = stats.jarque_bera(bottom_80.stay)\\nprint(\\\"reject null: \\\" + str(p < 0.05))\";\n",
       "                var nbb_formatted_code = \"t, p = stats.jarque_bera(top_20.stay)\\nprint(\\\"reject null: \\\" + str(p < 0.05))\\n\\nt, p = stats.jarque_bera(bottom_80.stay)\\nprint(\\\"reject null: \\\" + str(p < 0.05))\";\n",
       "                var nbb_cells = Jupyter.notebook.get_cells();\n",
       "                for (var i = 0; i < nbb_cells.length; ++i) {\n",
       "                    if (nbb_cells[i].input_prompt_number == nbb_cell_id) {\n",
       "                        if (nbb_cells[i].get_text() == nbb_unformatted_code) {\n",
       "                             nbb_cells[i].set_text(nbb_formatted_code);\n",
       "                        }\n",
       "                        break;\n",
       "                    }\n",
       "                }\n",
       "            }, 500);\n",
       "            "
      ],
      "text/plain": [
       "<IPython.core.display.Javascript object>"
      ]
     },
     "metadata": {},
     "output_type": "display_data"
    }
   ],
   "source": [
    "t, p = stats.jarque_bera(top_20.stay)\n",
    "print(\"reject null: \" + str(p < 0.05))\n",
    "\n",
    "t, p = stats.jarque_bera(bottom_80.stay)\n",
    "print(\"reject null: \" + str(p < 0.05))"
   ]
  },
  {
   "cell_type": "markdown",
   "metadata": {},
   "source": [
    "**Kruskal-Wallis Test**\n",
    "\n",
    "H_null = the medians of both groups are the same"
   ]
  },
  {
   "cell_type": "code",
   "execution_count": 47,
   "metadata": {
    "scrolled": true
   },
   "outputs": [
    {
     "name": "stdout",
     "output_type": "stream",
     "text": [
      "reject null: True\n"
     ]
    },
    {
     "data": {
      "application/javascript": [
       "\n",
       "            setTimeout(function() {\n",
       "                var nbb_cell_id = 47;\n",
       "                var nbb_unformatted_code = \"t, p = stats.kruskal(top_20.stay, bottom_80.stay)\\nprint(\\\"reject null: \\\" + str(p < 0.05))\";\n",
       "                var nbb_formatted_code = \"t, p = stats.kruskal(top_20.stay, bottom_80.stay)\\nprint(\\\"reject null: \\\" + str(p < 0.05))\";\n",
       "                var nbb_cells = Jupyter.notebook.get_cells();\n",
       "                for (var i = 0; i < nbb_cells.length; ++i) {\n",
       "                    if (nbb_cells[i].input_prompt_number == nbb_cell_id) {\n",
       "                        if (nbb_cells[i].get_text() == nbb_unformatted_code) {\n",
       "                             nbb_cells[i].set_text(nbb_formatted_code);\n",
       "                        }\n",
       "                        break;\n",
       "                    }\n",
       "                }\n",
       "            }, 500);\n",
       "            "
      ],
      "text/plain": [
       "<IPython.core.display.Javascript object>"
      ]
     },
     "metadata": {},
     "output_type": "display_data"
    },
    {
     "data": {
      "application/javascript": [
       "\n",
       "            setTimeout(function() {\n",
       "                var nbb_cell_id = 47;\n",
       "                var nbb_unformatted_code = \"t, p = stats.kruskal(top_20.stay, bottom_80.stay)\\nprint(\\\"reject null: \\\" + str(p < 0.05))\";\n",
       "                var nbb_formatted_code = \"t, p = stats.kruskal(top_20.stay, bottom_80.stay)\\nprint(\\\"reject null: \\\" + str(p < 0.05))\";\n",
       "                var nbb_cells = Jupyter.notebook.get_cells();\n",
       "                for (var i = 0; i < nbb_cells.length; ++i) {\n",
       "                    if (nbb_cells[i].input_prompt_number == nbb_cell_id) {\n",
       "                        if (nbb_cells[i].get_text() == nbb_unformatted_code) {\n",
       "                             nbb_cells[i].set_text(nbb_formatted_code);\n",
       "                        }\n",
       "                        break;\n",
       "                    }\n",
       "                }\n",
       "            }, 500);\n",
       "            "
      ],
      "text/plain": [
       "<IPython.core.display.Javascript object>"
      ]
     },
     "metadata": {},
     "output_type": "display_data"
    }
   ],
   "source": [
    "t, p = stats.kruskal(top_20.stay, bottom_80.stay)\n",
    "print(\"reject null: \" + str(p < 0.05))"
   ]
  },
  {
   "cell_type": "markdown",
   "metadata": {},
   "source": [
    "* the medians for both groups are statistically different"
   ]
  },
  {
   "cell_type": "code",
   "execution_count": 48,
   "metadata": {},
   "outputs": [
    {
     "data": {
      "application/vnd.jupyter.widget-view+json": {
       "model_id": "94f6cf4e751d4d2592cc8e6cfdaabf7f",
       "version_major": 2,
       "version_minor": 0
      },
      "text/plain": [
       "HBox(children=(FloatProgress(value=0.0, max=5000.0), HTML(value='')))"
      ]
     },
     "metadata": {},
     "output_type": "display_data"
    },
    {
     "name": "stdout",
     "output_type": "stream",
     "text": [
      "\n",
      "Top 20th percentile confidence interval: 0.0, 0.0\n"
     ]
    },
    {
     "data": {
      "application/javascript": [
       "\n",
       "            setTimeout(function() {\n",
       "                var nbb_cell_id = 48;\n",
       "                var nbb_unformatted_code = \"median_diffs = []\\nfor i in status(range(5000)):\\n    top_sample = top_20.stay.sample(frac=1.0, replace=True)\\n    bottom_sample = bottom_80.stay.sample(frac=1.0, replace=True)\\n    median_diff = top_sample.median() - bottom_sample.median()\\n    median_diffs.append(median_diff)\\n\\nci_lo = np.percentile(median_diffs, 2.5)\\nci_hi = np.percentile(median_diffs, 97.5)\\nprint(f\\\"Top 20th percentile confidence interval: {ci_lo}, {ci_hi}\\\")\";\n",
       "                var nbb_formatted_code = \"median_diffs = []\\nfor i in status(range(5000)):\\n    top_sample = top_20.stay.sample(frac=1.0, replace=True)\\n    bottom_sample = bottom_80.stay.sample(frac=1.0, replace=True)\\n    median_diff = top_sample.median() - bottom_sample.median()\\n    median_diffs.append(median_diff)\\n\\nci_lo = np.percentile(median_diffs, 2.5)\\nci_hi = np.percentile(median_diffs, 97.5)\\nprint(f\\\"Top 20th percentile confidence interval: {ci_lo}, {ci_hi}\\\")\";\n",
       "                var nbb_cells = Jupyter.notebook.get_cells();\n",
       "                for (var i = 0; i < nbb_cells.length; ++i) {\n",
       "                    if (nbb_cells[i].input_prompt_number == nbb_cell_id) {\n",
       "                        if (nbb_cells[i].get_text() == nbb_unformatted_code) {\n",
       "                             nbb_cells[i].set_text(nbb_formatted_code);\n",
       "                        }\n",
       "                        break;\n",
       "                    }\n",
       "                }\n",
       "            }, 500);\n",
       "            "
      ],
      "text/plain": [
       "<IPython.core.display.Javascript object>"
      ]
     },
     "metadata": {},
     "output_type": "display_data"
    },
    {
     "data": {
      "application/javascript": [
       "\n",
       "            setTimeout(function() {\n",
       "                var nbb_cell_id = 48;\n",
       "                var nbb_unformatted_code = \"median_diffs = []\\nfor i in status(range(5000)):\\n    top_sample = top_20.stay.sample(frac=1.0, replace=True)\\n    bottom_sample = bottom_80.stay.sample(frac=1.0, replace=True)\\n    median_diff = top_sample.median() - bottom_sample.median()\\n    median_diffs.append(median_diff)\\n\\nci_lo = np.percentile(median_diffs, 2.5)\\nci_hi = np.percentile(median_diffs, 97.5)\\nprint(f\\\"Top 20th percentile confidence interval: {ci_lo}, {ci_hi}\\\")\";\n",
       "                var nbb_formatted_code = \"median_diffs = []\\nfor i in status(range(5000)):\\n    top_sample = top_20.stay.sample(frac=1.0, replace=True)\\n    bottom_sample = bottom_80.stay.sample(frac=1.0, replace=True)\\n    median_diff = top_sample.median() - bottom_sample.median()\\n    median_diffs.append(median_diff)\\n\\nci_lo = np.percentile(median_diffs, 2.5)\\nci_hi = np.percentile(median_diffs, 97.5)\\nprint(f\\\"Top 20th percentile confidence interval: {ci_lo}, {ci_hi}\\\")\";\n",
       "                var nbb_cells = Jupyter.notebook.get_cells();\n",
       "                for (var i = 0; i < nbb_cells.length; ++i) {\n",
       "                    if (nbb_cells[i].input_prompt_number == nbb_cell_id) {\n",
       "                        if (nbb_cells[i].get_text() == nbb_unformatted_code) {\n",
       "                             nbb_cells[i].set_text(nbb_formatted_code);\n",
       "                        }\n",
       "                        break;\n",
       "                    }\n",
       "                }\n",
       "            }, 500);\n",
       "            "
      ],
      "text/plain": [
       "<IPython.core.display.Javascript object>"
      ]
     },
     "metadata": {},
     "output_type": "display_data"
    }
   ],
   "source": [
    "median_diffs = []\n",
    "for i in status(range(5000)):\n",
    "    top_sample = top_20.stay.sample(frac=1.0, replace=True)\n",
    "    bottom_sample = bottom_80.stay.sample(frac=1.0, replace=True)\n",
    "    median_diff = top_sample.median() - bottom_sample.median()\n",
    "    median_diffs.append(median_diff)\n",
    "\n",
    "ci_lo = np.percentile(median_diffs, 2.5)\n",
    "ci_hi = np.percentile(median_diffs, 97.5)\n",
    "print(f\"Top 20th percentile confidence interval: {ci_lo}, {ci_hi}\")"
   ]
  },
  {
   "cell_type": "markdown",
   "metadata": {},
   "source": [
    "**Analysis:** \n",
    "* moderate severity group\n",
    "* The median confidence interval for the top 20th age percentile is 0.0"
   ]
  },
  {
   "cell_type": "markdown",
   "metadata": {},
   "source": [
    "**Common language effect size**"
   ]
  },
  {
   "cell_type": "code",
   "execution_count": 49,
   "metadata": {},
   "outputs": [
    {
     "data": {
      "text/plain": [
       "0.44221043889985956"
      ]
     },
     "execution_count": 49,
     "metadata": {},
     "output_type": "execute_result"
    },
    {
     "data": {
      "application/javascript": [
       "\n",
       "            setTimeout(function() {\n",
       "                var nbb_cell_id = 49;\n",
       "                var nbb_unformatted_code = \"# 25% sample of both groups\\ntop_sample = top_20.stay.sample(frac=0.25, replace=True)\\nbottom_sample = bottom_80.stay.sample(frac=0.25, replace=True)\\n\\ncles_ind(top_sample, bottom_sample)\";\n",
       "                var nbb_formatted_code = \"# 25% sample of both groups\\ntop_sample = top_20.stay.sample(frac=0.25, replace=True)\\nbottom_sample = bottom_80.stay.sample(frac=0.25, replace=True)\\n\\ncles_ind(top_sample, bottom_sample)\";\n",
       "                var nbb_cells = Jupyter.notebook.get_cells();\n",
       "                for (var i = 0; i < nbb_cells.length; ++i) {\n",
       "                    if (nbb_cells[i].input_prompt_number == nbb_cell_id) {\n",
       "                        if (nbb_cells[i].get_text() == nbb_unformatted_code) {\n",
       "                             nbb_cells[i].set_text(nbb_formatted_code);\n",
       "                        }\n",
       "                        break;\n",
       "                    }\n",
       "                }\n",
       "            }, 500);\n",
       "            "
      ],
      "text/plain": [
       "<IPython.core.display.Javascript object>"
      ]
     },
     "metadata": {},
     "output_type": "display_data"
    },
    {
     "data": {
      "application/javascript": [
       "\n",
       "            setTimeout(function() {\n",
       "                var nbb_cell_id = 49;\n",
       "                var nbb_unformatted_code = \"# 25% sample of both groups\\ntop_sample = top_20.stay.sample(frac=0.25, replace=True)\\nbottom_sample = bottom_80.stay.sample(frac=0.25, replace=True)\\n\\ncles_ind(top_sample, bottom_sample)\";\n",
       "                var nbb_formatted_code = \"# 25% sample of both groups\\ntop_sample = top_20.stay.sample(frac=0.25, replace=True)\\nbottom_sample = bottom_80.stay.sample(frac=0.25, replace=True)\\n\\ncles_ind(top_sample, bottom_sample)\";\n",
       "                var nbb_cells = Jupyter.notebook.get_cells();\n",
       "                for (var i = 0; i < nbb_cells.length; ++i) {\n",
       "                    if (nbb_cells[i].input_prompt_number == nbb_cell_id) {\n",
       "                        if (nbb_cells[i].get_text() == nbb_unformatted_code) {\n",
       "                             nbb_cells[i].set_text(nbb_formatted_code);\n",
       "                        }\n",
       "                        break;\n",
       "                    }\n",
       "                }\n",
       "            }, 500);\n",
       "            "
      ],
      "text/plain": [
       "<IPython.core.display.Javascript object>"
      ]
     },
     "metadata": {},
     "output_type": "display_data"
    }
   ],
   "source": [
    "# 25% sample of both groups\n",
    "top_sample = top_20.stay.sample(frac=0.25, replace=True)\n",
    "bottom_sample = bottom_80.stay.sample(frac=0.25, replace=True)\n",
    "\n",
    "cles_ind(top_sample, bottom_sample)"
   ]
  },
  {
   "cell_type": "markdown",
   "metadata": {},
   "source": [
    "**Analysis:** 44% of the time when a patient in the top 20th percentile for age is admitted with a moderate condition, they will have a longer length of stay."
   ]
  },
  {
   "cell_type": "markdown",
   "metadata": {},
   "source": [
    "# Bed grade vs. LOS"
   ]
  },
  {
   "cell_type": "code",
   "execution_count": 50,
   "metadata": {},
   "outputs": [
    {
     "data": {
      "text/html": [
       "<style  type=\"text/css\" >\n",
       "    #T_2c81d003_2e7e_11eb_ac00_bc542fc4f43brow0_col0 {\n",
       "            background-color:  #fff7fb;\n",
       "            color:  #000000;\n",
       "        }    #T_2c81d003_2e7e_11eb_ac00_bc542fc4f43brow0_col1 {\n",
       "            background-color:  #fff7fb;\n",
       "            color:  #000000;\n",
       "        }    #T_2c81d003_2e7e_11eb_ac00_bc542fc4f43brow1_col0 {\n",
       "            background-color:  #dcdaeb;\n",
       "            color:  #000000;\n",
       "        }    #T_2c81d003_2e7e_11eb_ac00_bc542fc4f43brow1_col1 {\n",
       "            background-color:  #9ebad9;\n",
       "            color:  #000000;\n",
       "        }    #T_2c81d003_2e7e_11eb_ac00_bc542fc4f43brow2_col0 {\n",
       "            background-color:  #045a8d;\n",
       "            color:  #f1f1f1;\n",
       "        }    #T_2c81d003_2e7e_11eb_ac00_bc542fc4f43brow2_col1 {\n",
       "            background-color:  #023858;\n",
       "            color:  #f1f1f1;\n",
       "        }    #T_2c81d003_2e7e_11eb_ac00_bc542fc4f43brow3_col0 {\n",
       "            background-color:  #023858;\n",
       "            color:  #f1f1f1;\n",
       "        }    #T_2c81d003_2e7e_11eb_ac00_bc542fc4f43brow3_col1 {\n",
       "            background-color:  #83afd3;\n",
       "            color:  #000000;\n",
       "        }</style><table id=\"T_2c81d003_2e7e_11eb_ac00_bc542fc4f43b\" ><thead>    <tr>        <th class=\"blank level0\" ></th>        <th class=\"col_heading level0 col0\" colspan=2>stay</th>    </tr>    <tr>        <th class=\"blank level1\" ></th>        <th class=\"col_heading level1 col0\" >mean</th>        <th class=\"col_heading level1 col1\" >count</th>    </tr>    <tr>        <th class=\"index_name level0\" >bed_grade</th>        <th class=\"blank\" ></th>        <th class=\"blank\" ></th>    </tr></thead><tbody>\n",
       "                <tr>\n",
       "                        <th id=\"T_2c81d003_2e7e_11eb_ac00_bc542fc4f43blevel0_row0\" class=\"row_heading level0 row0\" >1.0</th>\n",
       "                        <td id=\"T_2c81d003_2e7e_11eb_ac00_bc542fc4f43brow0_col0\" class=\"data row0 col0\" >23.095488</td>\n",
       "                        <td id=\"T_2c81d003_2e7e_11eb_ac00_bc542fc4f43brow0_col1\" class=\"data row0 col1\" >1906</td>\n",
       "            </tr>\n",
       "            <tr>\n",
       "                        <th id=\"T_2c81d003_2e7e_11eb_ac00_bc542fc4f43blevel0_row1\" class=\"row_heading level0 row1\" >2.0</th>\n",
       "                        <td id=\"T_2c81d003_2e7e_11eb_ac00_bc542fc4f43brow1_col0\" class=\"data row1 col0\" >24.229009</td>\n",
       "                        <td id=\"T_2c81d003_2e7e_11eb_ac00_bc542fc4f43brow1_col1\" class=\"data row1 col1\" >18353</td>\n",
       "            </tr>\n",
       "            <tr>\n",
       "                        <th id=\"T_2c81d003_2e7e_11eb_ac00_bc542fc4f43blevel0_row2\" class=\"row_heading level0 row2\" >3.0</th>\n",
       "                        <td id=\"T_2c81d003_2e7e_11eb_ac00_bc542fc4f43brow2_col0\" class=\"data row2 col0\" >28.072340</td>\n",
       "                        <td id=\"T_2c81d003_2e7e_11eb_ac00_bc542fc4f43brow2_col1\" class=\"data row2 col1\" >43475</td>\n",
       "            </tr>\n",
       "            <tr>\n",
       "                        <th id=\"T_2c81d003_2e7e_11eb_ac00_bc542fc4f43blevel0_row3\" class=\"row_heading level0 row3\" >4.0</th>\n",
       "                        <td id=\"T_2c81d003_2e7e_11eb_ac00_bc542fc4f43brow3_col0\" class=\"data row3 col0\" >28.801872</td>\n",
       "                        <td id=\"T_2c81d003_2e7e_11eb_ac00_bc542fc4f43brow3_col1\" class=\"data row3 col1\" >21158</td>\n",
       "            </tr>\n",
       "    </tbody></table>"
      ],
      "text/plain": [
       "<pandas.io.formats.style.Styler at 0x230d3219e80>"
      ]
     },
     "execution_count": 50,
     "metadata": {},
     "output_type": "execute_result"
    },
    {
     "data": {
      "application/javascript": [
       "\n",
       "            setTimeout(function() {\n",
       "                var nbb_cell_id = 50;\n",
       "                var nbb_unformatted_code = \"minor.groupby(\\\"bed_grade\\\").agg({\\n    \\\"stay\\\": [\\\"mean\\\", \\\"count\\\"]\\n}).style.background_gradient()\";\n",
       "                var nbb_formatted_code = \"minor.groupby(\\\"bed_grade\\\").agg({\\\"stay\\\": [\\\"mean\\\", \\\"count\\\"]}).style.background_gradient()\";\n",
       "                var nbb_cells = Jupyter.notebook.get_cells();\n",
       "                for (var i = 0; i < nbb_cells.length; ++i) {\n",
       "                    if (nbb_cells[i].input_prompt_number == nbb_cell_id) {\n",
       "                        if (nbb_cells[i].get_text() == nbb_unformatted_code) {\n",
       "                             nbb_cells[i].set_text(nbb_formatted_code);\n",
       "                        }\n",
       "                        break;\n",
       "                    }\n",
       "                }\n",
       "            }, 500);\n",
       "            "
      ],
      "text/plain": [
       "<IPython.core.display.Javascript object>"
      ]
     },
     "metadata": {},
     "output_type": "display_data"
    },
    {
     "data": {
      "application/javascript": [
       "\n",
       "            setTimeout(function() {\n",
       "                var nbb_cell_id = 50;\n",
       "                var nbb_unformatted_code = \"minor.groupby(\\\"bed_grade\\\").agg({\\n    \\\"stay\\\": [\\\"mean\\\", \\\"count\\\"]\\n}).style.background_gradient()\";\n",
       "                var nbb_formatted_code = \"minor.groupby(\\\"bed_grade\\\").agg({\\\"stay\\\": [\\\"mean\\\", \\\"count\\\"]}).style.background_gradient()\";\n",
       "                var nbb_cells = Jupyter.notebook.get_cells();\n",
       "                for (var i = 0; i < nbb_cells.length; ++i) {\n",
       "                    if (nbb_cells[i].input_prompt_number == nbb_cell_id) {\n",
       "                        if (nbb_cells[i].get_text() == nbb_unformatted_code) {\n",
       "                             nbb_cells[i].set_text(nbb_formatted_code);\n",
       "                        }\n",
       "                        break;\n",
       "                    }\n",
       "                }\n",
       "            }, 500);\n",
       "            "
      ],
      "text/plain": [
       "<IPython.core.display.Javascript object>"
      ]
     },
     "metadata": {},
     "output_type": "display_data"
    }
   ],
   "source": [
    "minor.groupby(\"bed_grade\").agg({\"stay\": [\"mean\", \"count\"]}).style.background_gradient()"
   ]
  },
  {
   "cell_type": "markdown",
   "metadata": {},
   "source": [
    "* it looks like in minor cases there may be some relationship between stay length and bed grade"
   ]
  },
  {
   "cell_type": "code",
   "execution_count": 51,
   "metadata": {},
   "outputs": [
    {
     "data": {
      "text/html": [
       "<style  type=\"text/css\" >\n",
       "    #T_2c8fcfc7_2e7e_11eb_837f_bc542fc4f43brow0_col0 {\n",
       "            background-color:  #fff7fb;\n",
       "            color:  #000000;\n",
       "        }    #T_2c8fcfc7_2e7e_11eb_837f_bc542fc4f43brow0_col1 {\n",
       "            background-color:  #fff7fb;\n",
       "            color:  #000000;\n",
       "        }    #T_2c8fcfc7_2e7e_11eb_837f_bc542fc4f43brow1_col0 {\n",
       "            background-color:  #056aa6;\n",
       "            color:  #f1f1f1;\n",
       "        }    #T_2c8fcfc7_2e7e_11eb_837f_bc542fc4f43brow1_col1 {\n",
       "            background-color:  #023858;\n",
       "            color:  #f1f1f1;\n",
       "        }    #T_2c8fcfc7_2e7e_11eb_837f_bc542fc4f43brow2_col0 {\n",
       "            background-color:  #03466e;\n",
       "            color:  #f1f1f1;\n",
       "        }    #T_2c8fcfc7_2e7e_11eb_837f_bc542fc4f43brow2_col1 {\n",
       "            background-color:  #529bc7;\n",
       "            color:  #000000;\n",
       "        }    #T_2c8fcfc7_2e7e_11eb_837f_bc542fc4f43brow3_col0 {\n",
       "            background-color:  #023858;\n",
       "            color:  #f1f1f1;\n",
       "        }    #T_2c8fcfc7_2e7e_11eb_837f_bc542fc4f43brow3_col1 {\n",
       "            background-color:  #d3d4e7;\n",
       "            color:  #000000;\n",
       "        }</style><table id=\"T_2c8fcfc7_2e7e_11eb_837f_bc542fc4f43b\" ><thead>    <tr>        <th class=\"blank level0\" ></th>        <th class=\"col_heading level0 col0\" colspan=2>stay</th>    </tr>    <tr>        <th class=\"blank level1\" ></th>        <th class=\"col_heading level1 col0\" >mean</th>        <th class=\"col_heading level1 col1\" >count</th>    </tr>    <tr>        <th class=\"index_name level0\" >bed_grade</th>        <th class=\"blank\" ></th>        <th class=\"blank\" ></th>    </tr></thead><tbody>\n",
       "                <tr>\n",
       "                        <th id=\"T_2c8fcfc7_2e7e_11eb_837f_bc542fc4f43blevel0_row0\" class=\"row_heading level0 row0\" >1.0</th>\n",
       "                        <td id=\"T_2c8fcfc7_2e7e_11eb_837f_bc542fc4f43brow0_col0\" class=\"data row0 col0\" >27.046941</td>\n",
       "                        <td id=\"T_2c8fcfc7_2e7e_11eb_837f_bc542fc4f43brow0_col1\" class=\"data row0 col1\" >10396</td>\n",
       "            </tr>\n",
       "            <tr>\n",
       "                        <th id=\"T_2c8fcfc7_2e7e_11eb_837f_bc542fc4f43blevel0_row1\" class=\"row_heading level0 row1\" >2.0</th>\n",
       "                        <td id=\"T_2c8fcfc7_2e7e_11eb_837f_bc542fc4f43brow1_col0\" class=\"data row1 col0\" >30.684922</td>\n",
       "                        <td id=\"T_2c8fcfc7_2e7e_11eb_837f_bc542fc4f43brow1_col1\" class=\"data row1 col1\" >82659</td>\n",
       "            </tr>\n",
       "            <tr>\n",
       "                        <th id=\"T_2c8fcfc7_2e7e_11eb_837f_bc542fc4f43blevel0_row2\" class=\"row_heading level0 row2\" >3.0</th>\n",
       "                        <td id=\"T_2c8fcfc7_2e7e_11eb_837f_bc542fc4f43brow2_col0\" class=\"data row2 col0\" >31.448417</td>\n",
       "                        <td id=\"T_2c8fcfc7_2e7e_11eb_837f_bc542fc4f43brow2_col1\" class=\"data row2 col1\" >51577</td>\n",
       "            </tr>\n",
       "            <tr>\n",
       "                        <th id=\"T_2c8fcfc7_2e7e_11eb_837f_bc542fc4f43blevel0_row3\" class=\"row_heading level0 row3\" >4.0</th>\n",
       "                        <td id=\"T_2c8fcfc7_2e7e_11eb_837f_bc542fc4f43brow3_col0\" class=\"data row3 col0\" >31.698313</td>\n",
       "                        <td id=\"T_2c8fcfc7_2e7e_11eb_837f_bc542fc4f43brow3_col1\" class=\"data row3 col1\" >27386</td>\n",
       "            </tr>\n",
       "    </tbody></table>"
      ],
      "text/plain": [
       "<pandas.io.formats.style.Styler at 0x230c3f53b50>"
      ]
     },
     "execution_count": 51,
     "metadata": {},
     "output_type": "execute_result"
    },
    {
     "data": {
      "application/javascript": [
       "\n",
       "            setTimeout(function() {\n",
       "                var nbb_cell_id = 51;\n",
       "                var nbb_unformatted_code = \"moderate.groupby(\\\"bed_grade\\\").agg(\\n    {\\\"stay\\\": [\\\"mean\\\", \\\"count\\\"]}\\n).style.background_gradient()\";\n",
       "                var nbb_formatted_code = \"moderate.groupby(\\\"bed_grade\\\").agg(\\n    {\\\"stay\\\": [\\\"mean\\\", \\\"count\\\"]}\\n).style.background_gradient()\";\n",
       "                var nbb_cells = Jupyter.notebook.get_cells();\n",
       "                for (var i = 0; i < nbb_cells.length; ++i) {\n",
       "                    if (nbb_cells[i].input_prompt_number == nbb_cell_id) {\n",
       "                        if (nbb_cells[i].get_text() == nbb_unformatted_code) {\n",
       "                             nbb_cells[i].set_text(nbb_formatted_code);\n",
       "                        }\n",
       "                        break;\n",
       "                    }\n",
       "                }\n",
       "            }, 500);\n",
       "            "
      ],
      "text/plain": [
       "<IPython.core.display.Javascript object>"
      ]
     },
     "metadata": {},
     "output_type": "display_data"
    },
    {
     "data": {
      "application/javascript": [
       "\n",
       "            setTimeout(function() {\n",
       "                var nbb_cell_id = 51;\n",
       "                var nbb_unformatted_code = \"moderate.groupby(\\\"bed_grade\\\").agg(\\n    {\\\"stay\\\": [\\\"mean\\\", \\\"count\\\"]}\\n).style.background_gradient()\";\n",
       "                var nbb_formatted_code = \"moderate.groupby(\\\"bed_grade\\\").agg(\\n    {\\\"stay\\\": [\\\"mean\\\", \\\"count\\\"]}\\n).style.background_gradient()\";\n",
       "                var nbb_cells = Jupyter.notebook.get_cells();\n",
       "                for (var i = 0; i < nbb_cells.length; ++i) {\n",
       "                    if (nbb_cells[i].input_prompt_number == nbb_cell_id) {\n",
       "                        if (nbb_cells[i].get_text() == nbb_unformatted_code) {\n",
       "                             nbb_cells[i].set_text(nbb_formatted_code);\n",
       "                        }\n",
       "                        break;\n",
       "                    }\n",
       "                }\n",
       "            }, 500);\n",
       "            "
      ],
      "text/plain": [
       "<IPython.core.display.Javascript object>"
      ]
     },
     "metadata": {},
     "output_type": "display_data"
    }
   ],
   "source": [
    "moderate.groupby(\"bed_grade\").agg(\n",
    "    {\"stay\": [\"mean\", \"count\"]}\n",
    ").style.background_gradient()"
   ]
  },
  {
   "cell_type": "code",
   "execution_count": 52,
   "metadata": {
    "scrolled": true
   },
   "outputs": [
    {
     "data": {
      "text/html": [
       "<style  type=\"text/css\" >\n",
       "    #T_2c9c7120_2e7e_11eb_aa73_bc542fc4f43brow0_col0 {\n",
       "            background-color:  #023858;\n",
       "            color:  #f1f1f1;\n",
       "        }    #T_2c9c7120_2e7e_11eb_aa73_bc542fc4f43brow0_col1 {\n",
       "            background-color:  #83afd3;\n",
       "            color:  #000000;\n",
       "        }    #T_2c9c7120_2e7e_11eb_aa73_bc542fc4f43brow1_col0 {\n",
       "            background-color:  #f0eaf4;\n",
       "            color:  #000000;\n",
       "        }    #T_2c9c7120_2e7e_11eb_aa73_bc542fc4f43brow1_col1 {\n",
       "            background-color:  #023858;\n",
       "            color:  #f1f1f1;\n",
       "        }    #T_2c9c7120_2e7e_11eb_aa73_bc542fc4f43brow2_col0 {\n",
       "            background-color:  #fff7fb;\n",
       "            color:  #000000;\n",
       "        }    #T_2c9c7120_2e7e_11eb_aa73_bc542fc4f43brow2_col1 {\n",
       "            background-color:  #9fbad9;\n",
       "            color:  #000000;\n",
       "        }    #T_2c9c7120_2e7e_11eb_aa73_bc542fc4f43brow3_col0 {\n",
       "            background-color:  #f9f2f8;\n",
       "            color:  #000000;\n",
       "        }    #T_2c9c7120_2e7e_11eb_aa73_bc542fc4f43brow3_col1 {\n",
       "            background-color:  #fff7fb;\n",
       "            color:  #000000;\n",
       "        }</style><table id=\"T_2c9c7120_2e7e_11eb_aa73_bc542fc4f43b\" ><thead>    <tr>        <th class=\"blank level0\" ></th>        <th class=\"col_heading level0 col0\" colspan=2>stay</th>    </tr>    <tr>        <th class=\"blank level1\" ></th>        <th class=\"col_heading level1 col0\" >mean</th>        <th class=\"col_heading level1 col1\" >count</th>    </tr>    <tr>        <th class=\"index_name level0\" >bed_grade</th>        <th class=\"blank\" ></th>        <th class=\"blank\" ></th>    </tr></thead><tbody>\n",
       "                <tr>\n",
       "                        <th id=\"T_2c9c7120_2e7e_11eb_aa73_bc542fc4f43blevel0_row0\" class=\"row_heading level0 row0\" >1.0</th>\n",
       "                        <td id=\"T_2c9c7120_2e7e_11eb_aa73_bc542fc4f43brow0_col0\" class=\"data row0 col0\" >35.311768</td>\n",
       "                        <td id=\"T_2c9c7120_2e7e_11eb_aa73_bc542fc4f43brow0_col1\" class=\"data row0 col1\" >13664</td>\n",
       "            </tr>\n",
       "            <tr>\n",
       "                        <th id=\"T_2c9c7120_2e7e_11eb_aa73_bc542fc4f43blevel0_row1\" class=\"row_heading level0 row1\" >2.0</th>\n",
       "                        <td id=\"T_2c9c7120_2e7e_11eb_aa73_bc542fc4f43brow1_col0\" class=\"data row1 col0\" >33.470483</td>\n",
       "                        <td id=\"T_2c9c7120_2e7e_11eb_aa73_bc542fc4f43brow1_col1\" class=\"data row1 col1\" >21242</td>\n",
       "            </tr>\n",
       "            <tr>\n",
       "                        <th id=\"T_2c9c7120_2e7e_11eb_aa73_bc542fc4f43blevel0_row2\" class=\"row_heading level0 row2\" >3.0</th>\n",
       "                        <td id=\"T_2c9c7120_2e7e_11eb_aa73_bc542fc4f43brow2_col0\" class=\"data row2 col0\" >33.264912</td>\n",
       "                        <td id=\"T_2c9c7120_2e7e_11eb_aa73_bc542fc4f43brow2_col1\" class=\"data row2 col1\" >12691</td>\n",
       "            </tr>\n",
       "            <tr>\n",
       "                        <th id=\"T_2c9c7120_2e7e_11eb_aa73_bc542fc4f43blevel0_row3\" class=\"row_heading level0 row3\" >4.0</th>\n",
       "                        <td id=\"T_2c9c7120_2e7e_11eb_aa73_bc542fc4f43brow3_col0\" class=\"data row3 col0\" >33.352249</td>\n",
       "                        <td id=\"T_2c9c7120_2e7e_11eb_aa73_bc542fc4f43brow3_col1\" class=\"data row3 col1\" >7137</td>\n",
       "            </tr>\n",
       "    </tbody></table>"
      ],
      "text/plain": [
       "<pandas.io.formats.style.Styler at 0x230c4d44fa0>"
      ]
     },
     "execution_count": 52,
     "metadata": {},
     "output_type": "execute_result"
    },
    {
     "data": {
      "application/javascript": [
       "\n",
       "            setTimeout(function() {\n",
       "                var nbb_cell_id = 52;\n",
       "                var nbb_unformatted_code = \"extreme.groupby(\\\"bed_grade\\\").agg(\\n    {\\\"stay\\\": [\\\"mean\\\", \\\"count\\\"]}\\n).style.background_gradient()\";\n",
       "                var nbb_formatted_code = \"extreme.groupby(\\\"bed_grade\\\").agg(\\n    {\\\"stay\\\": [\\\"mean\\\", \\\"count\\\"]}\\n).style.background_gradient()\";\n",
       "                var nbb_cells = Jupyter.notebook.get_cells();\n",
       "                for (var i = 0; i < nbb_cells.length; ++i) {\n",
       "                    if (nbb_cells[i].input_prompt_number == nbb_cell_id) {\n",
       "                        if (nbb_cells[i].get_text() == nbb_unformatted_code) {\n",
       "                             nbb_cells[i].set_text(nbb_formatted_code);\n",
       "                        }\n",
       "                        break;\n",
       "                    }\n",
       "                }\n",
       "            }, 500);\n",
       "            "
      ],
      "text/plain": [
       "<IPython.core.display.Javascript object>"
      ]
     },
     "metadata": {},
     "output_type": "display_data"
    },
    {
     "data": {
      "application/javascript": [
       "\n",
       "            setTimeout(function() {\n",
       "                var nbb_cell_id = 52;\n",
       "                var nbb_unformatted_code = \"extreme.groupby(\\\"bed_grade\\\").agg(\\n    {\\\"stay\\\": [\\\"mean\\\", \\\"count\\\"]}\\n).style.background_gradient()\";\n",
       "                var nbb_formatted_code = \"extreme.groupby(\\\"bed_grade\\\").agg(\\n    {\\\"stay\\\": [\\\"mean\\\", \\\"count\\\"]}\\n).style.background_gradient()\";\n",
       "                var nbb_cells = Jupyter.notebook.get_cells();\n",
       "                for (var i = 0; i < nbb_cells.length; ++i) {\n",
       "                    if (nbb_cells[i].input_prompt_number == nbb_cell_id) {\n",
       "                        if (nbb_cells[i].get_text() == nbb_unformatted_code) {\n",
       "                             nbb_cells[i].set_text(nbb_formatted_code);\n",
       "                        }\n",
       "                        break;\n",
       "                    }\n",
       "                }\n",
       "            }, 500);\n",
       "            "
      ],
      "text/plain": [
       "<IPython.core.display.Javascript object>"
      ]
     },
     "metadata": {},
     "output_type": "display_data"
    }
   ],
   "source": [
    "extreme.groupby(\"bed_grade\").agg(\n",
    "    {\"stay\": [\"mean\", \"count\"]}\n",
    ").style.background_gradient()"
   ]
  },
  {
   "cell_type": "markdown",
   "metadata": {},
   "source": [
    "## Minor"
   ]
  },
  {
   "cell_type": "code",
   "execution_count": 53,
   "metadata": {},
   "outputs": [
    {
     "data": {
      "application/javascript": [
       "\n",
       "            setTimeout(function() {\n",
       "                var nbb_cell_id = 53;\n",
       "                var nbb_unformatted_code = \"# 2 groups for the lower (1-2) and higher (3-4) bed grades\\nlow = minor[minor.bed_grade < 3]\\nhi = minor[minor.bed_grade > 2]\";\n",
       "                var nbb_formatted_code = \"# 2 groups for the lower (1-2) and higher (3-4) bed grades\\nlow = minor[minor.bed_grade < 3]\\nhi = minor[minor.bed_grade > 2]\";\n",
       "                var nbb_cells = Jupyter.notebook.get_cells();\n",
       "                for (var i = 0; i < nbb_cells.length; ++i) {\n",
       "                    if (nbb_cells[i].input_prompt_number == nbb_cell_id) {\n",
       "                        if (nbb_cells[i].get_text() == nbb_unformatted_code) {\n",
       "                             nbb_cells[i].set_text(nbb_formatted_code);\n",
       "                        }\n",
       "                        break;\n",
       "                    }\n",
       "                }\n",
       "            }, 500);\n",
       "            "
      ],
      "text/plain": [
       "<IPython.core.display.Javascript object>"
      ]
     },
     "metadata": {},
     "output_type": "display_data"
    },
    {
     "data": {
      "application/javascript": [
       "\n",
       "            setTimeout(function() {\n",
       "                var nbb_cell_id = 53;\n",
       "                var nbb_unformatted_code = \"# 2 groups for the lower (1-2) and higher (3-4) bed grades\\nlow = minor[minor.bed_grade < 3]\\nhi = minor[minor.bed_grade > 2]\";\n",
       "                var nbb_formatted_code = \"# 2 groups for the lower (1-2) and higher (3-4) bed grades\\nlow = minor[minor.bed_grade < 3]\\nhi = minor[minor.bed_grade > 2]\";\n",
       "                var nbb_cells = Jupyter.notebook.get_cells();\n",
       "                for (var i = 0; i < nbb_cells.length; ++i) {\n",
       "                    if (nbb_cells[i].input_prompt_number == nbb_cell_id) {\n",
       "                        if (nbb_cells[i].get_text() == nbb_unformatted_code) {\n",
       "                             nbb_cells[i].set_text(nbb_formatted_code);\n",
       "                        }\n",
       "                        break;\n",
       "                    }\n",
       "                }\n",
       "            }, 500);\n",
       "            "
      ],
      "text/plain": [
       "<IPython.core.display.Javascript object>"
      ]
     },
     "metadata": {},
     "output_type": "display_data"
    }
   ],
   "source": [
    "# 2 groups for the lower (1-2) and higher (3-4) bed grades\n",
    "low = minor[minor.bed_grade < 3]\n",
    "hi = minor[minor.bed_grade > 2]"
   ]
  },
  {
   "cell_type": "code",
   "execution_count": 54,
   "metadata": {
    "scrolled": true
   },
   "outputs": [
    {
     "data": {
      "image/png": "[encoded data removed]",
      "text/plain": [
       "<Figure size 432x288 with 1 Axes>"
      ]
     },
     "metadata": {
      "needs_background": "light"
     },
     "output_type": "display_data"
    },
    {
     "data": {
      "application/javascript": [
       "\n",
       "            setTimeout(function() {\n",
       "                var nbb_cell_id = 54;\n",
       "                var nbb_unformatted_code = \"# plot distributions for both groups\\nsns.distplot(low.stay)\\nsns.distplot(hi.stay)\\nplt.show()\";\n",
       "                var nbb_formatted_code = \"# plot distributions for both groups\\nsns.distplot(low.stay)\\nsns.distplot(hi.stay)\\nplt.show()\";\n",
       "                var nbb_cells = Jupyter.notebook.get_cells();\n",
       "                for (var i = 0; i < nbb_cells.length; ++i) {\n",
       "                    if (nbb_cells[i].input_prompt_number == nbb_cell_id) {\n",
       "                        if (nbb_cells[i].get_text() == nbb_unformatted_code) {\n",
       "                             nbb_cells[i].set_text(nbb_formatted_code);\n",
       "                        }\n",
       "                        break;\n",
       "                    }\n",
       "                }\n",
       "            }, 500);\n",
       "            "
      ],
      "text/plain": [
       "<IPython.core.display.Javascript object>"
      ]
     },
     "metadata": {},
     "output_type": "display_data"
    },
    {
     "data": {
      "application/javascript": [
       "\n",
       "            setTimeout(function() {\n",
       "                var nbb_cell_id = 54;\n",
       "                var nbb_unformatted_code = \"# plot distributions for both groups\\nsns.distplot(low.stay)\\nsns.distplot(hi.stay)\\nplt.show()\";\n",
       "                var nbb_formatted_code = \"# plot distributions for both groups\\nsns.distplot(low.stay)\\nsns.distplot(hi.stay)\\nplt.show()\";\n",
       "                var nbb_cells = Jupyter.notebook.get_cells();\n",
       "                for (var i = 0; i < nbb_cells.length; ++i) {\n",
       "                    if (nbb_cells[i].input_prompt_number == nbb_cell_id) {\n",
       "                        if (nbb_cells[i].get_text() == nbb_unformatted_code) {\n",
       "                             nbb_cells[i].set_text(nbb_formatted_code);\n",
       "                        }\n",
       "                        break;\n",
       "                    }\n",
       "                }\n",
       "            }, 500);\n",
       "            "
      ],
      "text/plain": [
       "<IPython.core.display.Javascript object>"
      ]
     },
     "metadata": {},
     "output_type": "display_data"
    }
   ],
   "source": [
    "# plot distributions for both groups\n",
    "sns.distplot(low.stay)\n",
    "sns.distplot(hi.stay)\n",
    "plt.show()"
   ]
  },
  {
   "cell_type": "markdown",
   "metadata": {},
   "source": [
    "* just like the other groups these don't appear to be normally distributed"
   ]
  },
  {
   "cell_type": "markdown",
   "metadata": {},
   "source": [
    "**Kruskal-Wallis Test**\n",
    "\n",
    "h_null = the medians for both groups are the same"
   ]
  },
  {
   "cell_type": "code",
   "execution_count": 55,
   "metadata": {
    "scrolled": true
   },
   "outputs": [
    {
     "name": "stdout",
     "output_type": "stream",
     "text": [
      "reject null: True\n"
     ]
    },
    {
     "data": {
      "application/javascript": [
       "\n",
       "            setTimeout(function() {\n",
       "                var nbb_cell_id = 55;\n",
       "                var nbb_unformatted_code = \"t, p = stats.kruskal(low.stay, hi.stay)\\nprint(\\\"reject null: \\\" + str(p < 0.05))\";\n",
       "                var nbb_formatted_code = \"t, p = stats.kruskal(low.stay, hi.stay)\\nprint(\\\"reject null: \\\" + str(p < 0.05))\";\n",
       "                var nbb_cells = Jupyter.notebook.get_cells();\n",
       "                for (var i = 0; i < nbb_cells.length; ++i) {\n",
       "                    if (nbb_cells[i].input_prompt_number == nbb_cell_id) {\n",
       "                        if (nbb_cells[i].get_text() == nbb_unformatted_code) {\n",
       "                             nbb_cells[i].set_text(nbb_formatted_code);\n",
       "                        }\n",
       "                        break;\n",
       "                    }\n",
       "                }\n",
       "            }, 500);\n",
       "            "
      ],
      "text/plain": [
       "<IPython.core.display.Javascript object>"
      ]
     },
     "metadata": {},
     "output_type": "display_data"
    },
    {
     "data": {
      "application/javascript": [
       "\n",
       "            setTimeout(function() {\n",
       "                var nbb_cell_id = 55;\n",
       "                var nbb_unformatted_code = \"t, p = stats.kruskal(low.stay, hi.stay)\\nprint(\\\"reject null: \\\" + str(p < 0.05))\";\n",
       "                var nbb_formatted_code = \"t, p = stats.kruskal(low.stay, hi.stay)\\nprint(\\\"reject null: \\\" + str(p < 0.05))\";\n",
       "                var nbb_cells = Jupyter.notebook.get_cells();\n",
       "                for (var i = 0; i < nbb_cells.length; ++i) {\n",
       "                    if (nbb_cells[i].input_prompt_number == nbb_cell_id) {\n",
       "                        if (nbb_cells[i].get_text() == nbb_unformatted_code) {\n",
       "                             nbb_cells[i].set_text(nbb_formatted_code);\n",
       "                        }\n",
       "                        break;\n",
       "                    }\n",
       "                }\n",
       "            }, 500);\n",
       "            "
      ],
      "text/plain": [
       "<IPython.core.display.Javascript object>"
      ]
     },
     "metadata": {},
     "output_type": "display_data"
    }
   ],
   "source": [
    "t, p = stats.kruskal(low.stay, hi.stay)\n",
    "print(\"reject null: \" + str(p < 0.05))"
   ]
  },
  {
   "cell_type": "markdown",
   "metadata": {},
   "source": [
    "**Median confidence interval**"
   ]
  },
  {
   "cell_type": "code",
   "execution_count": 56,
   "metadata": {},
   "outputs": [
    {
     "data": {
      "application/vnd.jupyter.widget-view+json": {
       "model_id": "e8d0921b00e64195af5e6620458122d3",
       "version_major": 2,
       "version_minor": 0
      },
      "text/plain": [
       "HBox(children=(FloatProgress(value=0.0, max=10000.0), HTML(value='')))"
      ]
     },
     "metadata": {},
     "output_type": "display_data"
    },
    {
     "name": "stdout",
     "output_type": "stream",
     "text": [
      "\n",
      "Top 20th percentile confidence interval: 0.0, 0.0\n"
     ]
    },
    {
     "data": {
      "application/javascript": [
       "\n",
       "            setTimeout(function() {\n",
       "                var nbb_cell_id = 56;\n",
       "                var nbb_unformatted_code = \"median_diffs = []\\nfor i in status(range(10000)):\\n    low_sample = low.stay.sample(frac=1.0, replace=True)\\n    hi_sample = hi.stay.sample(frac=1.0, replace=True)\\n    median_diff = hi_sample.median() - low_sample.median()\\n    median_diffs.append(median_diff)\\n\\nci_lo = np.percentile(median_diffs, 2.5)\\nci_hi = np.percentile(median_diffs, 97.5)\\nprint(f\\\"Top 20th percentile confidence interval: {ci_lo}, {ci_hi}\\\")\";\n",
       "                var nbb_formatted_code = \"median_diffs = []\\nfor i in status(range(10000)):\\n    low_sample = low.stay.sample(frac=1.0, replace=True)\\n    hi_sample = hi.stay.sample(frac=1.0, replace=True)\\n    median_diff = hi_sample.median() - low_sample.median()\\n    median_diffs.append(median_diff)\\n\\nci_lo = np.percentile(median_diffs, 2.5)\\nci_hi = np.percentile(median_diffs, 97.5)\\nprint(f\\\"Top 20th percentile confidence interval: {ci_lo}, {ci_hi}\\\")\";\n",
       "                var nbb_cells = Jupyter.notebook.get_cells();\n",
       "                for (var i = 0; i < nbb_cells.length; ++i) {\n",
       "                    if (nbb_cells[i].input_prompt_number == nbb_cell_id) {\n",
       "                        if (nbb_cells[i].get_text() == nbb_unformatted_code) {\n",
       "                             nbb_cells[i].set_text(nbb_formatted_code);\n",
       "                        }\n",
       "                        break;\n",
       "                    }\n",
       "                }\n",
       "            }, 500);\n",
       "            "
      ],
      "text/plain": [
       "<IPython.core.display.Javascript object>"
      ]
     },
     "metadata": {},
     "output_type": "display_data"
    },
    {
     "data": {
      "application/javascript": [
       "\n",
       "            setTimeout(function() {\n",
       "                var nbb_cell_id = 56;\n",
       "                var nbb_unformatted_code = \"median_diffs = []\\nfor i in status(range(10000)):\\n    low_sample = low.stay.sample(frac=1.0, replace=True)\\n    hi_sample = hi.stay.sample(frac=1.0, replace=True)\\n    median_diff = hi_sample.median() - low_sample.median()\\n    median_diffs.append(median_diff)\\n\\nci_lo = np.percentile(median_diffs, 2.5)\\nci_hi = np.percentile(median_diffs, 97.5)\\nprint(f\\\"Top 20th percentile confidence interval: {ci_lo}, {ci_hi}\\\")\";\n",
       "                var nbb_formatted_code = \"median_diffs = []\\nfor i in status(range(10000)):\\n    low_sample = low.stay.sample(frac=1.0, replace=True)\\n    hi_sample = hi.stay.sample(frac=1.0, replace=True)\\n    median_diff = hi_sample.median() - low_sample.median()\\n    median_diffs.append(median_diff)\\n\\nci_lo = np.percentile(median_diffs, 2.5)\\nci_hi = np.percentile(median_diffs, 97.5)\\nprint(f\\\"Top 20th percentile confidence interval: {ci_lo}, {ci_hi}\\\")\";\n",
       "                var nbb_cells = Jupyter.notebook.get_cells();\n",
       "                for (var i = 0; i < nbb_cells.length; ++i) {\n",
       "                    if (nbb_cells[i].input_prompt_number == nbb_cell_id) {\n",
       "                        if (nbb_cells[i].get_text() == nbb_unformatted_code) {\n",
       "                             nbb_cells[i].set_text(nbb_formatted_code);\n",
       "                        }\n",
       "                        break;\n",
       "                    }\n",
       "                }\n",
       "            }, 500);\n",
       "            "
      ],
      "text/plain": [
       "<IPython.core.display.Javascript object>"
      ]
     },
     "metadata": {},
     "output_type": "display_data"
    }
   ],
   "source": [
    "median_diffs = []\n",
    "for i in status(range(10000)):\n",
    "    low_sample = low.stay.sample(frac=1.0, replace=True)\n",
    "    hi_sample = hi.stay.sample(frac=1.0, replace=True)\n",
    "    median_diff = hi_sample.median() - low_sample.median()\n",
    "    median_diffs.append(median_diff)\n",
    "\n",
    "ci_lo = np.percentile(median_diffs, 2.5)\n",
    "ci_hi = np.percentile(median_diffs, 97.5)\n",
    "print(f\"Top 20th percentile confidence interval: {ci_lo}, {ci_hi}\")"
   ]
  },
  {
   "cell_type": "markdown",
   "metadata": {},
   "source": [
    "**Analysis:**\n",
    "* groups for bed grades 1-2 and 3-4\n",
    "* The median confidence interval for the difference in stay length is 0.0\n",
    "\n"
   ]
  },
  {
   "cell_type": "markdown",
   "metadata": {},
   "source": [
    "**Common language effect size**"
   ]
  },
  {
   "cell_type": "code",
   "execution_count": 57,
   "metadata": {},
   "outputs": [
    {
     "data": {
      "text/plain": [
       "0.4548519116443801"
      ]
     },
     "execution_count": 57,
     "metadata": {},
     "output_type": "execute_result"
    },
    {
     "data": {
      "application/javascript": [
       "\n",
       "            setTimeout(function() {\n",
       "                var nbb_cell_id = 57;\n",
       "                var nbb_unformatted_code = \"low_sample = low.stay.sample(frac=1.0, replace=True)\\nhi_sample = hi.stay.sample(frac=1.0, replace=True)\\n\\ncles_ind(low_sample, hi_sample)\";\n",
       "                var nbb_formatted_code = \"low_sample = low.stay.sample(frac=1.0, replace=True)\\nhi_sample = hi.stay.sample(frac=1.0, replace=True)\\n\\ncles_ind(low_sample, hi_sample)\";\n",
       "                var nbb_cells = Jupyter.notebook.get_cells();\n",
       "                for (var i = 0; i < nbb_cells.length; ++i) {\n",
       "                    if (nbb_cells[i].input_prompt_number == nbb_cell_id) {\n",
       "                        if (nbb_cells[i].get_text() == nbb_unformatted_code) {\n",
       "                             nbb_cells[i].set_text(nbb_formatted_code);\n",
       "                        }\n",
       "                        break;\n",
       "                    }\n",
       "                }\n",
       "            }, 500);\n",
       "            "
      ],
      "text/plain": [
       "<IPython.core.display.Javascript object>"
      ]
     },
     "metadata": {},
     "output_type": "display_data"
    },
    {
     "data": {
      "application/javascript": [
       "\n",
       "            setTimeout(function() {\n",
       "                var nbb_cell_id = 57;\n",
       "                var nbb_unformatted_code = \"low_sample = low.stay.sample(frac=1.0, replace=True)\\nhi_sample = hi.stay.sample(frac=1.0, replace=True)\\n\\ncles_ind(low_sample, hi_sample)\";\n",
       "                var nbb_formatted_code = \"low_sample = low.stay.sample(frac=1.0, replace=True)\\nhi_sample = hi.stay.sample(frac=1.0, replace=True)\\n\\ncles_ind(low_sample, hi_sample)\";\n",
       "                var nbb_cells = Jupyter.notebook.get_cells();\n",
       "                for (var i = 0; i < nbb_cells.length; ++i) {\n",
       "                    if (nbb_cells[i].input_prompt_number == nbb_cell_id) {\n",
       "                        if (nbb_cells[i].get_text() == nbb_unformatted_code) {\n",
       "                             nbb_cells[i].set_text(nbb_formatted_code);\n",
       "                        }\n",
       "                        break;\n",
       "                    }\n",
       "                }\n",
       "            }, 500);\n",
       "            "
      ],
      "text/plain": [
       "<IPython.core.display.Javascript object>"
      ]
     },
     "metadata": {},
     "output_type": "display_data"
    }
   ],
   "source": [
    "low_sample = low.stay.sample(frac=1.0, replace=True)\n",
    "hi_sample = hi.stay.sample(frac=1.0, replace=True)\n",
    "\n",
    "cles_ind(low_sample, hi_sample)"
   ]
  },
  {
   "cell_type": "markdown",
   "metadata": {},
   "source": [
    "**Analysis:** 46% of the time when a person is admitted to room with a bed grade of 1-2 for a minor condition, they will experience a shorter length of stay."
   ]
  }
 ],
 "metadata": {
  "celltoolbar": "Initialization Cell",
  "kernelspec": {
   "display_name": "Python 3",
   "language": "python",
   "name": "python3"
  },
  "language_info": {
   "codemirror_mode": {
    "name": "ipython",
    "version": 3
   },
   "file_extension": ".py",
   "mimetype": "text/x-python",
   "name": "python",
   "nbconvert_exporter": "python",
   "pygments_lexer": "ipython3",
   "version": "3.8.3"
  },
  "latex_envs": {
   "LaTeX_envs_menu_present": true,
   "autoclose": false,
   "autocomplete": true,
   "bibliofile": "biblio.bib",
   "cite_by": "apalike",
   "current_citInitial": 1,
   "eqLabelWithNumbers": true,
   "eqNumInitial": 1,
   "hotkeys": {
    "equation": "Ctrl-E",
    "itemize": "Ctrl-I"
   },
   "labels_anchors": false,
   "latex_user_defs": false,
   "report_style_numbering": false,
   "user_envs_cfg": false
  },
  "toc": {
   "base_numbering": 1,
   "nav_menu": {},
   "number_sections": true,
   "sideBar": true,
   "skip_h1_title": false,
   "title_cell": "Table of Contents",
   "title_sidebar": "Contents",
   "toc_cell": false,
   "toc_position": {
    "height": "calc(100% - 180px)",
    "left": "10px",
    "top": "150px",
    "width": "261px"
   },
   "toc_section_display": true,
   "toc_window_display": true
  }
 },
 "nbformat": 4,
 "nbformat_minor": 4
}
